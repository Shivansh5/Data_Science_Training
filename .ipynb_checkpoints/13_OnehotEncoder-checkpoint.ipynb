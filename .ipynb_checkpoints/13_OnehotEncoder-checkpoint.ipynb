{
 "cells": [
  {
   "cell_type": "code",
   "execution_count": 38,
   "id": "578680b7",
   "metadata": {},
   "outputs": [],
   "source": [
    "import pandas as pd\n",
    "import numpy as np\n",
    "import matplotlib.pyplot as plt\n",
    "import warnings\n",
    "warnings.filterwarnings(\"ignore\")\n",
    "import seaborn as sns\n",
    "plt.style.use(\"fivethirtyeight\")"
   ]
  },
  {
   "cell_type": "code",
   "execution_count": 5,
   "id": "32bab5fa",
   "metadata": {},
   "outputs": [],
   "source": [
    "df = pd.read_csv(\"cars.csv\")"
   ]
  },
  {
   "cell_type": "code",
   "execution_count": 22,
   "id": "e66e3b6f",
   "metadata": {},
   "outputs": [
    {
     "data": {
      "text/html": [
       "<div>\n",
       "<style scoped>\n",
       "    .dataframe tbody tr th:only-of-type {\n",
       "        vertical-align: middle;\n",
       "    }\n",
       "\n",
       "    .dataframe tbody tr th {\n",
       "        vertical-align: top;\n",
       "    }\n",
       "\n",
       "    .dataframe thead th {\n",
       "        text-align: right;\n",
       "    }\n",
       "</style>\n",
       "<table border=\"1\" class=\"dataframe\">\n",
       "  <thead>\n",
       "    <tr style=\"text-align: right;\">\n",
       "      <th></th>\n",
       "      <th>brand</th>\n",
       "      <th>km_driven</th>\n",
       "      <th>fuel</th>\n",
       "      <th>owner</th>\n",
       "      <th>selling_price</th>\n",
       "    </tr>\n",
       "  </thead>\n",
       "  <tbody>\n",
       "    <tr>\n",
       "      <th>3347</th>\n",
       "      <td>Hyundai</td>\n",
       "      <td>42312</td>\n",
       "      <td>Diesel</td>\n",
       "      <td>First Owner</td>\n",
       "      <td>455000</td>\n",
       "    </tr>\n",
       "    <tr>\n",
       "      <th>1238</th>\n",
       "      <td>Maruti</td>\n",
       "      <td>50000</td>\n",
       "      <td>Petrol</td>\n",
       "      <td>Third Owner</td>\n",
       "      <td>140000</td>\n",
       "    </tr>\n",
       "    <tr>\n",
       "      <th>3220</th>\n",
       "      <td>Hyundai</td>\n",
       "      <td>80000</td>\n",
       "      <td>Diesel</td>\n",
       "      <td>First Owner</td>\n",
       "      <td>535000</td>\n",
       "    </tr>\n",
       "    <tr>\n",
       "      <th>2030</th>\n",
       "      <td>Hyundai</td>\n",
       "      <td>80000</td>\n",
       "      <td>Diesel</td>\n",
       "      <td>First Owner</td>\n",
       "      <td>511000</td>\n",
       "    </tr>\n",
       "    <tr>\n",
       "      <th>4827</th>\n",
       "      <td>Maruti</td>\n",
       "      <td>69779</td>\n",
       "      <td>Petrol</td>\n",
       "      <td>First Owner</td>\n",
       "      <td>600000</td>\n",
       "    </tr>\n",
       "    <tr>\n",
       "      <th>236</th>\n",
       "      <td>Hyundai</td>\n",
       "      <td>37000</td>\n",
       "      <td>Diesel</td>\n",
       "      <td>First Owner</td>\n",
       "      <td>1100000</td>\n",
       "    </tr>\n",
       "    <tr>\n",
       "      <th>7200</th>\n",
       "      <td>Mahindra</td>\n",
       "      <td>31000</td>\n",
       "      <td>Diesel</td>\n",
       "      <td>First Owner</td>\n",
       "      <td>420000</td>\n",
       "    </tr>\n",
       "    <tr>\n",
       "      <th>2858</th>\n",
       "      <td>Maruti</td>\n",
       "      <td>120000</td>\n",
       "      <td>Diesel</td>\n",
       "      <td>Third Owner</td>\n",
       "      <td>350000</td>\n",
       "    </tr>\n",
       "    <tr>\n",
       "      <th>3516</th>\n",
       "      <td>Jaguar</td>\n",
       "      <td>9000</td>\n",
       "      <td>Diesel</td>\n",
       "      <td>First Owner</td>\n",
       "      <td>2711000</td>\n",
       "    </tr>\n",
       "    <tr>\n",
       "      <th>3005</th>\n",
       "      <td>Hyundai</td>\n",
       "      <td>20000</td>\n",
       "      <td>Petrol</td>\n",
       "      <td>First Owner</td>\n",
       "      <td>570000</td>\n",
       "    </tr>\n",
       "  </tbody>\n",
       "</table>\n",
       "</div>"
      ],
      "text/plain": [
       "         brand  km_driven    fuel        owner  selling_price\n",
       "3347   Hyundai      42312  Diesel  First Owner         455000\n",
       "1238    Maruti      50000  Petrol  Third Owner         140000\n",
       "3220   Hyundai      80000  Diesel  First Owner         535000\n",
       "2030   Hyundai      80000  Diesel  First Owner         511000\n",
       "4827    Maruti      69779  Petrol  First Owner         600000\n",
       "236    Hyundai      37000  Diesel  First Owner        1100000\n",
       "7200  Mahindra      31000  Diesel  First Owner         420000\n",
       "2858    Maruti     120000  Diesel  Third Owner         350000\n",
       "3516    Jaguar       9000  Diesel  First Owner        2711000\n",
       "3005   Hyundai      20000  Petrol  First Owner         570000"
      ]
     },
     "execution_count": 22,
     "metadata": {},
     "output_type": "execute_result"
    }
   ],
   "source": [
    "df.sample(10)"
   ]
  },
  {
   "cell_type": "code",
   "execution_count": 11,
   "id": "dfa73d2a",
   "metadata": {},
   "outputs": [
    {
     "data": {
      "text/plain": [
       "(8128, 5)"
      ]
     },
     "execution_count": 11,
     "metadata": {},
     "output_type": "execute_result"
    }
   ],
   "source": [
    "df.shape"
   ]
  },
  {
   "cell_type": "code",
   "execution_count": 26,
   "id": "9eb1b295",
   "metadata": {},
   "outputs": [
    {
     "name": "stdout",
     "output_type": "stream",
     "text": [
      "<class 'pandas.core.frame.DataFrame'>\n",
      "RangeIndex: 8128 entries, 0 to 8127\n",
      "Data columns (total 5 columns):\n",
      " #   Column         Non-Null Count  Dtype \n",
      "---  ------         --------------  ----- \n",
      " 0   brand          8128 non-null   object\n",
      " 1   km_driven      8128 non-null   int64 \n",
      " 2   fuel           8128 non-null   object\n",
      " 3   owner          8128 non-null   object\n",
      " 4   selling_price  8128 non-null   int64 \n",
      "dtypes: int64(2), object(3)\n",
      "memory usage: 317.6+ KB\n"
     ]
    }
   ],
   "source": [
    "df.info()"
   ]
  },
  {
   "cell_type": "code",
   "execution_count": 31,
   "id": "61265def",
   "metadata": {},
   "outputs": [
    {
     "data": {
      "text/html": [
       "<div>\n",
       "<style scoped>\n",
       "    .dataframe tbody tr th:only-of-type {\n",
       "        vertical-align: middle;\n",
       "    }\n",
       "\n",
       "    .dataframe tbody tr th {\n",
       "        vertical-align: top;\n",
       "    }\n",
       "\n",
       "    .dataframe thead th {\n",
       "        text-align: right;\n",
       "    }\n",
       "</style>\n",
       "<table border=\"1\" class=\"dataframe\">\n",
       "  <thead>\n",
       "    <tr style=\"text-align: right;\">\n",
       "      <th></th>\n",
       "      <th>km_driven</th>\n",
       "      <th>selling_price</th>\n",
       "    </tr>\n",
       "  </thead>\n",
       "  <tbody>\n",
       "    <tr>\n",
       "      <th>km_driven</th>\n",
       "      <td>1.000000</td>\n",
       "      <td>-0.225534</td>\n",
       "    </tr>\n",
       "    <tr>\n",
       "      <th>selling_price</th>\n",
       "      <td>-0.225534</td>\n",
       "      <td>1.000000</td>\n",
       "    </tr>\n",
       "  </tbody>\n",
       "</table>\n",
       "</div>"
      ],
      "text/plain": [
       "               km_driven  selling_price\n",
       "km_driven       1.000000      -0.225534\n",
       "selling_price  -0.225534       1.000000"
      ]
     },
     "execution_count": 31,
     "metadata": {},
     "output_type": "execute_result"
    }
   ],
   "source": [
    "df.corr()"
   ]
  },
  {
   "cell_type": "code",
   "execution_count": 43,
   "id": "052b32c1",
   "metadata": {},
   "outputs": [
    {
     "data": {
      "text/plain": [
       "Maruti           2448\n",
       "Hyundai          1415\n",
       "Mahindra          772\n",
       "Tata              734\n",
       "Toyota            488\n",
       "Honda             467\n",
       "Ford              397\n",
       "Chevrolet         230\n",
       "Renault           228\n",
       "Volkswagen        186\n",
       "BMW               120\n",
       "Skoda             105\n",
       "Nissan             81\n",
       "Jaguar             71\n",
       "Volvo              67\n",
       "Datsun             65\n",
       "Mercedes-Benz      54\n",
       "Fiat               47\n",
       "Audi               40\n",
       "Lexus              34\n",
       "Jeep               31\n",
       "Mitsubishi         14\n",
       "Force               6\n",
       "Land                6\n",
       "Isuzu               5\n",
       "Kia                 4\n",
       "Ambassador          4\n",
       "MG                  3\n",
       "Daewoo              3\n",
       "Peugeot             1\n",
       "Ashok               1\n",
       "Opel                1\n",
       "Name: brand, dtype: int64"
      ]
     },
     "execution_count": 43,
     "metadata": {},
     "output_type": "execute_result"
    }
   ],
   "source": [
    "df[\"brand\"].value_counts()"
   ]
  },
  {
   "cell_type": "code",
   "execution_count": 48,
   "id": "72b8f3b2",
   "metadata": {},
   "outputs": [
    {
     "data": {
      "text/plain": [
       "<AxesSubplot:ylabel='brand'>"
      ]
     },
     "execution_count": 48,
     "metadata": {},
     "output_type": "execute_result"
    },
    {
     "data": {
      "image/png": "[encoded data removed]",
      "text/plain": [
       "<Figure size 480x400 with 1 Axes>"
      ]
     },
     "metadata": {},
     "output_type": "display_data"
    }
   ],
   "source": [
    "from matplotlib.pyplot import figure\n",
    "\n",
    "figure(figsize=(6, 5), dpi=80)\n",
    "df[\"brand\"].value_counts().plot(kind=\"pie\",autopct=\"%2f\")"
   ]
  },
  {
   "cell_type": "code",
   "execution_count": 50,
   "id": "16c5fba9",
   "metadata": {},
   "outputs": [
    {
     "data": {
      "text/plain": [
       "Diesel    4402\n",
       "Petrol    3631\n",
       "CNG         57\n",
       "LPG         38\n",
       "Name: fuel, dtype: int64"
      ]
     },
     "execution_count": 50,
     "metadata": {},
     "output_type": "execute_result"
    }
   ],
   "source": [
    "df[\"fuel\"].value_counts()"
   ]
  },
  {
   "cell_type": "markdown",
   "id": "f665d3f5",
   "metadata": {},
   "source": [
    "# nunique is used to find unique column in categorical variable"
   ]
  },
  {
   "cell_type": "code",
   "execution_count": 57,
   "id": "91bbd130",
   "metadata": {},
   "outputs": [
    {
     "data": {
      "text/plain": [
       "4"
      ]
     },
     "execution_count": 57,
     "metadata": {},
     "output_type": "execute_result"
    }
   ],
   "source": [
    "df[\"fuel\"].nunique()"
   ]
  },
  {
   "cell_type": "code",
   "execution_count": 63,
   "id": "92f7edef",
   "metadata": {},
   "outputs": [
    {
     "data": {
      "text/plain": [
       "Diesel    4402\n",
       "Petrol    3631\n",
       "CNG         57\n",
       "LPG         38\n",
       "Name: fuel, dtype: int64"
      ]
     },
     "execution_count": 63,
     "metadata": {},
     "output_type": "execute_result"
    }
   ],
   "source": [
    "df[\"fuel\"].value_counts()"
   ]
  },
  {
   "cell_type": "code",
   "execution_count": 59,
   "id": "07088ef6",
   "metadata": {},
   "outputs": [
    {
     "data": {
      "text/plain": [
       "32"
      ]
     },
     "execution_count": 59,
     "metadata": {},
     "output_type": "execute_result"
    }
   ],
   "source": [
    "# If i do one hotcoding new column is created total 32-1=31\n",
    "df[\"brand\"].nunique()"
   ]
  },
  {
   "cell_type": "code",
   "execution_count": 61,
   "id": "f8933858",
   "metadata": {},
   "outputs": [
    {
     "data": {
      "text/plain": [
       "5"
      ]
     },
     "execution_count": 61,
     "metadata": {},
     "output_type": "execute_result"
    }
   ],
   "source": [
    "df[\"owner\"].nunique()"
   ]
  },
  {
   "cell_type": "code",
   "execution_count": 62,
   "id": "c89bb6db",
   "metadata": {},
   "outputs": [
    {
     "data": {
      "text/plain": [
       "First Owner             5289\n",
       "Second Owner            2105\n",
       "Third Owner              555\n",
       "Fourth & Above Owner     174\n",
       "Test Drive Car             5\n",
       "Name: owner, dtype: int64"
      ]
     },
     "execution_count": 62,
     "metadata": {},
     "output_type": "execute_result"
    }
   ],
   "source": [
    "df[\"owner\"].value_counts()"
   ]
  },
  {
   "cell_type": "markdown",
   "id": "354c5da7",
   "metadata": {},
   "source": [
    "# One HotEncoding Using Pandas"
   ]
  },
  {
   "cell_type": "code",
   "execution_count": 70,
   "id": "e72be8c5",
   "metadata": {},
   "outputs": [
    {
     "data": {
      "text/html": [
       "<div>\n",
       "<style scoped>\n",
       "    .dataframe tbody tr th:only-of-type {\n",
       "        vertical-align: middle;\n",
       "    }\n",
       "\n",
       "    .dataframe tbody tr th {\n",
       "        vertical-align: top;\n",
       "    }\n",
       "\n",
       "    .dataframe thead th {\n",
       "        text-align: right;\n",
       "    }\n",
       "</style>\n",
       "<table border=\"1\" class=\"dataframe\">\n",
       "  <thead>\n",
       "    <tr style=\"text-align: right;\">\n",
       "      <th></th>\n",
       "      <th>brand</th>\n",
       "      <th>km_driven</th>\n",
       "      <th>selling_price</th>\n",
       "      <th>fuel_CNG</th>\n",
       "      <th>fuel_Diesel</th>\n",
       "      <th>fuel_LPG</th>\n",
       "      <th>fuel_Petrol</th>\n",
       "      <th>owner_First Owner</th>\n",
       "      <th>owner_Fourth &amp; Above Owner</th>\n",
       "      <th>owner_Second Owner</th>\n",
       "      <th>owner_Test Drive Car</th>\n",
       "      <th>owner_Third Owner</th>\n",
       "    </tr>\n",
       "  </thead>\n",
       "  <tbody>\n",
       "    <tr>\n",
       "      <th>0</th>\n",
       "      <td>Maruti</td>\n",
       "      <td>145500</td>\n",
       "      <td>450000</td>\n",
       "      <td>0</td>\n",
       "      <td>1</td>\n",
       "      <td>0</td>\n",
       "      <td>0</td>\n",
       "      <td>1</td>\n",
       "      <td>0</td>\n",
       "      <td>0</td>\n",
       "      <td>0</td>\n",
       "      <td>0</td>\n",
       "    </tr>\n",
       "    <tr>\n",
       "      <th>1</th>\n",
       "      <td>Skoda</td>\n",
       "      <td>120000</td>\n",
       "      <td>370000</td>\n",
       "      <td>0</td>\n",
       "      <td>1</td>\n",
       "      <td>0</td>\n",
       "      <td>0</td>\n",
       "      <td>0</td>\n",
       "      <td>0</td>\n",
       "      <td>1</td>\n",
       "      <td>0</td>\n",
       "      <td>0</td>\n",
       "    </tr>\n",
       "    <tr>\n",
       "      <th>2</th>\n",
       "      <td>Honda</td>\n",
       "      <td>140000</td>\n",
       "      <td>158000</td>\n",
       "      <td>0</td>\n",
       "      <td>0</td>\n",
       "      <td>0</td>\n",
       "      <td>1</td>\n",
       "      <td>0</td>\n",
       "      <td>0</td>\n",
       "      <td>0</td>\n",
       "      <td>0</td>\n",
       "      <td>1</td>\n",
       "    </tr>\n",
       "    <tr>\n",
       "      <th>3</th>\n",
       "      <td>Hyundai</td>\n",
       "      <td>127000</td>\n",
       "      <td>225000</td>\n",
       "      <td>0</td>\n",
       "      <td>1</td>\n",
       "      <td>0</td>\n",
       "      <td>0</td>\n",
       "      <td>1</td>\n",
       "      <td>0</td>\n",
       "      <td>0</td>\n",
       "      <td>0</td>\n",
       "      <td>0</td>\n",
       "    </tr>\n",
       "    <tr>\n",
       "      <th>4</th>\n",
       "      <td>Maruti</td>\n",
       "      <td>120000</td>\n",
       "      <td>130000</td>\n",
       "      <td>0</td>\n",
       "      <td>0</td>\n",
       "      <td>0</td>\n",
       "      <td>1</td>\n",
       "      <td>1</td>\n",
       "      <td>0</td>\n",
       "      <td>0</td>\n",
       "      <td>0</td>\n",
       "      <td>0</td>\n",
       "    </tr>\n",
       "    <tr>\n",
       "      <th>...</th>\n",
       "      <td>...</td>\n",
       "      <td>...</td>\n",
       "      <td>...</td>\n",
       "      <td>...</td>\n",
       "      <td>...</td>\n",
       "      <td>...</td>\n",
       "      <td>...</td>\n",
       "      <td>...</td>\n",
       "      <td>...</td>\n",
       "      <td>...</td>\n",
       "      <td>...</td>\n",
       "      <td>...</td>\n",
       "    </tr>\n",
       "    <tr>\n",
       "      <th>8123</th>\n",
       "      <td>Hyundai</td>\n",
       "      <td>110000</td>\n",
       "      <td>320000</td>\n",
       "      <td>0</td>\n",
       "      <td>0</td>\n",
       "      <td>0</td>\n",
       "      <td>1</td>\n",
       "      <td>1</td>\n",
       "      <td>0</td>\n",
       "      <td>0</td>\n",
       "      <td>0</td>\n",
       "      <td>0</td>\n",
       "    </tr>\n",
       "    <tr>\n",
       "      <th>8124</th>\n",
       "      <td>Hyundai</td>\n",
       "      <td>119000</td>\n",
       "      <td>135000</td>\n",
       "      <td>0</td>\n",
       "      <td>1</td>\n",
       "      <td>0</td>\n",
       "      <td>0</td>\n",
       "      <td>0</td>\n",
       "      <td>1</td>\n",
       "      <td>0</td>\n",
       "      <td>0</td>\n",
       "      <td>0</td>\n",
       "    </tr>\n",
       "    <tr>\n",
       "      <th>8125</th>\n",
       "      <td>Maruti</td>\n",
       "      <td>120000</td>\n",
       "      <td>382000</td>\n",
       "      <td>0</td>\n",
       "      <td>1</td>\n",
       "      <td>0</td>\n",
       "      <td>0</td>\n",
       "      <td>1</td>\n",
       "      <td>0</td>\n",
       "      <td>0</td>\n",
       "      <td>0</td>\n",
       "      <td>0</td>\n",
       "    </tr>\n",
       "    <tr>\n",
       "      <th>8126</th>\n",
       "      <td>Tata</td>\n",
       "      <td>25000</td>\n",
       "      <td>290000</td>\n",
       "      <td>0</td>\n",
       "      <td>1</td>\n",
       "      <td>0</td>\n",
       "      <td>0</td>\n",
       "      <td>1</td>\n",
       "      <td>0</td>\n",
       "      <td>0</td>\n",
       "      <td>0</td>\n",
       "      <td>0</td>\n",
       "    </tr>\n",
       "    <tr>\n",
       "      <th>8127</th>\n",
       "      <td>Tata</td>\n",
       "      <td>25000</td>\n",
       "      <td>290000</td>\n",
       "      <td>0</td>\n",
       "      <td>1</td>\n",
       "      <td>0</td>\n",
       "      <td>0</td>\n",
       "      <td>1</td>\n",
       "      <td>0</td>\n",
       "      <td>0</td>\n",
       "      <td>0</td>\n",
       "      <td>0</td>\n",
       "    </tr>\n",
       "  </tbody>\n",
       "</table>\n",
       "<p>8128 rows × 12 columns</p>\n",
       "</div>"
      ],
      "text/plain": [
       "        brand  km_driven  selling_price  fuel_CNG  fuel_Diesel  fuel_LPG  \\\n",
       "0      Maruti     145500         450000         0            1         0   \n",
       "1       Skoda     120000         370000         0            1         0   \n",
       "2       Honda     140000         158000         0            0         0   \n",
       "3     Hyundai     127000         225000         0            1         0   \n",
       "4      Maruti     120000         130000         0            0         0   \n",
       "...       ...        ...            ...       ...          ...       ...   \n",
       "8123  Hyundai     110000         320000         0            0         0   \n",
       "8124  Hyundai     119000         135000         0            1         0   \n",
       "8125   Maruti     120000         382000         0            1         0   \n",
       "8126     Tata      25000         290000         0            1         0   \n",
       "8127     Tata      25000         290000         0            1         0   \n",
       "\n",
       "      fuel_Petrol  owner_First Owner  owner_Fourth & Above Owner  \\\n",
       "0               0                  1                           0   \n",
       "1               0                  0                           0   \n",
       "2               1                  0                           0   \n",
       "3               0                  1                           0   \n",
       "4               1                  1                           0   \n",
       "...           ...                ...                         ...   \n",
       "8123            1                  1                           0   \n",
       "8124            0                  0                           1   \n",
       "8125            0                  1                           0   \n",
       "8126            0                  1                           0   \n",
       "8127            0                  1                           0   \n",
       "\n",
       "      owner_Second Owner  owner_Test Drive Car  owner_Third Owner  \n",
       "0                      0                     0                  0  \n",
       "1                      1                     0                  0  \n",
       "2                      0                     0                  1  \n",
       "3                      0                     0                  0  \n",
       "4                      0                     0                  0  \n",
       "...                  ...                   ...                ...  \n",
       "8123                   0                     0                  0  \n",
       "8124                   0                     0                  0  \n",
       "8125                   0                     0                  0  \n",
       "8126                   0                     0                  0  \n",
       "8127                   0                     0                  0  \n",
       "\n",
       "[8128 rows x 12 columns]"
      ]
     },
     "execution_count": 70,
     "metadata": {},
     "output_type": "execute_result"
    }
   ],
   "source": [
    "pd.get_dummies(df,columns=[\"fuel\",\"owner\"])"
   ]
  },
  {
   "cell_type": "markdown",
   "id": "16db806e",
   "metadata": {},
   "source": [
    "# Dummy Variable Trap"
   ]
  },
  {
   "cell_type": "code",
   "execution_count": 72,
   "id": "34e30632",
   "metadata": {},
   "outputs": [
    {
     "data": {
      "text/html": [
       "<div>\n",
       "<style scoped>\n",
       "    .dataframe tbody tr th:only-of-type {\n",
       "        vertical-align: middle;\n",
       "    }\n",
       "\n",
       "    .dataframe tbody tr th {\n",
       "        vertical-align: top;\n",
       "    }\n",
       "\n",
       "    .dataframe thead th {\n",
       "        text-align: right;\n",
       "    }\n",
       "</style>\n",
       "<table border=\"1\" class=\"dataframe\">\n",
       "  <thead>\n",
       "    <tr style=\"text-align: right;\">\n",
       "      <th></th>\n",
       "      <th>brand</th>\n",
       "      <th>km_driven</th>\n",
       "      <th>selling_price</th>\n",
       "      <th>fuel_Diesel</th>\n",
       "      <th>fuel_LPG</th>\n",
       "      <th>fuel_Petrol</th>\n",
       "      <th>owner_Fourth &amp; Above Owner</th>\n",
       "      <th>owner_Second Owner</th>\n",
       "      <th>owner_Test Drive Car</th>\n",
       "      <th>owner_Third Owner</th>\n",
       "    </tr>\n",
       "  </thead>\n",
       "  <tbody>\n",
       "    <tr>\n",
       "      <th>0</th>\n",
       "      <td>Maruti</td>\n",
       "      <td>145500</td>\n",
       "      <td>450000</td>\n",
       "      <td>1</td>\n",
       "      <td>0</td>\n",
       "      <td>0</td>\n",
       "      <td>0</td>\n",
       "      <td>0</td>\n",
       "      <td>0</td>\n",
       "      <td>0</td>\n",
       "    </tr>\n",
       "    <tr>\n",
       "      <th>1</th>\n",
       "      <td>Skoda</td>\n",
       "      <td>120000</td>\n",
       "      <td>370000</td>\n",
       "      <td>1</td>\n",
       "      <td>0</td>\n",
       "      <td>0</td>\n",
       "      <td>0</td>\n",
       "      <td>1</td>\n",
       "      <td>0</td>\n",
       "      <td>0</td>\n",
       "    </tr>\n",
       "    <tr>\n",
       "      <th>2</th>\n",
       "      <td>Honda</td>\n",
       "      <td>140000</td>\n",
       "      <td>158000</td>\n",
       "      <td>0</td>\n",
       "      <td>0</td>\n",
       "      <td>1</td>\n",
       "      <td>0</td>\n",
       "      <td>0</td>\n",
       "      <td>0</td>\n",
       "      <td>1</td>\n",
       "    </tr>\n",
       "    <tr>\n",
       "      <th>3</th>\n",
       "      <td>Hyundai</td>\n",
       "      <td>127000</td>\n",
       "      <td>225000</td>\n",
       "      <td>1</td>\n",
       "      <td>0</td>\n",
       "      <td>0</td>\n",
       "      <td>0</td>\n",
       "      <td>0</td>\n",
       "      <td>0</td>\n",
       "      <td>0</td>\n",
       "    </tr>\n",
       "    <tr>\n",
       "      <th>4</th>\n",
       "      <td>Maruti</td>\n",
       "      <td>120000</td>\n",
       "      <td>130000</td>\n",
       "      <td>0</td>\n",
       "      <td>0</td>\n",
       "      <td>1</td>\n",
       "      <td>0</td>\n",
       "      <td>0</td>\n",
       "      <td>0</td>\n",
       "      <td>0</td>\n",
       "    </tr>\n",
       "    <tr>\n",
       "      <th>...</th>\n",
       "      <td>...</td>\n",
       "      <td>...</td>\n",
       "      <td>...</td>\n",
       "      <td>...</td>\n",
       "      <td>...</td>\n",
       "      <td>...</td>\n",
       "      <td>...</td>\n",
       "      <td>...</td>\n",
       "      <td>...</td>\n",
       "      <td>...</td>\n",
       "    </tr>\n",
       "    <tr>\n",
       "      <th>8123</th>\n",
       "      <td>Hyundai</td>\n",
       "      <td>110000</td>\n",
       "      <td>320000</td>\n",
       "      <td>0</td>\n",
       "      <td>0</td>\n",
       "      <td>1</td>\n",
       "      <td>0</td>\n",
       "      <td>0</td>\n",
       "      <td>0</td>\n",
       "      <td>0</td>\n",
       "    </tr>\n",
       "    <tr>\n",
       "      <th>8124</th>\n",
       "      <td>Hyundai</td>\n",
       "      <td>119000</td>\n",
       "      <td>135000</td>\n",
       "      <td>1</td>\n",
       "      <td>0</td>\n",
       "      <td>0</td>\n",
       "      <td>1</td>\n",
       "      <td>0</td>\n",
       "      <td>0</td>\n",
       "      <td>0</td>\n",
       "    </tr>\n",
       "    <tr>\n",
       "      <th>8125</th>\n",
       "      <td>Maruti</td>\n",
       "      <td>120000</td>\n",
       "      <td>382000</td>\n",
       "      <td>1</td>\n",
       "      <td>0</td>\n",
       "      <td>0</td>\n",
       "      <td>0</td>\n",
       "      <td>0</td>\n",
       "      <td>0</td>\n",
       "      <td>0</td>\n",
       "    </tr>\n",
       "    <tr>\n",
       "      <th>8126</th>\n",
       "      <td>Tata</td>\n",
       "      <td>25000</td>\n",
       "      <td>290000</td>\n",
       "      <td>1</td>\n",
       "      <td>0</td>\n",
       "      <td>0</td>\n",
       "      <td>0</td>\n",
       "      <td>0</td>\n",
       "      <td>0</td>\n",
       "      <td>0</td>\n",
       "    </tr>\n",
       "    <tr>\n",
       "      <th>8127</th>\n",
       "      <td>Tata</td>\n",
       "      <td>25000</td>\n",
       "      <td>290000</td>\n",
       "      <td>1</td>\n",
       "      <td>0</td>\n",
       "      <td>0</td>\n",
       "      <td>0</td>\n",
       "      <td>0</td>\n",
       "      <td>0</td>\n",
       "      <td>0</td>\n",
       "    </tr>\n",
       "  </tbody>\n",
       "</table>\n",
       "<p>8128 rows × 10 columns</p>\n",
       "</div>"
      ],
      "text/plain": [
       "        brand  km_driven  selling_price  fuel_Diesel  fuel_LPG  fuel_Petrol  \\\n",
       "0      Maruti     145500         450000            1         0            0   \n",
       "1       Skoda     120000         370000            1         0            0   \n",
       "2       Honda     140000         158000            0         0            1   \n",
       "3     Hyundai     127000         225000            1         0            0   \n",
       "4      Maruti     120000         130000            0         0            1   \n",
       "...       ...        ...            ...          ...       ...          ...   \n",
       "8123  Hyundai     110000         320000            0         0            1   \n",
       "8124  Hyundai     119000         135000            1         0            0   \n",
       "8125   Maruti     120000         382000            1         0            0   \n",
       "8126     Tata      25000         290000            1         0            0   \n",
       "8127     Tata      25000         290000            1         0            0   \n",
       "\n",
       "      owner_Fourth & Above Owner  owner_Second Owner  owner_Test Drive Car  \\\n",
       "0                              0                   0                     0   \n",
       "1                              0                   1                     0   \n",
       "2                              0                   0                     0   \n",
       "3                              0                   0                     0   \n",
       "4                              0                   0                     0   \n",
       "...                          ...                 ...                   ...   \n",
       "8123                           0                   0                     0   \n",
       "8124                           1                   0                     0   \n",
       "8125                           0                   0                     0   \n",
       "8126                           0                   0                     0   \n",
       "8127                           0                   0                     0   \n",
       "\n",
       "      owner_Third Owner  \n",
       "0                     0  \n",
       "1                     0  \n",
       "2                     1  \n",
       "3                     0  \n",
       "4                     0  \n",
       "...                 ...  \n",
       "8123                  0  \n",
       "8124                  0  \n",
       "8125                  0  \n",
       "8126                  0  \n",
       "8127                  0  \n",
       "\n",
       "[8128 rows x 10 columns]"
      ]
     },
     "execution_count": 72,
     "metadata": {},
     "output_type": "execute_result"
    }
   ],
   "source": [
    "pd.get_dummies(df,columns=[\"fuel\",\"owner\"],drop_first=True)"
   ]
  },
  {
   "cell_type": "code",
   "execution_count": 75,
   "id": "078f1229",
   "metadata": {},
   "outputs": [
    {
     "data": {
      "text/html": [
       "<div>\n",
       "<style scoped>\n",
       "    .dataframe tbody tr th:only-of-type {\n",
       "        vertical-align: middle;\n",
       "    }\n",
       "\n",
       "    .dataframe tbody tr th {\n",
       "        vertical-align: top;\n",
       "    }\n",
       "\n",
       "    .dataframe thead th {\n",
       "        text-align: right;\n",
       "    }\n",
       "</style>\n",
       "<table border=\"1\" class=\"dataframe\">\n",
       "  <thead>\n",
       "    <tr style=\"text-align: right;\">\n",
       "      <th></th>\n",
       "      <th>brand</th>\n",
       "      <th>km_driven</th>\n",
       "      <th>fuel</th>\n",
       "      <th>owner</th>\n",
       "      <th>selling_price</th>\n",
       "    </tr>\n",
       "  </thead>\n",
       "  <tbody>\n",
       "    <tr>\n",
       "      <th>0</th>\n",
       "      <td>Maruti</td>\n",
       "      <td>145500</td>\n",
       "      <td>Diesel</td>\n",
       "      <td>First Owner</td>\n",
       "      <td>450000</td>\n",
       "    </tr>\n",
       "    <tr>\n",
       "      <th>1</th>\n",
       "      <td>Skoda</td>\n",
       "      <td>120000</td>\n",
       "      <td>Diesel</td>\n",
       "      <td>Second Owner</td>\n",
       "      <td>370000</td>\n",
       "    </tr>\n",
       "    <tr>\n",
       "      <th>2</th>\n",
       "      <td>Honda</td>\n",
       "      <td>140000</td>\n",
       "      <td>Petrol</td>\n",
       "      <td>Third Owner</td>\n",
       "      <td>158000</td>\n",
       "    </tr>\n",
       "    <tr>\n",
       "      <th>3</th>\n",
       "      <td>Hyundai</td>\n",
       "      <td>127000</td>\n",
       "      <td>Diesel</td>\n",
       "      <td>First Owner</td>\n",
       "      <td>225000</td>\n",
       "    </tr>\n",
       "    <tr>\n",
       "      <th>4</th>\n",
       "      <td>Maruti</td>\n",
       "      <td>120000</td>\n",
       "      <td>Petrol</td>\n",
       "      <td>First Owner</td>\n",
       "      <td>130000</td>\n",
       "    </tr>\n",
       "  </tbody>\n",
       "</table>\n",
       "</div>"
      ],
      "text/plain": [
       "     brand  km_driven    fuel         owner  selling_price\n",
       "0   Maruti     145500  Diesel   First Owner         450000\n",
       "1    Skoda     120000  Diesel  Second Owner         370000\n",
       "2    Honda     140000  Petrol   Third Owner         158000\n",
       "3  Hyundai     127000  Diesel   First Owner         225000\n",
       "4   Maruti     120000  Petrol   First Owner         130000"
      ]
     },
     "execution_count": 75,
     "metadata": {},
     "output_type": "execute_result"
    }
   ],
   "source": [
    "df.head()"
   ]
  },
  {
   "cell_type": "code",
   "execution_count": 79,
   "id": "ac363159",
   "metadata": {},
   "outputs": [],
   "source": [
    "X = df.iloc[:,0:4]"
   ]
  },
  {
   "cell_type": "code",
   "execution_count": 80,
   "id": "375f1051",
   "metadata": {},
   "outputs": [],
   "source": [
    "y=df.iloc[:,-1]"
   ]
  },
  {
   "cell_type": "markdown",
   "id": "f8df5bb8",
   "metadata": {},
   "source": [
    "# Train Test Split"
   ]
  },
  {
   "cell_type": "code",
   "execution_count": 74,
   "id": "7618d061",
   "metadata": {},
   "outputs": [],
   "source": [
    "from sklearn.model_selection import train_test_split"
   ]
  },
  {
   "cell_type": "code",
   "execution_count": 82,
   "id": "469022f8",
   "metadata": {},
   "outputs": [],
   "source": [
    "X_train,X_test,y_train,y_test = train_test_split(X,y,test_size=0.3,\n",
    "                                                 random_state=0)"
   ]
  },
  {
   "cell_type": "code",
   "execution_count": 87,
   "id": "98cc31fe",
   "metadata": {},
   "outputs": [
    {
     "data": {
      "text/plain": [
       "((5689, 4), (2439, 4))"
      ]
     },
     "execution_count": 87,
     "metadata": {},
     "output_type": "execute_result"
    }
   ],
   "source": [
    "X_train.shape,X_test.shape"
   ]
  },
  {
   "cell_type": "code",
   "execution_count": null,
   "id": "f19adde2",
   "metadata": {},
   "outputs": [],
   "source": []
  }
 ],
 "metadata": {
  "kernelspec": {
   "display_name": "Python 3.8.8 64-bit ('base': conda)",
   "language": "python",
   "name": "python388jvsc74a57bd02c7ffa9c538f0bfb5740c89a215bcbde02033924243f3d233f0c9916449df403"
  },
  "language_info": {
   "codemirror_mode": {
    "name": "ipython",
    "version": 3
   },
   "file_extension": ".py",
   "mimetype": "text/x-python",
   "name": "python",
   "nbconvert_exporter": "python",
   "pygments_lexer": "ipython3",
   "version": "3.8.8"
  }
 },
 "nbformat": 4,
 "nbformat_minor": 5
}
