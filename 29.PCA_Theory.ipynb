{
 "cells": [
  {
   "cell_type": "markdown",
   "id": "2779e57e",
   "metadata": {},
   "source": [
    "# Variance:- It is used to basically predict the spread[(चौड़ाई),The spread is the range of the data] between data points.\n",
    "# High Variance Low Loss, And Low Variance means High Loss,when we convert our data points High Dimension to Low Dimension,we try to stay with high variance.\n",
    "# Covariance:- It is the relationship between a pair of random variables where change in one variable causes change in another variable.\n",
    "## It can take any value between -infinity to +infinity, where the negative value represents the negative relationship whereas a positive value represents the positive relationship."
   ]
  },
  {
   "cell_type": "markdown",
   "id": "68c14280",
   "metadata": {},
   "source": [
    "<img src=\"https://encrypted-tbn0.gstatic.com/images?q=tbn:ANd9GcSI8YXr3piPF3JSaIbC1cACkKGkc5UAyF0_oA&usqp=CAU\" />"
   ]
  },
  {
   "cell_type": "markdown",
   "id": "38027d82",
   "metadata": {},
   "source": [
    "# Principal component analysis (PCA) is a technique for reducing the dimensionality of such datasets."
   ]
  },
  {
   "cell_type": "code",
   "execution_count": null,
   "id": "965d738f",
   "metadata": {},
   "outputs": [],
   "source": []
  }
 ],
 "metadata": {
  "kernelspec": {
   "display_name": "Python 3.8.8 64-bit ('base': conda)",
   "language": "python",
   "name": "python388jvsc74a57bd02c7ffa9c538f0bfb5740c89a215bcbde02033924243f3d233f0c9916449df403"
  },
  "language_info": {
   "codemirror_mode": {
    "name": "ipython",
    "version": 3
   },
   "file_extension": ".py",
   "mimetype": "text/x-python",
   "name": "python",
   "nbconvert_exporter": "python",
   "pygments_lexer": "ipython3",
   "version": "3.8.8"
  }
 },
 "nbformat": 4,
 "nbformat_minor": 5
}
