{
 "cells": [
  {
   "cell_type": "markdown",
   "id": "28aada4e",
   "metadata": {},
   "source": [
    "# Fill Missing values either using SimpleImputer OR KNNImputer"
   ]
  },
  {
   "cell_type": "code",
   "execution_count": null,
   "id": "07cf5f46",
   "metadata": {},
   "outputs": [],
   "source": [
    "import pandas as pd\n",
    "import numpy as np\n",
    "from sklearn.compose import ColumnTransformer\n",
    "from sklearn.impute import KNNImputer, SimpleImputer"
   ]
  },
  {
   "cell_type": "code",
   "execution_count": null,
   "id": "7aa42dd3",
   "metadata": {},
   "outputs": [],
   "source": [
    "df = pd.read_csv('train.csv')[['Age','Pclass','Fare','Survived']]"
   ]
  },
  {
   "cell_type": "code",
   "execution_count": null,
   "id": "f2874643",
   "metadata": {},
   "outputs": [],
   "source": [
    "df.head()"
   ]
  },
  {
   "cell_type": "code",
   "execution_count": null,
   "id": "d9411441",
   "metadata": {},
   "outputs": [],
   "source": [
    "X = df.drop(columns=\"Survived\")"
   ]
  },
  {
   "cell_type": "code",
   "execution_count": null,
   "id": "eb28e086",
   "metadata": {},
   "outputs": [],
   "source": [
    "y = df[\"Survived\"]"
   ]
  },
  {
   "cell_type": "code",
   "execution_count": null,
   "id": "851592d9",
   "metadata": {},
   "outputs": [],
   "source": [
    "from sklearn.model_selection import train_test_split\n",
    "X_train, X_test, y_train,y_test = train_test_split(X,y,test_size=0.2)"
   ]
  },
  {
   "cell_type": "code",
   "execution_count": null,
   "id": "aae968ff",
   "metadata": {},
   "outputs": [],
   "source": [
    "X_train"
   ]
  },
  {
   "cell_type": "code",
   "execution_count": null,
   "id": "cf6d3006",
   "metadata": {},
   "outputs": [],
   "source": [
    "X_train.isnull().mean()"
   ]
  },
  {
   "cell_type": "markdown",
   "id": "71999ff6",
   "metadata": {},
   "source": [
    "# Fill missing values using KNN imputer"
   ]
  },
  {
   "cell_type": "code",
   "execution_count": null,
   "id": "f221866b",
   "metadata": {},
   "outputs": [],
   "source": [
    "knn = KNNImputer(n_neighbors=3,weights='distance')"
   ]
  },
  {
   "cell_type": "code",
   "execution_count": null,
   "id": "69f4181d",
   "metadata": {},
   "outputs": [],
   "source": [
    "X_train_tnf = knn.fit_transform(X_train)\n",
    "X_test_tnf = knn.transform(X_test)"
   ]
  },
  {
   "cell_type": "code",
   "execution_count": null,
   "id": "176aa462",
   "metadata": {},
   "outputs": [],
   "source": [
    "type(X_train_tnf)"
   ]
  },
  {
   "cell_type": "code",
   "execution_count": null,
   "id": "e4198898",
   "metadata": {},
   "outputs": [],
   "source": [
    "pd.DataFrame(X_train_tnf).isnull().sum()"
   ]
  },
  {
   "cell_type": "code",
   "execution_count": null,
   "id": "325e19fe",
   "metadata": {},
   "outputs": [],
   "source": [
    "from sklearn.linear_model import LogisticRegression"
   ]
  },
  {
   "cell_type": "code",
   "execution_count": null,
   "id": "d7dd96db",
   "metadata": {},
   "outputs": [],
   "source": [
    "m1 = LogisticRegression()"
   ]
  },
  {
   "cell_type": "code",
   "execution_count": null,
   "id": "b5ed6819",
   "metadata": {},
   "outputs": [],
   "source": [
    "m1.fit(X_train_tnf,y_train)"
   ]
  },
  {
   "cell_type": "code",
   "execution_count": null,
   "id": "ac0f9bbf",
   "metadata": {},
   "outputs": [],
   "source": [
    "y_pred = m1.predict(X_test_tnf)"
   ]
  },
  {
   "cell_type": "code",
   "execution_count": null,
   "id": "892b7212",
   "metadata": {},
   "outputs": [],
   "source": [
    "from sklearn.metrics import accuracy_score"
   ]
  },
  {
   "cell_type": "code",
   "execution_count": null,
   "id": "bb73eb04",
   "metadata": {},
   "outputs": [],
   "source": [
    "print(\"USING KNN \",accuracy_score(y_test,y_pred))"
   ]
  },
  {
   "cell_type": "markdown",
   "id": "8d279155",
   "metadata": {},
   "source": [
    "# Fill Missing Values using Simpleimputer"
   ]
  },
  {
   "cell_type": "code",
   "execution_count": null,
   "id": "609bee0c",
   "metadata": {},
   "outputs": [],
   "source": [
    "si = SimpleImputer()\n",
    "\n",
    "X_train_tnf1 = si.fit_transform(X_train)\n",
    "X_test_tnf1 = si.transform(X_test)"
   ]
  },
  {
   "cell_type": "code",
   "execution_count": null,
   "id": "a6da6c35",
   "metadata": {},
   "outputs": [],
   "source": [
    "m2 = LogisticRegression()\n",
    "\n",
    "m2.fit(X_train_tnf1,y_train)"
   ]
  },
  {
   "cell_type": "code",
   "execution_count": null,
   "id": "cd31a5d3",
   "metadata": {},
   "outputs": [],
   "source": [
    "y_pred1 = m1.predict(X_test_tnf1)"
   ]
  },
  {
   "cell_type": "code",
   "execution_count": null,
   "id": "65a6dd8e",
   "metadata": {},
   "outputs": [],
   "source": [
    "print(\"USING SIMPLEIMPUTER :\",accuracy_score(y_test,y_pred1))"
   ]
  },
  {
   "cell_type": "code",
   "execution_count": null,
   "id": "658f8931",
   "metadata": {},
   "outputs": [],
   "source": []
  }
 ],
 "metadata": {
  "kernelspec": {
   "display_name": "Python 3.8.8 64-bit ('base': conda)",
   "language": "python",
   "name": "python388jvsc74a57bd02c7ffa9c538f0bfb5740c89a215bcbde02033924243f3d233f0c9916449df403"
  },
  "language_info": {
   "codemirror_mode": {
    "name": "ipython",
    "version": 3
   },
   "file_extension": ".py",
   "mimetype": "text/x-python",
   "name": "python",
   "nbconvert_exporter": "python",
   "pygments_lexer": "ipython3",
   "version": "3.8.8"
  }
 },
 "nbformat": 4,
 "nbformat_minor": 5
}
