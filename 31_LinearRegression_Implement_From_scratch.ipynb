{
 "cells": [
  {
   "cell_type": "markdown",
   "id": "ad1bb764",
   "metadata": {},
   "source": [
    "# Way to find m(Slope) and b(Intercept) \n",
    "### 1.Closed Form Soluation (OLS) \n",
    "[ordinary least squares (OLS) is a type of linear least squares method for estimating \n",
    "the unknown parameters in a linear regression model])\n",
    "\n",
    "In LinearRegression Class OLS is implemented.\n",
    "### 2.Non Closed Form (Gradient Descent)\n",
    "In SGDRegressor Class Gradient Descent is implemented."
   ]
  },
  {
   "cell_type": "markdown",
   "id": "a6eeb519",
   "metadata": {},
   "source": [
    "<img src=\"https://d138zd1ktt9iqe.cloudfront.net/media/seo_landing_files/slope-intercept-form-1620020447.png\" width=\"300\"/>"
   ]
  },
  {
   "cell_type": "markdown",
   "id": "be370a63",
   "metadata": {},
   "source": [
    "<img src=\"https://d138zd1ktt9iqe.cloudfront.net/media/seo_landing_files/y-intercept-1-1620042461.png\" width=\"300\"/>"
   ]
  },
  {
   "cell_type": "markdown",
   "id": "4e2b7ac0",
   "metadata": {},
   "source": [
    "<img src=\"https://d138zd1ktt9iqe.cloudfront.net/media/seo_landing_files/finding-slope-of-a-line-1620040795.png\" width=\"250\"/>"
   ]
  },
  {
   "cell_type": "markdown",
   "id": "d2ec55e9",
   "metadata": {},
   "source": [
    "<img src=\"https://wumbo.net/notation/summation/summation-operator-annotated-340-160.svg\" width=\"250\"/>"
   ]
  },
  {
   "cell_type": "markdown",
   "id": "f2e81204",
   "metadata": {},
   "source": [
    "<img src=\"data:image/png;base64,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\" />"
   ]
  },
  {
   "cell_type": "markdown",
   "id": "a994282a",
   "metadata": {},
   "source": [
    "# b = ȳ - mx̄"
   ]
  },
  {
   "cell_type": "markdown",
   "id": "fcf29559",
   "metadata": {},
   "source": [
    "<img src=\"LR.jpeg\" width=\"400\"/>"
   ]
  },
  {
   "cell_type": "code",
   "execution_count": 96,
   "id": "3d1becbb",
   "metadata": {},
   "outputs": [],
   "source": [
    "class MeraLR:\n",
    "    def __init__(self):\n",
    "        self.m = None\n",
    "        self.b = None\n",
    "        \n",
    "    def fit(self, X_train,y_train):\n",
    "        \n",
    "        num = 0\n",
    "        den = 0\n",
    "        for i in range(X_train.shape[0]):\n",
    "            num = num+(X_train[i]-X_train.mean())* (y_train[i]-y_train.mean())\n",
    "            den = den+(X_train[i]-X_train.mean())*(X_train[i]-X_train.mean())\n",
    "            \n",
    "        self.m=num/den\n",
    "        self.b=y_train.mean()-(self.m * X_train.mean())\n",
    "        \n",
    "        print(\"Slope (m):\",self.m)\n",
    "        print(\"Intercept (b)\",self.b)\n",
    "        \n",
    "    def predict(self,X_test):\n",
    "                return self.m * X_test + self.b"
   ]
  },
  {
   "cell_type": "code",
   "execution_count": 97,
   "id": "b5eac2b1",
   "metadata": {},
   "outputs": [],
   "source": [
    "import pandas as pd\n",
    "import numpy as np"
   ]
  },
  {
   "cell_type": "code",
   "execution_count": 98,
   "id": "0764f9cb",
   "metadata": {},
   "outputs": [],
   "source": [
    "df = pd.read_csv(\"updated.csv\")"
   ]
  },
  {
   "cell_type": "code",
   "execution_count": 99,
   "id": "93bf6280",
   "metadata": {},
   "outputs": [
    {
     "data": {
      "text/html": [
       "<div>\n",
       "<style scoped>\n",
       "    .dataframe tbody tr th:only-of-type {\n",
       "        vertical-align: middle;\n",
       "    }\n",
       "\n",
       "    .dataframe tbody tr th {\n",
       "        vertical-align: top;\n",
       "    }\n",
       "\n",
       "    .dataframe thead th {\n",
       "        text-align: right;\n",
       "    }\n",
       "</style>\n",
       "<table border=\"1\" class=\"dataframe\">\n",
       "  <thead>\n",
       "    <tr style=\"text-align: right;\">\n",
       "      <th></th>\n",
       "      <th>cgpa</th>\n",
       "      <th>package</th>\n",
       "    </tr>\n",
       "  </thead>\n",
       "  <tbody>\n",
       "    <tr>\n",
       "      <th>0</th>\n",
       "      <td>6.89</td>\n",
       "      <td>3.26</td>\n",
       "    </tr>\n",
       "    <tr>\n",
       "      <th>1</th>\n",
       "      <td>5.12</td>\n",
       "      <td>1.98</td>\n",
       "    </tr>\n",
       "    <tr>\n",
       "      <th>2</th>\n",
       "      <td>7.82</td>\n",
       "      <td>3.25</td>\n",
       "    </tr>\n",
       "    <tr>\n",
       "      <th>3</th>\n",
       "      <td>7.42</td>\n",
       "      <td>3.67</td>\n",
       "    </tr>\n",
       "    <tr>\n",
       "      <th>4</th>\n",
       "      <td>6.94</td>\n",
       "      <td>3.57</td>\n",
       "    </tr>\n",
       "  </tbody>\n",
       "</table>\n",
       "</div>"
      ],
      "text/plain": [
       "   cgpa  package\n",
       "0  6.89     3.26\n",
       "1  5.12     1.98\n",
       "2  7.82     3.25\n",
       "3  7.42     3.67\n",
       "4  6.94     3.57"
      ]
     },
     "execution_count": 99,
     "metadata": {},
     "output_type": "execute_result"
    }
   ],
   "source": [
    "df.head()"
   ]
  },
  {
   "cell_type": "code",
   "execution_count": 100,
   "id": "7872b5c1",
   "metadata": {},
   "outputs": [],
   "source": [
    "# .values is used to convert into numpy (to_numpy())\n",
    "X = df.iloc[:,0].values\n",
    "y = df.iloc[:,1].values"
   ]
  },
  {
   "cell_type": "code",
   "execution_count": 101,
   "id": "729bd45e",
   "metadata": {},
   "outputs": [
    {
     "data": {
      "text/plain": [
       "numpy.ndarray"
      ]
     },
     "execution_count": 101,
     "metadata": {},
     "output_type": "execute_result"
    }
   ],
   "source": [
    "type(X)"
   ]
  },
  {
   "cell_type": "code",
   "execution_count": 102,
   "id": "fc132e6b",
   "metadata": {},
   "outputs": [],
   "source": [
    "from sklearn.model_selection import train_test_split\n",
    "X_train,X_test,y_train,y_test = train_test_split(X,y,test_size=0.2,random_state=2)"
   ]
  },
  {
   "cell_type": "code",
   "execution_count": 103,
   "id": "749dc4f8",
   "metadata": {},
   "outputs": [],
   "source": [
    "lr = MeraLR()"
   ]
  },
  {
   "cell_type": "code",
   "execution_count": 104,
   "id": "04258621",
   "metadata": {},
   "outputs": [
    {
     "name": "stdout",
     "output_type": "stream",
     "text": [
      "Slope (m): 0.5579519734250721\n",
      "Intercept (b) -0.8961119222429152\n"
     ]
    }
   ],
   "source": [
    "lr.fit(X_train,y_train)"
   ]
  },
  {
   "cell_type": "code",
   "execution_count": 105,
   "id": "cdbef067",
   "metadata": {},
   "outputs": [],
   "source": [
    "y_pred = lr.predict(X_test)"
   ]
  },
  {
   "cell_type": "code",
   "execution_count": 106,
   "id": "9f07fcea",
   "metadata": {},
   "outputs": [],
   "source": [
    "from sklearn.metrics import r2_score"
   ]
  },
  {
   "cell_type": "code",
   "execution_count": 107,
   "id": "3850dd64",
   "metadata": {},
   "outputs": [
    {
     "data": {
      "text/plain": [
       "0.7807301475103842"
      ]
     },
     "execution_count": 107,
     "metadata": {},
     "output_type": "execute_result"
    }
   ],
   "source": [
    "r2_score(y_test,y_pred)"
   ]
  },
  {
   "cell_type": "code",
   "execution_count": 108,
   "id": "b0b70047",
   "metadata": {},
   "outputs": [
    {
     "data": {
      "text/plain": [
       "array([8.58, 7.15, 5.88, 6.22, 4.57, 4.79, 5.32, 6.86, 8.35, 6.87, 8.94,\n",
       "       7.9 , 6.93, 5.91, 7.32, 7.82, 5.09, 7.42, 6.94, 7.73, 6.19, 7.28,\n",
       "       6.73, 7.2 , 8.21, 6.75, 7.87, 7.6 , 8.63, 5.12, 8.15, 7.36, 8.31,\n",
       "       6.6 , 6.59, 7.47, 7.93, 6.29, 6.37, 6.47])"
      ]
     },
     "execution_count": 108,
     "metadata": {},
     "output_type": "execute_result"
    }
   ],
   "source": [
    "X_test"
   ]
  },
  {
   "cell_type": "code",
   "execution_count": null,
   "id": "8d06bdb3",
   "metadata": {},
   "outputs": [],
   "source": []
  }
 ],
 "metadata": {
  "kernelspec": {
   "display_name": "Python 3.8.8 64-bit ('base': conda)",
   "language": "python",
   "name": "python388jvsc74a57bd02c7ffa9c538f0bfb5740c89a215bcbde02033924243f3d233f0c9916449df403"
  },
  "language_info": {
   "codemirror_mode": {
    "name": "ipython",
    "version": 3
   },
   "file_extension": ".py",
   "mimetype": "text/x-python",
   "name": "python",
   "nbconvert_exporter": "python",
   "pygments_lexer": "ipython3",
   "version": "3.8.8"
  }
 },
 "nbformat": 4,
 "nbformat_minor": 5
}
