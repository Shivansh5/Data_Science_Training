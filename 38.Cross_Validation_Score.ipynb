{
 "cells": [
  {
   "cell_type": "code",
   "execution_count": 1,
   "id": "868790f4",
   "metadata": {},
   "outputs": [],
   "source": [
    "import pandas as pd\n",
    "from sklearn.datasets import load_iris\n",
    "dataset = load_iris()\n",
    "X = dataset.data\n",
    "y = dataset.target"
   ]
  },
  {
   "cell_type": "code",
   "execution_count": 23,
   "id": "e81df343",
   "metadata": {},
   "outputs": [],
   "source": [
    "from sklearn.model_selection import train_test_split\n",
    "X_train,X_test,y_train,y_test = train_test_split(X,y,test_size=0.3,random_state=41)"
   ]
  },
  {
   "cell_type": "markdown",
   "id": "2cb6d1ef",
   "metadata": {},
   "source": [
    "# random_state:- The random_state parameter is used for initializing the internal random number generator, which will decide the splitting of data into train and test.\n",
    "# Q.Random state change also impact in your accuracy, so how i know the my actual accuracy. \n",
    "# ANS:- Through Cross Validation."
   ]
  },
  {
   "cell_type": "markdown",
   "id": "db9f1ec8",
   "metadata": {},
   "source": [
    "\n",
    "<img src=\"data:image/jpeg;base64,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\" />"
   ]
  },
  {
   "cell_type": "code",
   "execution_count": 25,
   "id": "598b722a",
   "metadata": {},
   "outputs": [
    {
     "data": {
      "text/plain": [
       "0.9333333333333333"
      ]
     },
     "execution_count": 25,
     "metadata": {},
     "output_type": "execute_result"
    }
   ],
   "source": [
    "from sklearn.neighbors import KNeighborsClassifier\n",
    "from sklearn.metrics import accuracy_score\n",
    "\n",
    "knn = KNeighborsClassifier(n_neighbors=5)\n",
    "knn.fit(X_train,y_train)\n",
    "y_pred1 = knn.predict(X_test)\n",
    "accuracy_score(y_test,y_pred1)"
   ]
  },
  {
   "cell_type": "markdown",
   "id": "cf25bf79",
   "metadata": {},
   "source": [
    "# Cross Validation (classification)\n",
    "# Cross-validation is a resampling method that uses different portions of the data to test and train a model on different iterations."
   ]
  },
  {
   "cell_type": "markdown",
   "id": "322a0053",
   "metadata": {},
   "source": [
    "<img src=\"https://upload.wikimedia.org/wikipedia/commons/thumb/b/b5/K-fold_cross_validation_EN.svg/250px-K-fold_cross_validation_EN.svg.png\" />"
   ]
  },
  {
   "cell_type": "markdown",
   "id": "6fa27a4b",
   "metadata": {},
   "source": [
    "<img src=\"https://miro.medium.com/max/1838/1*AAwIlHM8TpAVe4l2FihNUQ.png\" width=350/>"
   ]
  },
  {
   "cell_type": "code",
   "execution_count": 11,
   "id": "1d8436fb",
   "metadata": {},
   "outputs": [],
   "source": [
    "from sklearn.model_selection import cross_val_score"
   ]
  },
  {
   "cell_type": "code",
   "execution_count": 30,
   "id": "13efd19d",
   "metadata": {},
   "outputs": [
    {
     "name": "stdout",
     "output_type": "stream",
     "text": [
      "score:  [1.         0.93333333 1.         1.         0.86666667 0.93333333\n",
      " 0.93333333 1.         1.         1.        ]\n",
      "score_mean:  0.9666666666666668\n"
     ]
    }
   ],
   "source": [
    "#10times train_test_split kiya different different angle se aur accuracy predict kiya.\n",
    "score = cross_val_score(KNeighborsClassifier(n_neighbors=5),X,y,cv=10,scoring=\"accuracy\")\n",
    "print(\"score: \",score)\n",
    "print(\"score_mean: \",score.mean())"
   ]
  },
  {
   "cell_type": "code",
   "execution_count": 21,
   "id": "83f6d8f3",
   "metadata": {},
   "outputs": [
    {
     "name": "stdout",
     "output_type": "stream",
     "text": [
      "1 0.96\n",
      "2 0.9533333333333334\n",
      "3 0.9666666666666666\n",
      "4 0.9666666666666666\n",
      "5 0.9666666666666668\n",
      "6 0.9666666666666668\n",
      "7 0.9666666666666668\n",
      "8 0.9666666666666668\n",
      "9 0.9733333333333334\n",
      "10 0.9666666666666668\n",
      "11 0.9666666666666668\n",
      "12 0.9733333333333334\n",
      "13 0.9800000000000001\n",
      "14 0.9733333333333334\n",
      "15 0.9733333333333334\n",
      "16 0.9733333333333334\n",
      "17 0.9733333333333334\n",
      "18 0.9800000000000001\n",
      "19 0.9733333333333334\n",
      "20 0.9800000000000001\n"
     ]
    }
   ],
   "source": [
    "for i in range(1,21):\n",
    "    score = cross_val_score(KNeighborsClassifier(n_neighbors=i),X,y,cv=10,scoring=\"accuracy\")\n",
    "    print(i,score.mean())"
   ]
  },
  {
   "cell_type": "markdown",
   "id": "b1c2e779",
   "metadata": {},
   "source": [
    "# Cross Validation(Regression)"
   ]
  },
  {
   "cell_type": "code",
   "execution_count": 120,
   "id": "f3bc2412",
   "metadata": {},
   "outputs": [],
   "source": [
    "from sklearn.datasets import load_boston\n",
    "from sklearn.linear_model import LinearRegression\n",
    "from sklearn.neighbors import KNeighborsRegressor"
   ]
  },
  {
   "cell_type": "code",
   "execution_count": 103,
   "id": "f03a978a",
   "metadata": {},
   "outputs": [],
   "source": [
    "df = load_boston()"
   ]
  },
  {
   "cell_type": "code",
   "execution_count": 104,
   "id": "dfd6ccc0",
   "metadata": {},
   "outputs": [
    {
     "data": {
      "text/plain": [
       "((506, 13), (506,))"
      ]
     },
     "execution_count": 104,
     "metadata": {},
     "output_type": "execute_result"
    }
   ],
   "source": [
    "X = df.data\n",
    "y = df.target\n",
    "X.shape , y.shape"
   ]
  },
  {
   "cell_type": "code",
   "execution_count": 105,
   "id": "de27ce9b",
   "metadata": {},
   "outputs": [
    {
     "data": {
      "text/plain": [
       "array([24. , 21.6, 34.7, 33.4, 36.2])"
      ]
     },
     "execution_count": 105,
     "metadata": {},
     "output_type": "execute_result"
    }
   ],
   "source": [
    "y[0:5]"
   ]
  },
  {
   "cell_type": "code",
   "execution_count": 106,
   "id": "8d7bb5d1",
   "metadata": {},
   "outputs": [],
   "source": [
    "from sklearn.model_selection import cross_val_score"
   ]
  },
  {
   "cell_type": "code",
   "execution_count": 107,
   "id": "8be84ff2",
   "metadata": {},
   "outputs": [
    {
     "name": "stdout",
     "output_type": "stream",
     "text": [
      "[ 0.73376082  0.4730725  -1.00631454  0.64113984  0.54766046  0.73640292\n",
      "  0.37828386 -0.12922703 -0.76843243  0.4189435 ]\n"
     ]
    }
   ],
   "source": [
    "score = cross_val_score(LinearRegression(),X,y,cv=10,scoring=\"r2\")\n",
    "print(score)"
   ]
  },
  {
   "cell_type": "code",
   "execution_count": 108,
   "id": "777dd4c0",
   "metadata": {},
   "outputs": [
    {
     "name": "stdout",
     "output_type": "stream",
     "text": [
      "0.20252899006056552\n"
     ]
    }
   ],
   "source": [
    "print(score.mean())"
   ]
  },
  {
   "cell_type": "code",
   "execution_count": 124,
   "id": "6524b820",
   "metadata": {},
   "outputs": [
    {
     "name": "stdout",
     "output_type": "stream",
     "text": [
      "[ -1.35022939  -1.19747005 -42.60477861  -0.68413902  -0.37483567\n",
      "  -0.65502462  -1.59380978   0.06494501  -0.70831901  -0.38894401]\n"
     ]
    }
   ],
   "source": [
    "score = cross_val_score(KNeighborsRegressor(n_neighbors=5),X,y,cv=10,scoring=\"r2\")\n",
    "print(score)"
   ]
  },
  {
   "cell_type": "code",
   "execution_count": 125,
   "id": "714d0d3f",
   "metadata": {},
   "outputs": [
    {
     "name": "stdout",
     "output_type": "stream",
     "text": [
      "-4.949260514859802\n"
     ]
    }
   ],
   "source": [
    "print(score.mean())"
   ]
  },
  {
   "cell_type": "code",
   "execution_count": 126,
   "id": "2a6a4c60",
   "metadata": {},
   "outputs": [],
   "source": [
    "# So we try different different Regression Algorithm"
   ]
  },
  {
   "cell_type": "code",
   "execution_count": null,
   "id": "7f0c782f",
   "metadata": {},
   "outputs": [],
   "source": [
    "# How many scoring function we have"
   ]
  },
  {
   "cell_type": "code",
   "execution_count": 127,
   "id": "19602074",
   "metadata": {},
   "outputs": [],
   "source": [
    "from sklearn.metrics import SCORERS"
   ]
  },
  {
   "cell_type": "code",
   "execution_count": 131,
   "id": "1f00a744",
   "metadata": {},
   "outputs": [
    {
     "data": {
      "text/plain": [
       "['explained_variance',\n",
       " 'r2',\n",
       " 'max_error',\n",
       " 'neg_median_absolute_error',\n",
       " 'neg_mean_absolute_error',\n",
       " 'neg_mean_absolute_percentage_error',\n",
       " 'neg_mean_squared_error',\n",
       " 'neg_mean_squared_log_error',\n",
       " 'neg_root_mean_squared_error',\n",
       " 'neg_mean_poisson_deviance',\n",
       " 'neg_mean_gamma_deviance',\n",
       " 'accuracy',\n",
       " 'top_k_accuracy',\n",
       " 'roc_auc',\n",
       " 'roc_auc_ovr',\n",
       " 'roc_auc_ovo',\n",
       " 'roc_auc_ovr_weighted',\n",
       " 'roc_auc_ovo_weighted',\n",
       " 'balanced_accuracy',\n",
       " 'average_precision',\n",
       " 'neg_log_loss',\n",
       " 'neg_brier_score',\n",
       " 'adjusted_rand_score',\n",
       " 'rand_score',\n",
       " 'homogeneity_score',\n",
       " 'completeness_score',\n",
       " 'v_measure_score',\n",
       " 'mutual_info_score',\n",
       " 'adjusted_mutual_info_score',\n",
       " 'normalized_mutual_info_score',\n",
       " 'fowlkes_mallows_score',\n",
       " 'precision',\n",
       " 'precision_macro',\n",
       " 'precision_micro',\n",
       " 'precision_samples',\n",
       " 'precision_weighted',\n",
       " 'recall',\n",
       " 'recall_macro',\n",
       " 'recall_micro',\n",
       " 'recall_samples',\n",
       " 'recall_weighted',\n",
       " 'f1',\n",
       " 'f1_macro',\n",
       " 'f1_micro',\n",
       " 'f1_samples',\n",
       " 'f1_weighted',\n",
       " 'jaccard',\n",
       " 'jaccard_macro',\n",
       " 'jaccard_micro',\n",
       " 'jaccard_samples',\n",
       " 'jaccard_weighted']"
      ]
     },
     "execution_count": 131,
     "metadata": {},
     "output_type": "execute_result"
    }
   ],
   "source": [
    "list(SCORERS.keys())"
   ]
  },
  {
   "cell_type": "markdown",
   "id": "32e19e32",
   "metadata": {},
   "source": [
    "# ---------------------------------------------------------------------------------"
   ]
  },
  {
   "cell_type": "code",
   "execution_count": 109,
   "id": "5cabbb5b",
   "metadata": {},
   "outputs": [],
   "source": [
    "import matplotlib.pyplot as plt\n",
    "import seaborn as sns\n",
    "import numpy as np"
   ]
  },
  {
   "cell_type": "code",
   "execution_count": 111,
   "id": "f0015c04",
   "metadata": {},
   "outputs": [],
   "source": [
    "df1 = pd.DataFrame(df.data,columns=df.feature_names,dtype=np.int8)"
   ]
  },
  {
   "cell_type": "code",
   "execution_count": 112,
   "id": "b017a2f4",
   "metadata": {},
   "outputs": [],
   "source": [
    "df1[\"target\"]=df.target"
   ]
  },
  {
   "cell_type": "code",
   "execution_count": 113,
   "id": "08f17bef",
   "metadata": {},
   "outputs": [
    {
     "data": {
      "text/html": [
       "<div>\n",
       "<style scoped>\n",
       "    .dataframe tbody tr th:only-of-type {\n",
       "        vertical-align: middle;\n",
       "    }\n",
       "\n",
       "    .dataframe tbody tr th {\n",
       "        vertical-align: top;\n",
       "    }\n",
       "\n",
       "    .dataframe thead th {\n",
       "        text-align: right;\n",
       "    }\n",
       "</style>\n",
       "<table border=\"1\" class=\"dataframe\">\n",
       "  <thead>\n",
       "    <tr style=\"text-align: right;\">\n",
       "      <th></th>\n",
       "      <th>CRIM</th>\n",
       "      <th>ZN</th>\n",
       "      <th>INDUS</th>\n",
       "      <th>CHAS</th>\n",
       "      <th>NOX</th>\n",
       "      <th>RM</th>\n",
       "      <th>AGE</th>\n",
       "      <th>DIS</th>\n",
       "      <th>RAD</th>\n",
       "      <th>TAX</th>\n",
       "      <th>PTRATIO</th>\n",
       "      <th>B</th>\n",
       "      <th>LSTAT</th>\n",
       "      <th>target</th>\n",
       "    </tr>\n",
       "  </thead>\n",
       "  <tbody>\n",
       "    <tr>\n",
       "      <th>0</th>\n",
       "      <td>0</td>\n",
       "      <td>18</td>\n",
       "      <td>2</td>\n",
       "      <td>0</td>\n",
       "      <td>0</td>\n",
       "      <td>6</td>\n",
       "      <td>65</td>\n",
       "      <td>4</td>\n",
       "      <td>1</td>\n",
       "      <td>40</td>\n",
       "      <td>15</td>\n",
       "      <td>-116</td>\n",
       "      <td>4</td>\n",
       "      <td>24.0</td>\n",
       "    </tr>\n",
       "    <tr>\n",
       "      <th>1</th>\n",
       "      <td>0</td>\n",
       "      <td>0</td>\n",
       "      <td>7</td>\n",
       "      <td>0</td>\n",
       "      <td>0</td>\n",
       "      <td>6</td>\n",
       "      <td>78</td>\n",
       "      <td>4</td>\n",
       "      <td>2</td>\n",
       "      <td>-14</td>\n",
       "      <td>17</td>\n",
       "      <td>-116</td>\n",
       "      <td>9</td>\n",
       "      <td>21.6</td>\n",
       "    </tr>\n",
       "    <tr>\n",
       "      <th>2</th>\n",
       "      <td>0</td>\n",
       "      <td>0</td>\n",
       "      <td>7</td>\n",
       "      <td>0</td>\n",
       "      <td>0</td>\n",
       "      <td>7</td>\n",
       "      <td>61</td>\n",
       "      <td>4</td>\n",
       "      <td>2</td>\n",
       "      <td>-14</td>\n",
       "      <td>17</td>\n",
       "      <td>-120</td>\n",
       "      <td>4</td>\n",
       "      <td>34.7</td>\n",
       "    </tr>\n",
       "    <tr>\n",
       "      <th>3</th>\n",
       "      <td>0</td>\n",
       "      <td>0</td>\n",
       "      <td>2</td>\n",
       "      <td>0</td>\n",
       "      <td>0</td>\n",
       "      <td>6</td>\n",
       "      <td>45</td>\n",
       "      <td>6</td>\n",
       "      <td>3</td>\n",
       "      <td>-34</td>\n",
       "      <td>18</td>\n",
       "      <td>-118</td>\n",
       "      <td>2</td>\n",
       "      <td>33.4</td>\n",
       "    </tr>\n",
       "    <tr>\n",
       "      <th>4</th>\n",
       "      <td>0</td>\n",
       "      <td>0</td>\n",
       "      <td>2</td>\n",
       "      <td>0</td>\n",
       "      <td>0</td>\n",
       "      <td>7</td>\n",
       "      <td>54</td>\n",
       "      <td>6</td>\n",
       "      <td>3</td>\n",
       "      <td>-34</td>\n",
       "      <td>18</td>\n",
       "      <td>-116</td>\n",
       "      <td>5</td>\n",
       "      <td>36.2</td>\n",
       "    </tr>\n",
       "    <tr>\n",
       "      <th>...</th>\n",
       "      <td>...</td>\n",
       "      <td>...</td>\n",
       "      <td>...</td>\n",
       "      <td>...</td>\n",
       "      <td>...</td>\n",
       "      <td>...</td>\n",
       "      <td>...</td>\n",
       "      <td>...</td>\n",
       "      <td>...</td>\n",
       "      <td>...</td>\n",
       "      <td>...</td>\n",
       "      <td>...</td>\n",
       "      <td>...</td>\n",
       "      <td>...</td>\n",
       "    </tr>\n",
       "    <tr>\n",
       "      <th>501</th>\n",
       "      <td>0</td>\n",
       "      <td>0</td>\n",
       "      <td>11</td>\n",
       "      <td>0</td>\n",
       "      <td>0</td>\n",
       "      <td>6</td>\n",
       "      <td>69</td>\n",
       "      <td>2</td>\n",
       "      <td>1</td>\n",
       "      <td>17</td>\n",
       "      <td>21</td>\n",
       "      <td>-121</td>\n",
       "      <td>9</td>\n",
       "      <td>22.4</td>\n",
       "    </tr>\n",
       "    <tr>\n",
       "      <th>502</th>\n",
       "      <td>0</td>\n",
       "      <td>0</td>\n",
       "      <td>11</td>\n",
       "      <td>0</td>\n",
       "      <td>0</td>\n",
       "      <td>6</td>\n",
       "      <td>76</td>\n",
       "      <td>2</td>\n",
       "      <td>1</td>\n",
       "      <td>17</td>\n",
       "      <td>21</td>\n",
       "      <td>-116</td>\n",
       "      <td>9</td>\n",
       "      <td>20.6</td>\n",
       "    </tr>\n",
       "    <tr>\n",
       "      <th>503</th>\n",
       "      <td>0</td>\n",
       "      <td>0</td>\n",
       "      <td>11</td>\n",
       "      <td>0</td>\n",
       "      <td>0</td>\n",
       "      <td>6</td>\n",
       "      <td>91</td>\n",
       "      <td>2</td>\n",
       "      <td>1</td>\n",
       "      <td>17</td>\n",
       "      <td>21</td>\n",
       "      <td>-116</td>\n",
       "      <td>5</td>\n",
       "      <td>23.9</td>\n",
       "    </tr>\n",
       "    <tr>\n",
       "      <th>504</th>\n",
       "      <td>0</td>\n",
       "      <td>0</td>\n",
       "      <td>11</td>\n",
       "      <td>0</td>\n",
       "      <td>0</td>\n",
       "      <td>6</td>\n",
       "      <td>89</td>\n",
       "      <td>2</td>\n",
       "      <td>1</td>\n",
       "      <td>17</td>\n",
       "      <td>21</td>\n",
       "      <td>-119</td>\n",
       "      <td>6</td>\n",
       "      <td>22.0</td>\n",
       "    </tr>\n",
       "    <tr>\n",
       "      <th>505</th>\n",
       "      <td>0</td>\n",
       "      <td>0</td>\n",
       "      <td>11</td>\n",
       "      <td>0</td>\n",
       "      <td>0</td>\n",
       "      <td>6</td>\n",
       "      <td>80</td>\n",
       "      <td>2</td>\n",
       "      <td>1</td>\n",
       "      <td>17</td>\n",
       "      <td>21</td>\n",
       "      <td>-116</td>\n",
       "      <td>7</td>\n",
       "      <td>11.9</td>\n",
       "    </tr>\n",
       "  </tbody>\n",
       "</table>\n",
       "<p>506 rows × 14 columns</p>\n",
       "</div>"
      ],
      "text/plain": [
       "     CRIM  ZN  INDUS  CHAS  NOX  RM  AGE  DIS  RAD  TAX  PTRATIO    B  LSTAT  \\\n",
       "0       0  18      2     0    0   6   65    4    1   40       15 -116      4   \n",
       "1       0   0      7     0    0   6   78    4    2  -14       17 -116      9   \n",
       "2       0   0      7     0    0   7   61    4    2  -14       17 -120      4   \n",
       "3       0   0      2     0    0   6   45    6    3  -34       18 -118      2   \n",
       "4       0   0      2     0    0   7   54    6    3  -34       18 -116      5   \n",
       "..    ...  ..    ...   ...  ...  ..  ...  ...  ...  ...      ...  ...    ...   \n",
       "501     0   0     11     0    0   6   69    2    1   17       21 -121      9   \n",
       "502     0   0     11     0    0   6   76    2    1   17       21 -116      9   \n",
       "503     0   0     11     0    0   6   91    2    1   17       21 -116      5   \n",
       "504     0   0     11     0    0   6   89    2    1   17       21 -119      6   \n",
       "505     0   0     11     0    0   6   80    2    1   17       21 -116      7   \n",
       "\n",
       "     target  \n",
       "0      24.0  \n",
       "1      21.6  \n",
       "2      34.7  \n",
       "3      33.4  \n",
       "4      36.2  \n",
       "..      ...  \n",
       "501    22.4  \n",
       "502    20.6  \n",
       "503    23.9  \n",
       "504    22.0  \n",
       "505    11.9  \n",
       "\n",
       "[506 rows x 14 columns]"
      ]
     },
     "execution_count": 113,
     "metadata": {},
     "output_type": "execute_result"
    }
   ],
   "source": [
    "df1"
   ]
  },
  {
   "cell_type": "code",
   "execution_count": 118,
   "id": "5204cc30",
   "metadata": {},
   "outputs": [
    {
     "data": {
      "text/plain": [
       "<AxesSubplot:xlabel='DIS', ylabel='RAD'>"
      ]
     },
     "execution_count": 118,
     "metadata": {},
     "output_type": "execute_result"
    },
    {
     "data": {
      "image/png": "[encoded data removed]",
      "text/plain": [
       "<Figure size 432x288 with 1 Axes>"
      ]
     },
     "metadata": {
      "needs_background": "light"
     },
     "output_type": "display_data"
    }
   ],
   "source": [
    "df1.plot.scatter(x=\"DIS\",y=\"RAD\")"
   ]
  },
  {
   "cell_type": "code",
   "execution_count": null,
   "id": "8dd454b3",
   "metadata": {},
   "outputs": [],
   "source": []
  }
 ],
 "metadata": {
  "kernelspec": {
   "display_name": "Python 3.8.8 64-bit ('base': conda)",
   "language": "python",
   "name": "python388jvsc74a57bd02c7ffa9c538f0bfb5740c89a215bcbde02033924243f3d233f0c9916449df403"
  },
  "language_info": {
   "codemirror_mode": {
    "name": "ipython",
    "version": 3
   },
   "file_extension": ".py",
   "mimetype": "text/x-python",
   "name": "python",
   "nbconvert_exporter": "python",
   "pygments_lexer": "ipython3",
   "version": "3.8.8"
  }
 },
 "nbformat": 4,
 "nbformat_minor": 5
}
