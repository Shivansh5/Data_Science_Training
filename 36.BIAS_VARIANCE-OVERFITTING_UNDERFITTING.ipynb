{
 "cells": [
  {
   "cell_type": "markdown",
   "id": "a405d1b3",
   "metadata": {},
   "source": [
    "# BIAS:- The inablity of a machine learning model to truly capture the relationship in the traing data is called BIAS. Means a machine learning model is not capable to find pattern in traing data we called it BIAS.\n",
    "##### IN HINDI \n",
    "##### Training डेटा में relationshipको सही मायने में पकड़ने के लिए  machine learnnig model की अक्षमता को BIAS कहा जाता है\\ इसका मतलब है कि machine learnnig modeltraining डेटा में पैटर्न खोजने में सक्षम नहीं है जिसे हम इसे BIAS कहते हैं।"
   ]
  },
  {
   "cell_type": "markdown",
   "id": "43e45816",
   "metadata": {},
   "source": [
    "# Variance :- Variance is basically difference of fits on different dataset,means if  you have two different set of dataset, in one set you do train and other you do test, Let say in training you find an error 10% and in test data you find an error 50%,Now your variance is 40, Means in between two dataset difference of error is 40, that is nothing but a variance.\n",
    "\n",
    "### Generalization:- Generalization refers to how well the concepts learned by a machine learning model apply to specific examples not seen by the model when it was learning."
   ]
  },
  {
   "cell_type": "markdown",
   "id": "dfeddee7",
   "metadata": {},
   "source": [
    "<img src=\"https://static.javatpoint.com/tutorial/machine-learning/images/bias-and-variance-in-machine-learning3.png\"  />"
   ]
  },
  {
   "cell_type": "markdown",
   "id": "c420348f",
   "metadata": {},
   "source": [
    "<img src=\"ML.jpg\" width=300/>"
   ]
  },
  {
   "cell_type": "markdown",
   "id": "2e6b54cb",
   "metadata": {},
   "source": [
    "### Overfitting:- Low BIAS , High Variance \n",
    "### Underfitting:- High BIAS, Low Varience"
   ]
  },
  {
   "cell_type": "markdown",
   "id": "dea5a352",
   "metadata": {},
   "source": [
    "# Overfitting:- When machine learning model very well work on trainging data but in test data it not work ver well, means training error very extremly low,but test error high,so difference is very high between these two error.\n",
    "### Overfitting  occur:- 1. Because of a lot more of data. 2. When the model fits the data to well.\n",
    "\n",
    "# Underfitting:- Underfitting is a scenario  where a machine learning model is unable to capture the relationship between the input and output variables accurately, generating a high error rate on both the training set and unseen data.\n",
    "\n",
    "### Underfitting occur:-  1. Due to lack(कमी) of data. 2. When we try to build a linear model with non-linear data"
   ]
  },
  {
   "cell_type": "markdown",
   "id": "0337a2e1",
   "metadata": {},
   "source": [
    "# Q. what accuracy is considered overfitting\n",
    "## ANS:- If our model does much better on the training set than on the test set, then we're likely overfitting. For example, it would be a big red flag if our model saw 99% accuracy on the training set but only 55% accuracy on the test set."
   ]
  },
  {
   "cell_type": "markdown",
   "id": "5b32d17c",
   "metadata": {},
   "source": [
    "<img src=\"https://i0.wp.com/neptune.ai/wp-content/uploads/Model-optimization-process.gif\"  width=250/>"
   ]
  },
  {
   "cell_type": "code",
   "execution_count": null,
   "id": "079650ee",
   "metadata": {},
   "outputs": [],
   "source": []
  }
 ],
 "metadata": {
  "kernelspec": {
   "display_name": "Python 3.8.8 64-bit ('base': conda)",
   "language": "python",
   "name": "python388jvsc74a57bd02c7ffa9c538f0bfb5740c89a215bcbde02033924243f3d233f0c9916449df403"
  },
  "language_info": {
   "codemirror_mode": {
    "name": "ipython",
    "version": 3
   },
   "file_extension": ".py",
   "mimetype": "text/x-python",
   "name": "python",
   "nbconvert_exporter": "python",
   "pygments_lexer": "ipython3",
   "version": "3.8.8"
  }
 },
 "nbformat": 4,
 "nbformat_minor": 5
}
