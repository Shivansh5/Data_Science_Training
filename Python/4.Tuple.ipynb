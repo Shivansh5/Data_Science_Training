{
 "cells": [
  {
   "cell_type": "markdown",
   "id": "3d5a813f",
   "metadata": {},
   "source": [
    "# -Mutable ---> List/Set/Dictionary  (Es tin data type chor kr sb Immutable hota hain, means en sbhi ko aap memory me use jagah me rakh kr edit nahi kr skte agar aap edit karoge to add change hoga mtln naya object create hoga).<br><br>-Immutable ---> String/tuple/int/float/Boolean/complex."
   ]
  },
  {
   "cell_type": "markdown",
   "id": "46c0c274",
   "metadata": {},
   "source": [
    "## What is tuple <br>List vs array<br>Create a list<br>Access<br>Edit<br>Add <br>Delete<br>Operation<br>Function<br>"
   ]
  },
  {
   "cell_type": "code",
   "execution_count": 4,
   "id": "ef098b03",
   "metadata": {},
   "outputs": [
    {
     "data": {
      "text/plain": [
       "()"
      ]
     },
     "execution_count": 4,
     "metadata": {},
     "output_type": "execute_result"
    }
   ],
   "source": [
    "t=()\n",
    "t"
   ]
  },
  {
   "cell_type": "code",
   "execution_count": 6,
   "id": "5c7de9b3",
   "metadata": {},
   "outputs": [
    {
     "data": {
      "text/plain": [
       "tuple"
      ]
     },
     "execution_count": 6,
     "metadata": {},
     "output_type": "execute_result"
    }
   ],
   "source": [
    "type(t)"
   ]
  },
  {
   "cell_type": "code",
   "execution_count": 7,
   "id": "e9a2a503",
   "metadata": {},
   "outputs": [
    {
     "data": {
      "text/plain": [
       "(1, 2, 3, 4, 5)"
      ]
     },
     "execution_count": 7,
     "metadata": {},
     "output_type": "execute_result"
    }
   ],
   "source": [
    "t1=(1,2,3,4,5)\n",
    "t1"
   ]
  },
  {
   "cell_type": "code",
   "execution_count": 8,
   "id": "75e2b7e3",
   "metadata": {},
   "outputs": [],
   "source": [
    "t1=(1,2,3,4,(5,6))"
   ]
  },
  {
   "cell_type": "code",
   "execution_count": 12,
   "id": "9193de33",
   "metadata": {},
   "outputs": [
    {
     "name": "stdout",
     "output_type": "stream",
     "text": [
      "(1, 2, 3, 4, (5, 6))\n"
     ]
    },
    {
     "data": {
      "text/plain": [
       "tuple"
      ]
     },
     "execution_count": 12,
     "metadata": {},
     "output_type": "execute_result"
    }
   ],
   "source": [
    "print(t1)\n",
    "type(t1)"
   ]
  },
  {
   "cell_type": "code",
   "execution_count": 14,
   "id": "c9bc8024",
   "metadata": {},
   "outputs": [
    {
     "name": "stdout",
     "output_type": "stream",
     "text": [
      "(1, 2, 3, 4, 5, 'Shivansh')\n"
     ]
    },
    {
     "data": {
      "text/plain": [
       "tuple"
      ]
     },
     "execution_count": 14,
     "metadata": {},
     "output_type": "execute_result"
    }
   ],
   "source": [
    "t2=(1,2,3,4,5,\"Shivansh\")\n",
    "print(t2)\n",
    "type(t2)"
   ]
  },
  {
   "cell_type": "code",
   "execution_count": 16,
   "id": "d9d27a6b",
   "metadata": {},
   "outputs": [
    {
     "name": "stdout",
     "output_type": "stream",
     "text": [
      "1\n"
     ]
    },
    {
     "data": {
      "text/plain": [
       "int"
      ]
     },
     "execution_count": 16,
     "metadata": {},
     "output_type": "execute_result"
    }
   ],
   "source": [
    "# Single item is not tuple\n",
    "t3=(1)\n",
    "print(t3)\n",
    "type(t3)"
   ]
  },
  {
   "cell_type": "code",
   "execution_count": 17,
   "id": "a177761d",
   "metadata": {},
   "outputs": [
    {
     "name": "stdout",
     "output_type": "stream",
     "text": [
      "Raju\n"
     ]
    },
    {
     "data": {
      "text/plain": [
       "str"
      ]
     },
     "execution_count": 17,
     "metadata": {},
     "output_type": "execute_result"
    }
   ],
   "source": [
    "t4=(\"Raju\")\n",
    "print(t4)\n",
    "type(t4)"
   ]
  },
  {
   "cell_type": "markdown",
   "id": "7c722068",
   "metadata": {},
   "source": [
    "- How to make single item tuple. \n",
    "    -  Just put , after one item"
   ]
  },
  {
   "cell_type": "code",
   "execution_count": 19,
   "id": "640a54ef",
   "metadata": {},
   "outputs": [
    {
     "name": "stdout",
     "output_type": "stream",
     "text": [
      "(1,)\n"
     ]
    },
    {
     "data": {
      "text/plain": [
       "tuple"
      ]
     },
     "execution_count": 19,
     "metadata": {},
     "output_type": "execute_result"
    }
   ],
   "source": [
    "t5=(1,)\n",
    "print(t5)\n",
    "type(t5)"
   ]
  },
  {
   "cell_type": "code",
   "execution_count": 58,
   "id": "508516ab",
   "metadata": {},
   "outputs": [
    {
     "name": "stdout",
     "output_type": "stream",
     "text": [
      "('P', 'a', 't', 'n', 'a')\n"
     ]
    },
    {
     "data": {
      "text/plain": [
       "tuple"
      ]
     },
     "execution_count": 58,
     "metadata": {},
     "output_type": "execute_result"
    }
   ],
   "source": [
    "t6 = tuple(\"Patna\",)\n",
    "print(t6)\n",
    "type(t6)"
   ]
  },
  {
   "cell_type": "code",
   "execution_count": 55,
   "id": "c9f73f21",
   "metadata": {},
   "outputs": [
    {
     "ename": "SyntaxError",
     "evalue": "invalid syntax (156189164.py, line 1)",
     "output_type": "error",
     "traceback": [
      "\u001b[0;36m  File \u001b[0;32m\"/tmp/ipykernel_74673/156189164.py\"\u001b[0;36m, line \u001b[0;32m1\u001b[0m\n\u001b[0;31m    t=(,)\u001b[0m\n\u001b[0m       ^\u001b[0m\n\u001b[0;31mSyntaxError\u001b[0m\u001b[0;31m:\u001b[0m invalid syntax\n"
     ]
    }
   ],
   "source": [
    "t=(,)"
   ]
  },
  {
   "cell_type": "code",
   "execution_count": 26,
   "id": "cc8c66f4",
   "metadata": {},
   "outputs": [
    {
     "name": "stdout",
     "output_type": "stream",
     "text": [
      "P\n",
      "a\n",
      "('P', 'a', 't', 'n', 'a')\n"
     ]
    }
   ],
   "source": [
    "print(t6[0])\n",
    "print(t6[-1])\n",
    "print(t6[0:5])"
   ]
  },
  {
   "cell_type": "markdown",
   "id": "b5589708",
   "metadata": {},
   "source": [
    "# Difference between tuple and list.<br> Tuple are immutable(We are not able to change the item inside the tuple),Where List are mutable means We are able to change the item inside the list."
   ]
  },
  {
   "cell_type": "code",
   "execution_count": 30,
   "id": "6cc57abc",
   "metadata": {},
   "outputs": [
    {
     "data": {
      "text/plain": [
       "(1, 2, 3, 4, (5, 6))"
      ]
     },
     "execution_count": 30,
     "metadata": {},
     "output_type": "execute_result"
    }
   ],
   "source": [
    "t1"
   ]
  },
  {
   "cell_type": "code",
   "execution_count": 31,
   "id": "af16a7cc",
   "metadata": {},
   "outputs": [
    {
     "ename": "TypeError",
     "evalue": "'tuple' object does not support item assignment",
     "output_type": "error",
     "traceback": [
      "\u001b[0;31m---------------------------------------------------------------------------\u001b[0m",
      "\u001b[0;31mTypeError\u001b[0m                                 Traceback (most recent call last)",
      "\u001b[0;32m/tmp/ipykernel_74673/2729251242.py\u001b[0m in \u001b[0;36m<module>\u001b[0;34m\u001b[0m\n\u001b[0;32m----> 1\u001b[0;31m \u001b[0mt1\u001b[0m\u001b[0;34m[\u001b[0m\u001b[0;36m0\u001b[0m\u001b[0;34m]\u001b[0m\u001b[0;34m=\u001b[0m\u001b[0;36m1\u001b[0m\u001b[0;34m\u001b[0m\u001b[0;34m\u001b[0m\u001b[0m\n\u001b[0m",
      "\u001b[0;31mTypeError\u001b[0m: 'tuple' object does not support item assignment"
     ]
    }
   ],
   "source": [
    "t1[0]=1"
   ]
  },
  {
   "cell_type": "markdown",
   "id": "7b952517",
   "metadata": {},
   "source": [
    "- We can't add new item inside tuple"
   ]
  },
  {
   "cell_type": "code",
   "execution_count": 32,
   "id": "b613bfe5",
   "metadata": {},
   "outputs": [],
   "source": [
    "# Add=No"
   ]
  },
  {
   "cell_type": "code",
   "execution_count": 33,
   "id": "dea8e00e",
   "metadata": {},
   "outputs": [
    {
     "data": {
      "text/plain": [
       "('P', 'a', 't', 'n', 'a')"
      ]
     },
     "execution_count": 33,
     "metadata": {},
     "output_type": "execute_result"
    }
   ],
   "source": [
    "t6"
   ]
  },
  {
   "cell_type": "code",
   "execution_count": 34,
   "id": "e8baf5f8",
   "metadata": {},
   "outputs": [],
   "source": [
    "del t6"
   ]
  },
  {
   "cell_type": "code",
   "execution_count": 35,
   "id": "d178e1ec",
   "metadata": {},
   "outputs": [
    {
     "ename": "NameError",
     "evalue": "name 't6' is not defined",
     "output_type": "error",
     "traceback": [
      "\u001b[0;31m---------------------------------------------------------------------------\u001b[0m",
      "\u001b[0;31mNameError\u001b[0m                                 Traceback (most recent call last)",
      "\u001b[0;32m/tmp/ipykernel_74673/2192863500.py\u001b[0m in \u001b[0;36m<module>\u001b[0;34m\u001b[0m\n\u001b[0;32m----> 1\u001b[0;31m \u001b[0mt6\u001b[0m\u001b[0;34m\u001b[0m\u001b[0;34m\u001b[0m\u001b[0m\n\u001b[0m",
      "\u001b[0;31mNameError\u001b[0m: name 't6' is not defined"
     ]
    }
   ],
   "source": [
    "t6"
   ]
  },
  {
   "cell_type": "markdown",
   "id": "e0a60ecd",
   "metadata": {},
   "source": [
    "- We can't add delete specific item inside tuple."
   ]
  },
  {
   "cell_type": "code",
   "execution_count": 46,
   "id": "488f289f",
   "metadata": {},
   "outputs": [
    {
     "data": {
      "text/plain": [
       "(1, 2, 3, 4, (5, 6))"
      ]
     },
     "execution_count": 46,
     "metadata": {},
     "output_type": "execute_result"
    }
   ],
   "source": [
    "t1"
   ]
  },
  {
   "cell_type": "code",
   "execution_count": 47,
   "id": "79bf987d",
   "metadata": {},
   "outputs": [
    {
     "ename": "TypeError",
     "evalue": "'tuple' object doesn't support item deletion",
     "output_type": "error",
     "traceback": [
      "\u001b[0;31m---------------------------------------------------------------------------\u001b[0m",
      "\u001b[0;31mTypeError\u001b[0m                                 Traceback (most recent call last)",
      "\u001b[0;32m/tmp/ipykernel_74673/2661958664.py\u001b[0m in \u001b[0;36m<module>\u001b[0;34m\u001b[0m\n\u001b[0;32m----> 1\u001b[0;31m \u001b[0;32mdel\u001b[0m \u001b[0mt1\u001b[0m\u001b[0;34m[\u001b[0m\u001b[0;36m0\u001b[0m\u001b[0;34m]\u001b[0m\u001b[0;34m\u001b[0m\u001b[0;34m\u001b[0m\u001b[0m\n\u001b[0m",
      "\u001b[0;31mTypeError\u001b[0m: 'tuple' object doesn't support item deletion"
     ]
    }
   ],
   "source": [
    "del t1[0]"
   ]
  },
  {
   "cell_type": "code",
   "execution_count": 48,
   "id": "ed93fc43",
   "metadata": {},
   "outputs": [
    {
     "data": {
      "text/plain": [
       "(1, 2, 3, 4, (5, 6), 1, 2, 3, 4, 5, 'Shivansh')"
      ]
     },
     "execution_count": 48,
     "metadata": {},
     "output_type": "execute_result"
    }
   ],
   "source": [
    "t1+t2"
   ]
  },
  {
   "cell_type": "code",
   "execution_count": 49,
   "id": "00715d9a",
   "metadata": {},
   "outputs": [
    {
     "data": {
      "text/plain": [
       "(1, 2, 3, 4, (5, 6), 1, 2, 3, 4, (5, 6))"
      ]
     },
     "execution_count": 49,
     "metadata": {},
     "output_type": "execute_result"
    }
   ],
   "source": [
    "t1*2"
   ]
  },
  {
   "cell_type": "code",
   "execution_count": 50,
   "id": "d2ccc48e",
   "metadata": {},
   "outputs": [
    {
     "name": "stdout",
     "output_type": "stream",
     "text": [
      "1\n",
      "2\n",
      "3\n",
      "4\n",
      "(5, 6)\n"
     ]
    }
   ],
   "source": [
    "for i in t1:\n",
    "    print(i)"
   ]
  },
  {
   "cell_type": "markdown",
   "id": "6f394ad7",
   "metadata": {},
   "source": [
    "# Tuple is read only data types."
   ]
  },
  {
   "cell_type": "markdown",
   "id": "dfe96db6",
   "metadata": {},
   "source": [
    "- Jb data ka integriry(ईमानदारी)important ho un scenario me hum Tuple use krte hain."
   ]
  },
  {
   "cell_type": "markdown",
   "id": "937fd01c",
   "metadata": {},
   "source": [
    "## A tuple refers to a collection of objects in python which are ordered and can’t be changed. The python objects here may be strings, lists, tuples, integers etc."
   ]
  },
  {
   "cell_type": "markdown",
   "id": "f65e6f68",
   "metadata": {},
   "source": [
    "# Real World Example of Tuple.❤️<br> You can use a Tuple to store the latitude and longitude of your home."
   ]
  },
  {
   "cell_type": "markdown",
   "id": "6d40d309",
   "metadata": {},
   "source": [
    "<img src=\"data:image/jpeg;base64,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\" />"
   ]
  },
  {
   "cell_type": "code",
   "execution_count": 56,
   "id": "2160a392",
   "metadata": {},
   "outputs": [
    {
     "data": {
      "text/plain": [
       "True"
      ]
     },
     "execution_count": 56,
     "metadata": {},
     "output_type": "execute_result"
    }
   ],
   "source": [
    "1.2000000000000001 > 1.2 "
   ]
  },
  {
   "cell_type": "code",
   "execution_count": null,
   "id": "6531472a",
   "metadata": {},
   "outputs": [],
   "source": []
  }
 ],
 "metadata": {
  "kernelspec": {
   "display_name": "Python 3.8.8 64-bit ('base': conda)",
   "language": "python",
   "name": "python388jvsc74a57bd02c7ffa9c538f0bfb5740c89a215bcbde02033924243f3d233f0c9916449df403"
  },
  "language_info": {
   "codemirror_mode": {
    "name": "ipython",
    "version": 3
   },
   "file_extension": ".py",
   "mimetype": "text/x-python",
   "name": "python",
   "nbconvert_exporter": "python",
   "pygments_lexer": "ipython3",
   "version": "3.8.8"
  }
 },
 "nbformat": 4,
 "nbformat_minor": 5
}
