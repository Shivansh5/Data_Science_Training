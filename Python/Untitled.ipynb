{
 "cells": [
  {
   "cell_type": "markdown",
   "id": "b129bc66",
   "metadata": {},
   "source": [
    "# Kubernetes is a container management technology developed by Google  to manage containerized applications in different kind of environments such as physical, virtual(Virtual Machine), and cloud infrastructure.It is  also used to automate the deployment, scaling, and operations of the container-based applications across the cluster of nodes."
   ]
  },
  {
   "cell_type": "markdown",
   "id": "00d059ca",
   "metadata": {},
   "source": [
    "# Container actually offer the perfact host for samll independent application like microservices.\n",
    "# MicroServices:- Micro Service is an architecture that allows the developers to develop and deploy services independently. Each service running has its own process and this achieves the lightweight model to support business applications."
   ]
  },
  {
   "cell_type": "markdown",
   "id": "44958496",
   "metadata": {},
   "source": [
    "# Kubernetes offer High Availablity or no downtime and Scalablity which means you can scale your application fast when you have more load on it and more users are trying to access it and same way you can easily scale it down when the load goes down,So it makes your application more flexible to adjust to the increasing or decreasing load.and last one is disaster recovery which basically means that if an infrastructure has some problem like data is lost or the server explode or something bad happens with the services center the infrastructure has to have some kind of machanism to back-up the data and to restore it to the latest state,So that application doesn't lose any data and the containerized application can run from the latest state after the recovery "
   ]
  },
  {
   "cell_type": "markdown",
   "id": "96a57597",
   "metadata": {},
   "source": [
    "<img src=\"https://www.tutorialspoint.com/kubernetes/images/cluster_architecture.jpg\" />"
   ]
  },
  {
   "cell_type": "markdown",
   "id": "88311872",
   "metadata": {},
   "source": [
    "# Cluster:- A Kubernetes cluster is a set of node machines for running containerized applications.\n",
    "# Node:-A node is a working machine in Kubernetes cluster."
   ]
  },
  {
   "cell_type": "markdown",
   "id": "70f15e88",
   "metadata": {},
   "source": [
    "# the kubernetes cluster is made up with at least one master node and then connected to it  a couple of worker nodes where each node has a kubelet process running on it and kubelet is actually a kubernetes process that makes it possible for the cluster to talk to each other  and  execute some tasks on those nodes like running application processes.<br><br> Each worker node has containers of different applications deployed on it, so depending on how the workload is distributed you would have different number of docker containers running on worker nodes and worker nodes are where the actual work is happening, so in worker node  your applications are running so the question is what is running on masternode.<br><br> Master node actually runs several kubernetes processes that are absolutely necessary to run and manage the cluster properly one of such processes is an api server which also is a container, an api server is actually the entry point to the kubernetes cluster so this is the process which the different kubernetes clients will talk to like ui. if you're using kubernetes dashboard, if you're using some scripts and automating technologies and a command line tool so all of these will talk to the api server.<br><br> Another process that is running on master node is a controller manager, which basically keeps an overview of what's happening in the cluster whether something needs to be repaired or maybe if a container died and it needs to be restarted etc<br><br>And another one is <b>scheduler</b> which is basically responsible for scheduling containers on different nodes based on the workload and the available server resources on each node. another very important component of the whole cluster is an <b>etcd key value storage </b> which basically holds at  any time the current state of the  kubernetes cluster so it has all the  configuration data inside  and all the status data of each node and  each container inside of that node and  the backup and restore  is actually made from these  etcd snapshots because you can recover  the whole cluster state using that etcd  snapshot<br><br> And last but not least also a  very important component of kubernetes is virtual network,  virtual network actually  turns  all the nodes inside of a cluster into  one powerful machine that has the sum of  all the resources of individual nodes.<br><br>In production  environments usually you would have at  least two masters inside of your  kubernetes cluster but in more cases of  course you're going to have multiple  musters where if one muster node  is down the cluster continues to  function smoothly because you have other  masters available."
   ]
  },
  {
   "cell_type": "markdown",
   "id": "fcf7d7c0",
   "metadata": {},
   "source": [
    "# Virtual Network == Create one unified machine."
   ]
  },
  {
   "cell_type": "markdown",
   "id": "a7104f62",
   "metadata": {},
   "source": [
    "<img src=\"1.png\" width=700/>"
   ]
  },
  {
   "cell_type": "markdown",
   "id": "3abce91b",
   "metadata": {},
   "source": [
    "<img src=\"2.png\" width=700/>"
   ]
  },
  {
   "cell_type": "markdown",
   "id": "fed4e428",
   "metadata": {},
   "source": [
    "<img src=\"3.png\" width=700/>"
   ]
  },
  {
   "cell_type": "markdown",
   "id": "850283b4",
   "metadata": {},
   "source": [
    "<img src=\"4.png\" width=700/>"
   ]
  },
  {
   "cell_type": "markdown",
   "id": "dc153c4d",
   "metadata": {},
   "source": [
    "# Pod:- A pod is a smallest unit in kubernetes and also it is collection of containers and its store inside a node of a Kubernetes cluster. It is possible to create a pod with multiple containers inside it. For example, keeping a database container and data container in the same pod."
   ]
  },
  {
   "cell_type": "code",
   "execution_count": null,
   "id": "a5a76d53",
   "metadata": {},
   "outputs": [],
   "source": []
  }
 ],
 "metadata": {
  "kernelspec": {
   "display_name": "Python 3.8.8 64-bit ('base': conda)",
   "language": "python",
   "name": "python388jvsc74a57bd02c7ffa9c538f0bfb5740c89a215bcbde02033924243f3d233f0c9916449df403"
  },
  "language_info": {
   "codemirror_mode": {
    "name": "ipython",
    "version": 3
   },
   "file_extension": ".py",
   "mimetype": "text/x-python",
   "name": "python",
   "nbconvert_exporter": "python",
   "pygments_lexer": "ipython3",
   "version": "3.8.8"
  }
 },
 "nbformat": 4,
 "nbformat_minor": 5
}
