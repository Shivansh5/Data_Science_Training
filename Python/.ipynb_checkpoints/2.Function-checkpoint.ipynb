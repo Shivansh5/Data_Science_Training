{
 "cells": [
  {
   "cell_type": "markdown",
   "id": "5ee462b6",
   "metadata": {},
   "source": [
    "<img src=\"https://miro.medium.com/max/480/1*VUyIDho2BcT2OLsy-jPsGA.gif\" />"
   ]
  },
  {
   "cell_type": "markdown",
   "id": "8a26d1b3",
   "metadata": {},
   "source": [
    "# Functions:-A function is a block of code which only runs when it is called.<br>Parameter:-A Parameter is the function input specified in the function defination.<br>Arguments:- An Argument is the data being passed to the function call.<br> <img src=\"data:image/png;base64,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\"/>"
   ]
  },
  {
   "cell_type": "markdown",
   "id": "7b025860",
   "metadata": {},
   "source": [
    "# The function has two main philosophies (view)\n",
    "- Abstraction :-Abstraction in Python is the process of hiding the real implementation of an application from the user and emphasizing only on usage of it.<br><img src=\"https://i.pinimg.com/564x/ad/d9/7d/add97d8257fa036f00b012b444c0ab8d.jpg\" width=100/>\n",
    "- Decomposition <br><img src=\"https://digitaltouchsystems.com/wp-content/uploads/2014/02/DSC00201-600x400.jpg\" width=100/>"
   ]
  },
  {
   "cell_type": "markdown",
   "id": "537d5986",
   "metadata": {},
   "source": [
    "<img src=\"https://lh3.googleusercontent.com/NTt0M4Nexh-hXu2FDM9z152eEJfDVtPN5NoqvTgcg0S2gocVqmPs4TUCFJNIg2yVBPhaGQ=s136\" width=250 />"
   ]
  },
  {
   "cell_type": "markdown",
   "id": "21478fc9",
   "metadata": {},
   "source": [
    "- def is a keywork using which we can define a function."
   ]
  },
  {
   "cell_type": "markdown",
   "id": "348cbddb",
   "metadata": {},
   "source": [
    "<img src=\"https://lucdn.letsupgrade.net/Million_Min_Watched_7c8d4849d0.webp\" width=200/>"
   ]
  },
  {
   "cell_type": "code",
   "execution_count": 45,
   "id": "7a690d67",
   "metadata": {},
   "outputs": [
    {
     "name": "stdout",
     "output_type": "stream",
     "text": [
      "Even: 6\n",
      "odd:  7\n"
     ]
    }
   ],
   "source": [
    "# Create a function using which we can check given number is even or odd.\n",
    "def even_odd(number):\n",
    "    \"\"\"This Function teels the given number is even or odd.\n",
    "        input:- Any valid Integer\n",
    "        output:- Even or Odd\n",
    "        Created by:-Shivansh\n",
    "        Last Edited:- 16 Jan 2022. \n",
    "    \"\"\"\n",
    "    if number%2==0:\n",
    "        print(\"Even:\",number)\n",
    "    else:\n",
    "        print(\"odd: \",number)\n",
    "        \n",
    "even_odd(6)\n",
    "even_odd(7)"
   ]
  },
  {
   "cell_type": "code",
   "execution_count": 44,
   "id": "b15fb1a8",
   "metadata": {},
   "outputs": [
    {
     "name": "stdout",
     "output_type": "stream",
     "text": [
      "Even: 6\n",
      "None\n",
      "Odd: 7\n",
      "None\n"
     ]
    }
   ],
   "source": [
    "def even_odd(number):\n",
    "    \"\"\"This Function teels the given number is even or odd.\n",
    "        input:- Any valid Integer\n",
    "        output:- Even or Odd\n",
    "        Created by:-Shivansh\n",
    "        Last Edited:- 16 Jan 2022. \n",
    "    \"\"\"\n",
    "    if number%2==0:\n",
    "        print(\"Even:\",number)\n",
    "    else:\n",
    "        print(\"Odd:\",number)\n",
    "        \n",
    "print(even_odd(6))\n",
    "print(even_odd(7))\n",
    "\n",
    "# If funtion doesn't return anything then it return bydefault NONE."
   ]
  },
  {
   "cell_type": "code",
   "execution_count": 46,
   "id": "035552ee",
   "metadata": {},
   "outputs": [
    {
     "name": "stdout",
     "output_type": "stream",
     "text": [
      "odd:  1\n",
      "Even: 2\n",
      "odd:  3\n",
      "Even: 4\n",
      "odd:  5\n",
      "Even: 6\n",
      "odd:  7\n",
      "Even: 8\n",
      "odd:  9\n",
      "Even: 10\n"
     ]
    }
   ],
   "source": [
    "for i in range(1,11):\n",
    "    even_odd(i,)"
   ]
  },
  {
   "cell_type": "code",
   "execution_count": 47,
   "id": "34911a3a",
   "metadata": {},
   "outputs": [
    {
     "name": "stdout",
     "output_type": "stream",
     "text": [
      "This Function teels the given number is even or odd.\n",
      "        input:- Any valid Integer\n",
      "        output:- Even or Odd\n",
      "        Created by:-Shivansh\n",
      "        Last Edited:- 16 Jan 2022. \n",
      "    \n"
     ]
    }
   ],
   "source": [
    "print(even_odd.__doc__)"
   ]
  },
  {
   "cell_type": "code",
   "execution_count": 48,
   "id": "9631cf37",
   "metadata": {},
   "outputs": [
    {
     "name": "stdout",
     "output_type": "stream",
     "text": [
      "print(value, ..., sep=' ', end='\\n', file=sys.stdout, flush=False)\n",
      "\n",
      "Prints the values to a stream, or to sys.stdout by default.\n",
      "Optional keyword arguments:\n",
      "file:  a file-like object (stream); defaults to the current sys.stdout.\n",
      "sep:   string inserted between values, default a space.\n",
      "end:   string appended after the last value, default a newline.\n",
      "flush: whether to forcibly flush the stream.\n"
     ]
    }
   ],
   "source": [
    "print(print.__doc__)"
   ]
  },
  {
   "cell_type": "markdown",
   "id": "30990de2",
   "metadata": {},
   "source": [
    "- Visual Representation:-\n",
    "https://pythontutor.com/live.html#code=def%20even_odd%28number%29%3A%0A%20%20%20%20if%20number%252%3D%3D0%3A%0A%20%20%20%20%20%20%20%20print%28%22Even%22%29%0A%20%20%20%20else%3A%0A%20%20%20%20%20%20%20%20print%28%22odd%22%29%0A%20%20%20%20%20%20%20%20%0Aprint%28even_odd%286%29%29%0Aprint%28even_odd%287%29%29&cumulative=false&curInstr=0&heapPrimitives=nevernest&mode=display&origin=opt-live.js&py=3&rawInputLstJSON=%5B%5D&textReferences=false"
   ]
  },
  {
   "cell_type": "markdown",
   "id": "99b26fd6",
   "metadata": {},
   "source": [
    "# Created your own module and use it->\n",
    "- step1:-Just write function.\n",
    "- step2:- Go to the your python install location and go inside lib folder and save the file with .py extension.\n",
    "- step3:- Come in jupyter notebook and just type import file_name(That you saved with .py )"
   ]
  },
  {
   "cell_type": "code",
   "execution_count": 88,
   "id": "4b7c8350",
   "metadata": {},
   "outputs": [],
   "source": [
    "import evenodd as eo"
   ]
  },
  {
   "cell_type": "code",
   "execution_count": 89,
   "id": "0bd18c25",
   "metadata": {},
   "outputs": [
    {
     "ename": "TypeError",
     "evalue": "not all arguments converted during string formatting",
     "output_type": "error",
     "traceback": [
      "\u001b[0;31m---------------------------------------------------------------------------\u001b[0m",
      "\u001b[0;31mTypeError\u001b[0m                                 Traceback (most recent call last)",
      "\u001b[0;32m/tmp/ipykernel_156167/4059035852.py\u001b[0m in \u001b[0;36m<module>\u001b[0;34m\u001b[0m\n\u001b[0;32m----> 1\u001b[0;31m \u001b[0meo\u001b[0m\u001b[0;34m.\u001b[0m\u001b[0meven_odd\u001b[0m\u001b[0;34m(\u001b[0m\u001b[0;34m\"hello\"\u001b[0m\u001b[0;34m)\u001b[0m\u001b[0;34m\u001b[0m\u001b[0;34m\u001b[0m\u001b[0m\n\u001b[0m",
      "\u001b[0;32m~/anaconda3/lib/python3.8/evenodd.py\u001b[0m in \u001b[0;36meven_odd\u001b[0;34m(number)\u001b[0m\n\u001b[1;32m      6\u001b[0m             \u001b[0mCreated\u001b[0m \u001b[0mby\u001b[0m\u001b[0;34m:\u001b[0m\u001b[0;34m-\u001b[0m\u001b[0mShivansh\u001b[0m\u001b[0;34m\u001b[0m\u001b[0;34m\u001b[0m\u001b[0m\n\u001b[1;32m      7\u001b[0m             \u001b[0mLast\u001b[0m \u001b[0mEdited\u001b[0m\u001b[0;34m:\u001b[0m\u001b[0;34m-\u001b[0m \u001b[0;36m16\u001b[0m \u001b[0mJan\u001b[0m \u001b[0;36m2022.\u001b[0m\u001b[0;34m\u001b[0m\u001b[0;34m\u001b[0m\u001b[0m\n\u001b[0;32m----> 8\u001b[0;31m         \"\"\"\n\u001b[0m\u001b[1;32m      9\u001b[0m         \u001b[0;32mif\u001b[0m \u001b[0mnumber\u001b[0m\u001b[0;34m%\u001b[0m\u001b[0;36m2\u001b[0m\u001b[0;34m==\u001b[0m\u001b[0;36m0\u001b[0m\u001b[0;34m:\u001b[0m\u001b[0;34m\u001b[0m\u001b[0;34m\u001b[0m\u001b[0m\n\u001b[1;32m     10\u001b[0m             \u001b[0mprint\u001b[0m\u001b[0;34m(\u001b[0m\u001b[0;34m\"Even:\"\u001b[0m\u001b[0;34m,\u001b[0m\u001b[0mnumber\u001b[0m\u001b[0;34m)\u001b[0m\u001b[0;34m\u001b[0m\u001b[0;34m\u001b[0m\u001b[0m\n",
      "\u001b[0;31mTypeError\u001b[0m: not all arguments converted during string formatting"
     ]
    }
   ],
   "source": [
    "eo.even_odd(\"hello\")"
   ]
  },
  {
   "cell_type": "code",
   "execution_count": 73,
   "id": "6ef380ab",
   "metadata": {},
   "outputs": [
    {
     "name": "stdout",
     "output_type": "stream",
     "text": [
      "odd:  5\n"
     ]
    }
   ],
   "source": [
    "eo.even_odd(5)"
   ]
  },
  {
   "cell_type": "code",
   "execution_count": 90,
   "id": "d5d11de1",
   "metadata": {},
   "outputs": [],
   "source": [
    "def even_odd(number):\n",
    "    if type(number)==int:\n",
    "        \"\"\"This Function teels the given number is even or \t\t\t\t\t\t\todd.\n",
    "            input:- Any valid Integer\n",
    "            output:- Even or Odd\n",
    "            Created by:-Shivansh\n",
    "            Last Edited:- 16 Jan 2022. \n",
    "        \"\"\"\n",
    "        if number%2==0:\n",
    "            print(\"Even:\",number)\n",
    "        else:\n",
    "            print(\"odd: \",number)\n",
    "    else:\n",
    "        print(\"Only Support Interger\")"
   ]
  },
  {
   "cell_type": "code",
   "execution_count": 91,
   "id": "aaece356",
   "metadata": {},
   "outputs": [
    {
     "name": "stdout",
     "output_type": "stream",
     "text": [
      "Only Support Interger\n"
     ]
    }
   ],
   "source": [
    "even_odd(\"hello\")"
   ]
  },
  {
   "cell_type": "code",
   "execution_count": 92,
   "id": "1eaebb33",
   "metadata": {},
   "outputs": [
    {
     "name": "stdout",
     "output_type": "stream",
     "text": [
      "odd:  5\n"
     ]
    }
   ],
   "source": [
    "even_odd(5)"
   ]
  },
  {
   "cell_type": "code",
   "execution_count": null,
   "id": "1b7ff1ed",
   "metadata": {},
   "outputs": [],
   "source": []
  }
 ],
 "metadata": {
  "kernelspec": {
   "display_name": "Python 3.8.8 64-bit ('base': conda)",
   "language": "python",
   "name": "python388jvsc74a57bd02c7ffa9c538f0bfb5740c89a215bcbde02033924243f3d233f0c9916449df403"
  },
  "language_info": {
   "codemirror_mode": {
    "name": "ipython",
    "version": 3
   },
   "file_extension": ".py",
   "mimetype": "text/x-python",
   "name": "python",
   "nbconvert_exporter": "python",
   "pygments_lexer": "ipython3",
   "version": "3.8.8"
  }
 },
 "nbformat": 4,
 "nbformat_minor": 5
}
