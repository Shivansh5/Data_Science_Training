{
 "cells": [
  {
   "cell_type": "code",
   "execution_count": 1,
   "id": "f9c57ba9",
   "metadata": {},
   "outputs": [],
   "source": [
    "# What is list \n",
    "# List vs array\n",
    "# Create a list\n",
    "# Access\n",
    "# Edit\n",
    "# Add \n",
    "# Delete\n",
    "# Operation\n",
    "# Function"
   ]
  },
  {
   "cell_type": "code",
   "execution_count": 2,
   "id": "78f15835",
   "metadata": {},
   "outputs": [],
   "source": [
    "# Array are Homogenous  List can be Hetrogenous.\n",
    "# Array me continus memory location me chze store hoti hain jbki list me aisa nahi hota hain. jiske wagah se array is much faster then list.\n",
    "# List are more programmer friendly."
   ]
  },
  {
   "cell_type": "code",
   "execution_count": 15,
   "id": "5ace7cbb",
   "metadata": {},
   "outputs": [
    {
     "data": {
      "text/plain": [
       "[]"
      ]
     },
     "execution_count": 15,
     "metadata": {},
     "output_type": "execute_result"
    }
   ],
   "source": [
    "l=[]\n",
    "l "
   ]
  },
  {
   "cell_type": "code",
   "execution_count": 4,
   "id": "21108a7b",
   "metadata": {},
   "outputs": [
    {
     "data": {
      "text/plain": [
       "[1, 2, 3, 4, 5]"
      ]
     },
     "execution_count": 4,
     "metadata": {},
     "output_type": "execute_result"
    }
   ],
   "source": [
    "l=[1,2,3,4,5]\n",
    "l"
   ]
  },
  {
   "cell_type": "code",
   "execution_count": 6,
   "id": "af9684cb",
   "metadata": {},
   "outputs": [
    {
     "data": {
      "text/plain": [
       "[1, 'Shivansh', 'deyshivam6@gmail.com', True]"
      ]
     },
     "execution_count": 6,
     "metadata": {},
     "output_type": "execute_result"
    }
   ],
   "source": [
    "l=[1,\"Shivansh\",\"deyshivam6@gmail.com\",True]\n",
    "l"
   ]
  },
  {
   "cell_type": "code",
   "execution_count": 8,
   "id": "3fc3ecee",
   "metadata": {},
   "outputs": [
    {
     "data": {
      "text/plain": [
       "[1, 2, 3, [4, 5]]"
      ]
     },
     "execution_count": 8,
     "metadata": {},
     "output_type": "execute_result"
    }
   ],
   "source": [
    "# Multi-dim list\n",
    "# 2-D\n",
    "l=[1,2,3,[4,5]]\n",
    "l"
   ]
  },
  {
   "cell_type": "code",
   "execution_count": 21,
   "id": "21e6a7a0",
   "metadata": {},
   "outputs": [
    {
     "data": {
      "text/plain": [
       "[[[1, 2], [3, 4], [5]]]"
      ]
     },
     "execution_count": 21,
     "metadata": {},
     "output_type": "execute_result"
    }
   ],
   "source": [
    "# 3-D\n",
    "l=[[[1,2],[3,4],[5]]]\n",
    "l"
   ]
  },
  {
   "cell_type": "code",
   "execution_count": 23,
   "id": "75868365",
   "metadata": {},
   "outputs": [],
   "source": [
    "l = list(\"Patna\")"
   ]
  },
  {
   "cell_type": "markdown",
   "id": "3e2a9df2",
   "metadata": {},
   "source": [
    "listv"
   ]
  },
  {
   "cell_type": "markdown",
   "id": "f2e683a5",
   "metadata": {},
   "source": [
    "list"
   ]
  },
  {
   "cell_type": "code",
   "execution_count": null,
   "id": "7ad16557",
   "metadata": {},
   "outputs": [],
   "source": []
  },
  {
   "cell_type": "code",
   "execution_count": null,
   "id": "b88850fe",
   "metadata": {},
   "outputs": [],
   "source": []
  },
  {
   "cell_type": "markdown",
   "id": "26e0b86a",
   "metadata": {},
   "source": [
    "list"
   ]
  },
  {
   "cell_type": "code",
   "execution_count": null,
   "id": "33711f04",
   "metadata": {},
   "outputs": [],
   "source": []
  },
  {
   "cell_type": "code",
   "execution_count": null,
   "id": "b69518a1",
   "metadata": {},
   "outputs": [],
   "source": []
  }
 ],
 "metadata": {
  "kernelspec": {
   "display_name": "Python 3.8.8 64-bit ('base': conda)",
   "language": "python",
   "name": "python388jvsc74a57bd02c7ffa9c538f0bfb5740c89a215bcbde02033924243f3d233f0c9916449df403"
  },
  "language_info": {
   "codemirror_mode": {
    "name": "ipython",
    "version": 3
   },
   "file_extension": ".py",
   "mimetype": "text/x-python",
   "name": "python",
   "nbconvert_exporter": "python",
   "pygments_lexer": "ipython3",
   "version": "3.8.8"
  }
 },
 "nbformat": 4,
 "nbformat_minor": 5
}
