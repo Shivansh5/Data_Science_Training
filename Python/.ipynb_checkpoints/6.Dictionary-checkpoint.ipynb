{
 "cells": [
  {
   "cell_type": "markdown",
   "id": "9b53b96f",
   "metadata": {},
   "source": [
    "# -Mutable ---> List/Set/Dictionary  (Es tin data type chor kr sb Immutable hota hain, means en sbhi ko aap memory me use jagah me rakh kr edit nahi kr skte agar aap edit karoge to add change hoga mtln naya object create hoga).<br><br>-Immutable ---> String/tuple/int/float/Boolean/complex."
   ]
  },
  {
   "cell_type": "markdown",
   "id": "b18e6edf",
   "metadata": {},
   "source": [
    "# 1. Dictionary are mutable.\n",
    "# 2. Dictionary has no indexing.\n",
    "# 3. Key should be unique.\n",
    "# 4. key-> immutable , values-> They can mutable."
   ]
  },
  {
   "cell_type": "code",
   "execution_count": 14,
   "id": "dfc6446e",
   "metadata": {},
   "outputs": [
    {
     "data": {
      "text/plain": [
       "{}"
      ]
     },
     "execution_count": 14,
     "metadata": {},
     "output_type": "execute_result"
    }
   ],
   "source": [
    "d={}\n",
    "d"
   ]
  },
  {
   "cell_type": "code",
   "execution_count": 15,
   "id": "3ff0c96d",
   "metadata": {},
   "outputs": [],
   "source": [
    "d = {\"Name\":\"Shivansh\",\"Gender\":\"Male\"}"
   ]
  },
  {
   "cell_type": "code",
   "execution_count": 16,
   "id": "511b3cb9",
   "metadata": {},
   "outputs": [
    {
     "data": {
      "text/plain": [
       "{'Name': 'Shivansh', 'Gender': 'Male'}"
      ]
     },
     "execution_count": 16,
     "metadata": {},
     "output_type": "execute_result"
    }
   ],
   "source": [
    "d "
   ]
  },
  {
   "cell_type": "code",
   "execution_count": 17,
   "id": "262a5580",
   "metadata": {},
   "outputs": [
    {
     "data": {
      "text/plain": [
       "'Shivansh'"
      ]
     },
     "execution_count": 17,
     "metadata": {},
     "output_type": "execute_result"
    }
   ],
   "source": [
    "d[\"Name\"]"
   ]
  },
  {
   "cell_type": "code",
   "execution_count": 18,
   "id": "cba18215",
   "metadata": {},
   "outputs": [
    {
     "data": {
      "text/plain": [
       "'Male'"
      ]
     },
     "execution_count": 18,
     "metadata": {},
     "output_type": "execute_result"
    }
   ],
   "source": [
    "d[\"Gender\"]"
   ]
  },
  {
   "cell_type": "code",
   "execution_count": 19,
   "id": "24f94324",
   "metadata": {},
   "outputs": [
    {
     "name": "stdout",
     "output_type": "stream",
     "text": [
      "{'Name': 'Shivam', 'Gender': 'Male'}\n"
     ]
    }
   ],
   "source": [
    "# 1. Dictionary are mutable.\n",
    "d[\"Name\"]=\"Shivam\"\n",
    "print(d)"
   ]
  },
  {
   "cell_type": "code",
   "execution_count": 25,
   "id": "69894c73",
   "metadata": {},
   "outputs": [],
   "source": [
    "d1={\"Name\":\"Shivansh\",\"Name\":\"Shivam\"}"
   ]
  },
  {
   "cell_type": "code",
   "execution_count": 29,
   "id": "a1d428d5",
   "metadata": {},
   "outputs": [
    {
     "data": {
      "text/plain": [
       "{'Name': 'Shivam'}"
      ]
     },
     "execution_count": 29,
     "metadata": {},
     "output_type": "execute_result"
    }
   ],
   "source": [
    "d1"
   ]
  },
  {
   "cell_type": "code",
   "execution_count": 30,
   "id": "697f5566",
   "metadata": {},
   "outputs": [],
   "source": [
    "d2={\"Name\":\"Shivam\",\"College\":\"An college\",\"Marks\":{\"M1\":90,\"M2\":80}}"
   ]
  },
  {
   "cell_type": "code",
   "execution_count": 31,
   "id": "0e64f521",
   "metadata": {},
   "outputs": [
    {
     "data": {
      "text/plain": [
       "{'Name': 'Shivam', 'College': 'An college', 'Marks': {'M1': 90, 'M2': 80}}"
      ]
     },
     "execution_count": 31,
     "metadata": {},
     "output_type": "execute_result"
    }
   ],
   "source": [
    "d2"
   ]
  },
  {
   "cell_type": "code",
   "execution_count": 32,
   "id": "1fbea0fd",
   "metadata": {},
   "outputs": [
    {
     "ename": "KeyError",
     "evalue": "0",
     "output_type": "error",
     "traceback": [
      "\u001b[0;31m---------------------------------------------------------------------------\u001b[0m",
      "\u001b[0;31mKeyError\u001b[0m                                  Traceback (most recent call last)",
      "\u001b[0;32m/tmp/ipykernel_83538/2110245992.py\u001b[0m in \u001b[0;36m<module>\u001b[0;34m\u001b[0m\n\u001b[0;32m----> 1\u001b[0;31m \u001b[0md2\u001b[0m\u001b[0;34m[\u001b[0m\u001b[0;36m0\u001b[0m\u001b[0;34m]\u001b[0m\u001b[0;34m\u001b[0m\u001b[0;34m\u001b[0m\u001b[0m\n\u001b[0m",
      "\u001b[0;31mKeyError\u001b[0m: 0"
     ]
    }
   ],
   "source": [
    "d2[0]"
   ]
  },
  {
   "cell_type": "code",
   "execution_count": 35,
   "id": "b6c005a6",
   "metadata": {},
   "outputs": [
    {
     "data": {
      "text/plain": [
       "{'M1': 90, 'M2': 80}"
      ]
     },
     "execution_count": 35,
     "metadata": {},
     "output_type": "execute_result"
    }
   ],
   "source": [
    "d2[\"Marks\"]"
   ]
  },
  {
   "cell_type": "code",
   "execution_count": 36,
   "id": "8277ceda",
   "metadata": {},
   "outputs": [
    {
     "data": {
      "text/plain": [
       "90"
      ]
     },
     "execution_count": 36,
     "metadata": {},
     "output_type": "execute_result"
    }
   ],
   "source": [
    "d2[\"Marks\"][\"M1\"]"
   ]
  },
  {
   "cell_type": "markdown",
   "id": "e0424822",
   "metadata": {},
   "source": [
    "# Edit"
   ]
  },
  {
   "cell_type": "code",
   "execution_count": 38,
   "id": "6d304703",
   "metadata": {},
   "outputs": [
    {
     "data": {
      "text/plain": [
       "{'Name': 'Shivam', 'College': 'An college', 'Marks': {'M1': 90, 'M2': 80}}"
      ]
     },
     "execution_count": 38,
     "metadata": {},
     "output_type": "execute_result"
    }
   ],
   "source": [
    "d2"
   ]
  },
  {
   "cell_type": "code",
   "execution_count": 41,
   "id": "21196a6b",
   "metadata": {},
   "outputs": [],
   "source": [
    "d2[\"Marks\"][\"M2\"]=90"
   ]
  },
  {
   "cell_type": "code",
   "execution_count": 42,
   "id": "387de03c",
   "metadata": {},
   "outputs": [
    {
     "data": {
      "text/plain": [
       "{'Name': 'Shivam', 'College': 'An college', 'Marks': {'M1': 90, 'M2': 90}}"
      ]
     },
     "execution_count": 42,
     "metadata": {},
     "output_type": "execute_result"
    }
   ],
   "source": [
    "d2"
   ]
  },
  {
   "cell_type": "code",
   "execution_count": 43,
   "id": "d916497d",
   "metadata": {},
   "outputs": [
    {
     "data": {
      "text/plain": [
       "'Shivam'"
      ]
     },
     "execution_count": 43,
     "metadata": {},
     "output_type": "execute_result"
    }
   ],
   "source": [
    "d2.get(\"Name\")"
   ]
  },
  {
   "cell_type": "markdown",
   "id": "2f939a41",
   "metadata": {},
   "source": [
    "# ADD "
   ]
  },
  {
   "cell_type": "code",
   "execution_count": 45,
   "id": "e99884c1",
   "metadata": {},
   "outputs": [
    {
     "data": {
      "text/plain": [
       "{'Name': 'Shivam', 'College': 'An college', 'Marks': {'M1': 90, 'M2': 90}}"
      ]
     },
     "execution_count": 45,
     "metadata": {},
     "output_type": "execute_result"
    }
   ],
   "source": [
    "d2"
   ]
  },
  {
   "cell_type": "code",
   "execution_count": null,
   "id": "f0ff29c7",
   "metadata": {},
   "outputs": [],
   "source": []
  }
 ],
 "metadata": {
  "kernelspec": {
   "display_name": "Python 3.8.8 64-bit ('base': conda)",
   "language": "python",
   "name": "python388jvsc74a57bd02c7ffa9c538f0bfb5740c89a215bcbde02033924243f3d233f0c9916449df403"
  },
  "language_info": {
   "codemirror_mode": {
    "name": "ipython",
    "version": 3
   },
   "file_extension": ".py",
   "mimetype": "text/x-python",
   "name": "python",
   "nbconvert_exporter": "python",
   "pygments_lexer": "ipython3",
   "version": "3.8.8"
  }
 },
 "nbformat": 4,
 "nbformat_minor": 5
}
