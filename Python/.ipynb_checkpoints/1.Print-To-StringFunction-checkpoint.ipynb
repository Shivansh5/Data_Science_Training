{
 "cells": [
  {
   "cell_type": "markdown",
   "id": "6e070522",
   "metadata": {},
   "source": [
    "<img src=\"https://media2.giphy.com/media/coxQHKASG60HrHtvkt/giphy.gif?cid=790b761143cde9ec50837cc14f544e0c2251fc3f5b792c0a&rid=giphy.gif&ct=g\" width=350 />"
   ]
  },
  {
   "cell_type": "code",
   "execution_count": 1,
   "id": "42a1429d",
   "metadata": {},
   "outputs": [
    {
     "name": "stdout",
     "output_type": "stream",
     "text": [
      "hello world\n",
      "5\n",
      "5.6\n",
      "India USA Nepal\n"
     ]
    }
   ],
   "source": [
    "print(\"hello world\")\n",
    "print(5)\n",
    "print(5.6)\n",
    "print(\"India\",\"USA\",\"Nepal\")"
   ]
  },
  {
   "cell_type": "code",
   "execution_count": 2,
   "id": "bdd2b0a6",
   "metadata": {},
   "outputs": [
    {
     "name": "stdout",
     "output_type": "stream",
     "text": [
      "India-USA-Nepal\n",
      "India*USA*Nepal\n"
     ]
    }
   ],
   "source": [
    "print(\"India\",\"USA\",\"Nepal\",sep=\"-\")\n",
    "print(\"India\",\"USA\",\"Nepal\",sep=\"*\")"
   ]
  },
  {
   "cell_type": "code",
   "execution_count": 3,
   "id": "1f2d8f10",
   "metadata": {},
   "outputs": [
    {
     "name": "stdout",
     "output_type": "stream",
     "text": [
      "Hello World\n"
     ]
    }
   ],
   "source": [
    "print(\"Hello\",end=\" \")\n",
    "print(\"World\")"
   ]
  },
  {
   "cell_type": "markdown",
   "id": "a6430be8",
   "metadata": {},
   "source": [
    "### -------------------------------------------<.>--------------------------------------------------------------------"
   ]
  },
  {
   "cell_type": "markdown",
   "id": "f34ae47a",
   "metadata": {},
   "source": [
    "## Python supports 3 categories of data types:\n",
    "### Basic Types - (integer,float,complex,boolean and string)\n",
    "### Container Types - (List,Tuples, Sets and Dictionary)\n",
    "### User-defined Types - Class"
   ]
  },
  {
   "cell_type": "code",
   "execution_count": 4,
   "id": "cb3c00d2",
   "metadata": {},
   "outputs": [
    {
     "name": "stdout",
     "output_type": "stream",
     "text": [
      "4\n",
      "1e+308\n",
      "inf\n"
     ]
    }
   ],
   "source": [
    "# Integer\n",
    "print(4)\n",
    "print(1e308)\n",
    "print(1e309) # 1 × 10^308 is the heighest integer range support by python."
   ]
  },
  {
   "cell_type": "code",
   "execution_count": 5,
   "id": "a73dea7e",
   "metadata": {},
   "outputs": [
    {
     "name": "stdout",
     "output_type": "stream",
     "text": [
      "4.5\n",
      "1.7e+308\n",
      "inf\n"
     ]
    }
   ],
   "source": [
    "# Float\n",
    "print(4.5)\n",
    "print(1.7e308)\n",
    "print(1.7e309)"
   ]
  },
  {
   "cell_type": "code",
   "execution_count": 6,
   "id": "5a711ab5",
   "metadata": {},
   "outputs": [
    {
     "name": "stdout",
     "output_type": "stream",
     "text": [
      "(1+3j)\n"
     ]
    },
    {
     "data": {
      "text/plain": [
       "complex"
      ]
     },
     "execution_count": 6,
     "metadata": {},
     "output_type": "execute_result"
    }
   ],
   "source": [
    "# Complex\n",
    "print(1+3j)\n",
    "type(1+3j)"
   ]
  },
  {
   "cell_type": "code",
   "execution_count": 7,
   "id": "7e7b3361",
   "metadata": {},
   "outputs": [
    {
     "name": "stdout",
     "output_type": "stream",
     "text": [
      "True\n",
      "False\n"
     ]
    }
   ],
   "source": [
    "# Boolean\n",
    "print(True)\n",
    "print(False)"
   ]
  },
  {
   "cell_type": "code",
   "execution_count": 8,
   "id": "55f52a99",
   "metadata": {},
   "outputs": [
    {
     "name": "stdout",
     "output_type": "stream",
     "text": [
      "Shivansh\n",
      "Shivansh\n",
      "Shivansh\n"
     ]
    }
   ],
   "source": [
    "# String\n",
    "print('Shivansh')\n",
    "print(\"Shivansh\")\n",
    "print(\"\"\"Shivansh\"\"\")"
   ]
  },
  {
   "cell_type": "code",
   "execution_count": 9,
   "id": "3594ab80",
   "metadata": {},
   "outputs": [
    {
     "name": "stdout",
     "output_type": "stream",
     "text": [
      "[1, 2, 3, 4, 5]\n",
      "[1, 'shivansh', 7.8]\n"
     ]
    },
    {
     "data": {
      "text/plain": [
       "list"
      ]
     },
     "execution_count": 9,
     "metadata": {},
     "output_type": "execute_result"
    }
   ],
   "source": [
    "# LIST\n",
    "print([1,2,3,4,5])\n",
    "print([1,\"shivansh\",7.8])\n",
    "type([1,\"shivansh\",7.8])"
   ]
  },
  {
   "cell_type": "code",
   "execution_count": 10,
   "id": "6c39eaf2",
   "metadata": {},
   "outputs": [
    {
     "name": "stdout",
     "output_type": "stream",
     "text": [
      "(1, 2, 4, 5)\n"
     ]
    },
    {
     "data": {
      "text/plain": [
       "tuple"
      ]
     },
     "execution_count": 10,
     "metadata": {},
     "output_type": "execute_result"
    }
   ],
   "source": [
    "# Tuple\n",
    "print((1,2,4,5))\n",
    "type((1,2,3,4,\"shivansh\"))"
   ]
  },
  {
   "cell_type": "code",
   "execution_count": 11,
   "id": "6ef3c4f7",
   "metadata": {},
   "outputs": [
    {
     "name": "stdout",
     "output_type": "stream",
     "text": [
      "{1, 2, 3, 4, 5}\n"
     ]
    },
    {
     "data": {
      "text/plain": [
       "set"
      ]
     },
     "execution_count": 11,
     "metadata": {},
     "output_type": "execute_result"
    }
   ],
   "source": [
    "# Sets\n",
    "print({1,2,3,4,5})\n",
    "type({1,2,3,4,5,\"Shivansh\"})"
   ]
  },
  {
   "cell_type": "code",
   "execution_count": 12,
   "id": "aae887ae",
   "metadata": {},
   "outputs": [
    {
     "name": "stdout",
     "output_type": "stream",
     "text": [
      "{'Name': 'Shivansh Kumar', 'Age': 21, 'Gender': 'Male'}\n"
     ]
    },
    {
     "data": {
      "text/plain": [
       "dict"
      ]
     },
     "execution_count": 12,
     "metadata": {},
     "output_type": "execute_result"
    }
   ],
   "source": [
    "# Dict\n",
    "print({\"Name\":\"Shivansh Kumar\",\"Age\":21,\"Gender\":\"Male\"})\n",
    "type({\"Name\":\"Shivansh Kumar\",\"Age\":21,\"Gender\":\"Male\"})"
   ]
  },
  {
   "cell_type": "markdown",
   "id": "164c47bf",
   "metadata": {},
   "source": [
    "### -------------------------------------------<.>--------------------------------------------------------------------"
   ]
  },
  {
   "cell_type": "markdown",
   "id": "239ec5ea",
   "metadata": {},
   "source": [
    "# Variable:-Variables are containers for storing data values. <br> A variable is created the moment you first assign a value to it."
   ]
  },
  {
   "cell_type": "code",
   "execution_count": 13,
   "id": "150ed35e",
   "metadata": {},
   "outputs": [
    {
     "name": "stdout",
     "output_type": "stream",
     "text": [
      "shivansh\n",
      "<class 'str'>\n"
     ]
    }
   ],
   "source": [
    "# Dynamic Typing\n",
    "x = \"shivansh\"\n",
    "print(x)\n",
    "print(type(x))"
   ]
  },
  {
   "cell_type": "code",
   "execution_count": 14,
   "id": "539514ce",
   "metadata": {},
   "outputs": [
    {
     "name": "stdout",
     "output_type": "stream",
     "text": [
      "5\n",
      "<class 'int'>\n"
     ]
    }
   ],
   "source": [
    "y = 5\n",
    "print(y)\n",
    "print(type(y))"
   ]
  },
  {
   "cell_type": "code",
   "execution_count": 15,
   "id": "832eb6c6",
   "metadata": {},
   "outputs": [
    {
     "name": "stdout",
     "output_type": "stream",
     "text": [
      "shivansh\n",
      "<class 'str'>\n"
     ]
    }
   ],
   "source": [
    "# Dynamic Binding\n",
    "name=\"shivansh\"\n",
    "print(name)\n",
    "print(type(name))"
   ]
  },
  {
   "cell_type": "code",
   "execution_count": 16,
   "id": "b26f4913",
   "metadata": {},
   "outputs": [
    {
     "name": "stdout",
     "output_type": "stream",
     "text": [
      "True\n",
      "<class 'bool'>\n"
     ]
    }
   ],
   "source": [
    "name=True\n",
    "print(name)\n",
    "print(type(name))"
   ]
  },
  {
   "cell_type": "code",
   "execution_count": 17,
   "id": "6fee3874",
   "metadata": {},
   "outputs": [
    {
     "name": "stdout",
     "output_type": "stream",
     "text": [
      "10\n",
      "20\n",
      "30\n"
     ]
    }
   ],
   "source": [
    "# Special syntax\n",
    "a=10;b=20;c=30;\n",
    "print(a)\n",
    "print(b)\n",
    "print(c)"
   ]
  },
  {
   "cell_type": "code",
   "execution_count": 18,
   "id": "faaace75",
   "metadata": {},
   "outputs": [
    {
     "name": "stdout",
     "output_type": "stream",
     "text": [
      "10\n",
      "20\n",
      "30\n"
     ]
    }
   ],
   "source": [
    "a,b,c = 10,20,30\n",
    "print(a)\n",
    "print(b)\n",
    "print(c)"
   ]
  },
  {
   "cell_type": "code",
   "execution_count": 19,
   "id": "f673690d",
   "metadata": {},
   "outputs": [
    {
     "name": "stdout",
     "output_type": "stream",
     "text": [
      "10\n",
      "10\n",
      "10\n"
     ]
    }
   ],
   "source": [
    "a=b=c=10\n",
    "print(a)\n",
    "print(b)\n",
    "print(c)"
   ]
  },
  {
   "cell_type": "markdown",
   "id": "569dbc35",
   "metadata": {},
   "source": [
    "### -------------------------------------------<.>--------------------------------------------------------------------"
   ]
  },
  {
   "cell_type": "markdown",
   "id": "96f53844",
   "metadata": {},
   "source": [
    "# Keywords\n",
    "Python is a case sensitive programming language.<br>\n",
    "In programming, a keyword is a word that is reserved by a program because the word has a special meaning. Keywords can be commands or parameters. Every programming language has a set of keywords that cannot be used as variable names."
   ]
  },
  {
   "cell_type": "code",
   "execution_count": 25,
   "id": "862d7d3b",
   "metadata": {},
   "outputs": [
    {
     "name": "stdout",
     "output_type": "stream",
     "text": [
      "['False', 'None', 'True', 'and', 'as', 'assert', 'async', 'await', 'break', 'class', 'continue', 'def', 'del', 'elif', 'else', 'except', 'finally', 'for', 'from', 'global', 'if', 'import', 'in', 'is', 'lambda', 'nonlocal', 'not', 'or', 'pass', 'raise', 'return', 'try', 'while', 'with', 'yield']\n"
     ]
    },
    {
     "data": {
      "text/plain": [
       "35"
      ]
     },
     "execution_count": 25,
     "metadata": {},
     "output_type": "execute_result"
    }
   ],
   "source": [
    "# 35 Kayword in python 3.8.8\n",
    "import keyword\n",
    "print(keyword.kwlist)\n",
    "len(keyword.kwlist)"
   ]
  },
  {
   "cell_type": "markdown",
   "id": "b40473f9",
   "metadata": {},
   "source": [
    "# Identifiers\n",
    "A Python identifier is a name used to identify a variable, function, class, module or other object.<br>\n",
    "\n",
    "Rules for setting Identifiers<br>\n",
    "can only start with an alphabet or _ <br>\n",
    "Followed by 0 or more letter,_ and digits <br>\n",
    "keywords cannot be used as an identifiers\n",
    "\n",
    "# What is identifier with example.\n",
    "Identifiers are names given to different entities such as constants, variables, structures, functions, etc. Example: int amount; double totalbalance; In the above example, amount and totalbalance are identifiers and int, and double are keywords."
   ]
  },
  {
   "cell_type": "code",
   "execution_count": 31,
   "id": "ef2e189e",
   "metadata": {},
   "outputs": [
    {
     "name": "stdout",
     "output_type": "stream",
     "text": [
      "shivansh\n",
      "shivansh\n"
     ]
    }
   ],
   "source": [
    "# can only start with an alphabet or _\n",
    "x = \"shivansh\"\n",
    "print(x)\n",
    "\n",
    "_ = \"shivansh\"\n",
    "print(_)"
   ]
  },
  {
   "cell_type": "markdown",
   "id": "8f0d7608",
   "metadata": {},
   "source": [
    "### -------------------------------------------<.>--------------------------------------------------------------------"
   ]
  },
  {
   "cell_type": "markdown",
   "id": "84ad552b",
   "metadata": {},
   "source": [
    "# INPUT :- The input() function allows a user to insert a value into a program. input() always returns a string value.Because string is a universal data type which can hold other data type."
   ]
  },
  {
   "cell_type": "code",
   "execution_count": 32,
   "id": "4512197f",
   "metadata": {},
   "outputs": [
    {
     "name": "stdout",
     "output_type": "stream",
     "text": [
      "5\n"
     ]
    },
    {
     "data": {
      "text/plain": [
       "'5'"
      ]
     },
     "execution_count": 32,
     "metadata": {},
     "output_type": "execute_result"
    }
   ],
   "source": [
    "input()"
   ]
  },
  {
   "cell_type": "code",
   "execution_count": 35,
   "id": "befa4dbc",
   "metadata": {},
   "outputs": [
    {
     "name": "stdout",
     "output_type": "stream",
     "text": [
      "Enter your age : 90\n"
     ]
    }
   ],
   "source": [
    "usr_age = input(\"Enter your age : \")"
   ]
  },
  {
   "cell_type": "code",
   "execution_count": 37,
   "id": "2d14d3bb",
   "metadata": {},
   "outputs": [
    {
     "name": "stdout",
     "output_type": "stream",
     "text": [
      "90\n",
      "<class 'str'>\n"
     ]
    }
   ],
   "source": [
    "print(usr_age)\n",
    "print(type(usr_age)) # input() always stores values in string form."
   ]
  },
  {
   "cell_type": "markdown",
   "id": "740fb36c",
   "metadata": {},
   "source": [
    "### -------------------------------------------<.>--------------------------------------------------------------------"
   ]
  },
  {
   "cell_type": "markdown",
   "id": "11276ec9",
   "metadata": {},
   "source": [
    "# Type Conversion"
   ]
  },
  {
   "cell_type": "markdown",
   "id": "f2524135",
   "metadata": {},
   "source": [
    "### implict:-In Implicit type conversion of data types in Python, the Python interpreter automatically converts one data type to another without any user involvement. \n",
    "### explict:-In Explicit Type Conversion in Python, the data type is manually changed by the user as per their requirement. "
   ]
  },
  {
   "cell_type": "code",
   "execution_count": 53,
   "id": "2b1ec882",
   "metadata": {},
   "outputs": [
    {
     "name": "stdout",
     "output_type": "stream",
     "text": [
      "13.5\n",
      "\n",
      "4\n",
      "4.0\n",
      "5\n",
      "True\n",
      "(4+0j)\n"
     ]
    }
   ],
   "source": [
    "# Implicit\n",
    "print(4+9.5)\n",
    "print()\n",
    "# explict\n",
    "print(int(4.5))\n",
    "print(float(4))\n",
    "print(str(5))\n",
    "print(bool(1))\n",
    "print(complex(4))"
   ]
  },
  {
   "cell_type": "code",
   "execution_count": 71,
   "id": "79cca5dc",
   "metadata": {},
   "outputs": [
    {
     "name": "stdout",
     "output_type": "stream",
     "text": [
      "5 Address is : 140093841434064\n",
      "5.6 Address is : 140093841434064\n",
      "Type Conversion is a temp operation,That's the reason both address are difference\n"
     ]
    }
   ],
   "source": [
    "x = 5.6\n",
    "print(int(x),\"Address is :\",id(x))\n",
    "print(x,\"Address is :\",id(x))\n",
    "print(\"Type Conversion is a temp operation,That's the reason both address are difference\")"
   ]
  },
  {
   "cell_type": "code",
   "execution_count": 54,
   "id": "2bb2d714",
   "metadata": {},
   "outputs": [
    {
     "name": "stdout",
     "output_type": "stream",
     "text": [
      "Enter First Number :56\n",
      "Enter second Number :90\n",
      "The sum is : 5690\n"
     ]
    }
   ],
   "source": [
    "# Add two Number\n",
    "first_num = input(\"Enter First Number :\")\n",
    "second_num = input(\"Enter second Number :\")\n",
    "print(\"The sum is :\",first_num+second_num)"
   ]
  },
  {
   "cell_type": "code",
   "execution_count": 60,
   "id": "171fa62c",
   "metadata": {},
   "outputs": [
    {
     "name": "stdout",
     "output_type": "stream",
     "text": [
      "Enter First Number :56\n",
      "Enter second Number :90\n",
      "The sum is : 146\n"
     ]
    }
   ],
   "source": [
    "# Add two Number\n",
    "first_num = int(input(\"Enter First Number :\"))\n",
    "second_num = int(input(\"Enter second Number :\"))\n",
    "print(\"The sum is :\",first_num+second_num)"
   ]
  },
  {
   "cell_type": "markdown",
   "id": "bce1a124",
   "metadata": {},
   "source": [
    "eval():\n",
    "eval Function take a String and evaluate the Result.<br>\n",
    "Eg: x = eval(“10+20+30”)<br>\n",
    "print(x)<br>\n",
    "Output: 60"
   ]
  },
  {
   "cell_type": "code",
   "execution_count": 64,
   "id": "37f9e8eb",
   "metadata": {},
   "outputs": [
    {
     "name": "stdout",
     "output_type": "stream",
     "text": [
      "Enter First Number :56\n",
      "Enter second Number :89.9\n",
      "The sum is : 145.9\n"
     ]
    }
   ],
   "source": [
    "# Add two Number\n",
    "first_num = eval(input(\"Enter First Number :\"))\n",
    "second_num = eval(input(\"Enter second Number :\"))\n",
    "print(\"The sum is :\",first_num+second_num)"
   ]
  },
  {
   "cell_type": "code",
   "execution_count": 76,
   "id": "579fc6a9",
   "metadata": {},
   "outputs": [
    {
     "name": "stdout",
     "output_type": "stream",
     "text": [
      "Enter First Number : 55\n",
      "Enter Second Number : 78.5\n",
      "The sum is:  133.5\n"
     ]
    }
   ],
   "source": [
    "print(\"The sum is: \",(eval(input(\"Enter First Number : \"))+(eval(input(\"Enter Second Number : \")))))"
   ]
  },
  {
   "cell_type": "markdown",
   "id": "4577371f",
   "metadata": {},
   "source": [
    "### -----------------------------------------<.>---------------------------------------------------------------------"
   ]
  },
  {
   "cell_type": "markdown",
   "id": "d9029584",
   "metadata": {},
   "source": [
    "# id():- <br>to get address of object"
   ]
  },
  {
   "cell_type": "code",
   "execution_count": 82,
   "id": "46704906",
   "metadata": {},
   "outputs": [
    {
     "name": "stdout",
     "output_type": "stream",
     "text": [
      "94824960638400\n",
      "94824960638400\n"
     ]
    }
   ],
   "source": [
    "x=5\n",
    "print(id(x))\n",
    "y=5\n",
    "print(id(y))"
   ]
  },
  {
   "cell_type": "code",
   "execution_count": 83,
   "id": "5d50ee82",
   "metadata": {},
   "outputs": [
    {
     "name": "stdout",
     "output_type": "stream",
     "text": [
      "94824960638400\n",
      "94824960638528\n"
     ]
    }
   ],
   "source": [
    "x=5\n",
    "print(id(x))\n",
    "y=9\n",
    "print(id(y))"
   ]
  },
  {
   "cell_type": "markdown",
   "id": "9d87ed0d",
   "metadata": {},
   "source": [
    "### In Python if a new object is required, then PVM won’t create object immediately. First it will check is any object available with the required content or not. If available then existing object will be reused. If it is not available then only a new object will be created. The advantage of this approach is memory utilization and performance will be improved."
   ]
  },
  {
   "cell_type": "markdown",
   "id": "fce64885",
   "metadata": {},
   "source": [
    "# Literals 🤗 :- <br>\n",
    "Literal is a raw data given in a variable. In Python, there are various types of literals they are as follows: <br>\n",
    "\n",
    "Numeric Literals<br>\n",
    "String Literals<br>\n",
    "Boolean Literals<br>\n",
    "Special Literals<br>\n",
    "1. Numeric Literals"
   ]
  },
  {
   "cell_type": "code",
   "execution_count": 90,
   "id": "f1641a76",
   "metadata": {},
   "outputs": [],
   "source": [
    "# ! pip install emoji\n",
    "from emoji import emojize"
   ]
  },
  {
   "cell_type": "code",
   "execution_count": 119,
   "id": "9a49d13d",
   "metadata": {},
   "outputs": [
    {
     "name": "stdout",
     "output_type": "stream",
     "text": [
      "🤗\n",
      "😀\n",
      "😃\n",
      "😷\n"
     ]
    }
   ],
   "source": [
    "print(emojize(\":hugging_face:\",use_aliases=True))\n",
    "print(emojize(\":grinning_face:\",use_aliases=True))\n",
    "print(emojize(\":grinning_face_with_big_eyes:\",use_aliases=True)) \n",
    "print(emojize(\":face_with_medical_mask:\",use_aliases=True))"
   ]
  },
  {
   "cell_type": "code",
   "execution_count": 130,
   "id": "1988ccde",
   "metadata": {},
   "outputs": [
    {
     "name": "stdout",
     "output_type": "stream",
     "text": [
      "10 100 668 1365 "
     ]
    }
   ],
   "source": [
    "# Numeric Literals\n",
    "a=0b1010\n",
    "b=100\n",
    "c=0o1234\n",
    "d=0x555\n",
    "print(a,end=\" \")\n",
    "print(b,end=\" \")\n",
    "print(c,end=\" \")\n",
    "print(d,end=\" \") "
   ]
  },
  {
   "cell_type": "code",
   "execution_count": 139,
   "id": "bbb8a250",
   "metadata": {},
   "outputs": [
    {
     "name": "stdout",
     "output_type": "stream",
     "text": [
      "shivam\n",
      "shivam\n",
      "Hello Ji kaise Ho Sare This is Shivam\n",
      "😀😆🤣\n",
      "raw \\n  string\n"
     ]
    }
   ],
   "source": [
    "#  String Literals\n",
    "name = 'shivam'\n",
    "names = \"shivam\"\n",
    "multiline = \"\"\"Hello Ji kaise Ho Sare This is Shivam\"\"\"\n",
    "uni = u\"\\U0001f600\\U0001F606\\U0001F923\"\n",
    "raw_str = r\"raw \\n  string\"\n",
    "print(name)\n",
    "print(names)\n",
    "print(multiline)\n",
    "print(uni)\n",
    "print(raw_str)"
   ]
  },
  {
   "cell_type": "code",
   "execution_count": 143,
   "id": "621d9f61",
   "metadata": {},
   "outputs": [
    {
     "name": "stdout",
     "output_type": "stream",
     "text": [
      "a= 5 b= 10\n"
     ]
    }
   ],
   "source": [
    "# Boolean Litrals\n",
    "a = True + 4\n",
    "b = False + 10\n",
    "print(\"a=\",a,\"b=\",b)"
   ]
  },
  {
   "cell_type": "code",
   "execution_count": 147,
   "id": "215e90c8",
   "metadata": {},
   "outputs": [
    {
     "name": "stdout",
     "output_type": "stream",
     "text": [
      "None\n"
     ]
    }
   ],
   "source": [
    "# Special Litrals\n",
    "a = None\n",
    "print(a) "
   ]
  },
  {
   "cell_type": "code",
   "execution_count": 148,
   "id": "fedf987a",
   "metadata": {},
   "outputs": [],
   "source": [
    "# None is Widely use in variable declaration\n",
    "x=None"
   ]
  },
  {
   "cell_type": "code",
   "execution_count": 151,
   "id": "9b876076",
   "metadata": {},
   "outputs": [],
   "source": [
    "x=0"
   ]
  },
  {
   "cell_type": "code",
   "execution_count": 152,
   "id": "25e193aa",
   "metadata": {},
   "outputs": [
    {
     "data": {
      "text/plain": [
       "0"
      ]
     },
     "execution_count": 152,
     "metadata": {},
     "output_type": "execute_result"
    }
   ],
   "source": [
    "x "
   ]
  },
  {
   "cell_type": "code",
   "execution_count": null,
   "id": "c83d6951",
   "metadata": {},
   "outputs": [],
   "source": []
  }
 ],
 "metadata": {
  "kernelspec": {
   "display_name": "Python 3.8.8 64-bit ('base': conda)",
   "language": "python",
   "name": "python388jvsc74a57bd02c7ffa9c538f0bfb5740c89a215bcbde02033924243f3d233f0c9916449df403"
  },
  "language_info": {
   "codemirror_mode": {
    "name": "ipython",
    "version": 3
   },
   "file_extension": ".py",
   "mimetype": "text/x-python",
   "name": "python",
   "nbconvert_exporter": "python",
   "pygments_lexer": "ipython3",
   "version": "3.8.8"
  }
 },
 "nbformat": 4,
 "nbformat_minor": 5
}
