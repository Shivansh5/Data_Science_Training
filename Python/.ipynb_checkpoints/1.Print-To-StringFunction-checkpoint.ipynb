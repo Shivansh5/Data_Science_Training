{
 "cells": [
  {
   "cell_type": "markdown",
   "id": "a37821ee",
   "metadata": {},
   "source": [
    "<img src=\"https://media2.giphy.com/media/coxQHKASG60HrHtvkt/giphy.gif?cid=790b761143cde9ec50837cc14f544e0c2251fc3f5b792c0a&rid=giphy.gif&ct=g\" width=350 />"
   ]
  },
  {
   "cell_type": "markdown",
   "id": "f02ebd00",
   "metadata": {},
   "source": [
    "# Print() ❤️"
   ]
  },
  {
   "cell_type": "code",
   "execution_count": 1,
   "id": "0d01fe30",
   "metadata": {},
   "outputs": [
    {
     "name": "stdout",
     "output_type": "stream",
     "text": [
      "hello world\n",
      "5\n",
      "5.6\n",
      "India USA Nepal\n"
     ]
    }
   ],
   "source": [
    "print(\"hello world\")\n",
    "print(5)\n",
    "print(5.6)\n",
    "print(\"India\",\"USA\",\"Nepal\")"
   ]
  },
  {
   "cell_type": "code",
   "execution_count": 2,
   "id": "c5a2e085",
   "metadata": {},
   "outputs": [
    {
     "name": "stdout",
     "output_type": "stream",
     "text": [
      "India-USA-Nepal\n",
      "India*USA*Nepal\n"
     ]
    }
   ],
   "source": [
    "print(\"India\",\"USA\",\"Nepal\",sep=\"-\")\n",
    "print(\"India\",\"USA\",\"Nepal\",sep=\"*\")"
   ]
  },
  {
   "cell_type": "code",
   "execution_count": 3,
   "id": "feb4d63b",
   "metadata": {},
   "outputs": [
    {
     "name": "stdout",
     "output_type": "stream",
     "text": [
      "Hello World\n"
     ]
    }
   ],
   "source": [
    "print(\"Hello\",end=\" \")\n",
    "print(\"World\")"
   ]
  },
  {
   "cell_type": "markdown",
   "id": "18ae8caa",
   "metadata": {},
   "source": [
    "<img src=\"https://lucdn.letsupgrade.net/Million_Min_Watched_7c8d4849d0.webp\" width=200/> ❤️"
   ]
  },
  {
   "cell_type": "markdown",
   "id": "e14c4d7f",
   "metadata": {},
   "source": [
    "## Python supports 3 categories of data types:\n",
    "### Basic Types - (integer,float,complex,boolean and string)\n",
    "### Container Types - (List,Tuples, Sets and Dictionary)\n",
    "### User-defined Types - Class"
   ]
  },
  {
   "cell_type": "code",
   "execution_count": 4,
   "id": "2d485a2f",
   "metadata": {},
   "outputs": [
    {
     "name": "stdout",
     "output_type": "stream",
     "text": [
      "4\n",
      "1e+308\n",
      "inf\n"
     ]
    }
   ],
   "source": [
    "# Integer\n",
    "print(4)\n",
    "print(1e308)\n",
    "print(1e309) # 1 × 10^308 is the heighest integer range support by python."
   ]
  },
  {
   "cell_type": "code",
   "execution_count": 5,
   "id": "2661f0b6",
   "metadata": {},
   "outputs": [
    {
     "name": "stdout",
     "output_type": "stream",
     "text": [
      "4.5\n",
      "1.7e+308\n",
      "inf\n"
     ]
    }
   ],
   "source": [
    "# Float\n",
    "print(4.5)\n",
    "print(1.7e308)\n",
    "print(1.7e309)"
   ]
  },
  {
   "cell_type": "code",
   "execution_count": 6,
   "id": "c255ca79",
   "metadata": {},
   "outputs": [
    {
     "name": "stdout",
     "output_type": "stream",
     "text": [
      "(1+3j)\n"
     ]
    },
    {
     "data": {
      "text/plain": [
       "complex"
      ]
     },
     "execution_count": 6,
     "metadata": {},
     "output_type": "execute_result"
    }
   ],
   "source": [
    "# Complex\n",
    "print(1+3j)\n",
    "type(1+3j)"
   ]
  },
  {
   "cell_type": "code",
   "execution_count": 7,
   "id": "cc016cc0",
   "metadata": {},
   "outputs": [
    {
     "name": "stdout",
     "output_type": "stream",
     "text": [
      "True\n",
      "False\n"
     ]
    }
   ],
   "source": [
    "# Boolean\n",
    "print(True)\n",
    "print(False)"
   ]
  },
  {
   "cell_type": "code",
   "execution_count": 8,
   "id": "00f35c3e",
   "metadata": {},
   "outputs": [
    {
     "name": "stdout",
     "output_type": "stream",
     "text": [
      "Shivansh\n",
      "Shivansh\n",
      "Shivansh\n"
     ]
    }
   ],
   "source": [
    "# String\n",
    "print('Shivansh')\n",
    "print(\"Shivansh\")\n",
    "print(\"\"\"Shivansh\"\"\")"
   ]
  },
  {
   "cell_type": "code",
   "execution_count": 9,
   "id": "93194b70",
   "metadata": {},
   "outputs": [
    {
     "name": "stdout",
     "output_type": "stream",
     "text": [
      "[1, 2, 3, 4, 5]\n",
      "[1, 'shivansh', 7.8]\n"
     ]
    },
    {
     "data": {
      "text/plain": [
       "list"
      ]
     },
     "execution_count": 9,
     "metadata": {},
     "output_type": "execute_result"
    }
   ],
   "source": [
    "# LIST\n",
    "print([1,2,3,4,5])\n",
    "print([1,\"shivansh\",7.8])\n",
    "type([1,\"shivansh\",7.8])"
   ]
  },
  {
   "cell_type": "code",
   "execution_count": 10,
   "id": "a629998e",
   "metadata": {},
   "outputs": [
    {
     "name": "stdout",
     "output_type": "stream",
     "text": [
      "(1, 2, 4, 5)\n"
     ]
    },
    {
     "data": {
      "text/plain": [
       "tuple"
      ]
     },
     "execution_count": 10,
     "metadata": {},
     "output_type": "execute_result"
    }
   ],
   "source": [
    "# Tuple\n",
    "print((1,2,4,5))\n",
    "type((1,2,3,4,\"shivansh\"))"
   ]
  },
  {
   "cell_type": "code",
   "execution_count": 11,
   "id": "5febcc34",
   "metadata": {},
   "outputs": [
    {
     "name": "stdout",
     "output_type": "stream",
     "text": [
      "{1, 2, 3, 4, 5}\n"
     ]
    },
    {
     "data": {
      "text/plain": [
       "set"
      ]
     },
     "execution_count": 11,
     "metadata": {},
     "output_type": "execute_result"
    }
   ],
   "source": [
    "# Sets\n",
    "print({1,2,3,4,5})\n",
    "type({1,2,3,4,5,\"Shivansh\"})"
   ]
  },
  {
   "cell_type": "code",
   "execution_count": 12,
   "id": "9f6f863b",
   "metadata": {},
   "outputs": [
    {
     "name": "stdout",
     "output_type": "stream",
     "text": [
      "{'Name': 'Shivansh Kumar', 'Age': 21, 'Gender': 'Male'}\n"
     ]
    },
    {
     "data": {
      "text/plain": [
       "dict"
      ]
     },
     "execution_count": 12,
     "metadata": {},
     "output_type": "execute_result"
    }
   ],
   "source": [
    "# Dict\n",
    "print({\"Name\":\"Shivansh Kumar\",\"Age\":21,\"Gender\":\"Male\"})\n",
    "type({\"Name\":\"Shivansh Kumar\",\"Age\":21,\"Gender\":\"Male\"})"
   ]
  },
  {
   "cell_type": "markdown",
   "id": "537ceea2",
   "metadata": {},
   "source": [
    "<img src=\"https://lucdn.letsupgrade.net/Million_Min_Watched_7c8d4849d0.webp\" width=200/>"
   ]
  },
  {
   "cell_type": "markdown",
   "id": "8246ede3",
   "metadata": {},
   "source": [
    "# Variable:-Variables are containers for storing data values. <br> A variable is created the moment you first assign a value to it."
   ]
  },
  {
   "cell_type": "code",
   "execution_count": 13,
   "id": "cce73d8b",
   "metadata": {},
   "outputs": [
    {
     "name": "stdout",
     "output_type": "stream",
     "text": [
      "shivansh\n",
      "<class 'str'>\n"
     ]
    }
   ],
   "source": [
    "# Dynamic Typing\n",
    "x = \"shivansh\"\n",
    "print(x)\n",
    "print(type(x))"
   ]
  },
  {
   "cell_type": "code",
   "execution_count": 14,
   "id": "3c65b984",
   "metadata": {},
   "outputs": [
    {
     "name": "stdout",
     "output_type": "stream",
     "text": [
      "5\n",
      "<class 'int'>\n"
     ]
    }
   ],
   "source": [
    "y = 5\n",
    "print(y)\n",
    "print(type(y))"
   ]
  },
  {
   "cell_type": "code",
   "execution_count": 15,
   "id": "5fe1463b",
   "metadata": {},
   "outputs": [
    {
     "name": "stdout",
     "output_type": "stream",
     "text": [
      "shivansh\n",
      "<class 'str'>\n"
     ]
    }
   ],
   "source": [
    "# Dynamic Binding\n",
    "name=\"shivansh\"\n",
    "print(name)\n",
    "print(type(name))"
   ]
  },
  {
   "cell_type": "code",
   "execution_count": 16,
   "id": "8dcbaad1",
   "metadata": {},
   "outputs": [
    {
     "name": "stdout",
     "output_type": "stream",
     "text": [
      "True\n",
      "<class 'bool'>\n"
     ]
    }
   ],
   "source": [
    "name=True\n",
    "print(name)\n",
    "print(type(name))"
   ]
  },
  {
   "cell_type": "code",
   "execution_count": 17,
   "id": "9fa4cce1",
   "metadata": {},
   "outputs": [
    {
     "name": "stdout",
     "output_type": "stream",
     "text": [
      "10\n",
      "20\n",
      "30\n"
     ]
    }
   ],
   "source": [
    "# Special syntax\n",
    "a=10;b=20;c=30;\n",
    "print(a)\n",
    "print(b)\n",
    "print(c)"
   ]
  },
  {
   "cell_type": "code",
   "execution_count": 18,
   "id": "a57602f9",
   "metadata": {},
   "outputs": [
    {
     "name": "stdout",
     "output_type": "stream",
     "text": [
      "10\n",
      "20\n",
      "30\n"
     ]
    }
   ],
   "source": [
    "a,b,c = 10,20,30\n",
    "print(a)\n",
    "print(b)\n",
    "print(c)"
   ]
  },
  {
   "cell_type": "code",
   "execution_count": 19,
   "id": "fff4bb08",
   "metadata": {},
   "outputs": [
    {
     "name": "stdout",
     "output_type": "stream",
     "text": [
      "10\n",
      "10\n",
      "10\n"
     ]
    }
   ],
   "source": [
    "a=b=c=10\n",
    "print(a)\n",
    "print(b)\n",
    "print(c)"
   ]
  },
  {
   "cell_type": "markdown",
   "id": "38b2295f",
   "metadata": {},
   "source": [
    "<img src=\"https://lucdn.letsupgrade.net/Million_Min_Watched_7c8d4849d0.webp\" width=200/>"
   ]
  },
  {
   "cell_type": "markdown",
   "id": "2430a4c4",
   "metadata": {},
   "source": [
    "# Keywords\n",
    "Python is a case sensitive programming language.<br>\n",
    "In programming, a keyword is a word that is reserved by a program because the word has a special meaning. Keywords can be commands or parameters. Every programming language has a set of keywords that cannot be used as variable names."
   ]
  },
  {
   "cell_type": "code",
   "execution_count": 25,
   "id": "e672f3cd",
   "metadata": {},
   "outputs": [
    {
     "name": "stdout",
     "output_type": "stream",
     "text": [
      "['False', 'None', 'True', 'and', 'as', 'assert', 'async', 'await', 'break', 'class', 'continue', 'def', 'del', 'elif', 'else', 'except', 'finally', 'for', 'from', 'global', 'if', 'import', 'in', 'is', 'lambda', 'nonlocal', 'not', 'or', 'pass', 'raise', 'return', 'try', 'while', 'with', 'yield']\n"
     ]
    },
    {
     "data": {
      "text/plain": [
       "35"
      ]
     },
     "execution_count": 25,
     "metadata": {},
     "output_type": "execute_result"
    }
   ],
   "source": [
    "# 35 Kayword in python 3.8.8\n",
    "import keyword\n",
    "print(keyword.kwlist)\n",
    "len(keyword.kwlist)"
   ]
  },
  {
   "cell_type": "markdown",
   "id": "44d78a91",
   "metadata": {},
   "source": [
    "# Identifiers\n",
    "A Python identifier is a name used to identify a variable, function, class, module or other object.<br>\n",
    "\n",
    "Rules for setting Identifiers<br>\n",
    "can only start with an alphabet or _ <br>\n",
    "Followed by 0 or more letter,_ and digits <br>\n",
    "keywords cannot be used as an identifiers\n",
    "\n",
    "# What is identifier with example.\n",
    "Identifiers are names given to different entities such as constants, variables, structures, functions, etc. Example: int amount; double totalbalance; In the above example, amount and totalbalance are identifiers and int, and double are keywords."
   ]
  },
  {
   "cell_type": "code",
   "execution_count": 31,
   "id": "1c8543ab",
   "metadata": {},
   "outputs": [
    {
     "name": "stdout",
     "output_type": "stream",
     "text": [
      "shivansh\n",
      "shivansh\n"
     ]
    }
   ],
   "source": [
    "# can only start with an alphabet or _\n",
    "x = \"shivansh\"\n",
    "print(x)\n",
    "\n",
    "_ = \"shivansh\"\n",
    "print(_)"
   ]
  },
  {
   "cell_type": "markdown",
   "id": "c5f90955",
   "metadata": {},
   "source": [
    "<img src=\"https://lucdn.letsupgrade.net/Million_Min_Watched_7c8d4849d0.webp\" width=200/>"
   ]
  },
  {
   "cell_type": "markdown",
   "id": "6d796515",
   "metadata": {},
   "source": [
    "# INPUT :- The input() function allows a user to insert a value into a program. input() always returns a string value.Because string is a universal data type which can hold other data type."
   ]
  },
  {
   "cell_type": "code",
   "execution_count": 32,
   "id": "2a444b5c",
   "metadata": {},
   "outputs": [
    {
     "name": "stdout",
     "output_type": "stream",
     "text": [
      "5\n"
     ]
    },
    {
     "data": {
      "text/plain": [
       "'5'"
      ]
     },
     "execution_count": 32,
     "metadata": {},
     "output_type": "execute_result"
    }
   ],
   "source": [
    "input()"
   ]
  },
  {
   "cell_type": "code",
   "execution_count": 35,
   "id": "0af106c6",
   "metadata": {},
   "outputs": [
    {
     "name": "stdout",
     "output_type": "stream",
     "text": [
      "Enter your age : 90\n"
     ]
    }
   ],
   "source": [
    "usr_age = input(\"Enter your age : \")"
   ]
  },
  {
   "cell_type": "code",
   "execution_count": 37,
   "id": "78be33c3",
   "metadata": {},
   "outputs": [
    {
     "name": "stdout",
     "output_type": "stream",
     "text": [
      "90\n",
      "<class 'str'>\n"
     ]
    }
   ],
   "source": [
    "print(usr_age)\n",
    "print(type(usr_age)) # input() always stores values in string form."
   ]
  },
  {
   "cell_type": "markdown",
   "id": "cf5a656a",
   "metadata": {},
   "source": [
    "<img src=\"https://lucdn.letsupgrade.net/mega_creator_10_81abb6aa0f.webp\" width=200/>"
   ]
  },
  {
   "cell_type": "markdown",
   "id": "b74ea57b",
   "metadata": {},
   "source": [
    "# Type Conversion"
   ]
  },
  {
   "cell_type": "markdown",
   "id": "5849eda9",
   "metadata": {},
   "source": [
    "### implict:-In Implicit type conversion of data types in Python, the Python interpreter automatically converts one data type to another without any user involvement. \n",
    "### explict:-In Explicit Type Conversion in Python, the data type is manually changed by the user as per their requirement. "
   ]
  },
  {
   "cell_type": "code",
   "execution_count": 53,
   "id": "1d25adde",
   "metadata": {},
   "outputs": [
    {
     "name": "stdout",
     "output_type": "stream",
     "text": [
      "13.5\n",
      "\n",
      "4\n",
      "4.0\n",
      "5\n",
      "True\n",
      "(4+0j)\n"
     ]
    }
   ],
   "source": [
    "# Implicit\n",
    "print(4+9.5)\n",
    "print()\n",
    "# explict\n",
    "print(int(4.5))\n",
    "print(float(4))\n",
    "print(str(5))\n",
    "print(bool(1))\n",
    "print(complex(4))"
   ]
  },
  {
   "cell_type": "code",
   "execution_count": 71,
   "id": "c30d9b02",
   "metadata": {},
   "outputs": [
    {
     "name": "stdout",
     "output_type": "stream",
     "text": [
      "5 Address is : 140093841434064\n",
      "5.6 Address is : 140093841434064\n",
      "Type Conversion is a temp operation,That's the reason both address are difference\n"
     ]
    }
   ],
   "source": [
    "x = 5.6\n",
    "print(int(x),\"Address is :\",id(x))\n",
    "print(x,\"Address is :\",id(x))\n",
    "print(\"Type Conversion is a temp operation,That's the reason both address are difference\")"
   ]
  },
  {
   "cell_type": "code",
   "execution_count": 54,
   "id": "8b1dd45d",
   "metadata": {},
   "outputs": [
    {
     "name": "stdout",
     "output_type": "stream",
     "text": [
      "Enter First Number :56\n",
      "Enter second Number :90\n",
      "The sum is : 5690\n"
     ]
    }
   ],
   "source": [
    "# Add two Number\n",
    "first_num = input(\"Enter First Number :\")\n",
    "second_num = input(\"Enter second Number :\")\n",
    "print(\"The sum is :\",first_num+second_num)"
   ]
  },
  {
   "cell_type": "code",
   "execution_count": 60,
   "id": "06608d32",
   "metadata": {},
   "outputs": [
    {
     "name": "stdout",
     "output_type": "stream",
     "text": [
      "Enter First Number :56\n",
      "Enter second Number :90\n",
      "The sum is : 146\n"
     ]
    }
   ],
   "source": [
    "# Add two Number\n",
    "first_num = int(input(\"Enter First Number :\"))\n",
    "second_num = int(input(\"Enter second Number :\"))\n",
    "print(\"The sum is :\",first_num+second_num)"
   ]
  },
  {
   "cell_type": "markdown",
   "id": "91005be8",
   "metadata": {},
   "source": [
    "eval():\n",
    "eval Function take a String and evaluate the Result.<br>\n",
    "Eg: x = eval(“10+20+30”)<br>\n",
    "print(x)<br>\n",
    "Output: 60"
   ]
  },
  {
   "cell_type": "code",
   "execution_count": 64,
   "id": "8b06b037",
   "metadata": {},
   "outputs": [
    {
     "name": "stdout",
     "output_type": "stream",
     "text": [
      "Enter First Number :56\n",
      "Enter second Number :89.9\n",
      "The sum is : 145.9\n"
     ]
    }
   ],
   "source": [
    "# Add two Number\n",
    "first_num = eval(input(\"Enter First Number :\"))\n",
    "second_num = eval(input(\"Enter second Number :\"))\n",
    "print(\"The sum is :\",first_num+second_num)"
   ]
  },
  {
   "cell_type": "code",
   "execution_count": 76,
   "id": "f9889ee9",
   "metadata": {},
   "outputs": [
    {
     "name": "stdout",
     "output_type": "stream",
     "text": [
      "Enter First Number : 55\n",
      "Enter Second Number : 78.5\n",
      "The sum is:  133.5\n"
     ]
    }
   ],
   "source": [
    "print(\"The sum is: \",(eval(input(\"Enter First Number : \"))+(eval(input(\"Enter Second Number : \")))))"
   ]
  },
  {
   "cell_type": "markdown",
   "id": "681fcbcf",
   "metadata": {},
   "source": [
    "<img src=\"https://lucdn.letsupgrade.net/Million_Min_Watched_7c8d4849d0.webp\" width=200/>"
   ]
  },
  {
   "cell_type": "markdown",
   "id": "566a326a",
   "metadata": {},
   "source": [
    "# id():- <br>to get address of object"
   ]
  },
  {
   "cell_type": "code",
   "execution_count": 82,
   "id": "28ae21c8",
   "metadata": {},
   "outputs": [
    {
     "name": "stdout",
     "output_type": "stream",
     "text": [
      "94824960638400\n",
      "94824960638400\n"
     ]
    }
   ],
   "source": [
    "x=5\n",
    "print(id(x))\n",
    "y=5\n",
    "print(id(y))"
   ]
  },
  {
   "cell_type": "code",
   "execution_count": 83,
   "id": "b0ec44f1",
   "metadata": {},
   "outputs": [
    {
     "name": "stdout",
     "output_type": "stream",
     "text": [
      "94824960638400\n",
      "94824960638528\n"
     ]
    }
   ],
   "source": [
    "x=5\n",
    "print(id(x))\n",
    "y=9\n",
    "print(id(y))"
   ]
  },
  {
   "cell_type": "markdown",
   "id": "2bcc7f1d",
   "metadata": {},
   "source": [
    "### In Python if a new object is required, then PVM won’t create object immediately. First it will check is any object available with the required content or not. If available then existing object will be reused. If it is not available then only a new object will be created. The advantage of this approach is memory utilization and performance will be improved."
   ]
  },
  {
   "cell_type": "markdown",
   "id": "b956ba4e",
   "metadata": {},
   "source": [
    "# Literals 🤗 :- <br>\n",
    "Literal is a raw data given in a variable. In Python, there are various types of literals they are as follows: <br>\n",
    "\n",
    "Numeric Literals<br>\n",
    "String Literals<br>\n",
    "Boolean Literals<br>\n",
    "Special Literals<br>\n",
    "1. Numeric Literals"
   ]
  },
  {
   "cell_type": "code",
   "execution_count": 90,
   "id": "0af8276e",
   "metadata": {},
   "outputs": [],
   "source": [
    "# ! pip install emoji\n",
    "from emoji import emojize"
   ]
  },
  {
   "cell_type": "code",
   "execution_count": 119,
   "id": "80350f4c",
   "metadata": {},
   "outputs": [
    {
     "name": "stdout",
     "output_type": "stream",
     "text": [
      "🤗\n",
      "😀\n",
      "😃\n",
      "😷\n"
     ]
    }
   ],
   "source": [
    "print(emojize(\":hugging_face:\",use_aliases=True))\n",
    "print(emojize(\":grinning_face:\",use_aliases=True))\n",
    "print(emojize(\":grinning_face_with_big_eyes:\",use_aliases=True)) \n",
    "print(emojize(\":face_with_medical_mask:\",use_aliases=True))"
   ]
  },
  {
   "cell_type": "code",
   "execution_count": 130,
   "id": "96885eb4",
   "metadata": {},
   "outputs": [
    {
     "name": "stdout",
     "output_type": "stream",
     "text": [
      "10 100 668 1365 "
     ]
    }
   ],
   "source": [
    "# Numeric Literals\n",
    "a=0b1010\n",
    "b=100\n",
    "c=0o1234\n",
    "d=0x555\n",
    "print(a,end=\" \")\n",
    "print(b,end=\" \")\n",
    "print(c,end=\" \")\n",
    "print(d,end=\" \") "
   ]
  },
  {
   "cell_type": "code",
   "execution_count": 139,
   "id": "2459862f",
   "metadata": {},
   "outputs": [
    {
     "name": "stdout",
     "output_type": "stream",
     "text": [
      "shivam\n",
      "shivam\n",
      "Hello Ji kaise Ho Sare This is Shivam\n",
      "😀😆🤣\n",
      "raw \\n  string\n"
     ]
    }
   ],
   "source": [
    "#  String Literals\n",
    "name = 'shivam'\n",
    "names = \"shivam\"\n",
    "multiline = \"\"\"Hello Ji kaise Ho Sare This is Shivam\"\"\"\n",
    "uni = u\"\\U0001f600\\U0001F606\\U0001F923\"\n",
    "raw_str = r\"raw \\n  string\"\n",
    "print(name)\n",
    "print(names)\n",
    "print(multiline)\n",
    "print(uni)\n",
    "print(raw_str)"
   ]
  },
  {
   "cell_type": "code",
   "execution_count": 143,
   "id": "fac451dc",
   "metadata": {},
   "outputs": [
    {
     "name": "stdout",
     "output_type": "stream",
     "text": [
      "a= 5 b= 10\n"
     ]
    }
   ],
   "source": [
    "# Boolean Litrals\n",
    "a = True + 4\n",
    "b = False + 10\n",
    "print(\"a=\",a,\"b=\",b)"
   ]
  },
  {
   "cell_type": "code",
   "execution_count": 147,
   "id": "d8e3cb49",
   "metadata": {},
   "outputs": [
    {
     "name": "stdout",
     "output_type": "stream",
     "text": [
      "None\n"
     ]
    }
   ],
   "source": [
    "# Special Litrals\n",
    "a = None\n",
    "print(a) "
   ]
  },
  {
   "cell_type": "code",
   "execution_count": 153,
   "id": "ceb28c59",
   "metadata": {},
   "outputs": [],
   "source": [
    "# None is Widely use in variable declaration\n",
    "x=None"
   ]
  },
  {
   "cell_type": "code",
   "execution_count": 154,
   "id": "b22ddaae",
   "metadata": {},
   "outputs": [],
   "source": [
    "x"
   ]
  },
  {
   "cell_type": "markdown",
   "id": "e815a15d",
   "metadata": {},
   "source": [
    "<img src=\"https://lucdn.letsupgrade.net/mega_creator_10_81abb6aa0f.webp\" width=200 />"
   ]
  },
  {
   "cell_type": "markdown",
   "id": "021d7236",
   "metadata": {},
   "source": [
    "# Operators 🤗:- <br>\n",
    "Operators are used to perform operations on variables and values. Python has the following operators:\n",
    "\n",
    "Arithmetic operators<br>\n",
    "Comparison operators<br>\n",
    "Logical operators<br>\n",
    "Bitwise operators<br>\n",
    "Assignment operators<br>\n",
    "Identity operators<br>\n",
    "Membership operator<br>"
   ]
  },
  {
   "cell_type": "code",
   "execution_count": 156,
   "id": "f3e583e5",
   "metadata": {
    "scrolled": true
   },
   "outputs": [
    {
     "name": "stdout",
     "output_type": "stream",
     "text": [
      "12\n",
      "8\n",
      "20\n",
      "5.0\n",
      "100\n",
      "5\n"
     ]
    }
   ],
   "source": [
    "# Arthematic Operators\n",
    "x=10\n",
    "y=2\n",
    "print(x+y)\n",
    "print(x-y)\n",
    "print(x*y)\n",
    "print(x/y)\n",
    "print(x**y) # Power\n",
    "print(x//y) # Integer division"
   ]
  },
  {
   "cell_type": "code",
   "execution_count": 158,
   "id": "da9b1183",
   "metadata": {},
   "outputs": [
    {
     "name": "stdout",
     "output_type": "stream",
     "text": [
      "True\n",
      "False\n",
      "True\n",
      "False\n",
      "True\n"
     ]
    }
   ],
   "source": [
    "# Comparision Operators\n",
    "x=10\n",
    "y=2\n",
    "print(x>y)\n",
    "print(x<y)\n",
    "print(x>=y)\n",
    "print(x<=y)\n",
    "print(x!=y)"
   ]
  },
  {
   "cell_type": "code",
   "execution_count": 160,
   "id": "4e4753ee",
   "metadata": {},
   "outputs": [
    {
     "name": "stdout",
     "output_type": "stream",
     "text": [
      "True\n",
      "False\n"
     ]
    }
   ],
   "source": [
    "# Logical operators\n",
    "x=True\n",
    "y=False\n",
    "\n",
    "print(x or y)\n",
    "print(x and y)"
   ]
  },
  {
   "cell_type": "code",
   "execution_count": 161,
   "id": "8d6f00fe",
   "metadata": {},
   "outputs": [
    {
     "name": "stdout",
     "output_type": "stream",
     "text": [
      "2\n",
      "3\n"
     ]
    }
   ],
   "source": [
    "# Bitwise operators\n",
    "x=2\n",
    "y=3\n",
    "\n",
    "print(x & y)\n",
    "print(x | y)\n",
    "\n",
    "# First it convert 2 into binary and 3  into binary then calculate.\n",
    "# 010   -> 2\n",
    "# 110   -> 3\n",
    "# ---\n",
    "# 010   -> 2"
   ]
  },
  {
   "cell_type": "code",
   "execution_count": 168,
   "id": "e742b094",
   "metadata": {},
   "outputs": [
    {
     "name": "stdout",
     "output_type": "stream",
     "text": [
      "10\n",
      "20\n"
     ]
    }
   ],
   "source": [
    "# Assignment operators.\n",
    "x=10\n",
    "print(x)\n",
    "\n",
    "x+=10\n",
    "print(x)"
   ]
  },
  {
   "cell_type": "code",
   "execution_count": 169,
   "id": "0a1ea637",
   "metadata": {},
   "outputs": [
    {
     "name": "stdout",
     "output_type": "stream",
     "text": [
      "5\n"
     ]
    }
   ],
   "source": [
    "print(x>>2)"
   ]
  },
  {
   "cell_type": "code",
   "execution_count": 170,
   "id": "e412bca3",
   "metadata": {},
   "outputs": [
    {
     "name": "stdout",
     "output_type": "stream",
     "text": [
      "80\n"
     ]
    }
   ],
   "source": [
    "print(x<<2)"
   ]
  },
  {
   "cell_type": "code",
   "execution_count": 180,
   "id": "000f0e8d",
   "metadata": {},
   "outputs": [
    {
     "name": "stdout",
     "output_type": "stream",
     "text": [
      "True\n"
     ]
    }
   ],
   "source": [
    "# Identity operators.  -------------> is\n",
    "a=10\n",
    "b=10\n",
    "print(a is b )  # is compare Address\n",
    "# For integer it create one object."
   ]
  },
  {
   "cell_type": "code",
   "execution_count": 181,
   "id": "36d144ca",
   "metadata": {},
   "outputs": [
    {
     "name": "stdout",
     "output_type": "stream",
     "text": [
      "True\n"
     ]
    }
   ],
   "source": [
    "a=\"Hello\"\n",
    "b=\"Hello\"\n",
    "print(a is b )"
   ]
  },
  {
   "cell_type": "code",
   "execution_count": 182,
   "id": "0f7cd698",
   "metadata": {},
   "outputs": [
    {
     "name": "stdout",
     "output_type": "stream",
     "text": [
      "False\n"
     ]
    }
   ],
   "source": [
    "a=\"Hello-World\"\n",
    "b=\"Hello-World\"\n",
    "print(a is b )"
   ]
  },
  {
   "cell_type": "code",
   "execution_count": 183,
   "id": "84c4cfc1",
   "metadata": {},
   "outputs": [
    {
     "name": "stdout",
     "output_type": "stream",
     "text": [
      "False\n"
     ]
    }
   ],
   "source": [
    "a=[1,2,3,4,5]\n",
    "b=[1,2,3,4,5]\n",
    "print(a is b )"
   ]
  },
  {
   "cell_type": "code",
   "execution_count": 190,
   "id": "115763a6",
   "metadata": {},
   "outputs": [
    {
     "name": "stdout",
     "output_type": "stream",
     "text": [
      "True\n"
     ]
    }
   ],
   "source": [
    "# Membership operator ------> in\n",
    "a=\"Hello\"\n",
    "print(\"H\" in a )"
   ]
  },
  {
   "cell_type": "markdown",
   "id": "51c66113",
   "metadata": {},
   "source": [
    "<img src=\"https://lucdn.letsupgrade.net/Million_Min_Watched_7c8d4849d0.webp\" width=200/>"
   ]
  },
  {
   "cell_type": "markdown",
   "id": "fe78971f",
   "metadata": {},
   "source": [
    "# if-else Statement and Nested if-else 🤗:-\n",
    "##### Suppose you have a requirement to create an login system that check your credentials(Your email and password is right or wrong)."
   ]
  },
  {
   "cell_type": "code",
   "execution_count": 208,
   "id": "5eb84683",
   "metadata": {},
   "outputs": [
    {
     "name": "stdout",
     "output_type": "stream",
     "text": [
      "Email btao apna phle : deyshivam6@gmail.com\n",
      "Ab Password batao apna: 5656\n",
      "Aapka password glat hain phir se daleye 😀 \n",
      "Password batao apna: 5655\n",
      "Phle password yad karo phir login karna 😆\n"
     ]
    }
   ],
   "source": [
    "# email = deyshivam6@gmail.com\n",
    "# password = redhat\n",
    "\n",
    "email = input(\"Email btao apna phle : \")\n",
    "password = input(\"Ab Password batao apna: \")\n",
    " \n",
    "if email==\"deyshivam6@gmail.com\" and password==\"redhat\":\n",
    "    print(\"Welcome to the DOT Community 🤗\")\n",
    "elif email==\"deyshivam6@gmail.com\" and password!=\"redhat\":\n",
    "    \n",
    "    print(\"Aapka password glat hain phir se daleye 😀 \")\n",
    "    password = input(\"Password batao apna: \")\n",
    "    if password == \"redhat\":\n",
    "        print(\"Welcome to the DOT Community 🤗\")\n",
    "    else:\n",
    "        print(\"Phle password yad karo phir login karna 😆\")\n",
    "        \n",
    "        \n",
    "else:\n",
    "    print(\"Invalid Credentials\")"
   ]
  },
  {
   "cell_type": "markdown",
   "id": "7bf87b44",
   "metadata": {},
   "source": [
    "<img src=\"https://lucdn.letsupgrade.net/Million_Min_Watched_7c8d4849d0.webp\" width=200/>"
   ]
  },
  {
   "cell_type": "markdown",
   "id": "599e91c4",
   "metadata": {},
   "source": [
    "# <i> Loops  🤗:-  <br> Real World Examples of Loop <br> Software program in a mobile device allows user to unlock the mobile with 5 password attempts.<br> You put your favorite song on a repeat mode.</i>"
   ]
  },
  {
   "cell_type": "code",
   "execution_count": 224,
   "id": "4e1fcee0",
   "metadata": {},
   "outputs": [
    {
     "name": "stdout",
     "output_type": "stream",
     "text": [
      "Enter the number : 5\n",
      "5 * 1 = 5\n",
      "5 * 2 = 10\n",
      "5 * 3 = 15\n",
      "5 * 4 = 20\n",
      "5 * 5 = 25\n",
      "5 * 6 = 30\n",
      "5 * 7 = 35\n",
      "5 * 8 = 40\n",
      "5 * 9 = 45\n",
      "5 * 10 = 50\n"
     ]
    }
   ],
   "source": [
    "# Print table in while\n",
    "\n",
    "num = int(input(\"Enter the number : \"))\n",
    "\n",
    "i=1 # define i\n",
    "while i<11:\n",
    "    print(num,\"*\",i,\"=\",num*i)\n",
    "    i+=1 "
   ]
  },
  {
   "cell_type": "markdown",
   "id": "9512c8a0",
   "metadata": {},
   "source": [
    "<img src=\"https://lucdn.letsupgrade.net/inr_page_img_Business_Analytics_Zero_to_Hero_Program_3320c727a4.webp\" width=200/>"
   ]
  },
  {
   "cell_type": "markdown",
   "id": "b7931199",
   "metadata": {},
   "source": [
    "# Guessing Game ❤️\n",
    "\n",
    "<img src=\"https://lucdn.letsupgrade.net/outcome_6e6455ece4_7495c0c316.webp\" width=200/>"
   ]
  },
  {
   "cell_type": "code",
   "execution_count": 256,
   "id": "57cac456",
   "metadata": {},
   "outputs": [
    {
     "name": "stdout",
     "output_type": "stream",
     "text": [
      "Chalo Guess Karo: 56\n",
      "Guess Lower\n",
      "Chalo Guess Karo: 45\n",
      "Guess Lower\n",
      "Chalo Guess Karo: 34\n",
      "Guess Lower\n",
      "Chalo Guess Karo: 25\n",
      "Guess Higher\n",
      "Chalo Guess Karo: 28\n",
      "\n",
      "Sahi jabab aap mera ❤️ jit liye 5 bar me.\n"
     ]
    }
   ],
   "source": [
    "import random\n",
    "jackpot = random.randint(1,100)\n",
    "guess = eval(input(\"Chalo Guess Karo: \"))\n",
    "\n",
    "count=1\n",
    "\n",
    "while guess!=jackpot:\n",
    "    if guess<jackpot:\n",
    "        print(\"Guess Higher\")\n",
    "    else:\n",
    "        print(\"Guess Lower\")\n",
    "    guess = eval(input(\"Chalo Guess Karo: \"))\n",
    "    \n",
    "    count+=1\n",
    "print()\n",
    "print(\"Sahi jabab aap mera ❤️ jit liye\",count,\"bar me.\")"
   ]
  },
  {
   "cell_type": "markdown",
   "id": "7cc785f2",
   "metadata": {},
   "source": [
    "<img src=\"https://lucdn.letsupgrade.net/Million_Min_Watched_7c8d4849d0.webp\" width=200/>"
   ]
  },
  {
   "cell_type": "markdown",
   "id": "11393e45",
   "metadata": {},
   "source": [
    "# for loop ❤️"
   ]
  },
  {
   "cell_type": "code",
   "execution_count": 238,
   "id": "5448e88d",
   "metadata": {},
   "outputs": [
    {
     "data": {
      "text/plain": [
       "range(1, 11)"
      ]
     },
     "execution_count": 238,
     "metadata": {},
     "output_type": "execute_result"
    }
   ],
   "source": [
    "# range\n",
    "range(1,11)"
   ]
  },
  {
   "cell_type": "code",
   "execution_count": 239,
   "id": "636fceaf",
   "metadata": {},
   "outputs": [
    {
     "data": {
      "text/plain": [
       "[1, 2, 3, 4, 5, 6, 7, 8, 9, 10]"
      ]
     },
     "execution_count": 239,
     "metadata": {},
     "output_type": "execute_result"
    }
   ],
   "source": [
    "list(range(1,11))"
   ]
  },
  {
   "cell_type": "code",
   "execution_count": 240,
   "id": "7c6e3709",
   "metadata": {},
   "outputs": [
    {
     "data": {
      "text/plain": [
       "[1, 3, 5, 7, 9]"
      ]
     },
     "execution_count": 240,
     "metadata": {},
     "output_type": "execute_result"
    }
   ],
   "source": [
    "list(range(1,11,2)) # start,stop,step"
   ]
  },
  {
   "cell_type": "code",
   "execution_count": 241,
   "id": "653a7d62",
   "metadata": {},
   "outputs": [
    {
     "data": {
      "text/plain": [
       "[10, 9, 8, 7, 6, 5, 4, 3, 2, 1]"
      ]
     },
     "execution_count": 241,
     "metadata": {},
     "output_type": "execute_result"
    }
   ],
   "source": [
    "list(range(10,0,-1))"
   ]
  },
  {
   "cell_type": "code",
   "execution_count": 252,
   "id": "9ef32fbd",
   "metadata": {
    "scrolled": true
   },
   "outputs": [
    {
     "name": "stdout",
     "output_type": "stream",
     "text": [
      "1\n",
      "2\n",
      "3\n",
      "4\n",
      "5\n",
      "6\n",
      "7\n",
      "8\n",
      "9\n",
      "10\n"
     ]
    }
   ],
   "source": [
    "for i in range(1,11):\n",
    "    print(i)"
   ]
  },
  {
   "cell_type": "code",
   "execution_count": 253,
   "id": "aa9a5cfa",
   "metadata": {},
   "outputs": [
    {
     "name": "stdout",
     "output_type": "stream",
     "text": [
      "1\n",
      "2\n",
      "3\n",
      "4\n",
      "5\n"
     ]
    }
   ],
   "source": [
    "for i in [1,2,3,4,5]:\n",
    "    print(i)"
   ]
  },
  {
   "cell_type": "code",
   "execution_count": 254,
   "id": "f7ef1843",
   "metadata": {},
   "outputs": [
    {
     "name": "stdout",
     "output_type": "stream",
     "text": [
      "1\n",
      "2\n",
      "3\n",
      "4\n",
      "5\n"
     ]
    }
   ],
   "source": [
    "for i in (1,2,3,4,5):\n",
    "    print(i)"
   ]
  },
  {
   "cell_type": "code",
   "execution_count": 255,
   "id": "0291f158",
   "metadata": {},
   "outputs": [
    {
     "name": "stdout",
     "output_type": "stream",
     "text": [
      "1\n",
      "2\n",
      "3\n",
      "4\n",
      "5\n"
     ]
    }
   ],
   "source": [
    "for i in {1,2,3,4,5}:\n",
    "    print(i)"
   ]
  },
  {
   "cell_type": "markdown",
   "id": "63f8975f",
   "metadata": {},
   "source": [
    "# In general, you should use a for loop when you know how many times the loop should run. <br> If you want the loop to break based on a condition other than the number of times it runs, you should use a while loop."
   ]
  },
  {
   "cell_type": "markdown",
   "id": "e2b45cc0",
   "metadata": {},
   "source": [
    "<img src=\"https://lucdn.letsupgrade.net/Million_Min_Watched_7c8d4849d0.webp\" width=200/>"
   ]
  },
  {
   "cell_type": "markdown",
   "id": "e9b97705",
   "metadata": {},
   "source": [
    "# Nested for loop ❤️"
   ]
  },
  {
   "cell_type": "code",
   "execution_count": 259,
   "id": "2a9e98d5",
   "metadata": {},
   "outputs": [
    {
     "data": {
      "text/plain": [
       "[0]"
      ]
     },
     "execution_count": 259,
     "metadata": {},
     "output_type": "execute_result"
    }
   ],
   "source": [
    "list(range(0,1))"
   ]
  },
  {
   "cell_type": "code",
   "execution_count": null,
   "id": "d34409aa",
   "metadata": {},
   "outputs": [],
   "source": [
    "# *\n",
    "# **\n",
    "# ***\n",
    "# ****\n",
    "# *****"
   ]
  },
  {
   "cell_type": "code",
   "execution_count": 264,
   "id": "d7f87574",
   "metadata": {},
   "outputs": [
    {
     "name": "stdout",
     "output_type": "stream",
     "text": [
      "Enter the range 10\n",
      "* \n",
      "* * \n",
      "* * * \n",
      "* * * * \n",
      "* * * * * \n",
      "* * * * * * \n",
      "* * * * * * * \n",
      "* * * * * * * * \n",
      "* * * * * * * * * \n",
      "* * * * * * * * * * \n"
     ]
    }
   ],
   "source": [
    "row = eval(input(\"Enter the range \"))\n",
    "for i in range(1,row+1):\n",
    "    for j in range(0,i):\n",
    "        print(\"*\",end=\" \")\n",
    "    print()"
   ]
  },
  {
   "cell_type": "markdown",
   "id": "3229eb95",
   "metadata": {},
   "source": [
    "# Visualize your python code <br>\n",
    "https://pythontutor.com/"
   ]
  },
  {
   "cell_type": "markdown",
   "id": "fc1e14ec",
   "metadata": {},
   "source": [
    "<img src=\"https://lucdn.letsupgrade.net/Million_Min_Watched_7c8d4849d0.webp\" width=200/>"
   ]
  },
  {
   "cell_type": "markdown",
   "id": "b80d260a",
   "metadata": {},
   "source": [
    " # Break-Continue-pass ❤️ <br>  Break statement in Python is used to bring the control out of the loop when some external condition is triggered.<br>The continue statement is used to skip the rest of the code inside a loop for the current iteration only."
   ]
  },
  {
   "cell_type": "code",
   "execution_count": 267,
   "id": "69cbb5bb",
   "metadata": {},
   "outputs": [
    {
     "name": "stdout",
     "output_type": "stream",
     "text": [
      "1\n",
      "2\n",
      "3\n",
      "4\n"
     ]
    }
   ],
   "source": [
    "for i in range(1,11):\n",
    "    if i==5:\n",
    "        break\n",
    "    print(i)"
   ]
  },
  {
   "cell_type": "code",
   "execution_count": 270,
   "id": "85863c03",
   "metadata": {},
   "outputs": [
    {
     "name": "stdout",
     "output_type": "stream",
     "text": [
      "1 Hello\n",
      "2 Hello\n",
      "3 Hello\n",
      "4 Hello\n",
      "6 Hello\n",
      "7 Hello\n",
      "8 Hello\n",
      "9 Hello\n",
      "10 Hello\n"
     ]
    }
   ],
   "source": [
    "for i in range(1,11):\n",
    "    if i==5:\n",
    "        continue\n",
    "    print(i,\"Hello\")"
   ]
  },
  {
   "cell_type": "markdown",
   "id": "b2dd6982",
   "metadata": {},
   "source": [
    "# The pass statement is used as a placeholder for future code.<br>When the pass statement is executed, nothing happens, but you avoid getting an error when empty code is not allowed."
   ]
  },
  {
   "cell_type": "code",
   "execution_count": 1,
   "id": "749842c6",
   "metadata": {},
   "outputs": [],
   "source": [
    "for i in range(1,11):\n",
    "    pass"
   ]
  },
  {
   "cell_type": "markdown",
   "id": "02245c62",
   "metadata": {},
   "source": [
    "<img src=\"https://lucdn.letsupgrade.net/Million_Min_Watched_7c8d4849d0.webp\" width=200/>"
   ]
  },
  {
   "cell_type": "markdown",
   "id": "5f59d5cd",
   "metadata": {},
   "source": [
    "# Build-In-Function ❤️"
   ]
  },
  {
   "cell_type": "code",
   "execution_count": 2,
   "id": "64f02888",
   "metadata": {},
   "outputs": [
    {
     "name": "stdout",
     "output_type": "stream",
     "text": [
      "Hello Shivansh\n"
     ]
    }
   ],
   "source": [
    "# 1.PRINT()\n",
    "print(\"Hello Shivansh\")"
   ]
  },
  {
   "cell_type": "code",
   "execution_count": 3,
   "id": "d9e93254",
   "metadata": {},
   "outputs": [
    {
     "name": "stdout",
     "output_type": "stream",
     "text": [
      "Enter Your Name:Shivansh\n"
     ]
    },
    {
     "data": {
      "text/plain": [
       "'Shivansh'"
      ]
     },
     "execution_count": 3,
     "metadata": {},
     "output_type": "execute_result"
    }
   ],
   "source": [
    "# 2. INPUT()\n",
    "input(\"Enter Your Name:\")"
   ]
  },
  {
   "cell_type": "code",
   "execution_count": 4,
   "id": "002ee9fa",
   "metadata": {},
   "outputs": [
    {
     "data": {
      "text/plain": [
       "str"
      ]
     },
     "execution_count": 4,
     "metadata": {},
     "output_type": "execute_result"
    }
   ],
   "source": [
    "# 3.type\n",
    "x=\"shivansh\"\n",
    "type(x)"
   ]
  },
  {
   "cell_type": "code",
   "execution_count": 5,
   "id": "24a403be",
   "metadata": {},
   "outputs": [
    {
     "data": {
      "text/plain": [
       "5"
      ]
     },
     "execution_count": 5,
     "metadata": {},
     "output_type": "execute_result"
    }
   ],
   "source": [
    "# 4. int etc.\n",
    "int(\"5\")"
   ]
  },
  {
   "cell_type": "code",
   "execution_count": 6,
   "id": "37c55165",
   "metadata": {},
   "outputs": [
    {
     "name": "stdout",
     "output_type": "stream",
     "text": [
      "4\n",
      "4\n"
     ]
    }
   ],
   "source": [
    "# 5. abs \n",
    "# modulas\n",
    "print(abs(4))\n",
    "print(abs(-4))"
   ]
  },
  {
   "cell_type": "code",
   "execution_count": 9,
   "id": "62a856b6",
   "metadata": {},
   "outputs": [
    {
     "data": {
      "text/plain": [
       "25"
      ]
     },
     "execution_count": 9,
     "metadata": {},
     "output_type": "execute_result"
    }
   ],
   "source": [
    "#6. pow\n",
    "#power\n",
    "pow(5,2)"
   ]
  },
  {
   "cell_type": "code",
   "execution_count": 22,
   "id": "58b127a0",
   "metadata": {},
   "outputs": [
    {
     "data": {
      "text/plain": [
       "'t'"
      ]
     },
     "execution_count": 22,
     "metadata": {},
     "output_type": "execute_result"
    }
   ],
   "source": [
    "# 7. min/max\n",
    "\n",
    "min(\"5466\")\n",
    "max(\"patna\") # based on ascii value"
   ]
  },
  {
   "cell_type": "code",
   "execution_count": 13,
   "id": "7e6b86ab",
   "metadata": {},
   "outputs": [
    {
     "data": {
      "text/plain": [
       "56.9"
      ]
     },
     "execution_count": 13,
     "metadata": {},
     "output_type": "execute_result"
    }
   ],
   "source": [
    "# 8. Round\n",
    "a=56.897678988\n",
    "round(a,2)"
   ]
  },
  {
   "cell_type": "code",
   "execution_count": 15,
   "id": "e7862da8",
   "metadata": {},
   "outputs": [
    {
     "data": {
      "text/plain": [
       "(2, 1)"
      ]
     },
     "execution_count": 15,
     "metadata": {},
     "output_type": "execute_result"
    }
   ],
   "source": [
    "# 9.divmod\n",
    "\n",
    "divmod(5,2)"
   ]
  },
  {
   "cell_type": "code",
   "execution_count": 17,
   "id": "7e479f7a",
   "metadata": {},
   "outputs": [
    {
     "name": "stdout",
     "output_type": "stream",
     "text": [
      "0b1010\n",
      "0o12\n"
     ]
    }
   ],
   "source": [
    "# 10.bin\n",
    "print(bin(10))\n",
    "\n",
    "print(oct(10))\n"
   ]
  },
  {
   "cell_type": "code",
   "execution_count": 43,
   "id": "244bee1d",
   "metadata": {
    "scrolled": true
   },
   "outputs": [
    {
     "name": "stdout",
     "output_type": "stream",
     "text": [
      "94854835015264\n",
      "94854835015104\n"
     ]
    }
   ],
   "source": [
    "# 11. id\n",
    "\n",
    "a=10\n",
    "print(id(a))\n",
    "print(id(5))"
   ]
  },
  {
   "cell_type": "code",
   "execution_count": 21,
   "id": "410b8ef1",
   "metadata": {},
   "outputs": [
    {
     "name": "stdout",
     "output_type": "stream",
     "text": [
      "97\n",
      "65\n"
     ]
    }
   ],
   "source": [
    "# 12. ord\n",
    "# ascii value return \n",
    "print(ord(\"a\"))\n",
    "print(ord(\"A\"))"
   ]
  },
  {
   "cell_type": "code",
   "execution_count": 24,
   "id": "ac487114",
   "metadata": {},
   "outputs": [
    {
     "data": {
      "text/plain": [
       "5"
      ]
     },
     "execution_count": 24,
     "metadata": {},
     "output_type": "execute_result"
    }
   ],
   "source": [
    "# 13. len\n",
    "len([1,2,3,4,5,])"
   ]
  },
  {
   "cell_type": "code",
   "execution_count": 29,
   "id": "3ef77aea",
   "metadata": {},
   "outputs": [
    {
     "name": "stdout",
     "output_type": "stream",
     "text": [
      "15\n",
      "15\n",
      "15\n"
     ]
    }
   ],
   "source": [
    "# 14. sum\n",
    "print(sum((1,2,3,4,5)))\n",
    "print(sum({1,2,3,4,5}))\n",
    "print(sum([1,2,3,4,5]))"
   ]
  },
  {
   "cell_type": "code",
   "execution_count": 51,
   "id": "08857a76",
   "metadata": {},
   "outputs": [
    {
     "name": "stdout",
     "output_type": "stream",
     "text": [
      "Help on built-in function len in module builtins:\n",
      "\n",
      "len(obj, /)\n",
      "    Return the number of items in a container.\n",
      "\n",
      "Help on built-in function id in module builtins:\n",
      "\n",
      "id(obj, /)\n",
      "    Return the identity of an object.\n",
      "    \n",
      "    This is guaranteed to be unique among simultaneously existing objects.\n",
      "    (CPython uses the object's memory address.)\n",
      "\n"
     ]
    }
   ],
   "source": [
    "# 15. help\n",
    "help(\"len\")\n",
    "help(\"id\")"
   ]
  },
  {
   "cell_type": "markdown",
   "id": "49e727d3",
   "metadata": {},
   "source": [
    "<img src=\"https://lucdn.letsupgrade.net/Million_Min_Watched_7c8d4849d0.webp\" width=200/>"
   ]
  },
  {
   "cell_type": "markdown",
   "id": "1e9518f4",
   "metadata": {},
   "source": [
    "## Build-In-Module ❤️ <br>What are modules?<br>Consider a module to be the same as a code library.<br>A file containing a set of functions you want to include in your application.<br>Examples of python modules<br>-Math<br> -Random<br>-os<br>-time<br>"
   ]
  },
  {
   "cell_type": "code",
   "execution_count": 62,
   "id": "39ada8e3",
   "metadata": {},
   "outputs": [
    {
     "name": "stdout",
     "output_type": "stream",
     "text": [
      "\n",
      "Please wait a moment while I gather a list of all available modules...\n",
      "\n"
     ]
    },
    {
     "ename": "RuntimeError",
     "evalue": "module compiled against API version 0xe but this version of numpy is 0xd",
     "output_type": "error",
     "traceback": [
      "\u001b[0;31m---------------------------------------------------------------------------\u001b[0m",
      "\u001b[0;31mRuntimeError\u001b[0m                              Traceback (most recent call last)",
      "\u001b[0;31mRuntimeError\u001b[0m: module compiled against API version 0xe but this version of numpy is 0xd"
     ]
    },
    {
     "ename": "RuntimeError",
     "evalue": "module compiled against API version 0xe but this version of numpy is 0xd",
     "output_type": "error",
     "traceback": [
      "\u001b[0;31m---------------------------------------------------------------------------\u001b[0m",
      "\u001b[0;31mRuntimeError\u001b[0m                              Traceback (most recent call last)",
      "\u001b[0;31mRuntimeError\u001b[0m: module compiled against API version 0xe but this version of numpy is 0xd"
     ]
    },
    {
     "name": "stdout",
     "output_type": "stream",
     "text": [
      "Cython              brain_numpy_core_numerictypes json                random\n",
      "IPython             brain_numpy_core_umath json5               re\n",
      "OpenSSL             brain_numpy_ndarray jsonschema          readline\n",
      "PIL                 brain_numpy_random_mtrand jupyter             regex\n",
      "PyQt5               brain_numpy_utils   jupyter_client      repo_cli\n",
      "__future__          brain_pkg_resources jupyter_console     reprlib\n",
      "_abc                brain_pytest        jupyter_contrib_core requests\n",
      "_ast                brain_qt            jupyter_contrib_nbextensions requests_oauthlib\n",
      "_asyncio            brain_random        jupyter_core        resource\n",
      "_bisect             brain_re            jupyter_highlight_selected_word rlcompleter\n",
      "_black_version      brain_responses     jupyter_nbextensions_configurator rmagic\n",
      "_blake2             brain_scipy_signal  jupyter_packaging   rope\n",
      "_bootlocale         brain_six           jupyter_server      rsa\n",
      "_brotli             brain_sqlalchemy    jupyterlab          rtree\n",
      "_bz2                brain_ssl           jupyterlab_plotly   ruamel_yaml\n",
      "_cffi_backend       brain_subprocess    jupyterlab_pygments runpy\n",
      "_codecs             brain_threading     jupyterlab_server   sched\n",
      "_codecs_cn          brain_type          jupyterlab_widgets  scipy\n",
      "_codecs_hk          brain_typing        jupyterthemes       scripts\n",
      "_codecs_iso2022     brain_uuid          kaleido             seaborn\n",
      "_codecs_jp          brotli              keras               secrets\n",
      "_codecs_kr          bs4                 keras_preprocessing secretstorage\n",
      "_codecs_tw          builtins            keyring             select\n",
      "_collections        bz2                 keyword             selectors\n",
      "_collections_abc    cProfile            kiwisolver          send2trash\n",
      "_compat_pickle      cachetools          latex_envs          setuptools\n",
      "_compression        calendar            lazy_object_proxy   shelve\n",
      "_contextvars        certifi             lesscpy             shlex\n",
      "_crypt              cffi                lib2to3             shutil\n",
      "_csv                cgi                 libarchive          signal\n",
      "_ctypes             cgitb               libfuturize         simplegeneric\n",
      "_ctypes_test        chardet             libpasteurize       singledispatch\n",
      "_curses             chunk               lief                sip\n",
      "_curses_panel       click               linecache           sipconfig\n",
      "_datetime           cloudpickle         llvmlite            sipdistutils\n",
      "_decimal            clyent              locale              site\n",
      "_distutils_hack     cmath               locket              six\n",
      "_dummy_thread       cmd                 logging             skimage\n",
      "_elementtree        code                lxml                sklearn\n",
      "_functools          codecs              lz4                 smtpd\n",
      "_hashlib            codeop              lzma                smtplib\n",
      "_heapq              collections         mailbox             sndhdr\n",
      "_imp                colorama            mailcap             sniffio\n",
      "_io                 colorsys            markdown            snowballstemmer\n",
      "_json               compileall          markupsafe          socket\n",
      "_locale             concurrent          marshal             socketserver\n",
      "_lsprof             conda               math                socks\n",
      "_lzma               conda_build         matplotlib          sockshandler\n",
      "_markupbase         conda_content_trust matplotlib_inline   sortedcollections\n",
      "_md5                conda_env           mccabe              sortedcontainers\n",
      "_multibytecodec     conda_package_handling mimetypes           soupsieve\n",
      "_multiprocessing    conda_token         missingno           sphinx\n",
      "_mysql_connector    conda_verify        mistune             sphinxcontrib\n",
      "_mysqlxpb           conf                mkl                 sphinxify\n",
      "_opcode             configparser        mkl_fft             sphinxthread\n",
      "_operator           contextlib          mkl_random          spwd\n",
      "_osx_support        contextlib2         mlxtend             spyder\n",
      "_pickle             contextvars         mmap                spyder_kernels\n",
      "_plotly_future_     copy                mock                sqlalchemy\n",
      "_plotly_utils       copyreg             modulefinder        sqlite3\n",
      "_posixshmem         crypt               more_itertools      squarify\n",
      "_posixsubprocess    cryptography        mpmath              sre_compile\n",
      "_py_abc             csv                 msgpack             sre_constants\n",
      "_pydecimal          ctypes              multimethod         sre_parse\n",
      "_pyio               curl                multipledispatch    ssl\n",
      "_pyrsistent_version curses              multiprocessing     stat\n",
      "_pytest             cv2                 mypy_extensions     statistics\n",
      "_queue              cycler              mysql               statsmodels\n",
      "_random             cython              mysqlx              storemagic\n",
      "_sha1               cythonmagic         navigator_updater   string\n",
      "_sha256             cytoolz             nbclassic           stringprep\n",
      "_sha3               dash                nbclient            strsimpy\n",
      "_sha512             dash_bootstrap_components nbconvert           struct\n",
      "_signal             dash_colorscales    nbformat            subprocess\n",
      "_sitebuiltins       dash_core_components nest_asyncio        sunau\n",
      "_socket             dash_daq            netrc               sweetviz\n",
      "_sqlite3            dash_html_components networkx            symbol\n",
      "_sre                dash_table          nis                 sympy\n",
      "_ssl                dask                nltk                sympyprinting\n",
      "_stat               dataclasses         nntplib             symtable\n",
      "_statistics         datetime            nose                sys\n",
      "_string             dateutil            notebook            sysconfig\n",
      "_strptime           dbm                 ntpath              syslog\n",
      "_struct             debugpy             nturl2path          tables\n",
      "_symtable           decimal             numba               tabnanny\n",
      "_sysconfigdata__linux_x86_64-linux-gnu decorator           numbers             tangled_up_in_unicode\n",
      "_sysconfigdata_aarch64_conda_cos7_linux_gnu defusedxml          numexpr             tarfile\n",
      "_sysconfigdata_aarch64_conda_linux_gnu diff_match_patch    numpy               tblib\n",
      "_sysconfigdata_i686_conda_cos6_linux_gnu difflib             numpydoc            telnetlib\n",
      "_sysconfigdata_powerpc64le_conda_cos7_linux_gnu dis                 oauthlib            tempfile\n",
      "_sysconfigdata_s390x_conda_cos7_linux_gnu distributed         olefile             tenacity\n",
      "_sysconfigdata_s390x_conda_linux_gnu distutils           opcode              tensorboard\n",
      "_sysconfigdata_x86_64_apple_darwin13_4_0 doctest             openpyxl            tensorboard_data_server\n",
      "_sysconfigdata_x86_64_conda_cos6_linux_gnu docutils            operator            tensorboard_plugin_wit\n",
      "_testbuffer         dtale               opt_einsum          tensorflow\n",
      "_testcapi           dummy_threading     optparse            tensorflow_estimator\n",
      "_testimportmultiple easygui             os                  termcolor\n",
      "_testinternalcapi   email               ossaudiodev         terminado\n",
      "_testmultiphase     emoji               packaging           termios\n",
      "_thread             encodings           pandas              test\n",
      "_threading_local    ensurepip           pandas_profiling    test_data\n",
      "_tkinter            entrypoints         pandocfilters       test_pycosat\n",
      "_tracemalloc        enum                parser              testpath\n",
      "_warnings           erfa                parso               tests\n",
      "_weakref            errno               partd               textdistance\n",
      "_weakrefset         et_xmlfile          past                textwrap\n",
      "_xxsubinterpreters  fastcache           pasta               this\n",
      "_xxtestfuzz         faulthandler        path                threading\n",
      "_yaml               fcntl               pathlib             threadpoolctl\n",
      "abc                 filecmp             pathlib2            three_merge\n",
      "absl                fileinput           pathspec            tifffile\n",
      "aifc                filelock            patsy               time\n",
      "alabaster           flake8              pdb                 timeit\n",
      "anaconda_navigator  flask               pep8                tkinter\n"
     ]
    },
    {
     "name": "stdout",
     "output_type": "stream",
     "text": [
      "anaconda_project    flask_compress      pexpect             tlz\n",
      "antigravity         flask_ngrok         phik                token\n",
      "anyio               flask_sqlalchemy    pickle              tokenize\n",
      "appdirs             flatbuffers         pickleshare         toml\n",
      "argh                fnmatch             pickletools         toolz\n",
      "argon2              formatter           pip                 tornado\n",
      "argparse            fractions           pipes               tqdm\n",
      "array               fsspec              pkg_resources       trace\n",
      "asn1crypto          ftplib              pkginfo             traceback\n",
      "ast                 functools           pkgutil             tracemalloc\n",
      "astroid             future              platform            traitlets\n",
      "astropy             gast                plistlib            tty\n",
      "astunparse          gc                  plotly              turtle\n",
      "async_generator     genericpath         plotlywidget        turtledemo\n",
      "asynchat            getopt              pluggy              typed_ast\n",
      "asyncio             getpass             ply                 types\n",
      "asyncore            gettext             poplib              typing\n",
      "atexit              gevent              posix               typing_extensions\n",
      "atomicwrites        glob                posixpath           ujson\n",
      "attr                glob2               pprint              unicodecsv\n",
      "audioop             gmpy2               ppscore             unicodedata\n",
      "autopep8            google_auth_oauthlib profile             unittest\n",
      "autoreload          greenlet            prometheus_client   urllib\n",
      "babel               grp                 prompt_toolkit      urllib3\n",
      "backcall            grpc                pstats              uu\n",
      "backports           gunicorn            psutil              uuid\n",
      "base64              gzip                pty                 venv\n",
      "bdb                 h5py                ptyprocess          visions\n",
      "binascii            hashlib             pvectorc            warnings\n",
      "binhex              heapdict            pwd                 watchdog\n",
      "binstar_client      heapq               py                  wave\n",
      "bisect              hmac                py_compile          wcwidth\n",
      "bitarray            html                pyasn1              weakref\n",
      "bkcharts            html5lib            pyasn1_modules      webbrowser\n",
      "black               htmlmin             pyclbr              webencodings\n",
      "blackd              http                pycodestyle         werkzeug\n",
      "bleach              idlelib             pycosat             wheel\n",
      "blib2to3            idna                pycparser           widgetsnbextension\n",
      "bokeh               imagehash           pycurl              wrapt\n",
      "boto                imageio             pydantic            wsgiref\n",
      "bottleneck          imagesize           pydoc               wurlitzer\n",
      "brain_argparse      imaplib             pydoc_data          xarray\n",
      "brain_attrs         imghdr              pydocstyle          xdg\n",
      "brain_boto3         imp                 pyexpat             xdrlib\n",
      "brain_builtin_inference importlib           pyflakes            xlrd\n",
      "brain_collections   importlib_metadata  pygments            xlsxwriter\n",
      "brain_crypt         importlib_resources pylab               xlwt\n",
      "brain_curses        iniconfig           pylint              xml\n",
      "brain_dataclasses   inspect             pyls                xmlrpc\n",
      "brain_dateutil      intervaltree        pyls_black          xmltodict\n",
      "brain_fstrings      io                  pyls_jsonrpc        xxlimited\n",
      "brain_functools     ipaddress           pyls_spyder         xxsubtype\n",
      "brain_gi            ipykernel           pyodbc              yaml\n",
      "brain_hashlib       ipykernel_launcher  pyparsing           yapf\n",
      "brain_http          ipython_genutils    pyrsistent          yapftests\n",
      "brain_hypothesis    ipywidgets          pytest              zict\n",
      "brain_io            isort               pytz                zipapp\n",
      "brain_mechanize     isympy              pywt                zipfile\n",
      "brain_multiprocessing itertools           pyximport           zipimport\n",
      "brain_namedtuple_enum itsdangerous        qdarkstyle          zipp\n",
      "brain_nose          jdcal               qtawesome           zlib\n",
      "brain_numpy_core_fromnumeric jedi                qtconsole           zmq\n",
      "brain_numpy_core_function_base jeepney             qtpy                zope\n",
      "brain_numpy_core_multiarray jinja2              queue               \n",
      "brain_numpy_core_numeric joblib              quopri              \n",
      "\n",
      "Enter any module name to get more help.  Or, type \"modules spam\" to search\n",
      "for modules whose name or summary contain the string \"spam\".\n",
      "\n"
     ]
    }
   ],
   "source": [
    "import warnings\n",
    "warnings.filterwarnings(\"ignore\")\n",
    "help(\"modules\")"
   ]
  },
  {
   "cell_type": "code",
   "execution_count": 63,
   "id": "c25a48f9",
   "metadata": {},
   "outputs": [],
   "source": [
    "import math"
   ]
  },
  {
   "cell_type": "code",
   "execution_count": 68,
   "id": "b8d0323c",
   "metadata": {},
   "outputs": [
    {
     "name": "stdout",
     "output_type": "stream",
     "text": [
      "3.141592653589793\n",
      "120\n",
      "5.0\n"
     ]
    }
   ],
   "source": [
    "print(math.pi)\n",
    "print(math.factorial(5))\n",
    "print(math.sqrt(25))"
   ]
  },
  {
   "cell_type": "code",
   "execution_count": 77,
   "id": "e65e1687",
   "metadata": {},
   "outputs": [
    {
     "name": "stdout",
     "output_type": "stream",
     "text": [
      "[3, 5, 2, 4, 1]\n"
     ]
    }
   ],
   "source": [
    "import random\n",
    "a=[1,2,3,4,5]\n",
    "random.shuffle(a)\n",
    "print(a)"
   ]
  },
  {
   "cell_type": "code",
   "execution_count": 83,
   "id": "dddc47c4",
   "metadata": {},
   "outputs": [
    {
     "data": {
      "text/plain": [
       "'Sat Jan 15 12:55:59 2022'"
      ]
     },
     "execution_count": 83,
     "metadata": {},
     "output_type": "execute_result"
    }
   ],
   "source": [
    "import time\n",
    "time.ctime()"
   ]
  },
  {
   "cell_type": "code",
   "execution_count": 93,
   "id": "80d444ce",
   "metadata": {},
   "outputs": [
    {
     "data": {
      "text/plain": [
       "1642231680.1681697"
      ]
     },
     "execution_count": 93,
     "metadata": {},
     "output_type": "execute_result"
    }
   ],
   "source": [
    "time.time()"
   ]
  },
  {
   "cell_type": "code",
   "execution_count": 95,
   "id": "a4f58f5e",
   "metadata": {},
   "outputs": [
    {
     "name": "stdout",
     "output_type": "stream",
     "text": [
      "Hello\n",
      "shivansh\n"
     ]
    }
   ],
   "source": [
    "print(\"Hello\")\n",
    "time.sleep(5)\n",
    "print(\"shivansh\")"
   ]
  },
  {
   "cell_type": "code",
   "execution_count": 100,
   "id": "471e0e86",
   "metadata": {},
   "outputs": [
    {
     "name": "stdout",
     "output_type": "stream",
     "text": [
      "/home/shivansh/Downloads/ML/Code/Python\n",
      "\n",
      "['Untitled.ipynb', 'employee_salaries.ipynb', 'Python course notes Sections 1-7.pdf', '.ipynb_checkpoints', 'Linear Regression Quest.ipynb']\n"
     ]
    }
   ],
   "source": [
    "import os \n",
    "print(os.getcwd())\n",
    "print()\n",
    "print(os.listdir())"
   ]
  },
  {
   "cell_type": "markdown",
   "id": "b982682c",
   "metadata": {},
   "source": [
    "<img src=\"https://lucdn.letsupgrade.net/Million_Min_Watched_7c8d4849d0.webp\" width=200/>"
   ]
  },
  {
   "cell_type": "markdown",
   "id": "8a7c31b4",
   "metadata": {},
   "source": [
    "Strings are sequence of Characters\n",
    "\n",
    "In Python specifically, strings are a sequence of Unicode Characters\n",
    "\n",
    "- Creating Strings\n",
    "- Accessing Strings\n",
    "- Adding Chars to Strings\n",
    "- Editing Strings\n",
    "- Deleting Strings\n",
    "- Operations on Strings\n",
    "- String Functions"
   ]
  },
  {
   "cell_type": "code",
   "execution_count": 116,
   "id": "f9fc23a5",
   "metadata": {},
   "outputs": [
    {
     "name": "stdout",
     "output_type": "stream",
     "text": [
      "shivansh Kumar\n",
      "Hi this'is shivansh \n",
      "Hello i'am here to say something\"s\n",
      "I am here to say not anything\n",
      "\n"
     ]
    }
   ],
   "source": [
    "# Creating a strings\n",
    "\n",
    "a='shivansh Kumar'\n",
    "print(a)\n",
    "\n",
    "b=\"Hi this'is shivansh \"\n",
    "print(b)\n",
    "c=\"\"\"Hello i'am here to say something\"s\n",
    "I am here to say not anything\n",
    "\"\"\" # Multiline string\n",
    "print(c)"
   ]
  },
  {
   "cell_type": "code",
   "execution_count": 132,
   "id": "a7d38454",
   "metadata": {},
   "outputs": [
    {
     "name": "stdout",
     "output_type": "stream",
     "text": [
      "s\n",
      "sh\n",
      "r\n",
      "shivansh Kumar\n",
      "sh\n",
      "sias ua\n",
      "ramuK hsnavihs\n",
      "ramuK hsnavihs\n"
     ]
    }
   ],
   "source": [
    "# Accessing string\n",
    "print(a[0])\n",
    "print(a[0:2])\n",
    "print(a[-1])\n",
    "print(a[0:])\n",
    "print(a[:2])\n",
    "print(a[::2])\n",
    "print(a[::-1])\n",
    "print(a[14::-1])"
   ]
  },
  {
   "cell_type": "code",
   "execution_count": 126,
   "id": "3c8f2b1a",
   "metadata": {},
   "outputs": [
    {
     "data": {
      "text/plain": [
       "14"
      ]
     },
     "execution_count": 126,
     "metadata": {},
     "output_type": "execute_result"
    }
   ],
   "source": [
    "len(a)"
   ]
  },
  {
   "cell_type": "code",
   "execution_count": 137,
   "id": "5b0eb6f9",
   "metadata": {},
   "outputs": [
    {
     "name": "stdout",
     "output_type": "stream",
     "text": [
      "hello\n"
     ]
    },
    {
     "ename": "TypeError",
     "evalue": "'str' object does not support item assignment",
     "output_type": "error",
     "traceback": [
      "\u001b[0;31m---------------------------------------------------------------------------\u001b[0m",
      "\u001b[0;31mTypeError\u001b[0m                                 Traceback (most recent call last)",
      "\u001b[0;32m/tmp/ipykernel_131877/1440234370.py\u001b[0m in \u001b[0;36m<module>\u001b[0;34m\u001b[0m\n\u001b[1;32m      6\u001b[0m \u001b[0mprint\u001b[0m\u001b[0;34m(\u001b[0m\u001b[0ma\u001b[0m\u001b[0;34m)\u001b[0m\u001b[0;34m\u001b[0m\u001b[0;34m\u001b[0m\u001b[0m\n\u001b[1;32m      7\u001b[0m \u001b[0;34m\u001b[0m\u001b[0m\n\u001b[0;32m----> 8\u001b[0;31m \u001b[0ma\u001b[0m\u001b[0;34m[\u001b[0m\u001b[0;36m0\u001b[0m\u001b[0;34m]\u001b[0m \u001b[0;34m=\u001b[0m \u001b[0;34m\"h\"\u001b[0m\u001b[0;34m\u001b[0m\u001b[0;34m\u001b[0m\u001b[0m\n\u001b[0m",
      "\u001b[0;31mTypeError\u001b[0m: 'str' object does not support item assignment"
     ]
    }
   ],
   "source": [
    "# Editing and deleting Strings\n",
    "\n",
    "# Editing is not support by string\n",
    "\n",
    "a=\"hello\"\n",
    "print(a)\n",
    "\n",
    "a[0] = \"h\""
   ]
  },
  {
   "cell_type": "code",
   "execution_count": 143,
   "id": "da95b90f",
   "metadata": {},
   "outputs": [
    {
     "ename": "NameError",
     "evalue": "name 'a' is not defined",
     "output_type": "error",
     "traceback": [
      "\u001b[0;31m---------------------------------------------------------------------------\u001b[0m",
      "\u001b[0;31mNameError\u001b[0m                                 Traceback (most recent call last)",
      "\u001b[0;32m/tmp/ipykernel_131877/1078570069.py\u001b[0m in \u001b[0;36m<module>\u001b[0;34m\u001b[0m\n\u001b[1;32m      1\u001b[0m \u001b[0;31m# ALL Deleting is supported but a part of deletion of string is not supported\u001b[0m\u001b[0;34m\u001b[0m\u001b[0;34m\u001b[0m\u001b[0;34m\u001b[0m\u001b[0m\n\u001b[1;32m      2\u001b[0m \u001b[0;34m\u001b[0m\u001b[0m\n\u001b[0;32m----> 3\u001b[0;31m \u001b[0mprint\u001b[0m\u001b[0;34m(\u001b[0m\u001b[0ma\u001b[0m\u001b[0;34m)\u001b[0m\u001b[0;34m\u001b[0m\u001b[0;34m\u001b[0m\u001b[0m\n\u001b[0m\u001b[1;32m      4\u001b[0m \u001b[0;32mdel\u001b[0m \u001b[0ma\u001b[0m\u001b[0;34m\u001b[0m\u001b[0;34m\u001b[0m\u001b[0m\n\u001b[1;32m      5\u001b[0m \u001b[0mprint\u001b[0m\u001b[0;34m(\u001b[0m\u001b[0ma\u001b[0m\u001b[0;34m)\u001b[0m\u001b[0;34m\u001b[0m\u001b[0;34m\u001b[0m\u001b[0m\n",
      "\u001b[0;31mNameError\u001b[0m: name 'a' is not defined"
     ]
    }
   ],
   "source": [
    "# ALL Deleting is supported but a part of deletion of string is not supported\n",
    "\n",
    "print(a)\n",
    "del a\n",
    "print(a)\n",
    "# print(id(a))"
   ]
  },
  {
   "cell_type": "code",
   "execution_count": 144,
   "id": "438439df",
   "metadata": {},
   "outputs": [
    {
     "ename": "TypeError",
     "evalue": "'str' object does not support item deletion",
     "output_type": "error",
     "traceback": [
      "\u001b[0;31m---------------------------------------------------------------------------\u001b[0m",
      "\u001b[0;31mTypeError\u001b[0m                                 Traceback (most recent call last)",
      "\u001b[0;32m/tmp/ipykernel_131877/1713352300.py\u001b[0m in \u001b[0;36m<module>\u001b[0;34m\u001b[0m\n\u001b[1;32m      1\u001b[0m \u001b[0ma\u001b[0m\u001b[0;34m=\u001b[0m\u001b[0;34m\"Hello\"\u001b[0m\u001b[0;34m\u001b[0m\u001b[0;34m\u001b[0m\u001b[0m\n\u001b[0;32m----> 2\u001b[0;31m \u001b[0;32mdel\u001b[0m \u001b[0ma\u001b[0m\u001b[0;34m[\u001b[0m\u001b[0;36m0\u001b[0m\u001b[0;34m:\u001b[0m\u001b[0;36m2\u001b[0m\u001b[0;34m]\u001b[0m\u001b[0;34m\u001b[0m\u001b[0;34m\u001b[0m\u001b[0m\n\u001b[0m",
      "\u001b[0;31mTypeError\u001b[0m: 'str' object does not support item deletion"
     ]
    }
   ],
   "source": [
    "a=\"Hello\"\n",
    "del a[0:2]"
   ]
  },
  {
   "cell_type": "markdown",
   "id": "471c4efb",
   "metadata": {},
   "source": [
    "Operations on Strings\n",
    "- Arithmetic Operations\n",
    "- Relational Operations\n",
    "- Logical Operations\n",
    "- Loops on Strings\n",
    "- Membership Operations"
   ]
  },
  {
   "cell_type": "code",
   "execution_count": 151,
   "id": "367266ec",
   "metadata": {},
   "outputs": [
    {
     "data": {
      "text/plain": [
       "'Hello-World'"
      ]
     },
     "execution_count": 151,
     "metadata": {},
     "output_type": "execute_result"
    }
   ],
   "source": [
    "\"Hello\" + \"-\" + \"World\""
   ]
  },
  {
   "cell_type": "code",
   "execution_count": 155,
   "id": "b7b375d0",
   "metadata": {},
   "outputs": [
    {
     "data": {
      "text/plain": [
       "'Shivansh Shivansh Shivansh Shivansh '"
      ]
     },
     "execution_count": 155,
     "metadata": {},
     "output_type": "execute_result"
    }
   ],
   "source": [
    "\"Shivansh \" * 4 "
   ]
  },
  {
   "cell_type": "code",
   "execution_count": 165,
   "id": "7c7c9b26",
   "metadata": {},
   "outputs": [
    {
     "data": {
      "text/plain": [
       "' *  *  *  *  *  *  *  *  *  *  *  *  *  *  *  *  *  *  *  *  *  *  *  *  *  *  *  *  *  *  *  *  *  *  *  *  *  *  *  *  *  *  *  *  *  *  *  *  *  *  *  *  *  *  *  *  *  *  *  *  *  *  *  *  *  *  *  *  *  *  *  *  *  *  *  *  *  *  *  *  *  *  *  *  *  *  *  *  *  *  *  *  *  *  *  *  *  *  *  * '"
      ]
     },
     "execution_count": 165,
     "metadata": {},
     "output_type": "execute_result"
    }
   ],
   "source": [
    "\" * \"  * 100"
   ]
  },
  {
   "cell_type": "code",
   "execution_count": 171,
   "id": "a99765fd",
   "metadata": {},
   "outputs": [
    {
     "name": "stdout",
     "output_type": "stream",
     "text": [
      "  *     *     *     *     *     *     *     *     *     *     *     *     *     *     *     *     *     *     *     *     *     *     *     *     *     *     *     *     *     *     *     *     *     *     *     *     *     *     *     *     *     *     *     *     *     *     *     *     *     *   "
     ]
    }
   ],
   "source": [
    "for i in \" * \"  * 50:\n",
    "    print(i,end=\" \")"
   ]
  },
  {
   "cell_type": "code",
   "execution_count": 172,
   "id": "2a77f11e",
   "metadata": {},
   "outputs": [
    {
     "data": {
      "text/plain": [
       "False"
      ]
     },
     "execution_count": 172,
     "metadata": {},
     "output_type": "execute_result"
    }
   ],
   "source": [
    "\"Shivansh\" == \"Shivam\""
   ]
  },
  {
   "cell_type": "code",
   "execution_count": 173,
   "id": "2f5e8839",
   "metadata": {},
   "outputs": [
    {
     "data": {
      "text/plain": [
       "True"
      ]
     },
     "execution_count": 173,
     "metadata": {},
     "output_type": "execute_result"
    }
   ],
   "source": [
    "\"Shivansh\" > \"Shivam\""
   ]
  },
  {
   "cell_type": "code",
   "execution_count": 174,
   "id": "14772bb0",
   "metadata": {},
   "outputs": [
    {
     "data": {
      "text/plain": [
       "True"
      ]
     },
     "execution_count": 174,
     "metadata": {},
     "output_type": "execute_result"
    }
   ],
   "source": [
    "\"Goa\" < \"Patna\""
   ]
  },
  {
   "cell_type": "code",
   "execution_count": 175,
   "id": "5860f091",
   "metadata": {},
   "outputs": [
    {
     "data": {
      "text/plain": [
       "'world'"
      ]
     },
     "execution_count": 175,
     "metadata": {},
     "output_type": "execute_result"
    }
   ],
   "source": [
    "\"hello\" and \"world\""
   ]
  },
  {
   "cell_type": "code",
   "execution_count": 176,
   "id": "f1b13cf9",
   "metadata": {},
   "outputs": [
    {
     "data": {
      "text/plain": [
       "'hello'"
      ]
     },
     "execution_count": 176,
     "metadata": {},
     "output_type": "execute_result"
    }
   ],
   "source": [
    "\"hello\" or \"world\""
   ]
  },
  {
   "cell_type": "code",
   "execution_count": 178,
   "id": "f0c943fd",
   "metadata": {},
   "outputs": [],
   "source": [
    "# \"\" --> False\n",
    "# \"ttttt\" --> True"
   ]
  },
  {
   "cell_type": "code",
   "execution_count": 179,
   "id": "ca03433e",
   "metadata": {},
   "outputs": [
    {
     "name": "stdout",
     "output_type": "stream",
     "text": [
      "H\n",
      "e\n",
      "l\n",
      "l\n",
      "o\n",
      " \n",
      "S\n",
      "h\n",
      "i\n",
      "v\n",
      "a\n",
      "n\n",
      "s\n",
      "h\n"
     ]
    }
   ],
   "source": [
    "x=\"Hello Shivansh\"\n",
    "\n",
    "for i in x:\n",
    "    print(i)"
   ]
  },
  {
   "cell_type": "code",
   "execution_count": 181,
   "id": "84d7401e",
   "metadata": {},
   "outputs": [
    {
     "data": {
      "text/plain": [
       "True"
      ]
     },
     "execution_count": 181,
     "metadata": {},
     "output_type": "execute_result"
    }
   ],
   "source": [
    "\"h\" in x"
   ]
  },
  {
   "cell_type": "code",
   "execution_count": 182,
   "id": "d1106d42",
   "metadata": {},
   "outputs": [
    {
     "data": {
      "text/plain": [
       "False"
      ]
     },
     "execution_count": 182,
     "metadata": {},
     "output_type": "execute_result"
    }
   ],
   "source": [
    "\"h\" not in x"
   ]
  },
  {
   "cell_type": "markdown",
   "id": "11fd8fe8",
   "metadata": {},
   "source": [
    "###### String Function\n",
    "Common Functions\n",
    "- len\n",
    "- max\n",
    "- min\n",
    "- sorted"
   ]
  },
  {
   "cell_type": "code",
   "execution_count": 192,
   "id": "4719c056",
   "metadata": {},
   "outputs": [
    {
     "name": "stdout",
     "output_type": "stream",
     "text": [
      "14\n",
      "v\n",
      "-\n",
      "['-', 'a', 'a', 'h', 'h', 'i', 'k', 'm', 'n', 'r', 's', 's', 'u', 'v']\n",
      "['v', 'u', 's', 's', 'r', 'n', 'm', 'k', 'i', 'h', 'h', 'a', 'a', '-']\n"
     ]
    }
   ],
   "source": [
    "a=\"shivansh-kumar\"\n",
    "print(len(a))\n",
    "print(max(a))\n",
    "print(min(a))\n",
    "print(sorted(a))\n",
    "print(sorted(a,reverse=True))"
   ]
  },
  {
   "cell_type": "markdown",
   "id": "c39ec01c",
   "metadata": {},
   "source": [
    "1. Capitalize/Title/Upper/Lower/Swapcase"
   ]
  },
  {
   "cell_type": "code",
   "execution_count": 209,
   "id": "cc18d2e0",
   "metadata": {},
   "outputs": [
    {
     "name": "stdout",
     "output_type": "stream",
     "text": [
      "shivansh-kumar\n",
      "Shivansh-kumar\n",
      "Shivansh-Kumar\n",
      "`hivan`h-kumar\n",
      "SHIVANSH-KUMAR\n",
      "shivansh-kumar\n",
      "SHIVANSH-KUMAR\n"
     ]
    }
   ],
   "source": [
    "print(a)\n",
    "print(a.capitalize())\n",
    "print(a.title())\n",
    "print(a.translate({115:96})) # ord(\"s\")\n",
    "print(a.upper())\n",
    "print(a.lower())\n",
    "print(a.swapcase()) #Convert uppercase  to lowercase and lowercase  to uppercase."
   ]
  },
  {
   "cell_type": "markdown",
   "id": "3ae3c03e",
   "metadata": {},
   "source": [
    "2. Count"
   ]
  },
  {
   "cell_type": "code",
   "execution_count": 214,
   "id": "754eb945",
   "metadata": {},
   "outputs": [
    {
     "data": {
      "text/plain": [
       "2"
      ]
     },
     "execution_count": 214,
     "metadata": {},
     "output_type": "execute_result"
    }
   ],
   "source": [
    "\"shivansh\".count(\"s\")"
   ]
  },
  {
   "cell_type": "code",
   "execution_count": 216,
   "id": "6f24312e",
   "metadata": {},
   "outputs": [
    {
     "data": {
      "text/plain": [
       "2"
      ]
     },
     "execution_count": 216,
     "metadata": {},
     "output_type": "execute_result"
    }
   ],
   "source": [
    "a.count(\"h\")"
   ]
  },
  {
   "cell_type": "markdown",
   "id": "e22eed5c",
   "metadata": {},
   "source": [
    "3. Find/Index\n",
    "- Find return -1 if string is not find(If Find then Give index).\n",
    "- Index through error if string is not find."
   ]
  },
  {
   "cell_type": "code",
   "execution_count": 223,
   "id": "bf100e84",
   "metadata": {},
   "outputs": [
    {
     "name": "stdout",
     "output_type": "stream",
     "text": [
      "shivansh-kumar\n",
      "2\n",
      "-1\n"
     ]
    }
   ],
   "source": [
    "print(a)\n",
    "print(a.find(\"i\"))\n",
    "print(a.find(\"x\"))"
   ]
  },
  {
   "cell_type": "code",
   "execution_count": 224,
   "id": "5a66b12e",
   "metadata": {},
   "outputs": [
    {
     "name": "stdout",
     "output_type": "stream",
     "text": [
      "shivansh-kumar\n",
      "2\n"
     ]
    },
    {
     "ename": "ValueError",
     "evalue": "substring not found",
     "output_type": "error",
     "traceback": [
      "\u001b[0;31m---------------------------------------------------------------------------\u001b[0m",
      "\u001b[0;31mValueError\u001b[0m                                Traceback (most recent call last)",
      "\u001b[0;32m/tmp/ipykernel_131877/2322039237.py\u001b[0m in \u001b[0;36m<module>\u001b[0;34m\u001b[0m\n\u001b[1;32m      1\u001b[0m \u001b[0mprint\u001b[0m\u001b[0;34m(\u001b[0m\u001b[0ma\u001b[0m\u001b[0;34m)\u001b[0m\u001b[0;34m\u001b[0m\u001b[0;34m\u001b[0m\u001b[0m\n\u001b[1;32m      2\u001b[0m \u001b[0mprint\u001b[0m\u001b[0;34m(\u001b[0m\u001b[0ma\u001b[0m\u001b[0;34m.\u001b[0m\u001b[0mindex\u001b[0m\u001b[0;34m(\u001b[0m\u001b[0;34m\"i\"\u001b[0m\u001b[0;34m)\u001b[0m\u001b[0;34m)\u001b[0m\u001b[0;34m\u001b[0m\u001b[0;34m\u001b[0m\u001b[0m\n\u001b[0;32m----> 3\u001b[0;31m \u001b[0mprint\u001b[0m\u001b[0;34m(\u001b[0m\u001b[0ma\u001b[0m\u001b[0;34m.\u001b[0m\u001b[0mindex\u001b[0m\u001b[0;34m(\u001b[0m\u001b[0;34m\"x\"\u001b[0m\u001b[0;34m)\u001b[0m\u001b[0;34m)\u001b[0m\u001b[0;34m\u001b[0m\u001b[0;34m\u001b[0m\u001b[0m\n\u001b[0m",
      "\u001b[0;31mValueError\u001b[0m: substring not found"
     ]
    }
   ],
   "source": [
    "print(a)\n",
    "print(a.index(\"i\"))\n",
    "print(a.index(\"x\"))"
   ]
  },
  {
   "cell_type": "markdown",
   "id": "a9d5c611",
   "metadata": {},
   "source": [
    "4. endswith/startswith"
   ]
  },
  {
   "cell_type": "code",
   "execution_count": 225,
   "id": "66385221",
   "metadata": {},
   "outputs": [
    {
     "data": {
      "text/plain": [
       "True"
      ]
     },
     "execution_count": 225,
     "metadata": {},
     "output_type": "execute_result"
    }
   ],
   "source": [
    "\"It is shining\".endswith(\"ing\")"
   ]
  },
  {
   "cell_type": "code",
   "execution_count": 233,
   "id": "6f7d1243",
   "metadata": {},
   "outputs": [
    {
     "data": {
      "text/plain": [
       "True"
      ]
     },
     "execution_count": 233,
     "metadata": {},
     "output_type": "execute_result"
    }
   ],
   "source": [
    "\"it is shining\".startswith(\"it\")"
   ]
  },
  {
   "cell_type": "markdown",
   "id": "cab97121",
   "metadata": {},
   "source": [
    "5. isalnum/ isalpha/ isdecimal/ isdigit/ isidentifier"
   ]
  },
  {
   "cell_type": "code",
   "execution_count": 248,
   "id": "0ad7f48f",
   "metadata": {},
   "outputs": [
    {
     "name": "stdout",
     "output_type": "stream",
     "text": [
      "True\n",
      "True\n",
      "True\n",
      "True\n",
      "True\n"
     ]
    }
   ],
   "source": [
    "print(\"FLAT20\".isalnum())\n",
    "print(\"FLAT\".isalpha())\n",
    "print(\"19\".isdecimal())\n",
    "print(\"_\".isidentifier())\n",
    "print(\"20\".isdigit())"
   ]
  },
  {
   "cell_type": "markdown",
   "id": "8bb6652a",
   "metadata": {},
   "source": [
    "6.Replace"
   ]
  },
  {
   "cell_type": "code",
   "execution_count": 251,
   "id": "6a272ec2",
   "metadata": {},
   "outputs": [
    {
     "data": {
      "text/plain": [
       "'Hi my name is Shivansh'"
      ]
     },
     "execution_count": 251,
     "metadata": {},
     "output_type": "execute_result"
    }
   ],
   "source": [
    "\"Hi my name is Shivam\".replace(\"Shivam\",\"Shivansh\")"
   ]
  },
  {
   "cell_type": "markdown",
   "id": "d5b260f5",
   "metadata": {},
   "source": [
    "6. format"
   ]
  },
  {
   "cell_type": "code",
   "execution_count": 252,
   "id": "4cec8253",
   "metadata": {},
   "outputs": [
    {
     "data": {
      "text/plain": [
       "'Hi i am Shivansh and my age is 21'"
      ]
     },
     "execution_count": 252,
     "metadata": {},
     "output_type": "execute_result"
    }
   ],
   "source": [
    "\"Hi i am {} and my age is {}\".format(\"Shivansh\",\"21\")"
   ]
  },
  {
   "cell_type": "code",
   "execution_count": 256,
   "id": "3f4d2379",
   "metadata": {},
   "outputs": [
    {
     "data": {
      "text/plain": [
       "'Hi i am 21 and my age is Shivansh and also my weight is 75'"
      ]
     },
     "execution_count": 256,
     "metadata": {},
     "output_type": "execute_result"
    }
   ],
   "source": [
    "\"Hi i am {1} and my age is {0} and also my weight is {2}\".format(\"Shivansh\",\"21\",\"75\")"
   ]
  },
  {
   "cell_type": "code",
   "execution_count": 267,
   "id": "92559547",
   "metadata": {},
   "outputs": [
    {
     "data": {
      "text/plain": [
       "'Hi i am shivansh my age is 21'"
      ]
     },
     "execution_count": 267,
     "metadata": {},
     "output_type": "execute_result"
    }
   ],
   "source": [
    "\"Hi i am {name} my age is {age}\".format(name=\"shivansh\",age=21)"
   ]
  },
  {
   "cell_type": "code",
   "execution_count": 269,
   "id": "a9125f64",
   "metadata": {},
   "outputs": [
    {
     "data": {
      "text/plain": [
       "'Hi i am shivansh and my age is 21'"
      ]
     },
     "execution_count": 269,
     "metadata": {},
     "output_type": "execute_result"
    }
   ],
   "source": [
    "\"Hi i am {name} and my age is {age}\".format(name=\"shivansh\",age=21)"
   ]
  },
  {
   "cell_type": "markdown",
   "id": "2f94f648",
   "metadata": {},
   "source": [
    "7. Split"
   ]
  },
  {
   "cell_type": "code",
   "execution_count": 278,
   "id": "f39f9281",
   "metadata": {},
   "outputs": [
    {
     "data": {
      "text/plain": [
       "['Hi', 'this', 'is', 'shivansh']"
      ]
     },
     "execution_count": 278,
     "metadata": {},
     "output_type": "execute_result"
    }
   ],
   "source": [
    "\"Hi this is shivansh\".split()"
   ]
  },
  {
   "cell_type": "code",
   "execution_count": 282,
   "id": "d091663a",
   "metadata": {},
   "outputs": [
    {
     "data": {
      "text/plain": [
       "['Hi', 'this', 'is', 'shivansh']"
      ]
     },
     "execution_count": 282,
     "metadata": {},
     "output_type": "execute_result"
    }
   ],
   "source": [
    "\"Hi,this,is,shivansh\".split(\",\")"
   ]
  },
  {
   "cell_type": "markdown",
   "id": "fd169668",
   "metadata": {},
   "source": [
    "8. Join"
   ]
  },
  {
   "cell_type": "code",
   "execution_count": 285,
   "id": "2d5ca1bd",
   "metadata": {},
   "outputs": [
    {
     "data": {
      "text/plain": [
       "'Hi this is shivansh'"
      ]
     },
     "execution_count": 285,
     "metadata": {},
     "output_type": "execute_result"
    }
   ],
   "source": [
    "\" \".join(['Hi', 'this', 'is', 'shivansh'])"
   ]
  },
  {
   "cell_type": "code",
   "execution_count": 286,
   "id": "6dc245bc",
   "metadata": {},
   "outputs": [
    {
     "data": {
      "text/plain": [
       "'Hi,this,is,shivansh'"
      ]
     },
     "execution_count": 286,
     "metadata": {},
     "output_type": "execute_result"
    }
   ],
   "source": [
    "\",\".join(['Hi', 'this', 'is', 'shivansh'])"
   ]
  },
  {
   "cell_type": "markdown",
   "id": "2350ce9c",
   "metadata": {},
   "source": [
    "10. Strip"
   ]
  },
  {
   "cell_type": "code",
   "execution_count": 287,
   "id": "5ba3145d",
   "metadata": {},
   "outputs": [
    {
     "data": {
      "text/plain": [
       "'shivansh'"
      ]
     },
     "execution_count": 287,
     "metadata": {},
     "output_type": "execute_result"
    }
   ],
   "source": [
    "name =\"     shivansh       \"\n",
    "name.strip()"
   ]
  },
  {
   "cell_type": "markdown",
   "id": "8ff5ed07",
   "metadata": {},
   "source": [
    "<img src=\"https://c.tenor.com/2-GLn6a2GS8AAAAC/hera-pheri.gif\" />"
   ]
  },
  {
   "cell_type": "code",
   "execution_count": null,
   "id": "452f4f8f",
   "metadata": {},
   "outputs": [],
   "source": []
  }
 ],
 "metadata": {
  "kernelspec": {
   "display_name": "Python 3.8.8 64-bit ('base': conda)",
   "language": "python",
   "name": "python388jvsc74a57bd02c7ffa9c538f0bfb5740c89a215bcbde02033924243f3d233f0c9916449df403"
  },
  "language_info": {
   "codemirror_mode": {
    "name": "ipython",
    "version": 3
   },
   "file_extension": ".py",
   "mimetype": "text/x-python",
   "name": "python",
   "nbconvert_exporter": "python",
   "pygments_lexer": "ipython3",
   "version": "3.8.8"
  }
 },
 "nbformat": 4,
 "nbformat_minor": 5
}
