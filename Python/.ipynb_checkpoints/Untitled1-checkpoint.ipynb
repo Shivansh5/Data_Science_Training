{
 "cells": [
  {
   "cell_type": "code",
   "execution_count": 1,
   "id": "72b27641",
   "metadata": {},
   "outputs": [
    {
     "name": "stdout",
     "output_type": "stream",
     "text": [
      "/home/shivansh/anaconda3/bin/python3\r\n"
     ]
    }
   ],
   "source": [
    "! which python3\n"
   ]
  },
  {
   "cell_type": "code",
   "execution_count": 2,
   "id": "151a6519",
   "metadata": {},
   "outputs": [
    {
     "name": "stdout",
     "output_type": "stream",
     "text": [
      "Python 3.8.8 (default, Apr 13 2021, 19:58:26) \n",
      "[GCC 7.3.0] :: Anaconda, Inc. on linux\n",
      "Type \"help\", \"copyright\", \"credits\" or \"license\" for more information.\n",
      ">>> \n",
      "Traceback (most recent call last):\n",
      "  File \"<stdin>\", line 1, in <module>\n",
      "KeyboardInterrupt\n",
      ">>> "
     ]
    }
   ],
   "source": [
    "! /home/shivansh/anaconda3/bin/python3"
   ]
  },
  {
   "cell_type": "code",
   "execution_count": 3,
   "id": "ecdf808e",
   "metadata": {},
   "outputs": [
    {
     "name": "stdout",
     "output_type": "stream",
     "text": [
      "/home/shivansh/anaconda3/bin:/home/shivansh/anaconda3/condabin:/home/shivansh/.local/bin:/home/shivansh/anaconda3/bin:/home/shivansh/.local/bin:/usr/local/sbin:/usr/local/bin:/usr/sbin:/usr/bin:/sbin:/bin:/usr/games:/usr/local/games:/snap/bin\r\n"
     ]
    }
   ],
   "source": [
    "! echo $PATH"
   ]
  },
  {
   "cell_type": "markdown",
   "id": "0bf9e0b2",
   "metadata": {},
   "source": [
    "# Command is just like a executable file they first check first PATH enviroment variable if they find that command then execute other wise they through the essor command not found."
   ]
  },
  {
   "cell_type": "code",
   "execution_count": null,
   "id": "642ac3a0",
   "metadata": {},
   "outputs": [],
   "source": [
    "gedit .bashrc"
   ]
  },
  {
   "cell_type": "code",
   "execution_count": null,
   "id": "8c50efda",
   "metadata": {},
   "outputs": [],
   "source": [
    "pwd ---> Present Directry."
   ]
  },
  {
   "cell_type": "code",
   "execution_count": null,
   "id": "e6806c54",
   "metadata": {},
   "outputs": [],
   "source": [
    "ls -a "
   ]
  },
  {
   "cell_type": "code",
   "execution_count": null,
   "id": "aef87e2a",
   "metadata": {},
   "outputs": [],
   "source": [
    "ls -l"
   ]
  },
  {
   "cell_type": "code",
   "execution_count": 10,
   "id": "06ae8a1b",
   "metadata": {},
   "outputs": [
    {
     "name": "stdout",
     "output_type": "stream",
     "text": [
      "total 8916\r\n",
      "drwxrwxr-x 3 shivansh shivansh    4096 Jan 25 18:14  \u001b[0m\u001b[01;34m.\u001b[0m/\r\n",
      "drwxrwxr-x 8 shivansh shivansh    4096 Jan 13 20:40  \u001b[01;34m..\u001b[0m/\r\n",
      "-rw-rw-r-- 1 shivansh shivansh   87562 Jan 20 19:29  1.HelloWorld-To-StringFunction.ipynb\r\n",
      "-rw-rw-r-- 1 shivansh shivansh  188479 Jan 25 00:10  1.png\r\n",
      "-rw-rw-r-- 1 shivansh shivansh   54691 Jan 24 12:52  2.Function.ipynb\r\n",
      "-rw-rw-r-- 1 shivansh shivansh  415377 Jan 25 00:09  2.png\r\n",
      "-rw-rw-r-- 1 shivansh shivansh   48841 Jan 23 17:27  3.List.ipynb\r\n",
      "-rw-rw-r-- 1 shivansh shivansh  335481 Jan 25 00:09  3.png\r\n",
      "-rw-rw-r-- 1 shivansh shivansh  304642 Jan 25 00:27  4.png\r\n",
      "-rw-rw-r-- 1 shivansh shivansh   21568 Jan 20 19:28  4.Tuple.ipynb\r\n",
      "-rw-rw-r-- 1 shivansh shivansh   34921 Jan 20 19:28  5.Set.ipynb\r\n",
      "-rw-rw-r-- 1 shivansh shivansh   14816 Jan 20 19:28  6.Dictionary.ipynb\r\n",
      "-rw-rw-r-- 1 shivansh shivansh  295527 Jan 20 19:29 '7.Object-Class(Opps-1).ipynb'\r\n",
      "-rw-rw-r-- 1 shivansh shivansh  232827 Jan 21 15:40 '8.Encapsulation_Abstraction_Inheritance_Polymorphism(Opps-2).ipynb'\r\n",
      "-rw-rw-r-- 1 shivansh shivansh   58397 Jan 24 20:42  DBMS.ipynb\r\n",
      "-rw-rw-r-- 1 shivansh shivansh 5706477 Jan 14 12:41  employee_salaries.ipynb\r\n",
      "drwxrwxr-x 2 shivansh shivansh    4096 Jan 25 17:44  \u001b[01;34m.ipynb_checkpoints\u001b[0m/\r\n",
      "-rw-rw-r-- 1 shivansh shivansh    5044 Jan 14 12:45 'Linear Regression Quest.ipynb'\r\n",
      "-rw-rw-r-- 1 shivansh shivansh 1256150 Jan 14 01:48 'Python course notes Sections 1-7.pdf'\r\n",
      "-rw-rw-r-- 1 shivansh shivansh    3178 Jan 25 18:14  Untitled1.ipynb\r\n",
      "-rw-rw-r-- 1 shivansh shivansh   12315 Jan 25 13:56  Untitled.ipynb\r\n"
     ]
    }
   ],
   "source": [
    "ls -al "
   ]
  },
  {
   "cell_type": "code",
   "execution_count": 11,
   "id": "94ee8d32",
   "metadata": {},
   "outputs": [
    {
     "name": "stdout",
     "output_type": "stream",
     "text": [
      ".:\r\n",
      " 1.HelloWorld-To-StringFunction.ipynb\r\n",
      " 1.png\r\n",
      " 2.Function.ipynb\r\n",
      " 2.png\r\n",
      " 3.List.ipynb\r\n",
      " 3.png\r\n",
      " 4.png\r\n",
      " 4.Tuple.ipynb\r\n",
      " 5.Set.ipynb\r\n",
      " 6.Dictionary.ipynb\r\n",
      "'7.Object-Class(Opps-1).ipynb'\r\n",
      "'8.Encapsulation_Abstraction_Inheritance_Polymorphism(Opps-2).ipynb'\r\n",
      " DBMS.ipynb\r\n",
      " employee_salaries.ipynb\r\n",
      "'Linear Regression Quest.ipynb'\r\n",
      "'Python course notes Sections 1-7.pdf'\r\n",
      " Untitled1.ipynb\r\n",
      " Untitled.ipynb\r\n"
     ]
    }
   ],
   "source": [
    "ls -R"
   ]
  },
  {
   "cell_type": "markdown",
   "id": "2c7157f0",
   "metadata": {},
   "source": [
    "# cat command allows us to create single or multiple files, view content of a file, concatenate files and redirect output in terminal or files."
   ]
  },
  {
   "cell_type": "code",
   "execution_count": null,
   "id": "e5b40c36",
   "metadata": {},
   "outputs": [],
   "source": [
    "cat > t.txt"
   ]
  },
  {
   "cell_type": "code",
   "execution_count": null,
   "id": "09e715fa",
   "metadata": {},
   "outputs": [],
   "source": [
    "cat t.txt | tr a-z A-Z \n",
    "cat t.txt | tr a-z A-Z  > s.txt"
   ]
  },
  {
   "cell_type": "code",
   "execution_count": null,
   "id": "07cbd1df",
   "metadata": {},
   "outputs": [],
   "source": [
    "mkdir -p random/insert/hello ----> dic inside dic"
   ]
  },
  {
   "cell_type": "code",
   "execution_count": null,
   "id": "abb6cc27",
   "metadata": {},
   "outputs": [],
   "source": [
    "cp total.txt copy_total.txt"
   ]
  },
  {
   "cell_type": "code",
   "execution_count": null,
   "id": "daa5ecc6",
   "metadata": {},
   "outputs": [],
   "source": [
    "mv tota.txt random"
   ]
  },
  {
   "cell_type": "code",
   "execution_count": null,
   "id": "6cc4aad6",
   "metadata": {},
   "outputs": [],
   "source": [
    "sudo ---> sudo allows a permitted user to execute a command as\n",
    "     the superuser or another user."
   ]
  },
  {
   "cell_type": "code",
   "execution_count": null,
   "id": "8ae04420",
   "metadata": {},
   "outputs": [],
   "source": [
    "df displays the amount of disk space  available  on\n",
    "       the file system containing each file name argument.\n",
    "df"
   ]
  },
  {
   "cell_type": "code",
   "execution_count": 16,
   "id": "d7c17247",
   "metadata": {},
   "outputs": [
    {
     "name": "stdout",
     "output_type": "stream",
     "text": [
      "Filesystem      Size  Used Avail Use% Mounted on\r\n",
      "udev            5.8G     0  5.8G   0% /dev\r\n",
      "tmpfs           1.2G  2.3M  1.2G   1% /run\r\n",
      "/dev/sda2       457G  154G  281G  36% /\r\n",
      "tmpfs           5.8G  253M  5.6G   5% /dev/shm\r\n",
      "tmpfs           5.0M  4.0K  5.0M   1% /run/lock\r\n",
      "tmpfs           5.8G     0  5.8G   0% /sys/fs/cgroup\r\n",
      "/dev/loop2      128K  128K     0 100% /snap/bare/5\r\n",
      "/dev/loop6       56M   56M     0 100% /snap/core18/2284\r\n",
      "/dev/loop5      100M  100M     0 100% /snap/core/11993\r\n",
      "/dev/loop1      218M  218M     0 100% /snap/code/85\r\n",
      "/dev/loop4       62M   62M     0 100% /snap/core20/1242\r\n",
      "/dev/loop7      218M  218M     0 100% /snap/code/84\r\n",
      "/dev/loop9      248M  248M     0 100% /snap/gnome-3-38-2004/87\r\n",
      "/dev/loop0       56M   56M     0 100% /snap/core18/2253\r\n",
      "/dev/loop8      219M  219M     0 100% /snap/gnome-3-34-1804/72\r\n",
      "/dev/loop10      44M   44M     0 100% /snap/snapd/14295\r\n",
      "/dev/loop17      55M   55M     0 100% /snap/snap-store/558\r\n",
      "/dev/loop13     219M  219M     0 100% /snap/gnome-3-34-1804/77\r\n",
      "/dev/loop12      27M   27M     0 100% /snap/heroku/4078\r\n",
      "/dev/loop15      27M   27M     0 100% /snap/heroku/4076\r\n",
      "/dev/loop18      66M   66M     0 100% /snap/gtk-common-themes/1519\r\n",
      "/dev/loop14      51M   51M     0 100% /snap/snap-store/547\r\n",
      "/dev/loop20      66M   66M     0 100% /snap/gtk-common-themes/1515\r\n",
      "/dev/loop11      12M   12M     0 100% /snap/ngrok/35\r\n",
      "/dev/loop21      93M   93M     0 100% /snap/youtube-dl/4568\r\n",
      "/dev/loop19     296M  296M     0 100% /snap/vlc/2344\r\n",
      "/dev/loop23     250M  250M     0 100% /snap/zoom-client/166\r\n",
      "/dev/loop25      62M   62M     0 100% /snap/core20/1270\r\n",
      "/dev/loop24      11M   11M     0 100% /snap/helm/353\r\n",
      "/dev/loop22     250M  250M     0 100% /snap/zoom-client/167\r\n",
      "/dev/loop26      93M   93M     0 100% /snap/youtube-dl/4572\r\n",
      "/dev/sda1       511M  7.9M  504M   2% /boot/efi\r\n",
      "tmpfs           1.2G  8.0K  1.2G   1% /run/user/126\r\n",
      "tmpfs           1.2G  116K  1.2G   1% /run/user/1000\r\n",
      "/dev/loop27      44M   44M     0 100% /snap/snapd/14549\r\n",
      "overlay         457G  154G  281G  36% /var/lib/docker/overlay2/00a2cf49220c0bae8135486d3ce984461ec208cd695132beff3b99a102d1a133/merged\r\n",
      "/dev/loop16     111M  111M     0 100% /snap/core/12603\r\n"
     ]
    }
   ],
   "source": [
    "! df -h "
   ]
  },
  {
   "cell_type": "code",
   "execution_count": 18,
   "id": "7a215baf",
   "metadata": {},
   "outputs": [
    {
     "name": "stdout",
     "output_type": "stream",
     "text": [
      "5.6M\t./.ipynb_checkpoints\r\n",
      "15M\t.\r\n"
     ]
    }
   ],
   "source": [
    "! du -h "
   ]
  },
  {
   "cell_type": "code",
   "execution_count": null,
   "id": "db109dcc",
   "metadata": {},
   "outputs": [],
   "source": [
    "head -1  to.txt"
   ]
  },
  {
   "cell_type": "code",
   "execution_count": null,
   "id": "a9bbd977",
   "metadata": {},
   "outputs": [],
   "source": [
    "tail -1 to.txt"
   ]
  },
  {
   "cell_type": "code",
   "execution_count": null,
   "id": "d04ca80c",
   "metadata": {},
   "outputs": [],
   "source": [
    "diff f.txt to.txt"
   ]
  },
  {
   "cell_type": "code",
   "execution_count": null,
   "id": "b07a758d",
   "metadata": {},
   "outputs": [],
   "source": [
    "find random/"
   ]
  },
  {
   "cell_type": "code",
   "execution_count": null,
   "id": "4e33ebc5",
   "metadata": {},
   "outputs": [],
   "source": [
    "find . -type f \n",
    "find . -type d "
   ]
  },
  {
   "cell_type": "code",
   "execution_count": null,
   "id": "68c333f8",
   "metadata": {},
   "outputs": [],
   "source": [
    "find . -type f -name \"t.txt\""
   ]
  },
  {
   "cell_type": "code",
   "execution_count": null,
   "id": "842a5f57",
   "metadata": {},
   "outputs": [],
   "source": [
    "find . -type f -name \"*.txt\""
   ]
  },
  {
   "cell_type": "code",
   "execution_count": null,
   "id": "45de5a8a",
   "metadata": {},
   "outputs": [],
   "source": [
    "find . -type f -mmin -20"
   ]
  },
  {
   "cell_type": "code",
   "execution_count": null,
   "id": "a6342a36",
   "metadata": {},
   "outputs": [],
   "source": [
    "find . -type f -perm 777"
   ]
  },
  {
   "cell_type": "code",
   "execution_count": null,
   "id": "431e9b23",
   "metadata": {},
   "outputs": [],
   "source": [
    "chmod u=rwx,g=rw,o=rwx to.txt"
   ]
  },
  {
   "cell_type": "code",
   "execution_count": null,
   "id": "d1f5cc20",
   "metadata": {},
   "outputs": [],
   "source": [
    "chmod 777 to.txt      4=read,2=write,1=execuation(x)"
   ]
  },
  {
   "cell_type": "markdown",
   "id": "bf30e2c7",
   "metadata": {},
   "source": [
    "# Root is a super user that has the highest access on the system."
   ]
  },
  {
   "cell_type": "code",
   "execution_count": null,
   "id": "03893b1e",
   "metadata": {},
   "outputs": [],
   "source": [
    "find . -type f -name \"*.txt\" -exec rm -rf {} +\n",
    "---> This will delete the all text file that is present in your system."
   ]
  },
  {
   "cell_type": "code",
   "execution_count": null,
   "id": "c8ef6f0c",
   "metadata": {},
   "outputs": [],
   "source": [
    "grep -win \"shivanhsh\" ./*.txt"
   ]
  },
  {
   "cell_type": "code",
   "execution_count": null,
   "id": "128bd1be",
   "metadata": {},
   "outputs": [],
   "source": [
    "grep -w \"shivansh\" to.txt"
   ]
  },
  {
   "cell_type": "code",
   "execution_count": null,
   "id": "31307bd7",
   "metadata": {},
   "outputs": [],
   "source": [
    "wget ---> wget is used to download anything on the internet "
   ]
  },
  {
   "cell_type": "code",
   "execution_count": null,
   "id": "4b17eaec",
   "metadata": {},
   "outputs": [],
   "source": [
    "top - display Linux processes"
   ]
  },
  {
   "cell_type": "markdown",
   "id": "13e3cea5",
   "metadata": {},
   "source": [
    "# Kernel is the core part of an operating system which manages system resources. It also acts like a bridge between application and hardware of the computer.<br>\n",
    "<img src=\"https://static.javatpoint.com/blog/images/what-is-kernel.png\"  />"
   ]
  },
  {
   "cell_type": "code",
   "execution_count": null,
   "id": "7e432649",
   "metadata": {},
   "outputs": [],
   "source": [
    "hostname command in Linux is used to obtain the DNS.\n",
    "hostname \n",
    "hostname -i   ---> hostname ip address"
   ]
  },
  {
   "cell_type": "markdown",
   "id": "4c93fe0e",
   "metadata": {},
   "source": [
    "# All the file that is currently open by any of the process in the system you can check it out through lsof command."
   ]
  },
  {
   "cell_type": "markdown",
   "id": "564468f8",
   "metadata": {},
   "source": [
    "#  swap memory is the dedicated amount of hard drive that is used whenever RAM runs out of memory."
   ]
  },
  {
   "cell_type": "markdown",
   "id": "973cc0bc",
   "metadata": {},
   "source": [
    "# id:- To display your own identity,It will display your id, primary group id, and supplementary groups id."
   ]
  },
  {
   "cell_type": "markdown",
   "id": "5f4bbb90",
   "metadata": {},
   "source": [
    "# nslookup:- Ip address of a particular domain"
   ]
  },
  {
   "cell_type": "markdown",
   "id": "578a71e0",
   "metadata": {},
   "source": [
    "# netstat:- all the port that are currently listening or open we use netstat."
   ]
  },
  {
   "cell_type": "markdown",
   "id": "4aee4715",
   "metadata": {},
   "source": [
    "# ps aux :- The ps aux command is a tool to monitor processes running on your Linux system. "
   ]
  },
  {
   "cell_type": "markdown",
   "id": "dc852769",
   "metadata": {},
   "source": [
    "# ps (Process Status)\n",
    "# Syntax : ps [options]"
   ]
  },
  {
   "cell_type": "markdown",
   "id": "79f07eb2",
   "metadata": {},
   "source": [
    "# & operator command is used to run any command in backgroud.<br> ps aux find process id of that process and using kill pid we can kill the process.<br>The & makes the command run in the background."
   ]
  },
  {
   "cell_type": "code",
   "execution_count": null,
   "id": "41b8998f",
   "metadata": {},
   "outputs": [],
   "source": [
    "&& "
   ]
  }
 ],
 "metadata": {
  "kernelspec": {
   "display_name": "Python 3.8.8 64-bit ('base': conda)",
   "language": "python",
   "name": "python388jvsc74a57bd02c7ffa9c538f0bfb5740c89a215bcbde02033924243f3d233f0c9916449df403"
  },
  "language_info": {
   "codemirror_mode": {
    "name": "ipython",
    "version": 3
   },
   "file_extension": ".py",
   "mimetype": "text/x-python",
   "name": "python",
   "nbconvert_exporter": "python",
   "pygments_lexer": "ipython3",
   "version": "3.8.8"
  }
 },
 "nbformat": 4,
 "nbformat_minor": 5
}
