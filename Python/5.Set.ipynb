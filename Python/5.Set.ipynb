{
 "cells": [
  {
   "cell_type": "markdown",
   "id": "1b7a163e",
   "metadata": {},
   "source": [
    "# -Mutable ---> List/Set/Dictionary  (Es tin data type chor kr sb Immutable hota hain, means en sbhi ko aap memory me use jagah me rakh kr edit nahi kr skte agar aap edit karoge to add change hoga mtln naya object create hoga).<br><br>-Immutable ---> String/tuple/int/float/Boolean/complex."
   ]
  },
  {
   "cell_type": "markdown",
   "id": "356bbc16",
   "metadata": {},
   "source": [
    "# 1.Set doesn't allow deplicate.<br> 2. Set doesn't have any indexing means we are not able to do slicing. <br>3. Set doesn't aloow mutable data type(means aap list ko store nahi kr skte ho tuple ke ander, set bhi mutable hota hain mtlb aap set ko bhi set ke ander store nahi kr skte ho)<br>4. Set itself is mutable data type."
   ]
  },
  {
   "cell_type": "code",
   "execution_count": 2,
   "id": "695ea3d1",
   "metadata": {},
   "outputs": [
    {
     "name": "stdout",
     "output_type": "stream",
     "text": [
      "{}\n"
     ]
    },
    {
     "data": {
      "text/plain": [
       "dict"
      ]
     },
     "execution_count": 2,
     "metadata": {},
     "output_type": "execute_result"
    }
   ],
   "source": [
    "# This syntax is not to create empty set.\n",
    "s1={}\n",
    "print(s1)\n",
    "type(s1)"
   ]
  },
  {
   "cell_type": "code",
   "execution_count": 5,
   "id": "bdbea569",
   "metadata": {},
   "outputs": [
    {
     "name": "stdout",
     "output_type": "stream",
     "text": [
      "set()\n"
     ]
    },
    {
     "data": {
      "text/plain": [
       "set"
      ]
     },
     "execution_count": 5,
     "metadata": {},
     "output_type": "execute_result"
    }
   ],
   "source": [
    "s2 = set()\n",
    "print(s2)\n",
    "type(s2)"
   ]
  },
  {
   "cell_type": "code",
   "execution_count": 82,
   "id": "82049ece",
   "metadata": {},
   "outputs": [
    {
     "name": "stdout",
     "output_type": "stream",
     "text": [
      "{1, 2, 3, 4, 5}\n",
      "<class 'set'>\n",
      "{1, 'Raju', 3}\n",
      "<class 'set'>\n"
     ]
    }
   ],
   "source": [
    "s1={1,2,3,4,5}\n",
    "print(s1)\n",
    "print(type(s1))\n",
    "\n",
    "s2={1,\"Raju\",3}\n",
    "print(s2)\n",
    "print(type(s2))"
   ]
  },
  {
   "cell_type": "code",
   "execution_count": 13,
   "id": "a537165e",
   "metadata": {},
   "outputs": [
    {
     "name": "stdout",
     "output_type": "stream",
     "text": [
      "{1, 2, 3, 4, 5}\n"
     ]
    }
   ],
   "source": [
    "# Set doesn't allow deplicate.\n",
    "s3={1,2,3,3,4,4,5,4}\n",
    "print(s3) # All duplicate are remove."
   ]
  },
  {
   "cell_type": "code",
   "execution_count": 11,
   "id": "b3801d60",
   "metadata": {},
   "outputs": [
    {
     "data": {
      "text/plain": [
       "{1, 2, 3, 'Shivansh'}"
      ]
     },
     "execution_count": 11,
     "metadata": {},
     "output_type": "execute_result"
    }
   ],
   "source": [
    "# Set doesn't aloow mutable data type\n",
    "# Strings are a immutable data types which means that its value cannot be updated.\n",
    "s4={1,2,3,\"Shivansh\"}\n",
    "s4"
   ]
  },
  {
   "cell_type": "code",
   "execution_count": 12,
   "id": "320e4965",
   "metadata": {},
   "outputs": [
    {
     "ename": "TypeError",
     "evalue": "'str' object does not support item assignment",
     "output_type": "error",
     "traceback": [
      "\u001b[0;31m---------------------------------------------------------------------------\u001b[0m",
      "\u001b[0;31mTypeError\u001b[0m                                 Traceback (most recent call last)",
      "\u001b[0;32m/tmp/ipykernel_77815/3111575060.py\u001b[0m in \u001b[0;36m<module>\u001b[0;34m\u001b[0m\n\u001b[1;32m      3\u001b[0m \u001b[0ms\u001b[0m\u001b[0;34m=\u001b[0m\u001b[0;34m\"Shivansh\"\u001b[0m\u001b[0;34m\u001b[0m\u001b[0;34m\u001b[0m\u001b[0m\n\u001b[1;32m      4\u001b[0m \u001b[0;34m\u001b[0m\u001b[0m\n\u001b[0;32m----> 5\u001b[0;31m \u001b[0ms\u001b[0m\u001b[0;34m[\u001b[0m\u001b[0;36m0\u001b[0m\u001b[0;34m]\u001b[0m\u001b[0;34m=\u001b[0m\u001b[0;34m\"d\"\u001b[0m\u001b[0;34m\u001b[0m\u001b[0;34m\u001b[0m\u001b[0m\n\u001b[0m\u001b[1;32m      6\u001b[0m \u001b[0;34m\u001b[0m\u001b[0m\n\u001b[1;32m      7\u001b[0m \u001b[0mprint\u001b[0m\u001b[0;34m(\u001b[0m\u001b[0ms\u001b[0m\u001b[0;34m)\u001b[0m\u001b[0;34m\u001b[0m\u001b[0;34m\u001b[0m\u001b[0m\n",
      "\u001b[0;31mTypeError\u001b[0m: 'str' object does not support item assignment"
     ]
    }
   ],
   "source": [
    "# Strings are a immutable data types which means that its value cannot be updated.\n",
    "\n",
    "s=\"Shivansh\"\n",
    "\n",
    "s[0]=\"d\"\n",
    "\n",
    "print(s)"
   ]
  },
  {
   "cell_type": "code",
   "execution_count": 29,
   "id": "2d675826",
   "metadata": {},
   "outputs": [
    {
     "ename": "TypeError",
     "evalue": "unhashable type: 'list'",
     "output_type": "error",
     "traceback": [
      "\u001b[0;31m---------------------------------------------------------------------------\u001b[0m",
      "\u001b[0;31mTypeError\u001b[0m                                 Traceback (most recent call last)",
      "\u001b[0;32m/tmp/ipykernel_77815/257249921.py\u001b[0m in \u001b[0;36m<module>\u001b[0;34m\u001b[0m\n\u001b[0;32m----> 1\u001b[0;31m \u001b[0ms5\u001b[0m\u001b[0;34m=\u001b[0m\u001b[0;34m{\u001b[0m\u001b[0;36m1\u001b[0m\u001b[0;34m,\u001b[0m\u001b[0;36m2\u001b[0m\u001b[0;34m,\u001b[0m\u001b[0;36m3\u001b[0m\u001b[0;34m,\u001b[0m\u001b[0;34m[\u001b[0m\u001b[0;36m4\u001b[0m\u001b[0;34m,\u001b[0m\u001b[0;36m5\u001b[0m\u001b[0;34m]\u001b[0m\u001b[0;34m}\u001b[0m \u001b[0;31m# List are mutabel.\u001b[0m\u001b[0;34m\u001b[0m\u001b[0;34m\u001b[0m\u001b[0m\n\u001b[0m\u001b[1;32m      2\u001b[0m \u001b[0ms5\u001b[0m\u001b[0;34m\u001b[0m\u001b[0;34m\u001b[0m\u001b[0m\n",
      "\u001b[0;31mTypeError\u001b[0m: unhashable type: 'list'"
     ]
    }
   ],
   "source": [
    "s5={1,2,3,[4,5]} # List are mutabel.\n",
    "s5"
   ]
  },
  {
   "cell_type": "code",
   "execution_count": 20,
   "id": "b4c86d99",
   "metadata": {},
   "outputs": [
    {
     "data": {
      "text/plain": [
       "{(1, 2, 3), 'Hello'}"
      ]
     },
     "execution_count": 20,
     "metadata": {},
     "output_type": "execute_result"
    }
   ],
   "source": [
    "s6={(1,2,3),\"Hello\"} # Tuple and string are immutable\n",
    "s6"
   ]
  },
  {
   "cell_type": "code",
   "execution_count": 21,
   "id": "d5102006",
   "metadata": {},
   "outputs": [
    {
     "data": {
      "text/plain": [
       "{(1, 2, 3), 'Hello'}"
      ]
     },
     "execution_count": 21,
     "metadata": {},
     "output_type": "execute_result"
    }
   ],
   "source": [
    "s7={\"Hello\",(1,2,3)} # Tuple and string are immutable\n",
    "s7"
   ]
  },
  {
   "cell_type": "markdown",
   "id": "456b5a32",
   "metadata": {},
   "source": [
    "- Look at above code it should be print first Hello then 1,2,3.\n",
    "- Ans is set doesn't have any indexing, if set doesn't follow indexing so what is follow ans is **Hashing.**"
   ]
  },
  {
   "cell_type": "markdown",
   "id": "8c81aa76",
   "metadata": {},
   "source": [
    "# Hashing is the technique jisko use krke hum ye decide krte hain ki item kis position pe jayega"
   ]
  },
  {
   "cell_type": "code",
   "execution_count": 22,
   "id": "ac80d7ee",
   "metadata": {},
   "outputs": [
    {
     "ename": "TypeError",
     "evalue": "unhashable type: 'set'",
     "output_type": "error",
     "traceback": [
      "\u001b[0;31m---------------------------------------------------------------------------\u001b[0m",
      "\u001b[0;31mTypeError\u001b[0m                                 Traceback (most recent call last)",
      "\u001b[0;32m/tmp/ipykernel_77815/3907534245.py\u001b[0m in \u001b[0;36m<module>\u001b[0;34m\u001b[0m\n\u001b[0;32m----> 1\u001b[0;31m \u001b[0ms\u001b[0m\u001b[0;34m=\u001b[0m\u001b[0;34m{\u001b[0m\u001b[0;36m1\u001b[0m\u001b[0;34m,\u001b[0m\u001b[0;36m2\u001b[0m\u001b[0;34m,\u001b[0m\u001b[0;34m{\u001b[0m\u001b[0;36m3\u001b[0m\u001b[0;34m}\u001b[0m\u001b[0;34m}\u001b[0m\u001b[0;34m\u001b[0m\u001b[0;34m\u001b[0m\u001b[0m\n\u001b[0m\u001b[1;32m      2\u001b[0m \u001b[0ms\u001b[0m\u001b[0;34m\u001b[0m\u001b[0;34m\u001b[0m\u001b[0m\n",
      "\u001b[0;31mTypeError\u001b[0m: unhashable type: 'set'"
     ]
    }
   ],
   "source": [
    "s={1,2,{3}}\n",
    "s"
   ]
  },
  {
   "cell_type": "code",
   "execution_count": 26,
   "id": "af3e46af",
   "metadata": {},
   "outputs": [
    {
     "data": {
      "text/plain": [
       "{1, 2, 3, 4, 5}"
      ]
     },
     "execution_count": 26,
     "metadata": {},
     "output_type": "execute_result"
    }
   ],
   "source": [
    "s1"
   ]
  },
  {
   "cell_type": "code",
   "execution_count": 27,
   "id": "743780b6",
   "metadata": {},
   "outputs": [
    {
     "ename": "TypeError",
     "evalue": "'set' object is not subscriptable",
     "output_type": "error",
     "traceback": [
      "\u001b[0;31m---------------------------------------------------------------------------\u001b[0m",
      "\u001b[0;31mTypeError\u001b[0m                                 Traceback (most recent call last)",
      "\u001b[0;32m/tmp/ipykernel_77815/2528140856.py\u001b[0m in \u001b[0;36m<module>\u001b[0;34m\u001b[0m\n\u001b[1;32m      1\u001b[0m \u001b[0;31m# indexing and slicing\u001b[0m\u001b[0;34m\u001b[0m\u001b[0;34m\u001b[0m\u001b[0;34m\u001b[0m\u001b[0m\n\u001b[1;32m      2\u001b[0m \u001b[0;34m\u001b[0m\u001b[0m\n\u001b[0;32m----> 3\u001b[0;31m \u001b[0ms1\u001b[0m\u001b[0;34m[\u001b[0m\u001b[0;36m0\u001b[0m\u001b[0;34m]\u001b[0m\u001b[0;34m\u001b[0m\u001b[0;34m\u001b[0m\u001b[0m\n\u001b[0m",
      "\u001b[0;31mTypeError\u001b[0m: 'set' object is not subscriptable"
     ]
    }
   ],
   "source": [
    "# indexing and slicing\n",
    "\n",
    "s1[0]"
   ]
  },
  {
   "cell_type": "code",
   "execution_count": 28,
   "id": "2da4bf74",
   "metadata": {},
   "outputs": [
    {
     "ename": "TypeError",
     "evalue": "'set' object is not subscriptable",
     "output_type": "error",
     "traceback": [
      "\u001b[0;31m---------------------------------------------------------------------------\u001b[0m",
      "\u001b[0;31mTypeError\u001b[0m                                 Traceback (most recent call last)",
      "\u001b[0;32m/tmp/ipykernel_77815/3447230843.py\u001b[0m in \u001b[0;36m<module>\u001b[0;34m\u001b[0m\n\u001b[0;32m----> 1\u001b[0;31m \u001b[0ms1\u001b[0m\u001b[0;34m[\u001b[0m\u001b[0;36m0\u001b[0m\u001b[0;34m:\u001b[0m\u001b[0;36m5\u001b[0m\u001b[0;34m]\u001b[0m\u001b[0;34m\u001b[0m\u001b[0;34m\u001b[0m\u001b[0m\n\u001b[0m",
      "\u001b[0;31mTypeError\u001b[0m: 'set' object is not subscriptable"
     ]
    }
   ],
   "source": [
    "s1[0:5]"
   ]
  },
  {
   "cell_type": "markdown",
   "id": "51e39938",
   "metadata": {},
   "source": [
    "# Edit Item. Not Supported in Set. Because Set doesn't support Indexing. So,How can you add or delete a specific item on index."
   ]
  },
  {
   "cell_type": "code",
   "execution_count": 31,
   "id": "b3313ae3",
   "metadata": {},
   "outputs": [
    {
     "data": {
      "text/plain": [
       "{1, 2, 3, 4, 5}"
      ]
     },
     "execution_count": 31,
     "metadata": {},
     "output_type": "execute_result"
    }
   ],
   "source": [
    "s1"
   ]
  },
  {
   "cell_type": "code",
   "execution_count": 32,
   "id": "e69e4b08",
   "metadata": {},
   "outputs": [
    {
     "ename": "TypeError",
     "evalue": "'set' object does not support item assignment",
     "output_type": "error",
     "traceback": [
      "\u001b[0;31m---------------------------------------------------------------------------\u001b[0m",
      "\u001b[0;31mTypeError\u001b[0m                                 Traceback (most recent call last)",
      "\u001b[0;32m/tmp/ipykernel_77815/3155812805.py\u001b[0m in \u001b[0;36m<module>\u001b[0;34m\u001b[0m\n\u001b[0;32m----> 1\u001b[0;31m \u001b[0ms1\u001b[0m\u001b[0;34m[\u001b[0m\u001b[0;36m0\u001b[0m\u001b[0;34m]\u001b[0m\u001b[0;34m=\u001b[0m\u001b[0;36m10\u001b[0m\u001b[0;34m\u001b[0m\u001b[0;34m\u001b[0m\u001b[0m\n\u001b[0m",
      "\u001b[0;31mTypeError\u001b[0m: 'set' object does not support item assignment"
     ]
    }
   ],
   "source": [
    "s1[0]=10"
   ]
  },
  {
   "cell_type": "markdown",
   "id": "99dca191",
   "metadata": {},
   "source": [
    "# Add item"
   ]
  },
  {
   "cell_type": "code",
   "execution_count": 33,
   "id": "203a0758",
   "metadata": {},
   "outputs": [
    {
     "data": {
      "text/plain": [
       "{1, 2, 3, 4, 5}"
      ]
     },
     "execution_count": 33,
     "metadata": {},
     "output_type": "execute_result"
    }
   ],
   "source": [
    "s1"
   ]
  },
  {
   "cell_type": "code",
   "execution_count": 35,
   "id": "7ae4c22e",
   "metadata": {},
   "outputs": [
    {
     "data": {
      "text/plain": [
       "140446936938752"
      ]
     },
     "execution_count": 35,
     "metadata": {},
     "output_type": "execute_result"
    }
   ],
   "source": [
    "id(s1)"
   ]
  },
  {
   "cell_type": "code",
   "execution_count": 39,
   "id": "284422b6",
   "metadata": {},
   "outputs": [],
   "source": [
    "s1.add(6)"
   ]
  },
  {
   "cell_type": "code",
   "execution_count": 43,
   "id": "c331f1e0",
   "metadata": {},
   "outputs": [
    {
     "name": "stdout",
     "output_type": "stream",
     "text": [
      "{1, 2, 3, 4, 5, 6}\n"
     ]
    },
    {
     "data": {
      "text/plain": [
       "140446936938752"
      ]
     },
     "execution_count": 43,
     "metadata": {},
     "output_type": "execute_result"
    }
   ],
   "source": [
    "print(s1)\n",
    "id(s1)"
   ]
  },
  {
   "cell_type": "markdown",
   "id": "051002be",
   "metadata": {},
   "source": [
    "# Delete"
   ]
  },
  {
   "cell_type": "code",
   "execution_count": 45,
   "id": "b61d3e92",
   "metadata": {},
   "outputs": [
    {
     "data": {
      "text/plain": [
       "{1, 3, 'Raju'}"
      ]
     },
     "execution_count": 45,
     "metadata": {},
     "output_type": "execute_result"
    }
   ],
   "source": [
    "s2"
   ]
  },
  {
   "cell_type": "code",
   "execution_count": 46,
   "id": "7e01818d",
   "metadata": {},
   "outputs": [],
   "source": [
    "del s2"
   ]
  },
  {
   "cell_type": "code",
   "execution_count": 47,
   "id": "9d5b22cf",
   "metadata": {},
   "outputs": [
    {
     "ename": "NameError",
     "evalue": "name 's2' is not defined",
     "output_type": "error",
     "traceback": [
      "\u001b[0;31m---------------------------------------------------------------------------\u001b[0m",
      "\u001b[0;31mNameError\u001b[0m                                 Traceback (most recent call last)",
      "\u001b[0;32m/tmp/ipykernel_77815/4231310477.py\u001b[0m in \u001b[0;36m<module>\u001b[0;34m\u001b[0m\n\u001b[0;32m----> 1\u001b[0;31m \u001b[0ms2\u001b[0m\u001b[0;34m\u001b[0m\u001b[0;34m\u001b[0m\u001b[0m\n\u001b[0m",
      "\u001b[0;31mNameError\u001b[0m: name 's2' is not defined"
     ]
    }
   ],
   "source": [
    "s2"
   ]
  },
  {
   "cell_type": "code",
   "execution_count": 48,
   "id": "b1d2bce3",
   "metadata": {},
   "outputs": [
    {
     "data": {
      "text/plain": [
       "{1, 2, 3, 4, 5, 6}"
      ]
     },
     "execution_count": 48,
     "metadata": {},
     "output_type": "execute_result"
    }
   ],
   "source": [
    "s1"
   ]
  },
  {
   "cell_type": "code",
   "execution_count": 49,
   "id": "d9c925b9",
   "metadata": {},
   "outputs": [
    {
     "ename": "TypeError",
     "evalue": "'set' object doesn't support item deletion",
     "output_type": "error",
     "traceback": [
      "\u001b[0;31m---------------------------------------------------------------------------\u001b[0m",
      "\u001b[0;31mTypeError\u001b[0m                                 Traceback (most recent call last)",
      "\u001b[0;32m/tmp/ipykernel_77815/3642287875.py\u001b[0m in \u001b[0;36m<module>\u001b[0;34m\u001b[0m\n\u001b[0;32m----> 1\u001b[0;31m \u001b[0;32mdel\u001b[0m \u001b[0ms1\u001b[0m\u001b[0;34m[\u001b[0m\u001b[0;36m0\u001b[0m\u001b[0;34m]\u001b[0m\u001b[0;34m\u001b[0m\u001b[0;34m\u001b[0m\u001b[0m\n\u001b[0m",
      "\u001b[0;31mTypeError\u001b[0m: 'set' object doesn't support item deletion"
     ]
    }
   ],
   "source": [
    "del s1[0]"
   ]
  },
  {
   "cell_type": "code",
   "execution_count": 50,
   "id": "bf17ce4e",
   "metadata": {},
   "outputs": [],
   "source": [
    "s1.remove(6)"
   ]
  },
  {
   "cell_type": "code",
   "execution_count": 51,
   "id": "997652c9",
   "metadata": {},
   "outputs": [
    {
     "data": {
      "text/plain": [
       "{1, 2, 3, 4, 5}"
      ]
     },
     "execution_count": 51,
     "metadata": {},
     "output_type": "execute_result"
    }
   ],
   "source": [
    "s1"
   ]
  },
  {
   "cell_type": "code",
   "execution_count": 52,
   "id": "1ddb1fdd",
   "metadata": {},
   "outputs": [
    {
     "data": {
      "text/plain": [
       "1"
      ]
     },
     "execution_count": 52,
     "metadata": {},
     "output_type": "execute_result"
    }
   ],
   "source": [
    "s1.pop()"
   ]
  },
  {
   "cell_type": "code",
   "execution_count": 53,
   "id": "452d6954",
   "metadata": {},
   "outputs": [
    {
     "data": {
      "text/plain": [
       "{2, 3, 4, 5}"
      ]
     },
     "execution_count": 53,
     "metadata": {},
     "output_type": "execute_result"
    }
   ],
   "source": [
    "s1"
   ]
  },
  {
   "cell_type": "code",
   "execution_count": 56,
   "id": "e29e86bc",
   "metadata": {},
   "outputs": [
    {
     "data": {
      "text/plain": [
       "3"
      ]
     },
     "execution_count": 56,
     "metadata": {},
     "output_type": "execute_result"
    }
   ],
   "source": [
    "s1.pop() # Pop show opposite behavior"
   ]
  },
  {
   "cell_type": "code",
   "execution_count": 59,
   "id": "740d8d02",
   "metadata": {},
   "outputs": [
    {
     "data": {
      "text/plain": [
       "{4, 5}"
      ]
     },
     "execution_count": 59,
     "metadata": {},
     "output_type": "execute_result"
    }
   ],
   "source": [
    "s1"
   ]
  },
  {
   "cell_type": "code",
   "execution_count": 61,
   "id": "65ca2aca",
   "metadata": {},
   "outputs": [
    {
     "ename": "TypeError",
     "evalue": "unsupported operand type(s) for +: 'set' and 'set'",
     "output_type": "error",
     "traceback": [
      "\u001b[0;31m---------------------------------------------------------------------------\u001b[0m",
      "\u001b[0;31mTypeError\u001b[0m                                 Traceback (most recent call last)",
      "\u001b[0;32m/tmp/ipykernel_77815/3405891310.py\u001b[0m in \u001b[0;36m<module>\u001b[0;34m\u001b[0m\n\u001b[0;32m----> 1\u001b[0;31m \u001b[0ms1\u001b[0m\u001b[0;34m+\u001b[0m\u001b[0ms3\u001b[0m\u001b[0;34m\u001b[0m\u001b[0;34m\u001b[0m\u001b[0m\n\u001b[0m",
      "\u001b[0;31mTypeError\u001b[0m: unsupported operand type(s) for +: 'set' and 'set'"
     ]
    }
   ],
   "source": [
    "s1+s3"
   ]
  },
  {
   "cell_type": "code",
   "execution_count": 62,
   "id": "8f80e564",
   "metadata": {},
   "outputs": [
    {
     "ename": "TypeError",
     "evalue": "unsupported operand type(s) for *: 'set' and 'int'",
     "output_type": "error",
     "traceback": [
      "\u001b[0;31m---------------------------------------------------------------------------\u001b[0m",
      "\u001b[0;31mTypeError\u001b[0m                                 Traceback (most recent call last)",
      "\u001b[0;32m/tmp/ipykernel_77815/64980944.py\u001b[0m in \u001b[0;36m<module>\u001b[0;34m\u001b[0m\n\u001b[0;32m----> 1\u001b[0;31m \u001b[0ms1\u001b[0m\u001b[0;34m*\u001b[0m\u001b[0;36m2\u001b[0m\u001b[0;34m\u001b[0m\u001b[0;34m\u001b[0m\u001b[0m\n\u001b[0m",
      "\u001b[0;31mTypeError\u001b[0m: unsupported operand type(s) for *: 'set' and 'int'"
     ]
    }
   ],
   "source": [
    "s1*2"
   ]
  },
  {
   "cell_type": "code",
   "execution_count": 64,
   "id": "39b2aaae",
   "metadata": {},
   "outputs": [
    {
     "name": "stdout",
     "output_type": "stream",
     "text": [
      "4\n",
      "5\n"
     ]
    }
   ],
   "source": [
    "for i in s1:\n",
    "    print(i)"
   ]
  },
  {
   "cell_type": "code",
   "execution_count": 67,
   "id": "16d574d4",
   "metadata": {},
   "outputs": [
    {
     "data": {
      "text/plain": [
       "{1, 2, 3, 4, 5}"
      ]
     },
     "execution_count": 67,
     "metadata": {},
     "output_type": "execute_result"
    }
   ],
   "source": [
    "s3"
   ]
  },
  {
   "cell_type": "code",
   "execution_count": 66,
   "id": "15411f8e",
   "metadata": {},
   "outputs": [
    {
     "data": {
      "text/plain": [
       "{1, 2, 3, 4, 5}"
      ]
     },
     "execution_count": 66,
     "metadata": {},
     "output_type": "execute_result"
    }
   ],
   "source": [
    "s1.union(s3) # all the unique number in both set"
   ]
  },
  {
   "cell_type": "code",
   "execution_count": 73,
   "id": "6df505ab",
   "metadata": {},
   "outputs": [],
   "source": [
    "s1.update((5,8))"
   ]
  },
  {
   "cell_type": "code",
   "execution_count": 74,
   "id": "fae10d28",
   "metadata": {},
   "outputs": [
    {
     "data": {
      "text/plain": [
       "{1, 2, 4, 5, 6, 8}"
      ]
     },
     "execution_count": 74,
     "metadata": {},
     "output_type": "execute_result"
    }
   ],
   "source": [
    "s1"
   ]
  },
  {
   "cell_type": "code",
   "execution_count": 75,
   "id": "d253a75e",
   "metadata": {},
   "outputs": [],
   "source": [
    "s1.add(9)"
   ]
  },
  {
   "cell_type": "code",
   "execution_count": 76,
   "id": "cc1b979e",
   "metadata": {},
   "outputs": [
    {
     "data": {
      "text/plain": [
       "{1, 2, 4, 5, 6, 8, 9}"
      ]
     },
     "execution_count": 76,
     "metadata": {},
     "output_type": "execute_result"
    }
   ],
   "source": [
    "s1"
   ]
  },
  {
   "cell_type": "markdown",
   "id": "7189196e",
   "metadata": {},
   "source": [
    "<img src=\"data:image/jpeg;base64,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\"  />"
   ]
  },
  {
   "cell_type": "markdown",
   "id": "76137fe1",
   "metadata": {},
   "source": [
    "# Real world Example.<br> You can use a Set to store passport numbers, because a Set enforces uniqueness among its elements. Passport numbers are always unique and two people can't have the same one."
   ]
  }
 ],
 "metadata": {
  "kernelspec": {
   "display_name": "Python 3.8.8 64-bit ('base': conda)",
   "language": "python",
   "name": "python388jvsc74a57bd02c7ffa9c538f0bfb5740c89a215bcbde02033924243f3d233f0c9916449df403"
  },
  "language_info": {
   "codemirror_mode": {
    "name": "ipython",
    "version": 3
   },
   "file_extension": ".py",
   "mimetype": "text/x-python",
   "name": "python",
   "nbconvert_exporter": "python",
   "pygments_lexer": "ipython3",
   "version": "3.8.8"
  }
 },
 "nbformat": 4,
 "nbformat_minor": 5
}
