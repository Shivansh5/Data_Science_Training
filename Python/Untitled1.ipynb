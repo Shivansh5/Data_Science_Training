{
 "cells": [
  {
   "cell_type": "code",
   "execution_count": 1,
   "id": "587ebaca",
   "metadata": {},
   "outputs": [
    {
     "name": "stdout",
     "output_type": "stream",
     "text": [
      "/home/shivansh/anaconda3/bin/python3\r\n"
     ]
    }
   ],
   "source": [
    "! which python3\n"
   ]
  },
  {
   "cell_type": "code",
   "execution_count": 2,
   "id": "15663ab5",
   "metadata": {},
   "outputs": [
    {
     "name": "stdout",
     "output_type": "stream",
     "text": [
      "Python 3.8.8 (default, Apr 13 2021, 19:58:26) \n",
      "[GCC 7.3.0] :: Anaconda, Inc. on linux\n",
      "Type \"help\", \"copyright\", \"credits\" or \"license\" for more information.\n",
      ">>> \n",
      "Traceback (most recent call last):\n",
      "  File \"<stdin>\", line 1, in <module>\n",
      "KeyboardInterrupt\n",
      ">>> "
     ]
    }
   ],
   "source": [
    "! /home/shivansh/anaconda3/bin/python3"
   ]
  },
  {
   "cell_type": "code",
   "execution_count": 3,
   "id": "e6685f27",
   "metadata": {},
   "outputs": [
    {
     "name": "stdout",
     "output_type": "stream",
     "text": [
      "/home/shivansh/anaconda3/bin:/home/shivansh/anaconda3/condabin:/home/shivansh/.local/bin:/home/shivansh/anaconda3/bin:/home/shivansh/.local/bin:/usr/local/sbin:/usr/local/bin:/usr/sbin:/usr/bin:/sbin:/bin:/usr/games:/usr/local/games:/snap/bin\r\n"
     ]
    }
   ],
   "source": [
    "! echo $PATH"
   ]
  },
  {
   "cell_type": "markdown",
   "id": "60413d53",
   "metadata": {},
   "source": [
    "# Command is just like a executable file they first check first PATH enviroment variable if they find that command then execute other wise they through the essor command not found."
   ]
  },
  {
   "cell_type": "code",
   "execution_count": null,
   "id": "a082fb5d",
   "metadata": {},
   "outputs": [],
   "source": [
    "gedit .bashrc"
   ]
  },
  {
   "cell_type": "code",
   "execution_count": null,
   "id": "26e03df4",
   "metadata": {},
   "outputs": [],
   "source": [
    "pwd ---> Present Directry."
   ]
  },
  {
   "cell_type": "code",
   "execution_count": null,
   "id": "7986f4f2",
   "metadata": {},
   "outputs": [],
   "source": [
    "ls -a "
   ]
  },
  {
   "cell_type": "code",
   "execution_count": null,
   "id": "51d07afd",
   "metadata": {},
   "outputs": [],
   "source": [
    "ls -l"
   ]
  },
  {
   "cell_type": "code",
   "execution_count": 10,
   "id": "8bd17834",
   "metadata": {},
   "outputs": [
    {
     "name": "stdout",
     "output_type": "stream",
     "text": [
      "total 8916\r\n",
      "drwxrwxr-x 3 shivansh shivansh    4096 Jan 25 18:14  \u001b[0m\u001b[01;34m.\u001b[0m/\r\n",
      "drwxrwxr-x 8 shivansh shivansh    4096 Jan 13 20:40  \u001b[01;34m..\u001b[0m/\r\n",
      "-rw-rw-r-- 1 shivansh shivansh   87562 Jan 20 19:29  1.HelloWorld-To-StringFunction.ipynb\r\n",
      "-rw-rw-r-- 1 shivansh shivansh  188479 Jan 25 00:10  1.png\r\n",
      "-rw-rw-r-- 1 shivansh shivansh   54691 Jan 24 12:52  2.Function.ipynb\r\n",
      "-rw-rw-r-- 1 shivansh shivansh  415377 Jan 25 00:09  2.png\r\n",
      "-rw-rw-r-- 1 shivansh shivansh   48841 Jan 23 17:27  3.List.ipynb\r\n",
      "-rw-rw-r-- 1 shivansh shivansh  335481 Jan 25 00:09  3.png\r\n",
      "-rw-rw-r-- 1 shivansh shivansh  304642 Jan 25 00:27  4.png\r\n",
      "-rw-rw-r-- 1 shivansh shivansh   21568 Jan 20 19:28  4.Tuple.ipynb\r\n",
      "-rw-rw-r-- 1 shivansh shivansh   34921 Jan 20 19:28  5.Set.ipynb\r\n",
      "-rw-rw-r-- 1 shivansh shivansh   14816 Jan 20 19:28  6.Dictionary.ipynb\r\n",
      "-rw-rw-r-- 1 shivansh shivansh  295527 Jan 20 19:29 '7.Object-Class(Opps-1).ipynb'\r\n",
      "-rw-rw-r-- 1 shivansh shivansh  232827 Jan 21 15:40 '8.Encapsulation_Abstraction_Inheritance_Polymorphism(Opps-2).ipynb'\r\n",
      "-rw-rw-r-- 1 shivansh shivansh   58397 Jan 24 20:42  DBMS.ipynb\r\n",
      "-rw-rw-r-- 1 shivansh shivansh 5706477 Jan 14 12:41  employee_salaries.ipynb\r\n",
      "drwxrwxr-x 2 shivansh shivansh    4096 Jan 25 17:44  \u001b[01;34m.ipynb_checkpoints\u001b[0m/\r\n",
      "-rw-rw-r-- 1 shivansh shivansh    5044 Jan 14 12:45 'Linear Regression Quest.ipynb'\r\n",
      "-rw-rw-r-- 1 shivansh shivansh 1256150 Jan 14 01:48 'Python course notes Sections 1-7.pdf'\r\n",
      "-rw-rw-r-- 1 shivansh shivansh    3178 Jan 25 18:14  Untitled1.ipynb\r\n",
      "-rw-rw-r-- 1 shivansh shivansh   12315 Jan 25 13:56  Untitled.ipynb\r\n"
     ]
    }
   ],
   "source": [
    "ls -al "
   ]
  },
  {
   "cell_type": "code",
   "execution_count": 11,
   "id": "923354d5",
   "metadata": {},
   "outputs": [
    {
     "name": "stdout",
     "output_type": "stream",
     "text": [
      ".:\r\n",
      " 1.HelloWorld-To-StringFunction.ipynb\r\n",
      " 1.png\r\n",
      " 2.Function.ipynb\r\n",
      " 2.png\r\n",
      " 3.List.ipynb\r\n",
      " 3.png\r\n",
      " 4.png\r\n",
      " 4.Tuple.ipynb\r\n",
      " 5.Set.ipynb\r\n",
      " 6.Dictionary.ipynb\r\n",
      "'7.Object-Class(Opps-1).ipynb'\r\n",
      "'8.Encapsulation_Abstraction_Inheritance_Polymorphism(Opps-2).ipynb'\r\n",
      " DBMS.ipynb\r\n",
      " employee_salaries.ipynb\r\n",
      "'Linear Regression Quest.ipynb'\r\n",
      "'Python course notes Sections 1-7.pdf'\r\n",
      " Untitled1.ipynb\r\n",
      " Untitled.ipynb\r\n"
     ]
    }
   ],
   "source": [
    "ls -R"
   ]
  },
  {
   "cell_type": "markdown",
   "id": "82283944",
   "metadata": {},
   "source": [
    "# cat command allows us to create single or multiple files, view content of a file, concatenate files and redirect output in terminal or files."
   ]
  },
  {
   "cell_type": "code",
   "execution_count": null,
   "id": "13e177f6",
   "metadata": {},
   "outputs": [],
   "source": [
    "cat > t.txt"
   ]
  },
  {
   "cell_type": "code",
   "execution_count": null,
   "id": "79e820a0",
   "metadata": {},
   "outputs": [],
   "source": [
    "cat t.txt | tr a-z A-Z \n",
    "cat t.txt | tr a-z A-Z  > s.txt"
   ]
  },
  {
   "cell_type": "code",
   "execution_count": null,
   "id": "c854a71c",
   "metadata": {},
   "outputs": [],
   "source": [
    "mkdir -p random/insert/hello ----> dic inside dic"
   ]
  },
  {
   "cell_type": "code",
   "execution_count": null,
   "id": "3a01292d",
   "metadata": {},
   "outputs": [],
   "source": [
    "cp total.txt copy_total.txt"
   ]
  },
  {
   "cell_type": "code",
   "execution_count": null,
   "id": "dd242495",
   "metadata": {},
   "outputs": [],
   "source": [
    "mv tota.txt random"
   ]
  },
  {
   "cell_type": "code",
   "execution_count": null,
   "id": "415d1355",
   "metadata": {},
   "outputs": [],
   "source": [
    "sudo ---> sudo allows a permitted user to execute a command as\n",
    "     the superuser or another user."
   ]
  },
  {
   "cell_type": "code",
   "execution_count": null,
   "id": "db88a41f",
   "metadata": {},
   "outputs": [],
   "source": [
    "df displays the amount of disk space  available  on\n",
    "       the file system containing each file name argument.\n",
    "df"
   ]
  },
  {
   "cell_type": "code",
   "execution_count": 16,
   "id": "121e2038",
   "metadata": {},
   "outputs": [
    {
     "name": "stdout",
     "output_type": "stream",
     "text": [
      "Filesystem      Size  Used Avail Use% Mounted on\r\n",
      "udev            5.8G     0  5.8G   0% /dev\r\n",
      "tmpfs           1.2G  2.3M  1.2G   1% /run\r\n",
      "/dev/sda2       457G  154G  281G  36% /\r\n",
      "tmpfs           5.8G  253M  5.6G   5% /dev/shm\r\n",
      "tmpfs           5.0M  4.0K  5.0M   1% /run/lock\r\n",
      "tmpfs           5.8G     0  5.8G   0% /sys/fs/cgroup\r\n",
      "/dev/loop2      128K  128K     0 100% /snap/bare/5\r\n",
      "/dev/loop6       56M   56M     0 100% /snap/core18/2284\r\n",
      "/dev/loop5      100M  100M     0 100% /snap/core/11993\r\n",
      "/dev/loop1      218M  218M     0 100% /snap/code/85\r\n",
      "/dev/loop4       62M   62M     0 100% /snap/core20/1242\r\n",
      "/dev/loop7      218M  218M     0 100% /snap/code/84\r\n",
      "/dev/loop9      248M  248M     0 100% /snap/gnome-3-38-2004/87\r\n",
      "/dev/loop0       56M   56M     0 100% /snap/core18/2253\r\n",
      "/dev/loop8      219M  219M     0 100% /snap/gnome-3-34-1804/72\r\n",
      "/dev/loop10      44M   44M     0 100% /snap/snapd/14295\r\n",
      "/dev/loop17      55M   55M     0 100% /snap/snap-store/558\r\n",
      "/dev/loop13     219M  219M     0 100% /snap/gnome-3-34-1804/77\r\n",
      "/dev/loop12      27M   27M     0 100% /snap/heroku/4078\r\n",
      "/dev/loop15      27M   27M     0 100% /snap/heroku/4076\r\n",
      "/dev/loop18      66M   66M     0 100% /snap/gtk-common-themes/1519\r\n",
      "/dev/loop14      51M   51M     0 100% /snap/snap-store/547\r\n",
      "/dev/loop20      66M   66M     0 100% /snap/gtk-common-themes/1515\r\n",
      "/dev/loop11      12M   12M     0 100% /snap/ngrok/35\r\n",
      "/dev/loop21      93M   93M     0 100% /snap/youtube-dl/4568\r\n",
      "/dev/loop19     296M  296M     0 100% /snap/vlc/2344\r\n",
      "/dev/loop23     250M  250M     0 100% /snap/zoom-client/166\r\n",
      "/dev/loop25      62M   62M     0 100% /snap/core20/1270\r\n",
      "/dev/loop24      11M   11M     0 100% /snap/helm/353\r\n",
      "/dev/loop22     250M  250M     0 100% /snap/zoom-client/167\r\n",
      "/dev/loop26      93M   93M     0 100% /snap/youtube-dl/4572\r\n",
      "/dev/sda1       511M  7.9M  504M   2% /boot/efi\r\n",
      "tmpfs           1.2G  8.0K  1.2G   1% /run/user/126\r\n",
      "tmpfs           1.2G  116K  1.2G   1% /run/user/1000\r\n",
      "/dev/loop27      44M   44M     0 100% /snap/snapd/14549\r\n",
      "overlay         457G  154G  281G  36% /var/lib/docker/overlay2/00a2cf49220c0bae8135486d3ce984461ec208cd695132beff3b99a102d1a133/merged\r\n",
      "/dev/loop16     111M  111M     0 100% /snap/core/12603\r\n"
     ]
    }
   ],
   "source": [
    "! df -h "
   ]
  },
  {
   "cell_type": "code",
   "execution_count": 18,
   "id": "f2605d26",
   "metadata": {},
   "outputs": [
    {
     "name": "stdout",
     "output_type": "stream",
     "text": [
      "5.6M\t./.ipynb_checkpoints\r\n",
      "15M\t.\r\n"
     ]
    }
   ],
   "source": [
    "! du -h "
   ]
  },
  {
   "cell_type": "code",
   "execution_count": null,
   "id": "fee06626",
   "metadata": {},
   "outputs": [],
   "source": [
    "head -1  to.txt"
   ]
  },
  {
   "cell_type": "code",
   "execution_count": null,
   "id": "7e4c0ff2",
   "metadata": {},
   "outputs": [],
   "source": [
    "tail -1 to.txt"
   ]
  },
  {
   "cell_type": "code",
   "execution_count": null,
   "id": "a7aac5ce",
   "metadata": {},
   "outputs": [],
   "source": [
    "diff f.txt to.txt"
   ]
  },
  {
   "cell_type": "code",
   "execution_count": null,
   "id": "b52ffc1a",
   "metadata": {},
   "outputs": [],
   "source": [
    "find random/"
   ]
  },
  {
   "cell_type": "code",
   "execution_count": null,
   "id": "e70802bd",
   "metadata": {},
   "outputs": [],
   "source": [
    "find . -type f \n",
    "find . -type d "
   ]
  },
  {
   "cell_type": "code",
   "execution_count": null,
   "id": "b6354340",
   "metadata": {},
   "outputs": [],
   "source": [
    "find . -type f -name \"t.txt\""
   ]
  },
  {
   "cell_type": "code",
   "execution_count": null,
   "id": "325996ac",
   "metadata": {},
   "outputs": [],
   "source": [
    "find . -type f -name \"*.txt\""
   ]
  },
  {
   "cell_type": "code",
   "execution_count": null,
   "id": "f6ab4354",
   "metadata": {},
   "outputs": [],
   "source": [
    "find . -type f -mmin -20"
   ]
  },
  {
   "cell_type": "code",
   "execution_count": null,
   "id": "3c106092",
   "metadata": {},
   "outputs": [],
   "source": [
    "find . -type f -perm 777"
   ]
  },
  {
   "cell_type": "code",
   "execution_count": null,
   "id": "8d4b0482",
   "metadata": {},
   "outputs": [],
   "source": [
    "chmod u=rwx,g=rw,o=rwx to.txt"
   ]
  },
  {
   "cell_type": "code",
   "execution_count": null,
   "id": "51f1a980",
   "metadata": {},
   "outputs": [],
   "source": [
    "chmod 777 to.txt      4=read,2=write,1=execuation(x)"
   ]
  },
  {
   "cell_type": "markdown",
   "id": "b0fd2f41",
   "metadata": {},
   "source": [
    "# Root is a super user that has the highest access on the system."
   ]
  },
  {
   "cell_type": "code",
   "execution_count": null,
   "id": "d1c60090",
   "metadata": {},
   "outputs": [],
   "source": [
    "find . -type f -name \"*.txt\" -exec rm -rf {} +\n",
    "---> This will delete the all text file that is present in your system."
   ]
  },
  {
   "cell_type": "code",
   "execution_count": null,
   "id": "191a2a56",
   "metadata": {},
   "outputs": [],
   "source": [
    "grep -win \"shivanhsh\" ./*.txt"
   ]
  },
  {
   "cell_type": "code",
   "execution_count": null,
   "id": "13f43a23",
   "metadata": {},
   "outputs": [],
   "source": [
    "grep -w \"shivansh\" to.txt"
   ]
  },
  {
   "cell_type": "code",
   "execution_count": null,
   "id": "1c2dbe9c",
   "metadata": {},
   "outputs": [],
   "source": [
    "wget ---> wget is used to download anything on the internet "
   ]
  },
  {
   "cell_type": "code",
   "execution_count": null,
   "id": "b9fe9ff6",
   "metadata": {},
   "outputs": [],
   "source": [
    "top - display Linux processes"
   ]
  },
  {
   "cell_type": "markdown",
   "id": "6b46f212",
   "metadata": {},
   "source": [
    "# Kernel is the core part of an operating system which manages system resources. It also acts like a bridge between application and hardware of the computer.<br>\n",
    "<img src=\"https://static.javatpoint.com/blog/images/what-is-kernel.png\"  />"
   ]
  },
  {
   "cell_type": "code",
   "execution_count": null,
   "id": "878057a6",
   "metadata": {},
   "outputs": [],
   "source": [
    "hostname command in Linux is used to obtain the DNS.\n",
    "hostname \n",
    "hostname -i   ---> hostname ip address"
   ]
  },
  {
   "cell_type": "markdown",
   "id": "4240dfdf",
   "metadata": {},
   "source": [
    "# lsof:- All the file that is currently open by any of the process in the system you can check it out through lsof command."
   ]
  },
  {
   "cell_type": "markdown",
   "id": "1e90be36",
   "metadata": {},
   "source": [
    "# id:- To display your own identity,It will display your id, primary group id, and supplementary groups id."
   ]
  },
  {
   "cell_type": "markdown",
   "id": "5797d467",
   "metadata": {},
   "source": [
    "# nslookup:- nslookup command is used to know Ip address of a particular domain."
   ]
  },
  {
   "cell_type": "markdown",
   "id": "0bee2e41",
   "metadata": {},
   "source": [
    "# netstat:-It is used to know all the port that are currently listening or open.It gives an overview of network activities and displays which ports are open"
   ]
  },
  {
   "cell_type": "markdown",
   "id": "56fe47b3",
   "metadata": {},
   "source": [
    "# ps aux :- The ps aux command show all processes running in your system. When you scrool it ps aux also become on process."
   ]
  },
  {
   "cell_type": "markdown",
   "id": "ae91e60f",
   "metadata": {},
   "source": [
    "# ps (Process Status)\n",
    "# Syntax : ps [options]"
   ]
  },
  {
   "cell_type": "markdown",
   "id": "9c42fa8e",
   "metadata": {},
   "source": [
    "# & operator command is used to run any command in backgroud.<br> ps aux find process id of that process and using kill pid we can kill the process.<br>The & makes the command run in the background."
   ]
  },
  {
   "cell_type": "markdown",
   "id": "95a98fd7",
   "metadata": {},
   "source": [
    "# && The second command will only execute if the first command has executed successfully. "
   ]
  },
  {
   "cell_type": "markdown",
   "id": "beda4459",
   "metadata": {},
   "source": [
    "# ; operator is used to run multiple command in one go."
   ]
  },
  {
   "cell_type": "markdown",
   "id": "49ecc9f6",
   "metadata": {},
   "source": [
    "# pipe :- Pipes help combine two or more commands and and in this, the output of one command acts as input to another command"
   ]
  },
  {
   "cell_type": "markdown",
   "id": "e97e3356",
   "metadata": {},
   "source": [
    "# {}  ---> group all the commands "
   ]
  },
  {
   "cell_type": "markdown",
   "id": "f9ee53d1",
   "metadata": {},
   "source": [
    "#  swap memory is the dedicated amount of hard drive that is used whenever RAM runs out of memory."
   ]
  },
  {
   "cell_type": "markdown",
   "id": "c437666b",
   "metadata": {},
   "source": [
    "# Every process in Linux systems is sent a SIGHUP (Signal Hang UP) which is responsible for terminating the process after closing/exiting the terminal.<br><br>nohup:-nohup is a POSIX command which means \"no hang up\". Its purpose is to execute a command such that it ignores the HUP signal and therefore does not stop when the user logs out. Output that would normally go to the terminal goes to a file called nohup.out."
   ]
  },
  {
   "cell_type": "markdown",
   "id": "5c24682f",
   "metadata": {},
   "source": [
    "# Create User:- useradd -m john; passwd john<br><br> id john <br><br> Create group:- groupadd ml;gpasswd ml <br><br> Assign any persone to group:- usermod -aG ml john<br><br>Grant Sudo Permissions to Users:- usermod -aG sudo john<br><br>Delete a User in Linux:- userdel john"
   ]
  },
  {
   "cell_type": "markdown",
   "id": "69ae84d5",
   "metadata": {},
   "source": [
    "# TCP stands for Transmission Control Protocol a communications standard that enables application programs and computing devices to exchange messages over a network.<br><br>Netcat is one of the powerful networking tool, security tool or network monitoring tool It is generally used for Operation related to TCP, UDP."
   ]
  },
  {
   "cell_type": "markdown",
   "id": "7b8b5c57",
   "metadata": {},
   "source": [
    "# The Linux /proc File System is a virtual filesystem that exists in RAM (i.e., it is not stored on the hard drive). That means that it exists only when the computer is turned on and running"
   ]
  },
  {
   "cell_type": "markdown",
   "id": "6029a943",
   "metadata": {},
   "source": [
    "# chmod:-  chmod is the command used to change the access permissions of file system.<br><br>chown command is used to change the file Owner or group.<br>\n",
    "<img src=\"https://media.geeksforgeeks.org/wp-content/uploads/chown1.png\"/>"
   ]
  },
  {
   "cell_type": "markdown",
   "id": "9b850079",
   "metadata": {},
   "source": [
    "# cgroup:- A control group (cgroup) is used to limits, accounts for,the resource usage (CPU, memory, disk I/O, network, and so on) of a collection of processes."
   ]
  },
  {
   "cell_type": "markdown",
   "id": "0ab22797",
   "metadata": {},
   "source": [
    "# dig:-  It is used for retrieving information about DNS name servers.<br><br>Dig command replaces older tools such as nslookup and the host."
   ]
  },
  {
   "cell_type": "code",
   "execution_count": 24,
   "id": "fe4a1fc8",
   "metadata": {},
   "outputs": [
    {
     "ename": "SyntaxError",
     "evalue": "invalid syntax (98062681.py, line 2)",
     "output_type": "error",
     "traceback": [
      "\u001b[0;36m  File \u001b[0;32m\"/tmp/ipykernel_505729/98062681.py\"\u001b[0;36m, line \u001b[0;32m2\u001b[0m\n\u001b[0;31m    Default Port Numbers\u001b[0m\n\u001b[0m            ^\u001b[0m\n\u001b[0;31mSyntaxError\u001b[0m\u001b[0;31m:\u001b[0m invalid syntax\n"
     ]
    }
   ],
   "source": [
    "DNS        53\n",
    "Default Port Numbers\n",
    "Port\tIP\tProtocol\n",
    "22\tTCP\tSSH\n",
    "25\tTCP\tSMTP\n",
    "53\tTCP & UDP\tDNS\n",
    "80\tTCP\tHTTP"
   ]
  },
  {
   "cell_type": "markdown",
   "id": "7761ca76",
   "metadata": {},
   "source": [
    "# ssh stands for “Secure Shell”. It is a protocol used to securely connect to a remote server/system.ssh is secure in the sense that it transfers the data in encrypted form between the host and the client.<br><img src=\"https://media.geeksforgeeks.org/wp-content/uploads/ssh_example.jpg\" /><img src=\"https://media.geeksforgeeks.org/wp-content/uploads/ssh_keygen.jpg\"  />"
   ]
  },
  {
   "cell_type": "markdown",
   "id": "be73f476",
   "metadata": {},
   "source": [
    "# Use the ssh-keygen command to generate a public/private authentication key pair.<br>The private key must remain hidden while the public key must be copied to the remote host. After copying the public key to the remote host the connection will be established using SSH keys and not the password."
   ]
  },
  {
   "cell_type": "markdown",
   "id": "92d594e9",
   "metadata": {},
   "source": [
    "# SCP:-The scp command copies files or directories between a local and a remote system or between two remote systems. "
   ]
  },
  {
   "cell_type": "markdown",
   "id": "07860536",
   "metadata": {},
   "source": [
    "# init 0 means system shutdown\n",
    "# init 1 — single user mode or emergency mode means no network no multitasking is present in this mode only root has access in this runlevel."
   ]
  },
  {
   "cell_type": "markdown",
   "id": "b779c75b",
   "metadata": {},
   "source": [
    "# Heroku is a platform as a service (PaaS) that enables developers to build, run, and operate applications entirely in the cloud.<br>Platform as a service (PaaS) is a cloud computing model where a third-party provider delivers hardware and software tools to users over the internet."
   ]
  },
  {
   "cell_type": "markdown",
   "id": "33920910",
   "metadata": {},
   "source": [
    "# Gunicorn is a pure-Python HTTP server for WSGI applications. "
   ]
  },
  {
   "cell_type": "code",
   "execution_count": null,
   "id": "4dcbcb63",
   "metadata": {},
   "outputs": [],
   "source": []
  }
 ],
 "metadata": {
  "kernelspec": {
   "display_name": "Python 3.8.8 64-bit ('base': conda)",
   "language": "python",
   "name": "python388jvsc74a57bd02c7ffa9c538f0bfb5740c89a215bcbde02033924243f3d233f0c9916449df403"
  },
  "language_info": {
   "codemirror_mode": {
    "name": "ipython",
    "version": 3
   },
   "file_extension": ".py",
   "mimetype": "text/x-python",
   "name": "python",
   "nbconvert_exporter": "python",
   "pygments_lexer": "ipython3",
   "version": "3.8.8"
  }
 },
 "nbformat": 4,
 "nbformat_minor": 5
}
