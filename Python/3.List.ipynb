{
 "cells": [
  {
   "cell_type": "markdown",
   "id": "f84440f5",
   "metadata": {},
   "source": [
    "# -Mutable ---> List/Set/Dictionary  (Es tin data type chor kr sb Immutable hota hain, means en sbhi ko aap memory me use jagah me rakh kr edit nahi kr skte agar aap edit karoge to add change hoga mtln naya object create hoga).<br><br>-Immutable ---> String/tuple/int/float/Boolean/complex."
   ]
  },
  {
   "cell_type": "markdown",
   "id": "dd87351b",
   "metadata": {},
   "source": [
    "## What is list <br>List vs array<br>Create a list<br>Access<br>Edit<br>Add <br>Delete<br>Operation<br>Function<br>"
   ]
  },
  {
   "cell_type": "markdown",
   "id": "9784caab",
   "metadata": {},
   "source": [
    "# What is list <br>List vs array\n",
    "- Array are Homogenous  List can be Hetrogenous.\n",
    "- Array me continus memory location me chze store hoti hain jbki list me aisa nahi hota hain. jiske wagah se array is much faster then list.\n",
    "- List are more programmer friendly."
   ]
  },
  {
   "cell_type": "markdown",
   "id": "59ca2f2d",
   "metadata": {},
   "source": [
    "- Create a list"
   ]
  },
  {
   "cell_type": "code",
   "execution_count": 15,
   "id": "670033bd",
   "metadata": {},
   "outputs": [
    {
     "data": {
      "text/plain": [
       "[]"
      ]
     },
     "execution_count": 15,
     "metadata": {},
     "output_type": "execute_result"
    }
   ],
   "source": [
    "l=[]\n",
    "l "
   ]
  },
  {
   "cell_type": "code",
   "execution_count": 4,
   "id": "fc3f9541",
   "metadata": {},
   "outputs": [
    {
     "data": {
      "text/plain": [
       "[1, 2, 3, 4, 5]"
      ]
     },
     "execution_count": 4,
     "metadata": {},
     "output_type": "execute_result"
    }
   ],
   "source": [
    "l=[1,2,3,4,5]\n",
    "l"
   ]
  },
  {
   "cell_type": "code",
   "execution_count": 6,
   "id": "e092b0c3",
   "metadata": {},
   "outputs": [
    {
     "data": {
      "text/plain": [
       "[1, 'Shivansh', 'deyshivam6@gmail.com', True]"
      ]
     },
     "execution_count": 6,
     "metadata": {},
     "output_type": "execute_result"
    }
   ],
   "source": [
    "l=[1,\"Shivansh\",\"deyshivam6@gmail.com\",True]\n",
    "l"
   ]
  },
  {
   "cell_type": "code",
   "execution_count": 8,
   "id": "439eb3c2",
   "metadata": {},
   "outputs": [
    {
     "data": {
      "text/plain": [
       "[1, 2, 3, [4, 5]]"
      ]
     },
     "execution_count": 8,
     "metadata": {},
     "output_type": "execute_result"
    }
   ],
   "source": [
    "# Multi-dim list\n",
    "# 2-D\n",
    "l=[1,2,3,[4,5]]\n",
    "l"
   ]
  },
  {
   "cell_type": "code",
   "execution_count": 25,
   "id": "4f5e417d",
   "metadata": {},
   "outputs": [
    {
     "data": {
      "text/plain": [
       "[[[1, 2], [3, 4], [5]]]"
      ]
     },
     "execution_count": 25,
     "metadata": {},
     "output_type": "execute_result"
    }
   ],
   "source": [
    "# 3-D\n",
    "l=[[[1,2],[3,4],[5]]]\n",
    "l"
   ]
  },
  {
   "cell_type": "code",
   "execution_count": 30,
   "id": "d2ff00a1",
   "metadata": {},
   "outputs": [
    {
     "data": {
      "text/plain": [
       "['P', 'a', 't', 'n', 'a']"
      ]
     },
     "execution_count": 30,
     "metadata": {},
     "output_type": "execute_result"
    }
   ],
   "source": [
    "# Using type-conversion create list\n",
    "l = list(\"Patna\")\n",
    "l "
   ]
  },
  {
   "cell_type": "markdown",
   "id": "c870ae5a",
   "metadata": {},
   "source": [
    "- Access"
   ]
  },
  {
   "cell_type": "code",
   "execution_count": 32,
   "id": "521a4246",
   "metadata": {},
   "outputs": [
    {
     "data": {
      "text/plain": [
       "['P', 'a', 't', 'n', 'a']"
      ]
     },
     "execution_count": 32,
     "metadata": {},
     "output_type": "execute_result"
    }
   ],
   "source": [
    "l "
   ]
  },
  {
   "cell_type": "code",
   "execution_count": 33,
   "id": "def760ec",
   "metadata": {},
   "outputs": [
    {
     "data": {
      "text/plain": [
       "'P'"
      ]
     },
     "execution_count": 33,
     "metadata": {},
     "output_type": "execute_result"
    }
   ],
   "source": [
    "l[0]"
   ]
  },
  {
   "cell_type": "code",
   "execution_count": 34,
   "id": "4b9c96fc",
   "metadata": {},
   "outputs": [
    {
     "data": {
      "text/plain": [
       "'a'"
      ]
     },
     "execution_count": 34,
     "metadata": {},
     "output_type": "execute_result"
    }
   ],
   "source": [
    "l[-1]"
   ]
  },
  {
   "cell_type": "code",
   "execution_count": 35,
   "id": "65a27fa3",
   "metadata": {},
   "outputs": [
    {
     "data": {
      "text/plain": [
       "['P', 'a', 't', 'n', 'a']"
      ]
     },
     "execution_count": 35,
     "metadata": {},
     "output_type": "execute_result"
    }
   ],
   "source": [
    "l[0:5]"
   ]
  },
  {
   "cell_type": "code",
   "execution_count": 36,
   "id": "c0e8bd0f",
   "metadata": {},
   "outputs": [
    {
     "data": {
      "text/plain": [
       "['a', 'n', 't', 'a', 'P']"
      ]
     },
     "execution_count": 36,
     "metadata": {},
     "output_type": "execute_result"
    }
   ],
   "source": [
    "l[::-1]"
   ]
  },
  {
   "cell_type": "code",
   "execution_count": 37,
   "id": "15b191ae",
   "metadata": {},
   "outputs": [
    {
     "data": {
      "text/plain": [
       "[1, 2, 3, [4, 5]]"
      ]
     },
     "execution_count": 37,
     "metadata": {},
     "output_type": "execute_result"
    }
   ],
   "source": [
    "l1=[1,2,3,[4,5]]\n",
    "l1"
   ]
  },
  {
   "cell_type": "code",
   "execution_count": 38,
   "id": "9f0c7e63",
   "metadata": {},
   "outputs": [
    {
     "data": {
      "text/plain": [
       "[4, 5]"
      ]
     },
     "execution_count": 38,
     "metadata": {},
     "output_type": "execute_result"
    }
   ],
   "source": [
    "l1[-1]"
   ]
  },
  {
   "cell_type": "code",
   "execution_count": 48,
   "id": "db869ee1",
   "metadata": {},
   "outputs": [
    {
     "data": {
      "text/plain": [
       "4"
      ]
     },
     "execution_count": 48,
     "metadata": {},
     "output_type": "execute_result"
    }
   ],
   "source": [
    "l1[-1][0]\n",
    "# Agar 2-D list ho aur usme se item nikalna ho to do [] lagana hoga."
   ]
  },
  {
   "cell_type": "code",
   "execution_count": 62,
   "id": "d3a56ca2",
   "metadata": {},
   "outputs": [
    {
     "data": {
      "text/plain": [
       "[[[1, 2], [3, 4], [5, 6]]]"
      ]
     },
     "execution_count": 62,
     "metadata": {},
     "output_type": "execute_result"
    }
   ],
   "source": [
    "# 3-D\n",
    "l2=[[[1,2],[3,4],[5,6]]]\n",
    "l2"
   ]
  },
  {
   "cell_type": "code",
   "execution_count": 69,
   "id": "ef0a5a75",
   "metadata": {},
   "outputs": [
    {
     "data": {
      "text/plain": [
       "5"
      ]
     },
     "execution_count": 69,
     "metadata": {},
     "output_type": "execute_result"
    }
   ],
   "source": [
    "# output 5\n",
    "l2[0][2][0]"
   ]
  },
  {
   "cell_type": "markdown",
   "id": "d16e8f6c",
   "metadata": {},
   "source": [
    "- List are Mutable\n",
    "- Edit"
   ]
  },
  {
   "cell_type": "code",
   "execution_count": 70,
   "id": "55b1143b",
   "metadata": {},
   "outputs": [
    {
     "data": {
      "text/plain": [
       "[1, 2, 3, [4, 5]]"
      ]
     },
     "execution_count": 70,
     "metadata": {},
     "output_type": "execute_result"
    }
   ],
   "source": [
    "l1"
   ]
  },
  {
   "cell_type": "code",
   "execution_count": 71,
   "id": "b7bd4fc3",
   "metadata": {},
   "outputs": [],
   "source": [
    "l1[0]=10"
   ]
  },
  {
   "cell_type": "code",
   "execution_count": 72,
   "id": "bc0523ec",
   "metadata": {},
   "outputs": [
    {
     "data": {
      "text/plain": [
       "[10, 2, 3, [4, 5]]"
      ]
     },
     "execution_count": 72,
     "metadata": {},
     "output_type": "execute_result"
    }
   ],
   "source": [
    "l1"
   ]
  },
  {
   "cell_type": "code",
   "execution_count": 76,
   "id": "eb9bc14d",
   "metadata": {},
   "outputs": [],
   "source": [
    "l1[1:3]=[20,30]"
   ]
  },
  {
   "cell_type": "code",
   "execution_count": 77,
   "id": "9cfbf53a",
   "metadata": {},
   "outputs": [
    {
     "data": {
      "text/plain": [
       "[10, 20, 30, [4, 5]]"
      ]
     },
     "execution_count": 77,
     "metadata": {},
     "output_type": "execute_result"
    }
   ],
   "source": [
    "l1"
   ]
  },
  {
   "cell_type": "markdown",
   "id": "7c95c91d",
   "metadata": {},
   "source": [
    "- Add \n",
    "  -  Append\n",
    "  -  Extend\n",
    "  -  Insert"
   ]
  },
  {
   "cell_type": "code",
   "execution_count": 78,
   "id": "1aafd450",
   "metadata": {},
   "outputs": [],
   "source": [
    "l5=[10,20,30,40,50]"
   ]
  },
  {
   "cell_type": "code",
   "execution_count": 79,
   "id": "fba45dbd",
   "metadata": {},
   "outputs": [
    {
     "data": {
      "text/plain": [
       "[10, 20, 30, 40, 50]"
      ]
     },
     "execution_count": 79,
     "metadata": {},
     "output_type": "execute_result"
    }
   ],
   "source": [
    "l5"
   ]
  },
  {
   "cell_type": "code",
   "execution_count": 80,
   "id": "23d69369",
   "metadata": {},
   "outputs": [],
   "source": [
    "l5.append(60)"
   ]
  },
  {
   "cell_type": "code",
   "execution_count": 81,
   "id": "444eb239",
   "metadata": {},
   "outputs": [],
   "source": [
    "l5.append(\"Shivansh\")"
   ]
  },
  {
   "cell_type": "code",
   "execution_count": 82,
   "id": "14e63321",
   "metadata": {},
   "outputs": [
    {
     "data": {
      "text/plain": [
       "[10, 20, 30, 40, 50, 60, 'Shivansh']"
      ]
     },
     "execution_count": 82,
     "metadata": {},
     "output_type": "execute_result"
    }
   ],
   "source": [
    "l5"
   ]
  },
  {
   "cell_type": "code",
   "execution_count": 83,
   "id": "c5697675",
   "metadata": {},
   "outputs": [],
   "source": [
    "# In one go add multiple element.\n",
    "l5.extend([70,80,90,\"Shivam\"])"
   ]
  },
  {
   "cell_type": "code",
   "execution_count": 84,
   "id": "d9dc7279",
   "metadata": {},
   "outputs": [
    {
     "data": {
      "text/plain": [
       "[10, 20, 30, 40, 50, 60, 'Shivansh', 70, 80, 90, 'Shivam']"
      ]
     },
     "execution_count": 84,
     "metadata": {},
     "output_type": "execute_result"
    }
   ],
   "source": [
    "l5"
   ]
  },
  {
   "cell_type": "code",
   "execution_count": 85,
   "id": "ea015d1a",
   "metadata": {},
   "outputs": [],
   "source": [
    "l5.insert(1,\"Hello\")"
   ]
  },
  {
   "cell_type": "code",
   "execution_count": 86,
   "id": "08bee3e2",
   "metadata": {},
   "outputs": [
    {
     "data": {
      "text/plain": [
       "[10, 'Hello', 20, 30, 40, 50, 60, 'Shivansh', 70, 80, 90, 'Shivam']"
      ]
     },
     "execution_count": 86,
     "metadata": {},
     "output_type": "execute_result"
    }
   ],
   "source": [
    "l5"
   ]
  },
  {
   "cell_type": "markdown",
   "id": "ea616386",
   "metadata": {},
   "source": [
    "- Delete\n",
    "-   del\n",
    "-   remove\n",
    "-   pop\n",
    "-   clear "
   ]
  },
  {
   "cell_type": "code",
   "execution_count": 87,
   "id": "fa468635",
   "metadata": {},
   "outputs": [
    {
     "data": {
      "text/plain": [
       "[10, 20, 30, [4, 5]]"
      ]
     },
     "execution_count": 87,
     "metadata": {},
     "output_type": "execute_result"
    }
   ],
   "source": [
    "l1"
   ]
  },
  {
   "cell_type": "code",
   "execution_count": 89,
   "id": "69ba6e79",
   "metadata": {},
   "outputs": [],
   "source": [
    "del l1"
   ]
  },
  {
   "cell_type": "code",
   "execution_count": 90,
   "id": "ee067b4e",
   "metadata": {},
   "outputs": [
    {
     "ename": "NameError",
     "evalue": "name 'l1' is not defined",
     "output_type": "error",
     "traceback": [
      "\u001b[0;31m---------------------------------------------------------------------------\u001b[0m",
      "\u001b[0;31mNameError\u001b[0m                                 Traceback (most recent call last)",
      "\u001b[0;32m/tmp/ipykernel_60660/2585568370.py\u001b[0m in \u001b[0;36m<module>\u001b[0;34m\u001b[0m\n\u001b[0;32m----> 1\u001b[0;31m \u001b[0ml1\u001b[0m\u001b[0;34m\u001b[0m\u001b[0;34m\u001b[0m\u001b[0m\n\u001b[0m",
      "\u001b[0;31mNameError\u001b[0m: name 'l1' is not defined"
     ]
    }
   ],
   "source": [
    "l1"
   ]
  },
  {
   "cell_type": "code",
   "execution_count": 91,
   "id": "e4b068bb",
   "metadata": {},
   "outputs": [
    {
     "data": {
      "text/plain": [
       "[10, 'Hello', 20, 30, 40, 50, 60, 'Shivansh', 70, 80, 90, 'Shivam']"
      ]
     },
     "execution_count": 91,
     "metadata": {},
     "output_type": "execute_result"
    }
   ],
   "source": [
    "l5"
   ]
  },
  {
   "cell_type": "code",
   "execution_count": 92,
   "id": "295d50f3",
   "metadata": {},
   "outputs": [],
   "source": [
    "del l5[-1]"
   ]
  },
  {
   "cell_type": "code",
   "execution_count": 94,
   "id": "a6f4fe8b",
   "metadata": {},
   "outputs": [
    {
     "data": {
      "text/plain": [
       "[10, 'Hello', 20, 30, 40, 50, 60, 'Shivansh', 70, 80, 90]"
      ]
     },
     "execution_count": 94,
     "metadata": {},
     "output_type": "execute_result"
    }
   ],
   "source": [
    "l5"
   ]
  },
  {
   "cell_type": "code",
   "execution_count": 95,
   "id": "9aae25bc",
   "metadata": {},
   "outputs": [],
   "source": [
    "# If we don't know the index"
   ]
  },
  {
   "cell_type": "code",
   "execution_count": 97,
   "id": "34a30664",
   "metadata": {},
   "outputs": [],
   "source": [
    "l5.reverse()"
   ]
  },
  {
   "cell_type": "code",
   "execution_count": 99,
   "id": "ca7c2063",
   "metadata": {},
   "outputs": [
    {
     "data": {
      "text/plain": [
       "[90, 80, 70, 'Shivansh', 60, 50, 40, 30, 20, 'Hello', 10]"
      ]
     },
     "execution_count": 99,
     "metadata": {},
     "output_type": "execute_result"
    }
   ],
   "source": [
    "l5"
   ]
  },
  {
   "cell_type": "code",
   "execution_count": 100,
   "id": "14db68c0",
   "metadata": {},
   "outputs": [],
   "source": [
    "l5.remove(\"Shivansh\")"
   ]
  },
  {
   "cell_type": "code",
   "execution_count": 101,
   "id": "7a7cd9aa",
   "metadata": {},
   "outputs": [
    {
     "data": {
      "text/plain": [
       "[90, 80, 70, 60, 50, 40, 30, 20, 'Hello', 10]"
      ]
     },
     "execution_count": 101,
     "metadata": {},
     "output_type": "execute_result"
    }
   ],
   "source": [
    "l5"
   ]
  },
  {
   "cell_type": "code",
   "execution_count": 102,
   "id": "f6420331",
   "metadata": {},
   "outputs": [
    {
     "data": {
      "text/plain": [
       "10"
      ]
     },
     "execution_count": 102,
     "metadata": {},
     "output_type": "execute_result"
    }
   ],
   "source": [
    "# Pop will delete last item\n",
    "l5.pop()"
   ]
  },
  {
   "cell_type": "code",
   "execution_count": 103,
   "id": "8f00faf8",
   "metadata": {},
   "outputs": [],
   "source": [
    "# Clear is do empty\n",
    "l5.clear()"
   ]
  },
  {
   "cell_type": "code",
   "execution_count": 104,
   "id": "4eeae29a",
   "metadata": {},
   "outputs": [
    {
     "data": {
      "text/plain": [
       "[]"
      ]
     },
     "execution_count": 104,
     "metadata": {},
     "output_type": "execute_result"
    }
   ],
   "source": [
    "l5"
   ]
  },
  {
   "cell_type": "markdown",
   "id": "568ad617",
   "metadata": {},
   "source": [
    "- Operation"
   ]
  },
  {
   "cell_type": "code",
   "execution_count": 106,
   "id": "55be0d69",
   "metadata": {},
   "outputs": [
    {
     "data": {
      "text/plain": [
       "[12, 1, 3, 4, 5, 5, 67, 8, 9]"
      ]
     },
     "execution_count": 106,
     "metadata": {},
     "output_type": "execute_result"
    }
   ],
   "source": [
    "l1=[12,1,3,4,5]\n",
    "l2=[5,67,8,9]\n",
    "l1+l2"
   ]
  },
  {
   "cell_type": "code",
   "execution_count": 109,
   "id": "dc8b41bf",
   "metadata": {},
   "outputs": [
    {
     "data": {
      "text/plain": [
       "[12, 1, 3, 4, 5, 12, 1, 3, 4, 5]"
      ]
     },
     "execution_count": 109,
     "metadata": {},
     "output_type": "execute_result"
    }
   ],
   "source": [
    "l1*2"
   ]
  },
  {
   "cell_type": "code",
   "execution_count": 111,
   "id": "b21b5015",
   "metadata": {},
   "outputs": [
    {
     "name": "stdout",
     "output_type": "stream",
     "text": [
      "12\n",
      "1\n",
      "3\n",
      "4\n",
      "5\n"
     ]
    }
   ],
   "source": [
    "for  i in l1:\n",
    "    print(i)"
   ]
  },
  {
   "cell_type": "code",
   "execution_count": 113,
   "id": "afd20143",
   "metadata": {},
   "outputs": [
    {
     "data": {
      "text/plain": [
       "[12, 5, 4, 3, 1]"
      ]
     },
     "execution_count": 113,
     "metadata": {},
     "output_type": "execute_result"
    }
   ],
   "source": [
    "sorted(l1,reverse=True)"
   ]
  },
  {
   "cell_type": "code",
   "execution_count": 114,
   "id": "a800b8eb",
   "metadata": {},
   "outputs": [
    {
     "data": {
      "text/plain": [
       "[12, 1, 3, 4, 5]"
      ]
     },
     "execution_count": 114,
     "metadata": {},
     "output_type": "execute_result"
    }
   ],
   "source": [
    "l1"
   ]
  },
  {
   "cell_type": "code",
   "execution_count": 115,
   "id": "10868120",
   "metadata": {},
   "outputs": [],
   "source": [
    "l1.sort()"
   ]
  },
  {
   "cell_type": "code",
   "execution_count": 116,
   "id": "2a3e1463",
   "metadata": {},
   "outputs": [
    {
     "data": {
      "text/plain": [
       "[1, 3, 4, 5, 12]"
      ]
     },
     "execution_count": 116,
     "metadata": {},
     "output_type": "execute_result"
    }
   ],
   "source": [
    "l1"
   ]
  },
  {
   "cell_type": "markdown",
   "id": "f24035d2",
   "metadata": {},
   "source": [
    "# We make a program that work like title."
   ]
  },
  {
   "cell_type": "code",
   "execution_count": 117,
   "id": "8dc8bfe4",
   "metadata": {},
   "outputs": [],
   "source": [
    "sample=\"hi what is your name\""
   ]
  },
  {
   "cell_type": "code",
   "execution_count": 173,
   "id": "0008f2d6",
   "metadata": {},
   "outputs": [
    {
     "data": {
      "text/plain": [
       "'Hi What Is Your Name'"
      ]
     },
     "execution_count": 173,
     "metadata": {},
     "output_type": "execute_result"
    }
   ],
   "source": [
    "sample.title()"
   ]
  },
  {
   "cell_type": "code",
   "execution_count": 169,
   "id": "b2e8cd2e",
   "metadata": {},
   "outputs": [
    {
     "name": "stdout",
     "output_type": "stream",
     "text": [
      "Hi\n",
      "What\n",
      "Is\n",
      "Your\n",
      "Name\n"
     ]
    }
   ],
   "source": [
    "for i in sample.split():\n",
    "        print(i[0].upper()+i[1:])"
   ]
  },
  {
   "cell_type": "code",
   "execution_count": 222,
   "id": "6f92c339",
   "metadata": {},
   "outputs": [
    {
     "name": "stdout",
     "output_type": "stream",
     "text": [
      "125 ns ± 3.49 ns per loop (mean ± std. dev. of 7 runs, 100 loops each)\n"
     ]
    }
   ],
   "source": [
    "%%timeit -n 100\n",
    "def title(x):\n",
    "    for i in x.split():\n",
    "        i = i[0].upper()+i[1:]\n",
    "        print(i,end=\" \")"
   ]
  },
  {
   "cell_type": "code",
   "execution_count": 223,
   "id": "7a7865be",
   "metadata": {},
   "outputs": [
    {
     "name": "stdout",
     "output_type": "stream",
     "text": [
      "Hi This Is Shivansh "
     ]
    }
   ],
   "source": [
    "title(\"hi this is shivansh\")"
   ]
  },
  {
   "cell_type": "code",
   "execution_count": 174,
   "id": "260c548c",
   "metadata": {},
   "outputs": [
    {
     "data": {
      "text/plain": [
       "'hi what is your name'"
      ]
     },
     "execution_count": 174,
     "metadata": {},
     "output_type": "execute_result"
    }
   ],
   "source": [
    "sample"
   ]
  },
  {
   "cell_type": "code",
   "execution_count": 187,
   "id": "bfcc1d7b",
   "metadata": {},
   "outputs": [
    {
     "data": {
      "text/plain": [
       "'Hi what is your name'"
      ]
     },
     "execution_count": 187,
     "metadata": {},
     "output_type": "execute_result"
    }
   ],
   "source": [
    "# First Word Capital\n",
    "sample.capitalize()"
   ]
  },
  {
   "cell_type": "code",
   "execution_count": 234,
   "id": "f9d7e163",
   "metadata": {},
   "outputs": [
    {
     "name": "stdout",
     "output_type": "stream",
     "text": [
      "Hi What Is Your Name "
     ]
    }
   ],
   "source": [
    "for i in sample.split():\n",
    "    print(i.capitalize(),end=\" \")"
   ]
  },
  {
   "cell_type": "markdown",
   "id": "17d87a70",
   "metadata": {},
   "source": [
    "# Inside email predict user_id"
   ]
  },
  {
   "cell_type": "code",
   "execution_count": 252,
   "id": "a067f5d0",
   "metadata": {},
   "outputs": [],
   "source": [
    "email=\"deyshivam6@gmail.com\""
   ]
  },
  {
   "cell_type": "code",
   "execution_count": 253,
   "id": "baddaa2f",
   "metadata": {},
   "outputs": [],
   "source": [
    "# Find give me an index.\n",
    "ind = email.find(\"@\")"
   ]
  },
  {
   "cell_type": "code",
   "execution_count": 254,
   "id": "801a89fa",
   "metadata": {},
   "outputs": [
    {
     "data": {
      "text/plain": [
       "10"
      ]
     },
     "execution_count": 254,
     "metadata": {},
     "output_type": "execute_result"
    }
   ],
   "source": [
    "ind"
   ]
  },
  {
   "cell_type": "code",
   "execution_count": 255,
   "id": "5cc4d806",
   "metadata": {},
   "outputs": [
    {
     "name": "stdout",
     "output_type": "stream",
     "text": [
      "deyshivam6\n"
     ]
    }
   ],
   "source": [
    "print(email[0:ind])"
   ]
  },
  {
   "cell_type": "code",
   "execution_count": 246,
   "id": "38e76142",
   "metadata": {},
   "outputs": [],
   "source": [
    "def user_id(email_id):\n",
    "    index= email_id.find(\"@\")\n",
    "    print(email_id[0:index])  "
   ]
  },
  {
   "cell_type": "code",
   "execution_count": 248,
   "id": "ddd3e3bd",
   "metadata": {},
   "outputs": [
    {
     "name": "stdout",
     "output_type": "stream",
     "text": [
      "45shivansh\n"
     ]
    }
   ],
   "source": [
    "user_id(\"45shivansh@gmail.com\")"
   ]
  },
  {
   "cell_type": "code",
   "execution_count": null,
   "id": "64ffc943",
   "metadata": {},
   "outputs": [],
   "source": []
  },
  {
   "cell_type": "code",
   "execution_count": null,
   "id": "216e45a2",
   "metadata": {},
   "outputs": [],
   "source": []
  },
  {
   "cell_type": "code",
   "execution_count": null,
   "id": "fad427a6",
   "metadata": {},
   "outputs": [],
   "source": []
  },
  {
   "cell_type": "code",
   "execution_count": null,
   "id": "30fdf12e",
   "metadata": {},
   "outputs": [],
   "source": []
  },
  {
   "cell_type": "code",
   "execution_count": null,
   "id": "da2a743f",
   "metadata": {},
   "outputs": [],
   "source": []
  },
  {
   "cell_type": "code",
   "execution_count": null,
   "id": "7aca00d9",
   "metadata": {},
   "outputs": [],
   "source": []
  },
  {
   "cell_type": "code",
   "execution_count": null,
   "id": "98258ba3",
   "metadata": {},
   "outputs": [],
   "source": []
  },
  {
   "cell_type": "code",
   "execution_count": null,
   "id": "23681fb4",
   "metadata": {},
   "outputs": [],
   "source": []
  },
  {
   "cell_type": "code",
   "execution_count": 256,
   "id": "8b673f38",
   "metadata": {},
   "outputs": [],
   "source": [
    "def user_id1(email_id1):\n",
    "    index1 = email_id1.find(\"@\")\n",
    "    print(email_id1[:index1])"
   ]
  },
  {
   "cell_type": "code",
   "execution_count": 258,
   "id": "7de7966f",
   "metadata": {},
   "outputs": [
    {
     "name": "stdout",
     "output_type": "stream",
     "text": [
      "deyshivam6\n"
     ]
    }
   ],
   "source": [
    "user_id1(\"deyshivam6@gamil.com\")"
   ]
  },
  {
   "cell_type": "markdown",
   "id": "f3add84e",
   "metadata": {},
   "source": [
    "<img src=\"data:image/jpeg;base64,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\" />"
   ]
  },
  {
   "cell_type": "code",
   "execution_count": 260,
   "id": "3b456d26",
   "metadata": {},
   "outputs": [
    {
     "data": {
      "text/plain": [
       "True"
      ]
     },
     "execution_count": 260,
     "metadata": {},
     "output_type": "execute_result"
    }
   ],
   "source": [
    "# Comapre \n",
    "1.50000001>1.5"
   ]
  },
  {
   "cell_type": "code",
   "execution_count": 266,
   "id": "4d5d1f0e",
   "metadata": {},
   "outputs": [
    {
     "data": {
      "text/plain": [
       "True"
      ]
     },
     "execution_count": 266,
     "metadata": {},
     "output_type": "execute_result"
    }
   ],
   "source": [
    "15==15.000000000000000000000000"
   ]
  },
  {
   "cell_type": "code",
   "execution_count": 269,
   "id": "bf13161a",
   "metadata": {},
   "outputs": [
    {
     "data": {
      "text/plain": [
       "True"
      ]
     },
     "execution_count": 269,
     "metadata": {},
     "output_type": "execute_result"
    }
   ],
   "source": [
    "15 < 15.000001"
   ]
  },
  {
   "cell_type": "code",
   "execution_count": 270,
   "id": "9d6fb6f6",
   "metadata": {},
   "outputs": [
    {
     "data": {
      "text/plain": [
       "True"
      ]
     },
     "execution_count": 270,
     "metadata": {},
     "output_type": "execute_result"
    }
   ],
   "source": [
    "19 < 19.5"
   ]
  },
  {
   "cell_type": "markdown",
   "id": "cf9a9126",
   "metadata": {},
   "source": [
    "- You can use a List to store the steps necessary to cook a chicken, because Lists support sequential access and you can access the steps in order."
   ]
  },
  {
   "cell_type": "markdown",
   "id": "342d6f9c",
   "metadata": {},
   "source": [
    "<img src=\"data:image/jpeg;base64,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\" />"
   ]
  },
  {
   "cell_type": "code",
   "execution_count": null,
   "id": "d5f7b289",
   "metadata": {},
   "outputs": [],
   "source": []
  }
 ],
 "metadata": {
  "kernelspec": {
   "display_name": "Python 3.8.8 64-bit ('base': conda)",
   "language": "python",
   "name": "python388jvsc74a57bd02c7ffa9c538f0bfb5740c89a215bcbde02033924243f3d233f0c9916449df403"
  },
  "language_info": {
   "codemirror_mode": {
    "name": "ipython",
    "version": 3
   },
   "file_extension": ".py",
   "mimetype": "text/x-python",
   "name": "python",
   "nbconvert_exporter": "python",
   "pygments_lexer": "ipython3",
   "version": "3.8.8"
  }
 },
 "nbformat": 4,
 "nbformat_minor": 5
}
