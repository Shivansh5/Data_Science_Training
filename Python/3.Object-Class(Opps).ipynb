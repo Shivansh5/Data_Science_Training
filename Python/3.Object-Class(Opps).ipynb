{
 "cells": [
  {
   "cell_type": "code",
   "execution_count": 1,
   "id": "a10d6a34",
   "metadata": {},
   "outputs": [],
   "source": [
    "l=[1,2,3]\n",
    "city=\"patna\""
   ]
  },
  {
   "cell_type": "code",
   "execution_count": 2,
   "id": "3ded1b4b",
   "metadata": {},
   "outputs": [
    {
     "data": {
      "text/plain": [
       "'PATNA'"
      ]
     },
     "execution_count": 2,
     "metadata": {},
     "output_type": "execute_result"
    }
   ],
   "source": [
    "city.upper()"
   ]
  },
  {
   "cell_type": "code",
   "execution_count": 3,
   "id": "9851cd10",
   "metadata": {},
   "outputs": [
    {
     "ename": "AttributeError",
     "evalue": "'list' object has no attribute 'upper'",
     "output_type": "error",
     "traceback": [
      "\u001b[0;31m---------------------------------------------------------------------------\u001b[0m",
      "\u001b[0;31mAttributeError\u001b[0m                            Traceback (most recent call last)",
      "\u001b[0;32m/tmp/ipykernel_200763/447581512.py\u001b[0m in \u001b[0;36m<module>\u001b[0;34m\u001b[0m\n\u001b[0;32m----> 1\u001b[0;31m \u001b[0ml\u001b[0m\u001b[0;34m.\u001b[0m\u001b[0mupper\u001b[0m\u001b[0;34m(\u001b[0m\u001b[0;34m)\u001b[0m\u001b[0;34m\u001b[0m\u001b[0;34m\u001b[0m\u001b[0m\n\u001b[0m",
      "\u001b[0;31mAttributeError\u001b[0m: 'list' object has no attribute 'upper'"
     ]
    }
   ],
   "source": [
    "l.upper()"
   ]
  },
  {
   "cell_type": "code",
   "execution_count": null,
   "id": "b274865c",
   "metadata": {},
   "outputs": [],
   "source": [
    "l.remove(1)\n",
    "l "
   ]
  },
  {
   "cell_type": "code",
   "execution_count": null,
   "id": "5ab93f89",
   "metadata": {},
   "outputs": [],
   "source": [
    "city.remove()"
   ]
  },
  {
   "cell_type": "code",
   "execution_count": null,
   "id": "b03b1801",
   "metadata": {},
   "outputs": [],
   "source": [
    "a=True\n",
    "a.remove(\"T\")"
   ]
  },
  {
   "cell_type": "markdown",
   "id": "ba848e72",
   "metadata": {},
   "source": [
    "# Python tell  my every variable is object.whenever i remove a=True a.remove(\"T\") They throw an error object has no attribute 'remove' . And every object is unique in the sense of attribute(function) means every object has unique attribute.<br> In python everything is an object."
   ]
  },
  {
   "cell_type": "markdown",
   "id": "40b508ed",
   "metadata": {},
   "source": [
    "<img src=\"https://www.machinelearningplus.com/wp-content/uploads/2021/04/step-4.svg\" />"
   ]
  },
  {
   "cell_type": "markdown",
   "id": "07e5933f",
   "metadata": {},
   "source": [
    "# Object-Oriented-Programming is the great technique using which a programmer can able to create own data type."
   ]
  },
  {
   "cell_type": "markdown",
   "id": "2841ada3",
   "metadata": {},
   "source": [
    "<img src=\"https://encrypted-tbn0.gstatic.com/images?q=tbn:ANd9GcTgRCgBxfd48-uol73sFuChadqP9MKfy9C1xw&usqp=CAU\" />"
   ]
  },
  {
   "cell_type": "markdown",
   "id": "14913fab",
   "metadata": {},
   "source": [
    "int x = 5\n",
    "\n",
    "- int is class\n",
    "- x is object\n",
    "- in general we call it variable but in python it is call object,so we can say that x is an object of int class."
   ]
  },
  {
   "cell_type": "markdown",
   "id": "699358a0",
   "metadata": {},
   "source": [
    "- l1=[1,2,3,4,5]\n",
    "- type(l1)\n",
    "- l1 is the object of  List class."
   ]
  },
  {
   "cell_type": "markdown",
   "id": "26227322",
   "metadata": {},
   "source": [
    "# A Class is like a \"blueprint\" for creating objects.<br>\n",
    "- In simple word datatype is a class.\n",
    "    - In simple word datatype is a class, and using datatype(class) we create an object."
   ]
  },
  {
   "cell_type": "code",
   "execution_count": null,
   "id": "21e30dde",
   "metadata": {},
   "outputs": [],
   "source": [
    "l1=[1,2,3,4,5] # l1 is object."
   ]
  },
  {
   "cell_type": "code",
   "execution_count": null,
   "id": "9f010370",
   "metadata": {},
   "outputs": [],
   "source": [
    "print(type(l1)) # list is a class."
   ]
  },
  {
   "cell_type": "markdown",
   "id": "0b44e02b",
   "metadata": {},
   "source": [
    "- if we want to create our own class then we put only two things in the class.\n",
    "    - Data or property\n",
    "    - Function and behavior"
   ]
  },
  {
   "cell_type": "markdown",
   "id": "9a1a8d78",
   "metadata": {},
   "source": [
    "#  - A Class is like a \"blueprint\" for creating objects.<br>- Object is an instance of the class."
   ]
  },
  {
   "cell_type": "markdown",
   "id": "522979fa",
   "metadata": {},
   "source": [
    "        Class                            Object\n",
    "        -----                            ------\n",
    "        Car                              Wagonr   //wagonr=Car()\n",
    "        Sport                            Gilli_Danda // gill_danda=Sport()\n",
    "        Animal                           Langoor   // langoor=Animal()\n",
    "        LinearRegression                 lr        // lr=LinearRegression()"
   ]
  },
  {
   "cell_type": "markdown",
   "id": "5ace0fcd",
   "metadata": {},
   "source": [
    "<img src=\"https://www.learnbyexample.org/wp-content/uploads/python/Class-Object-Illustration.png\" />"
   ]
  },
  {
   "cell_type": "markdown",
   "id": "c54c5c93",
   "metadata": {},
   "source": [
    "- Each car was built from the same set of blueprints and therefore contains the same components. In object-oriented terms, we say that your car(Wagonr) is an instance (object) of the class Car."
   ]
  },
  {
   "cell_type": "markdown",
   "id": "934cd046",
   "metadata": {},
   "source": [
    "Did you know?\n",
    "\n",
    "In Python, everything is an object – integers, strings, lists, functions, even classes themselves.\n",
    "\n",
    "However, Python hides the object machinery with the help of special syntax.\n",
    "\n",
    "For example, when you type num = 42, Python actually creates a new object of type integer with the value 42, and assign its reference to the name num."
   ]
  },
  {
   "cell_type": "markdown",
   "id": "4ca0712c",
   "metadata": {},
   "source": [
    "        Class                            Object\n",
    "        -----                            ------\n",
    "        Car                              Wagonr   //wagonr=Car()\n",
    "        Sport                            Gilli_Danda // gill_danda=Sport()\n",
    "        Animal                           Langoor   // langoor=Animal()\n",
    "        LinearRegression                 lr        // lr=LinearRegression()"
   ]
  },
  {
   "cell_type": "code",
   "execution_count": null,
   "id": "0bfceba4",
   "metadata": {},
   "outputs": [],
   "source": [
    "l1=[1,2,3,4,5]\n",
    "l1"
   ]
  },
  {
   "cell_type": "code",
   "execution_count": null,
   "id": "61fc3d38",
   "metadata": {},
   "outputs": [],
   "source": [
    "l5 = list()\n",
    "l5"
   ]
  },
  {
   "cell_type": "code",
   "execution_count": null,
   "id": "e2b2b4ae",
   "metadata": {},
   "outputs": [],
   "source": [
    "l6 = list([1,2,3,4,5])\n",
    "l6"
   ]
  },
  {
   "cell_type": "code",
   "execution_count": null,
   "id": "aef4c34e",
   "metadata": {},
   "outputs": [],
   "source": [
    "a=int() # We make an object (a) of integer class.\n",
    "a"
   ]
  },
  {
   "cell_type": "markdown",
   "id": "7bab9b4a",
   "metadata": {},
   "source": [
    "## Create a Class, Using Class Keyword we can define a Class."
   ]
  },
  {
   "cell_type": "code",
   "execution_count": null,
   "id": "2a7eb1b0",
   "metadata": {},
   "outputs": [],
   "source": [
    "# First Latter of the class name should be capital but not mandatory.\n",
    "class Car:\n",
    "    pass"
   ]
  },
  {
   "cell_type": "markdown",
   "id": "9e07caa1",
   "metadata": {},
   "source": [
    "- Let's make a class of Car."
   ]
  },
  {
   "cell_type": "code",
   "execution_count": 4,
   "id": "5e66330c",
   "metadata": {},
   "outputs": [],
   "source": [
    "class Car:\n",
    "    # Data\n",
    "    color=None \n",
    "    top_speed=None \n",
    "    \n",
    "    # Function\n",
    "    def get_info(self,x,y):\n",
    "        \"\"\"\n",
    "        This will take Color of Car in x and Speed of Car in y.\n",
    "        \"\"\"\n",
    "        self.color=x\n",
    "        self.top_speed=y\n",
    "        \n",
    "        print(\"You have a\",self.color,\"car can with a top speed of\",self.top_speed)\n",
    "    \n",
    "    def calAvgSpeed(self,km,t):\n",
    "        \"\"\"\n",
    "        Give km and time and i will give you the speed of the car.\n",
    "        \"\"\"\n",
    "        \n",
    "        speed=float(km/t) \n",
    "        \n",
    "        print(\"Speed of car\",speed)"
   ]
  },
  {
   "cell_type": "code",
   "execution_count": 5,
   "id": "d65993c3",
   "metadata": {},
   "outputs": [],
   "source": [
    "wagonr=Car()"
   ]
  },
  {
   "cell_type": "code",
   "execution_count": 6,
   "id": "11bdead1",
   "metadata": {},
   "outputs": [
    {
     "name": "stdout",
     "output_type": "stream",
     "text": [
      "You have a red car can with a top speed of 60\n"
     ]
    }
   ],
   "source": [
    "wagonr.get_info(\"red\",60)"
   ]
  },
  {
   "cell_type": "code",
   "execution_count": 7,
   "id": "2f0b68be",
   "metadata": {},
   "outputs": [
    {
     "name": "stdout",
     "output_type": "stream",
     "text": [
      "Speed of car 2.0\n"
     ]
    }
   ],
   "source": [
    "wagonr.calAvgSpeed(10,5)"
   ]
  },
  {
   "cell_type": "markdown",
   "id": "02df7a21",
   "metadata": {},
   "source": [
    "- Save Above class in the python lib folder with car.py name."
   ]
  },
  {
   "cell_type": "code",
   "execution_count": 8,
   "id": "fba8a988",
   "metadata": {},
   "outputs": [],
   "source": [
    "import car"
   ]
  },
  {
   "cell_type": "code",
   "execution_count": 9,
   "id": "a32c280a",
   "metadata": {},
   "outputs": [],
   "source": [
    "audi=car.Car() # audi is the object of Car class."
   ]
  },
  {
   "cell_type": "code",
   "execution_count": 10,
   "id": "b3ba1095",
   "metadata": {},
   "outputs": [
    {
     "name": "stdout",
     "output_type": "stream",
     "text": [
      "You have a red car can with a top speed of 50\n"
     ]
    }
   ],
   "source": [
    "audi.get_info(\"red\",50)"
   ]
  },
  {
   "cell_type": "code",
   "execution_count": 11,
   "id": "87a2b724",
   "metadata": {},
   "outputs": [
    {
     "name": "stdout",
     "output_type": "stream",
     "text": [
      "Speed of car 2.0\n"
     ]
    }
   ],
   "source": [
    "audi.calAvgSpeed(10,5)"
   ]
  },
  {
   "cell_type": "code",
   "execution_count": 12,
   "id": "ad68b1d3",
   "metadata": {},
   "outputs": [],
   "source": [
    "l1 = list()"
   ]
  },
  {
   "cell_type": "code",
   "execution_count": 13,
   "id": "60747dfd",
   "metadata": {},
   "outputs": [],
   "source": [
    "# l1. # After press dot(.) you will find all function whatever in the list class."
   ]
  },
  {
   "cell_type": "code",
   "execution_count": 14,
   "id": "60d1042d",
   "metadata": {},
   "outputs": [],
   "source": [
    "maruti = car.Car()"
   ]
  },
  {
   "cell_type": "code",
   "execution_count": 15,
   "id": "bcda6bb0",
   "metadata": {},
   "outputs": [
    {
     "name": "stdout",
     "output_type": "stream",
     "text": [
      "Speed of car 1.1111111111111112\n"
     ]
    }
   ],
   "source": [
    "maruti.calAvgSpeed(100,90)"
   ]
  },
  {
   "cell_type": "markdown",
   "id": "c3c858cd",
   "metadata": {},
   "source": [
    "<img src=\"data:image/jpeg;base64,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\" />"
   ]
  },
  {
   "cell_type": "code",
   "execution_count": 17,
   "id": "35b86074",
   "metadata": {},
   "outputs": [],
   "source": [
    "class Atm:\n",
    "    # Data\n",
    "    pin=None\n",
    "    bal=0\n",
    "    \n",
    "    # Function\n",
    "    def activate_card(self):\n",
    "        print(\"Hi welcome to SBI bank\")\n",
    "        self.pin=input(\"Enter your 4 digit pin: \") # access class variable use self.\n",
    "        print(\"Congrsts Your pin is created\")\n",
    "        \n",
    "    def checkBalance(self):\n",
    "        temp = input(\"Enter Your 4 digit number\")\n",
    "        if temp==self.pin:\n",
    "            print(\"Your Current Balance Is: \",self.bal)\n",
    "        else:\n",
    "            print(\"Invalid Pin\")\n",
    "    def deposite(self):\n",
    "        temp = input(\"Enter Your 4 digit number\")\n",
    "        if temp==self.pin:\n",
    "            ammout=int(input(\"Enter Your Ammount\"))\n",
    "            self.bal=self.bal+ammout\n",
    "            print(\"Deposite Sucessfully\")\n",
    "        else:\n",
    "            print(\"Invalid Pin\")\n",
    "            \n",
    "    def withdraw(self):\n",
    "        temp = input(\"Enter Your 4 digit number\")\n",
    "        if temp==self.pin:\n",
    "            ammout=int(input(\"Enter Your Ammount\"))\n",
    "            if ammout < self.bal:\n",
    "                self.bal=self.bal-ammout\n",
    "                print(\"Sucessfully Withdraw\",ammout)\n",
    "            else:\n",
    "                print(\"insufficient Balance\")\n",
    "        else:\n",
    "            print(\"Invalid Pin\")"
   ]
  },
  {
   "cell_type": "code",
   "execution_count": 69,
   "id": "9dcd5a38",
   "metadata": {},
   "outputs": [
    {
     "name": "stdout",
     "output_type": "stream",
     "text": [
      "Hi welcome to SBI bank\n",
      "Enter your 4 digit pin: 5665\n",
      "Congrsts Your pin is created\n"
     ]
    }
   ],
   "source": [
    "shivam = Atm()"
   ]
  },
  {
   "cell_type": "code",
   "execution_count": 23,
   "id": "d6f1eef6",
   "metadata": {},
   "outputs": [
    {
     "name": "stdout",
     "output_type": "stream",
     "text": [
      "Hi welcome to SBI bank\n",
      "Enter your 4 digit pin5555\n",
      "Congrsts Your pin is created\n"
     ]
    }
   ],
   "source": [
    "shivam.activate_card()"
   ]
  },
  {
   "cell_type": "markdown",
   "id": "e9ba0a33",
   "metadata": {},
   "source": [
    "- Save Above class in the python lib folder with sbi.py name."
   ]
  },
  {
   "cell_type": "code",
   "execution_count": 25,
   "id": "9a8c3891",
   "metadata": {},
   "outputs": [],
   "source": [
    "import sbi"
   ]
  },
  {
   "cell_type": "code",
   "execution_count": 27,
   "id": "dda43d38",
   "metadata": {},
   "outputs": [],
   "source": [
    "shivam = sbi.Atm()"
   ]
  },
  {
   "cell_type": "code",
   "execution_count": 31,
   "id": "34c2281b",
   "metadata": {},
   "outputs": [
    {
     "name": "stdout",
     "output_type": "stream",
     "text": [
      "Hi welcome to SBI bank\n",
      "Enter your 4 digit pin: 5656\n",
      "Congrsts Your pin is created\n"
     ]
    }
   ],
   "source": [
    "shivam.activate_card()"
   ]
  },
  {
   "cell_type": "code",
   "execution_count": 35,
   "id": "9ab8c690",
   "metadata": {},
   "outputs": [
    {
     "name": "stdout",
     "output_type": "stream",
     "text": [
      "Enter Your 4 digit number5656\n",
      "Enter Your Ammount10000\n",
      "Deposite Sucessfully\n"
     ]
    }
   ],
   "source": [
    "shivam.deposite()"
   ]
  },
  {
   "cell_type": "code",
   "execution_count": 70,
   "id": "a07e6e1f",
   "metadata": {},
   "outputs": [
    {
     "name": "stdout",
     "output_type": "stream",
     "text": [
      "Enter Your 4 digit number5656\n",
      "Invalid Pin\n"
     ]
    }
   ],
   "source": [
    "shivam.checkBalance()"
   ]
  },
  {
   "cell_type": "code",
   "execution_count": 37,
   "id": "81f1c8dc",
   "metadata": {},
   "outputs": [
    {
     "name": "stdout",
     "output_type": "stream",
     "text": [
      "Enter Your 4 digit number5656\n",
      "Enter Your Ammount5000\n",
      "Deposite Sucessfully\n"
     ]
    }
   ],
   "source": [
    "shivam.deposite()"
   ]
  },
  {
   "cell_type": "code",
   "execution_count": 38,
   "id": "dffa89d6",
   "metadata": {},
   "outputs": [
    {
     "name": "stdout",
     "output_type": "stream",
     "text": [
      "Enter Your 4 digit number5656\n",
      "Your Current Balance Is:  15000\n"
     ]
    }
   ],
   "source": [
    "shivam.checkBalance()"
   ]
  },
  {
   "cell_type": "code",
   "execution_count": 39,
   "id": "37078bf5",
   "metadata": {},
   "outputs": [
    {
     "name": "stdout",
     "output_type": "stream",
     "text": [
      "Enter Your 4 digit number5656\n",
      "Enter Your Ammount2000\n",
      "Sucessfully Withdraw 2000\n"
     ]
    }
   ],
   "source": [
    "shivam.withdraw()"
   ]
  },
  {
   "cell_type": "code",
   "execution_count": 40,
   "id": "7e656a1c",
   "metadata": {},
   "outputs": [
    {
     "name": "stdout",
     "output_type": "stream",
     "text": [
      "Enter Your 4 digit number5656\n",
      "Your Current Balance Is:  13000\n"
     ]
    }
   ],
   "source": [
    "shivam.checkBalance()"
   ]
  },
  {
   "cell_type": "code",
   "execution_count": 41,
   "id": "2abc1892",
   "metadata": {},
   "outputs": [
    {
     "name": "stdout",
     "output_type": "stream",
     "text": [
      "Enter Your 4 digit number5656\n",
      "Enter Your Ammount15000\n",
      "insufficient Balance\n"
     ]
    }
   ],
   "source": [
    "shivam.withdraw()"
   ]
  },
  {
   "cell_type": "markdown",
   "id": "a12cd94b",
   "metadata": {},
   "source": [
    "<img src=\"https://www.machinelearningplus.com/wp-content/uploads/2021/04/step-1.svg\" width=200 />"
   ]
  },
  {
   "cell_type": "code",
   "execution_count": 44,
   "id": "52c24de0",
   "metadata": {},
   "outputs": [],
   "source": [
    "shivansh = sbi.Atm()"
   ]
  },
  {
   "cell_type": "code",
   "execution_count": 45,
   "id": "c9a28efd",
   "metadata": {},
   "outputs": [
    {
     "name": "stdout",
     "output_type": "stream",
     "text": [
      "Hi welcome to SBI bank\n",
      "Enter your 4 digit pin: 9090\n",
      "Congrsts Your pin is created\n"
     ]
    }
   ],
   "source": [
    "shivansh.activate_card()"
   ]
  },
  {
   "cell_type": "code",
   "execution_count": 47,
   "id": "d1ddf0d0",
   "metadata": {},
   "outputs": [
    {
     "name": "stdout",
     "output_type": "stream",
     "text": [
      "Enter Your 4 digit number9090\n",
      "Enter Your Ammount800\n",
      "Deposite Sucessfully\n"
     ]
    }
   ],
   "source": [
    "shivansh.deposite()"
   ]
  },
  {
   "cell_type": "code",
   "execution_count": 48,
   "id": "e80c3191",
   "metadata": {},
   "outputs": [
    {
     "name": "stdout",
     "output_type": "stream",
     "text": [
      "Enter Your 4 digit number9090\n",
      "Your Current Balance Is:  800\n"
     ]
    }
   ],
   "source": [
    "shivansh.checkBalance()"
   ]
  },
  {
   "cell_type": "code",
   "execution_count": 49,
   "id": "d3b594a1",
   "metadata": {},
   "outputs": [
    {
     "name": "stdout",
     "output_type": "stream",
     "text": [
      "Enter Your 4 digit number9090\n",
      "Enter Your Ammount100\n",
      "Sucessfully Withdraw 100\n"
     ]
    }
   ],
   "source": [
    "shivansh.withdraw()"
   ]
  },
  {
   "cell_type": "code",
   "execution_count": 50,
   "id": "ca51f4cc",
   "metadata": {},
   "outputs": [
    {
     "name": "stdout",
     "output_type": "stream",
     "text": [
      "Enter Your 4 digit number9090\n",
      "Your Current Balance Is:  700\n"
     ]
    }
   ],
   "source": [
    "shivansh.checkBalance()"
   ]
  },
  {
   "cell_type": "markdown",
   "id": "e0439491",
   "metadata": {},
   "source": [
    "## If i check shivam balance what you think it is replace by shivansh balance(700) or still shivam balance is 13000."
   ]
  },
  {
   "cell_type": "code",
   "execution_count": 51,
   "id": "e643a729",
   "metadata": {},
   "outputs": [
    {
     "name": "stdout",
     "output_type": "stream",
     "text": [
      "Enter Your 4 digit number5656\n",
      "Your Current Balance Is:  13000\n"
     ]
    }
   ],
   "source": [
    "shivam.checkBalance()"
   ]
  },
  {
   "cell_type": "markdown",
   "id": "e9cc9ab0",
   "metadata": {},
   "source": [
    "## That's a beauty of oops even without using database you are able to store multiple values for the same variable."
   ]
  },
  {
   "cell_type": "code",
   "execution_count": 60,
   "id": "366a7f6f",
   "metadata": {},
   "outputs": [],
   "source": [
    "class Car:\n",
    "    # Data\n",
    "    color=None \n",
    "    top_speed=None \n",
    "    \n",
    "    # Function\n",
    "    def get_info(self,x,y):\n",
    "        \n",
    "        self.color=x\n",
    "        self.top_speed=y\n",
    "        \n",
    "        print(\"You have a\",self.color,\"car can with a top speed of\",self.top_speed)\n",
    "    \n",
    "    def calAvgSpeed(self,km,t):\n",
    "       \n",
    "        \n",
    "        speed=float(km/t) \n",
    "        \n",
    "        print(\"Speed of car\",speed)\n",
    "wagonr=Car()\n",
    "wagonr.color=\"blue\"\n",
    "maruti=Car()\n",
    "maruti.color=\"red\""
   ]
  },
  {
   "cell_type": "markdown",
   "id": "1ba69557",
   "metadata": {},
   "source": [
    "- VR Visual Represent for understand above line.\n",
    "https://pythontutor.com/live.html#code=class%20Car%3A%0A%20%20%20%20%23%20Data%0A%20%20%20%20color%3DNone%20%0A%20%20%20%20top_speed%3DNone%20%0A%20%20%20%20%0A%20%20%20%20%23%20Function%0A%20%20%20%20def%20get_info%28self,x,y%29%3A%0A%20%20%20%20%20%20%20%20%0A%20%20%20%20%20%20%20%20self.color%3Dx%0A%20%20%20%20%20%20%20%20self.top_speed%3Dy%0A%20%20%20%20%20%20%20%20%0A%20%20%20%20%20%20%20%20print%28%22You%20have%20a%22,self.color,%22car%20can%20with%20a%20top%20speed%20of%22,self.top_speed%29%0A%20%20%20%20%0A%20%20%20%20def%20calAvgSpeed%28self,km,t%29%3A%0A%20%20%20%20%20%20%20%0A%20%20%20%20%20%20%20%20%0A%20%20%20%20%20%20%20%20speed%3Dfloat%28km/t%29%20%0A%20%20%20%20%20%20%20%20%0A%20%20%20%20%20%20%20%20print%28%22Speed%20of%20car%22,speed%29%0Awagonr%3DCar%28%29%0Awagonr.color%3D%22blue%22%0Amaruti%3DCar%28%29%0Amaruti.color%3D%22red%22%0A&cumulative=false&curInstr=5&heapPrimitives=nevernest&mode=display&origin=opt-live.js&py=3&rawInputLstJSON=%5B%5D&textReferences=false"
   ]
  },
  {
   "cell_type": "markdown",
   "id": "3dafacb9",
   "metadata": {},
   "source": [
    "##  Note:-❤️ <br>Multiple obeject ek hi class ke data or function ko access kr rahe hain aur sb kuch एक समय में ek sath memory me ho raha hain."
   ]
  },
  {
   "cell_type": "markdown",
   "id": "2722f8f7",
   "metadata": {},
   "source": [
    "## Method:- Function write inside class is called Method."
   ]
  },
  {
   "cell_type": "markdown",
   "id": "0cc9f6e1",
   "metadata": {},
   "source": [
    "# Magic Method:-\n",
    "- Magic methods in Python are the special methods that start and end with the double underscores. They are also called dunder methods ❤️<br>\n",
    "# The Constructor:-  ❤️<br>It is a magic method which is automatically invoke(call) once the object of the class is created.\n",
    "- _ _init_ _()"
   ]
  },
  {
   "cell_type": "code",
   "execution_count": 63,
   "id": "6a7e4285",
   "metadata": {},
   "outputs": [],
   "source": [
    "class Atm:\n",
    "    # Data\n",
    "    pin=None\n",
    "    bal=0\n",
    "    \n",
    "    # Function\n",
    "    def __init__(self):\n",
    "        print(\"Hi welcome to SBI bank\")\n",
    "        self.pin=input(\"Enter your 4 digit pin: \") # access class variable use self.\n",
    "        print(\"Congrsts Your pin is created\")\n",
    "        \n",
    "    def checkBalance(self):\n",
    "        temp = input(\"Enter Your 4 digit number\")\n",
    "        if temp==self.pin:\n",
    "            print(\"Your Current Balance Is: \",self.bal)\n",
    "        else:\n",
    "            print(\"Invalid Pin\")\n",
    "    def deposite(self):\n",
    "        temp = input(\"Enter Your 4 digit number\")\n",
    "        if temp==self.pin:\n",
    "            ammout=int(input(\"Enter Your Ammount\"))\n",
    "            self.bal=self.bal+ammout\n",
    "            print(\"Deposite Sucessfully\")\n",
    "        else:\n",
    "            print(\"Invalid Pin\")\n",
    "            \n",
    "    def withdraw(self):\n",
    "        temp = input(\"Enter Your 4 digit number\")\n",
    "        if temp==self.pin:\n",
    "            ammout=int(input(\"Enter Your Ammount\"))\n",
    "            if ammout < self.bal:\n",
    "                self.bal=self.bal-ammout\n",
    "                print(\"Sucessfully Withdraw\",ammout)\n",
    "            else:\n",
    "                print(\"insufficient Balance\")\n",
    "        else:\n",
    "            print(\"Invalid Pin\")"
   ]
  },
  {
   "cell_type": "code",
   "execution_count": 64,
   "id": "d59187c4",
   "metadata": {},
   "outputs": [
    {
     "name": "stdout",
     "output_type": "stream",
     "text": [
      "Hi welcome to SBI bank\n",
      "Enter your 4 digit pin: 5890\n",
      "Congrsts Your pin is created\n"
     ]
    }
   ],
   "source": [
    "riya=Atm()"
   ]
  },
  {
   "cell_type": "code",
   "execution_count": 65,
   "id": "91f13df5",
   "metadata": {},
   "outputs": [
    {
     "data": {
      "text/plain": [
       "'5890'"
      ]
     },
     "execution_count": 65,
     "metadata": {},
     "output_type": "execute_result"
    }
   ],
   "source": [
    "riya.pin"
   ]
  },
  {
   "cell_type": "code",
   "execution_count": 66,
   "id": "a813baa8",
   "metadata": {},
   "outputs": [
    {
     "data": {
      "text/plain": [
       "0"
      ]
     },
     "execution_count": 66,
     "metadata": {},
     "output_type": "execute_result"
    }
   ],
   "source": [
    "riya.bal"
   ]
  },
  {
   "cell_type": "code",
   "execution_count": 79,
   "id": "770f81ea",
   "metadata": {},
   "outputs": [
    {
     "name": "stdout",
     "output_type": "stream",
     "text": [
      "<class '__main__.Atm'>\n"
     ]
    }
   ],
   "source": [
    "print(type(riya))"
   ]
  },
  {
   "cell_type": "code",
   "execution_count": 94,
   "id": "84e28228",
   "metadata": {},
   "outputs": [
    {
     "name": "stdout",
     "output_type": "stream",
     "text": [
      "Enter Your 4 digit number5890\n",
      "Enter Your Ammount500\n",
      "Deposite Sucessfully\n"
     ]
    }
   ],
   "source": [
    "riya.deposite()"
   ]
  },
  {
   "cell_type": "code",
   "execution_count": 68,
   "id": "75f8bf92",
   "metadata": {},
   "outputs": [
    {
     "data": {
      "text/plain": [
       "500"
      ]
     },
     "execution_count": 68,
     "metadata": {},
     "output_type": "execute_result"
    }
   ],
   "source": [
    "riya.bal"
   ]
  },
  {
   "cell_type": "code",
   "execution_count": 93,
   "id": "5a54114f",
   "metadata": {},
   "outputs": [
    {
     "name": "stdout",
     "output_type": "stream",
     "text": [
      "<__main__.Atm object at 0x7f8e005e0d90>\n"
     ]
    }
   ],
   "source": [
    "# Python object ke location ko return kr raha hain. because hum ye python ko nahi \n",
    "# bataye ki return kya krna hain.\n",
    "print(riya)"
   ]
  },
  {
   "cell_type": "markdown",
   "id": "b2a60ae9",
   "metadata": {},
   "source": [
    "# When you use the print() function to display the object, the print() function shows the memory address of that object.<br>Sometimes, it’s useful to have a string representation of an object. To customize the string representation of a class instance, the class needs to implement the __str__ magic method."
   ]
  },
  {
   "cell_type": "code",
   "execution_count": 161,
   "id": "0368a8a0",
   "metadata": {},
   "outputs": [],
   "source": [
    "class Fraction:\n",
    "    num=None\n",
    "    denum=None\n",
    "    \n",
    "    \n",
    "    def __init__(self,x,y):\n",
    "        self.num=int(x) \n",
    "        self.denum=int(y)\n",
    "        \n",
    "    def __str__(self):\n",
    "        return \"{0}/{1}\".format(self.num,self.denum)\n",
    "    \n",
    "    def __add__(self,other):\n",
    "        tempN=self.num*other.denum+self.denum*other.num\n",
    "        tempd=self.denum*other.denum\n",
    "        return Fraction(tempN,tempd)\n",
    "    \n",
    "    def __sub__(self,other):\n",
    "        tempN=self.num*other.denum-self.denum*other.num\n",
    "        tempd=self.denum*other.denum\n",
    "        return Fraction(tempN,tempd) \n",
    "    \n",
    "    def __mul__(self,other):\n",
    "        tempN=self.num**other.num\n",
    "        tempd=self.denum*other.denum\n",
    "        return Fraction(tempN,tempd)\n",
    "    \n",
    "    def __truediv__(self,other):\n",
    "        tempN=self.num*other.denum\n",
    "        tempd=self.denum*other.num\n",
    "        return Fraction(tempN,tempd)"
   ]
  },
  {
   "cell_type": "code",
   "execution_count": 162,
   "id": "930d623a",
   "metadata": {},
   "outputs": [],
   "source": [
    "a = Fraction(5,6) # a is an object but which type"
   ]
  },
  {
   "cell_type": "code",
   "execution_count": 163,
   "id": "0035efe0",
   "metadata": {},
   "outputs": [
    {
     "name": "stdout",
     "output_type": "stream",
     "text": [
      "<class '__main__.Fraction'>\n"
     ]
    }
   ],
   "source": [
    "print(type(a))"
   ]
  },
  {
   "cell_type": "code",
   "execution_count": 164,
   "id": "243943eb",
   "metadata": {},
   "outputs": [
    {
     "name": "stdout",
     "output_type": "stream",
     "text": [
      "5/6\n"
     ]
    }
   ],
   "source": [
    "print(a)"
   ]
  },
  {
   "cell_type": "code",
   "execution_count": 165,
   "id": "fc2517f9",
   "metadata": {},
   "outputs": [],
   "source": [
    "b=Fraction(8,9) "
   ]
  },
  {
   "cell_type": "code",
   "execution_count": 166,
   "id": "de227e40",
   "metadata": {},
   "outputs": [
    {
     "name": "stdout",
     "output_type": "stream",
     "text": [
      "8/9\n"
     ]
    }
   ],
   "source": [
    "print(b)"
   ]
  },
  {
   "cell_type": "code",
   "execution_count": 167,
   "id": "278137b0",
   "metadata": {},
   "outputs": [
    {
     "name": "stdout",
     "output_type": "stream",
     "text": [
      "93/54\n"
     ]
    }
   ],
   "source": [
    "print(a+b) # we are not able to directly add two object."
   ]
  },
  {
   "cell_type": "code",
   "execution_count": 168,
   "id": "61d17eca",
   "metadata": {},
   "outputs": [
    {
     "name": "stdout",
     "output_type": "stream",
     "text": [
      "-3/54\n"
     ]
    }
   ],
   "source": [
    "print(a-b)"
   ]
  },
  {
   "cell_type": "code",
   "execution_count": 169,
   "id": "8f36bf01",
   "metadata": {},
   "outputs": [
    {
     "name": "stdout",
     "output_type": "stream",
     "text": [
      "390625/54\n"
     ]
    }
   ],
   "source": [
    "print(a*b)"
   ]
  },
  {
   "cell_type": "code",
   "execution_count": 170,
   "id": "83296b84",
   "metadata": {},
   "outputs": [
    {
     "name": "stdout",
     "output_type": "stream",
     "text": [
      "45/48\n"
     ]
    }
   ],
   "source": [
    "print(a/b)"
   ]
  },
  {
   "cell_type": "markdown",
   "id": "e09d3445",
   "metadata": {},
   "source": [
    "## _ _add_ _(self, other) method returns a new object that represents the sum of two objects."
   ]
  },
  {
   "cell_type": "markdown",
   "id": "26c91044",
   "metadata": {},
   "source": [
    "-VR \n",
    "https://pythontutor.com/live.html#code=class%20Fraction%3A%0A%20%20%20%20num%3DNone%0A%20%20%20%20denum%3DNone%0A%20%20%20%20%0A%20%20%20%20%0A%20%20%20%20def%20__init__%28self,x,y%29%3A%0A%20%20%20%20%20%20%20%20self.num%3Dint%28x%29%20%0A%20%20%20%20%20%20%20%20self.denum%3Dint%28y%29%0A%20%20%20%20%20%20%20%20%0A%20%20%20%20def%20__str__%28self%29%3A%0A%20%20%20%20%20%20%20%20return%20%22%7B0%7D/%7B1%7D%22.format%28self.num,self.denum%29%0A%20%20%20%20%0A%20%20%20%20def%20__add__%28self,other%29%3A%0A%20%20%20%20%20%20%20%20tempN%3Dself.num*other.denum%2Bself.denum*other.num%0A%20%20%20%20%20%20%20%20tempd%3Dself.denum*other.denum%0A%20%20%20%20%20%20%20%20return%20Fraction%28tempN,tempd%29%0Aa%20%3D%20Fraction%285,6%29%0Aprint%28a%29%0Ab%3DFraction%288,9%29%20%0Aprint%28b%29%0Aprint%28a%2Bb%29%0A&cumulative=false&curInstr=32&heapPrimitives=nevernest&mode=display&origin=opt-live.js&py=3&rawInputLstJSON=%5B%5D&textReferences=false"
   ]
  },
  {
   "cell_type": "code",
   "execution_count": null,
   "id": "73c01010",
   "metadata": {},
   "outputs": [],
   "source": []
  }
 ],
 "metadata": {
  "kernelspec": {
   "display_name": "Python 3.8.8 64-bit ('base': conda)",
   "language": "python",
   "name": "python388jvsc74a57bd02c7ffa9c538f0bfb5740c89a215bcbde02033924243f3d233f0c9916449df403"
  },
  "language_info": {
   "codemirror_mode": {
    "name": "ipython",
    "version": 3
   },
   "file_extension": ".py",
   "mimetype": "text/x-python",
   "name": "python",
   "nbconvert_exporter": "python",
   "pygments_lexer": "ipython3",
   "version": "3.8.8"
  }
 },
 "nbformat": 4,
 "nbformat_minor": 5
}
