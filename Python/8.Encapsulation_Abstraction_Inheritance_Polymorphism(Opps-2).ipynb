{
 "cells": [
  {
   "cell_type": "markdown",
   "id": "0e8d9335",
   "metadata": {},
   "source": [
    "<img src=\"https://miro.medium.com/max/1000/0*JPeTUYz7sn6k2Eqf.gif\" width=200/>"
   ]
  },
  {
   "cell_type": "markdown",
   "id": "94340bd5",
   "metadata": {},
   "source": [
    "# Add the logic of create account number of the user  in the existing code. "
   ]
  },
  {
   "cell_type": "code",
   "execution_count": 1,
   "id": "bfc43c51",
   "metadata": {},
   "outputs": [],
   "source": [
    "# Add the logic of create account number of the user in the existing code.\n",
    "\n",
    "class Atm:\n",
    "    # Data\n",
    "    pin=None # Intance Variable\n",
    "    bal=0     # Intance Variable\n",
    "    counter=1001  # Class Variable\n",
    "    accNo=None # Intance Variable\n",
    "    # Function\n",
    "    def __init__(self):\n",
    "        print(\"Hi welcome to SBI bank\")\n",
    "        self.pin=input(\"Enter your 4 digit pin: \") # access class variable use self.\n",
    "        self.accNo=Atm.counter # Logic of Add AccNum.\n",
    "        Atm.counter=Atm.counter+1 # This is a class variable that's the reason the value of the variable is same for all object.\n",
    "        \n",
    "        print(\"Your AccountNumber is \",self.accNo)\n",
    "        print(\"Congrsts Your pin is created\")\n",
    "        \n",
    "    def checkBalance(self):\n",
    "        temp = input(\"Enter Your 4 digit number\")\n",
    "        if temp==self.pin:\n",
    "            print(\"Your Current Balance Is: \",self.bal)\n",
    "        else:\n",
    "            print(\"Invalid Pin\")\n",
    "    def deposite(self):\n",
    "        temp = input(\"Enter Your 4 digit number\")\n",
    "        if temp==self.pin:\n",
    "            ammout=int(input(\"Enter Your Ammount\"))\n",
    "            self.bal=self.bal+ammout\n",
    "            print(\"Deposite Sucessfully\")\n",
    "        else:\n",
    "            print(\"Invalid Pin\")\n",
    "            \n",
    "    def withdraw(self):\n",
    "        temp = input(\"Enter Your 4 digit number\")\n",
    "        if temp==self.pin:\n",
    "            ammout=int(input(\"Enter Your Ammount\"))\n",
    "            if ammout < self.bal:\n",
    "                self.bal=self.bal-ammout\n",
    "                print(\"Sucessfully Withdraw\",ammout)\n",
    "            else:\n",
    "                print(\"insufficient Balance\")\n",
    "        else:\n",
    "            print(\"Invalid Pin\")"
   ]
  },
  {
   "cell_type": "code",
   "execution_count": 2,
   "id": "7ea7e6d1",
   "metadata": {},
   "outputs": [
    {
     "name": "stdout",
     "output_type": "stream",
     "text": [
      "Hi welcome to SBI bank\n",
      "Enter your 4 digit pin: 5555\n",
      "Your AccountNumber is  1001\n",
      "Congrsts Your pin is created\n"
     ]
    }
   ],
   "source": [
    "Shivam=Atm()"
   ]
  },
  {
   "cell_type": "code",
   "execution_count": 3,
   "id": "2f63ee75",
   "metadata": {},
   "outputs": [
    {
     "name": "stdout",
     "output_type": "stream",
     "text": [
      "Hi welcome to SBI bank\n",
      "Enter your 4 digit pin: 9090\n",
      "Your AccountNumber is  1002\n",
      "Congrsts Your pin is created\n"
     ]
    }
   ],
   "source": [
    "Shivansh=Atm()"
   ]
  },
  {
   "cell_type": "code",
   "execution_count": 4,
   "id": "320a36d9",
   "metadata": {},
   "outputs": [
    {
     "name": "stdout",
     "output_type": "stream",
     "text": [
      "Hi welcome to SBI bank\n",
      "Enter your 4 digit pin: 7676\n",
      "Your AccountNumber is  1003\n",
      "Congrsts Your pin is created\n"
     ]
    }
   ],
   "source": [
    "Riya=Atm()"
   ]
  },
  {
   "cell_type": "code",
   "execution_count": 5,
   "id": "221d9255",
   "metadata": {},
   "outputs": [
    {
     "data": {
      "text/plain": [
       "1001"
      ]
     },
     "execution_count": 5,
     "metadata": {},
     "output_type": "execute_result"
    }
   ],
   "source": [
    "Shivam.accNo"
   ]
  },
  {
   "cell_type": "code",
   "execution_count": 6,
   "id": "1e942985",
   "metadata": {},
   "outputs": [
    {
     "data": {
      "text/plain": [
       "1002"
      ]
     },
     "execution_count": 6,
     "metadata": {},
     "output_type": "execute_result"
    }
   ],
   "source": [
    "Shivansh.accNo"
   ]
  },
  {
   "cell_type": "code",
   "execution_count": 7,
   "id": "6dc8b4b3",
   "metadata": {},
   "outputs": [
    {
     "data": {
      "text/plain": [
       "1003"
      ]
     },
     "execution_count": 7,
     "metadata": {},
     "output_type": "execute_result"
    }
   ],
   "source": [
    "Riya.accNo"
   ]
  },
  {
   "cell_type": "code",
   "execution_count": 8,
   "id": "d5cc6779",
   "metadata": {},
   "outputs": [
    {
     "data": {
      "text/plain": [
       "1004"
      ]
     },
     "execution_count": 8,
     "metadata": {},
     "output_type": "execute_result"
    }
   ],
   "source": [
    "Riya.counter"
   ]
  },
  {
   "cell_type": "code",
   "execution_count": 9,
   "id": "8559e8a2",
   "metadata": {},
   "outputs": [
    {
     "data": {
      "text/plain": [
       "1004"
      ]
     },
     "execution_count": 9,
     "metadata": {},
     "output_type": "execute_result"
    }
   ],
   "source": [
    "Shivam.counter"
   ]
  },
  {
   "cell_type": "code",
   "execution_count": 10,
   "id": "01b3ca4b",
   "metadata": {},
   "outputs": [
    {
     "data": {
      "text/plain": [
       "1004"
      ]
     },
     "execution_count": 10,
     "metadata": {},
     "output_type": "execute_result"
    }
   ],
   "source": [
    "Shivansh.counter # Counter is a class variable."
   ]
  },
  {
   "cell_type": "markdown",
   "id": "0db7adc0",
   "metadata": {},
   "source": [
    "# Class variables are shared across all objects while instance variables are for data unique to each instance.\n",
    "- Instance variable overrides the Class variables having same name which can accidentally introduce bugs or surprising behaviour in our code."
   ]
  },
  {
   "cell_type": "code",
   "execution_count": 11,
   "id": "d3d78d39",
   "metadata": {},
   "outputs": [],
   "source": [
    "class Atm:\n",
    "    # Data\n",
    "    pin=None # Intance Variable\n",
    "    bal=0     # Intance Variable\n",
    "    counter=1001  # Class Variable\n",
    "    accNo=None # Intance Variable\n",
    "    \n",
    "    # Function\n",
    "    def __init__(self):\n",
    "        print(\"Hi welcome to SBI bank\")\n",
    "        self.pin=input(\"Enter your 4 digit pin: \") # access class variable use self.\n",
    "        self.accNo=Atm.counter # Logic of Add AccNum.\n",
    "        Atm.counter=Atm.counter+1 # This is a class variable that's the reason the value of the variable is same for all object.\n",
    "        \n",
    "        print(\"Your AccountNumber is \",self.accNo)\n",
    "        print(\"Congrsts Your pin is created\")\n",
    "        \n",
    "    def checkBalance(self):\n",
    "        temp = input(\"Enter Your 4 digit number\")\n",
    "        if temp==self.pin:\n",
    "            print(\"Your Current Balance Is: \",self.bal)\n",
    "        else:\n",
    "            print(\"Invalid Pin\")\n",
    "    def deposite(self):\n",
    "        temp = input(\"Enter Your 4 digit number\")\n",
    "        if temp==self.pin:\n",
    "            ammout=int(input(\"Enter Your Ammount\"))\n",
    "            self.bal=self.bal+ammout\n",
    "            print(\"Deposite Sucessfully\")\n",
    "        else:\n",
    "            print(\"Invalid Pin\")\n",
    "            \n",
    "    def withdraw(self):\n",
    "        temp = input(\"Enter Your 4 digit number\")\n",
    "        if temp==self.pin:\n",
    "            ammout=int(input(\"Enter Your Ammount\"))\n",
    "            if ammout < self.bal:\n",
    "                self.bal=self.bal-ammout\n",
    "                # bal=Atm.bal-ammout -> class variable\n",
    "                print(\"Sucessfully Withdraw\",ammout)\n",
    "            else:\n",
    "                print(\"insufficient Balance\")\n",
    "        else:\n",
    "            print(\"Invalid Pin\")"
   ]
  },
  {
   "cell_type": "code",
   "execution_count": 12,
   "id": "42ef44ef",
   "metadata": {},
   "outputs": [
    {
     "name": "stdout",
     "output_type": "stream",
     "text": [
      "Hi welcome to SBI bank\n",
      "Enter your 4 digit pin: 5665\n",
      "Your AccountNumber is  1001\n",
      "Congrsts Your pin is created\n"
     ]
    }
   ],
   "source": [
    "rohit=Atm()"
   ]
  },
  {
   "cell_type": "code",
   "execution_count": 14,
   "id": "227a74ff",
   "metadata": {},
   "outputs": [
    {
     "name": "stdout",
     "output_type": "stream",
     "text": [
      "Enter Your 4 digit number5665\n",
      "Enter Your Ammount1500\n",
      "Deposite Sucessfully\n"
     ]
    }
   ],
   "source": [
    "rohit.deposite()"
   ]
  },
  {
   "cell_type": "code",
   "execution_count": 15,
   "id": "5d3a1109",
   "metadata": {},
   "outputs": [
    {
     "name": "stdout",
     "output_type": "stream",
     "text": [
      "Enter Your 4 digit number5665\n",
      "Your Current Balance Is:  1500\n"
     ]
    }
   ],
   "source": [
    "rohit.checkBalance()"
   ]
  },
  {
   "cell_type": "markdown",
   "id": "2259c18e",
   "metadata": {},
   "source": [
    "# Let's Discuss one scenario- \n",
    "- In your company one senior developer angrily say something to junior developer.To junior developer ne socha chal ese mja chakhate hain, junior developer ne es code ke sare variable ko change kr diya taki code down ho jaye, ye kam junior developerne esiliye kr paya kyuki junior developer ko direct data access krne ka power tha. kaise jb aap class ka nam likh kr dot marte ho to sare data aur method dono ka access aapke pas hota hain. Let's see the example."
   ]
  },
  {
   "cell_type": "code",
   "execution_count": 16,
   "id": "cfc3ee0e",
   "metadata": {},
   "outputs": [
    {
     "name": "stdout",
     "output_type": "stream",
     "text": [
      "Enter Your 4 digit number5665\n",
      "Your Current Balance Is:  1500\n"
     ]
    }
   ],
   "source": [
    "rohit.checkBalance()"
   ]
  },
  {
   "cell_type": "code",
   "execution_count": 17,
   "id": "a62d777c",
   "metadata": {},
   "outputs": [],
   "source": [
    "rohit.bal=\"Bhut paisa rakhta hain tum \""
   ]
  },
  {
   "cell_type": "code",
   "execution_count": 18,
   "id": "c2b7d9c3",
   "metadata": {},
   "outputs": [
    {
     "name": "stdout",
     "output_type": "stream",
     "text": [
      "Enter Your 4 digit number5665\n",
      "Your Current Balance Is:  Bhut paisa rakhta hain tum \n"
     ]
    }
   ],
   "source": [
    "rohit.checkBalance()"
   ]
  },
  {
   "cell_type": "code",
   "execution_count": 19,
   "id": "d9a728c6",
   "metadata": {},
   "outputs": [
    {
     "name": "stdout",
     "output_type": "stream",
     "text": [
      "Enter Your 4 digit number5665\n",
      "Enter Your Ammount500\n"
     ]
    },
    {
     "ename": "TypeError",
     "evalue": "'<' not supported between instances of 'int' and 'str'",
     "output_type": "error",
     "traceback": [
      "\u001b[0;31m---------------------------------------------------------------------------\u001b[0m",
      "\u001b[0;31mTypeError\u001b[0m                                 Traceback (most recent call last)",
      "\u001b[0;32m/tmp/ipykernel_30931/1968479310.py\u001b[0m in \u001b[0;36m<module>\u001b[0;34m\u001b[0m\n\u001b[0;32m----> 1\u001b[0;31m \u001b[0mrohit\u001b[0m\u001b[0;34m.\u001b[0m\u001b[0mwithdraw\u001b[0m\u001b[0;34m(\u001b[0m\u001b[0;34m)\u001b[0m\u001b[0;34m\u001b[0m\u001b[0;34m\u001b[0m\u001b[0m\n\u001b[0m",
      "\u001b[0;32m/tmp/ipykernel_30931/3063863511.py\u001b[0m in \u001b[0;36mwithdraw\u001b[0;34m(self)\u001b[0m\n\u001b[1;32m     35\u001b[0m         \u001b[0;32mif\u001b[0m \u001b[0mtemp\u001b[0m\u001b[0;34m==\u001b[0m\u001b[0mself\u001b[0m\u001b[0;34m.\u001b[0m\u001b[0mpin\u001b[0m\u001b[0;34m:\u001b[0m\u001b[0;34m\u001b[0m\u001b[0;34m\u001b[0m\u001b[0m\n\u001b[1;32m     36\u001b[0m             \u001b[0mammout\u001b[0m\u001b[0;34m=\u001b[0m\u001b[0mint\u001b[0m\u001b[0;34m(\u001b[0m\u001b[0minput\u001b[0m\u001b[0;34m(\u001b[0m\u001b[0;34m\"Enter Your Ammount\"\u001b[0m\u001b[0;34m)\u001b[0m\u001b[0;34m)\u001b[0m\u001b[0;34m\u001b[0m\u001b[0;34m\u001b[0m\u001b[0m\n\u001b[0;32m---> 37\u001b[0;31m             \u001b[0;32mif\u001b[0m \u001b[0mammout\u001b[0m \u001b[0;34m<\u001b[0m \u001b[0mself\u001b[0m\u001b[0;34m.\u001b[0m\u001b[0mbal\u001b[0m\u001b[0;34m:\u001b[0m\u001b[0;34m\u001b[0m\u001b[0;34m\u001b[0m\u001b[0m\n\u001b[0m\u001b[1;32m     38\u001b[0m                 \u001b[0mself\u001b[0m\u001b[0;34m.\u001b[0m\u001b[0mbal\u001b[0m\u001b[0;34m=\u001b[0m\u001b[0mself\u001b[0m\u001b[0;34m.\u001b[0m\u001b[0mbal\u001b[0m\u001b[0;34m-\u001b[0m\u001b[0mammout\u001b[0m\u001b[0;34m\u001b[0m\u001b[0;34m\u001b[0m\u001b[0m\n\u001b[1;32m     39\u001b[0m                 \u001b[0;31m# bal=Atm.bal-ammout -> class variable\u001b[0m\u001b[0;34m\u001b[0m\u001b[0;34m\u001b[0m\u001b[0;34m\u001b[0m\u001b[0m\n",
      "\u001b[0;31mTypeError\u001b[0m: '<' not supported between instances of 'int' and 'str'"
     ]
    }
   ],
   "source": [
    "rohit.withdraw()"
   ]
  },
  {
   "cell_type": "code",
   "execution_count": 20,
   "id": "6d073b45",
   "metadata": {},
   "outputs": [],
   "source": [
    "# code down ho gaya"
   ]
  },
  {
   "cell_type": "code",
   "execution_count": 22,
   "id": "471ee861",
   "metadata": {},
   "outputs": [
    {
     "name": "stdout",
     "output_type": "stream",
     "text": [
      "Hi welcome to SBI bank\n",
      "Enter your 4 digit pin: 7878\n",
      "Your AccountNumber is  1002\n",
      "Congrsts Your pin is created\n"
     ]
    }
   ],
   "source": [
    "raju=Atm()"
   ]
  },
  {
   "cell_type": "code",
   "execution_count": 23,
   "id": "5d3b4cb4",
   "metadata": {},
   "outputs": [
    {
     "name": "stdout",
     "output_type": "stream",
     "text": [
      "Enter Your 4 digit number7878\n",
      "Enter Your Ammount800\n",
      "Deposite Sucessfully\n"
     ]
    }
   ],
   "source": [
    "raju.deposite()"
   ]
  },
  {
   "cell_type": "code",
   "execution_count": 24,
   "id": "e7dd09d4",
   "metadata": {},
   "outputs": [
    {
     "name": "stdout",
     "output_type": "stream",
     "text": [
      "Enter Your 4 digit number7878\n",
      "Your Current Balance Is:  800\n"
     ]
    }
   ],
   "source": [
    "raju.checkBalance()"
   ]
  },
  {
   "cell_type": "code",
   "execution_count": 25,
   "id": "90a55a40",
   "metadata": {},
   "outputs": [],
   "source": [
    "raju.pin=9999"
   ]
  },
  {
   "cell_type": "code",
   "execution_count": 26,
   "id": "b12c6b7f",
   "metadata": {},
   "outputs": [
    {
     "name": "stdout",
     "output_type": "stream",
     "text": [
      "Enter Your 4 digit number7878\n",
      "Invalid Pin\n"
     ]
    }
   ],
   "source": [
    "raju.checkBalance()"
   ]
  },
  {
   "cell_type": "code",
   "execution_count": 32,
   "id": "3823522f",
   "metadata": {},
   "outputs": [
    {
     "name": "stdout",
     "output_type": "stream",
     "text": [
      "Ye to bavander ho gaya thara bhai joginder 😀\n"
     ]
    }
   ],
   "source": [
    "print(\"Ye to bavander ho gaya thara bhai joginder 😀\")"
   ]
  },
  {
   "cell_type": "code",
   "execution_count": null,
   "id": "fda57182",
   "metadata": {},
   "outputs": [],
   "source": [
    "\n",
    "\n",
    "raju.counter=\"Aisa nahi bolna tha humko junior Developer hai to kya\" "
   ]
  },
  {
   "cell_type": "code",
   "execution_count": 28,
   "id": "e616d9cc",
   "metadata": {},
   "outputs": [
    {
     "name": "stdout",
     "output_type": "stream",
     "text": [
      "Hi welcome to SBI bank\n",
      "Enter your 4 digit pin: 9090\n",
      "Your AccountNumber is  1003\n",
      "Congrsts Your pin is created\n"
     ]
    }
   ],
   "source": [
    "Riyu=Atm()"
   ]
  },
  {
   "cell_type": "code",
   "execution_count": 29,
   "id": "4870205b",
   "metadata": {},
   "outputs": [],
   "source": [
    "Riyu.counter=\"hii\""
   ]
  },
  {
   "cell_type": "code",
   "execution_count": 30,
   "id": "dbe1160e",
   "metadata": {},
   "outputs": [
    {
     "name": "stdout",
     "output_type": "stream",
     "text": [
      "Hi welcome to SBI bank\n",
      "Enter your 4 digit pin: 8990\n",
      "Your AccountNumber is  1004\n",
      "Congrsts Your pin is created\n"
     ]
    }
   ],
   "source": [
    "Riya=Atm()"
   ]
  },
  {
   "cell_type": "code",
   "execution_count": 35,
   "id": "d9ef8a96",
   "metadata": {},
   "outputs": [],
   "source": [
    "# Ab pura code hi down krwa dete hain.\n",
    "\n",
    "Atm.counter=\"Aisa nahi bolna tha humko junior Developer hai to kya\""
   ]
  },
  {
   "cell_type": "code",
   "execution_count": 36,
   "id": "87bf6d28",
   "metadata": {},
   "outputs": [
    {
     "name": "stdout",
     "output_type": "stream",
     "text": [
      "Hi welcome to SBI bank\n",
      "Enter your 4 digit pin: 9090\n"
     ]
    },
    {
     "ename": "TypeError",
     "evalue": "can only concatenate str (not \"int\") to str",
     "output_type": "error",
     "traceback": [
      "\u001b[0;31m---------------------------------------------------------------------------\u001b[0m",
      "\u001b[0;31mTypeError\u001b[0m                                 Traceback (most recent call last)",
      "\u001b[0;32m/tmp/ipykernel_30931/923075776.py\u001b[0m in \u001b[0;36m<module>\u001b[0;34m\u001b[0m\n\u001b[0;32m----> 1\u001b[0;31m \u001b[0msilki\u001b[0m\u001b[0;34m=\u001b[0m\u001b[0mAtm\u001b[0m\u001b[0;34m(\u001b[0m\u001b[0;34m)\u001b[0m\u001b[0;34m\u001b[0m\u001b[0;34m\u001b[0m\u001b[0m\n\u001b[0m",
      "\u001b[0;32m/tmp/ipykernel_30931/3063863511.py\u001b[0m in \u001b[0;36m__init__\u001b[0;34m(self)\u001b[0m\n\u001b[1;32m     11\u001b[0m         \u001b[0mself\u001b[0m\u001b[0;34m.\u001b[0m\u001b[0mpin\u001b[0m\u001b[0;34m=\u001b[0m\u001b[0minput\u001b[0m\u001b[0;34m(\u001b[0m\u001b[0;34m\"Enter your 4 digit pin: \"\u001b[0m\u001b[0;34m)\u001b[0m \u001b[0;31m# access class variable use self.\u001b[0m\u001b[0;34m\u001b[0m\u001b[0;34m\u001b[0m\u001b[0m\n\u001b[1;32m     12\u001b[0m         \u001b[0mself\u001b[0m\u001b[0;34m.\u001b[0m\u001b[0maccNo\u001b[0m\u001b[0;34m=\u001b[0m\u001b[0mAtm\u001b[0m\u001b[0;34m.\u001b[0m\u001b[0mcounter\u001b[0m \u001b[0;31m# Logic of Add AccNum.\u001b[0m\u001b[0;34m\u001b[0m\u001b[0;34m\u001b[0m\u001b[0m\n\u001b[0;32m---> 13\u001b[0;31m         \u001b[0mAtm\u001b[0m\u001b[0;34m.\u001b[0m\u001b[0mcounter\u001b[0m\u001b[0;34m=\u001b[0m\u001b[0mAtm\u001b[0m\u001b[0;34m.\u001b[0m\u001b[0mcounter\u001b[0m\u001b[0;34m+\u001b[0m\u001b[0;36m1\u001b[0m \u001b[0;31m# This is a class variable that's the reason the value of the variable is same for all object.\u001b[0m\u001b[0;34m\u001b[0m\u001b[0;34m\u001b[0m\u001b[0m\n\u001b[0m\u001b[1;32m     14\u001b[0m \u001b[0;34m\u001b[0m\u001b[0m\n\u001b[1;32m     15\u001b[0m         \u001b[0mprint\u001b[0m\u001b[0;34m(\u001b[0m\u001b[0;34m\"Your AccountNumber is \"\u001b[0m\u001b[0;34m,\u001b[0m\u001b[0mself\u001b[0m\u001b[0;34m.\u001b[0m\u001b[0maccNo\u001b[0m\u001b[0;34m)\u001b[0m\u001b[0;34m\u001b[0m\u001b[0;34m\u001b[0m\u001b[0m\n",
      "\u001b[0;31mTypeError\u001b[0m: can only concatenate str (not \"int\") to str"
     ]
    }
   ],
   "source": [
    "silki=Atm()"
   ]
  },
  {
   "cell_type": "markdown",
   "id": "26a4264a",
   "metadata": {},
   "source": [
    "## Conclusion is kbhi bhi junior developer ko data ka direct access mt do use bs method ka access do yahi kr concept aata hain **encapsulation ❤️** ka."
   ]
  },
  {
   "cell_type": "markdown",
   "id": "ea0d22b6",
   "metadata": {},
   "source": [
    "## Jb bhi aap apne data ko directly expose nahi krna chate but aap chate ho ki aapka junior programmer usse bat kr paye aap do function banate ho hr data ke liye phla getter(jo us data ka values la kr dega) dusra setter (jo us data ka values set karega)."
   ]
  },
  {
   "cell_type": "markdown",
   "id": "be437fe3",
   "metadata": {},
   "source": [
    "## Abstraction ❤️ is one of the most important features of object-oriented programming. It is used to hide the background details or any unnecessary implementation. To achieve Abstraction use single Underscore (_)\n",
    "- For example, when you use a washing machine for laundry purposes. What you do is you put your laundry and detergent inside the machine and wait for the machine to perform its task. How does it perform it? What mechanism does it use? A user is not required to know the engineering behind its work. This process is typically known as data abstraction, when all the unnecessary information is kept hidden from the users.\n",
    "- Data ko Protect karna hain ye method ko aap uske aage underscore lga dogo.\n",
    "<img src=\"data:image/jpeg;base64,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\"  />"
   ]
  },
  {
   "cell_type": "code",
   "execution_count": 100,
   "id": "7fde73ce",
   "metadata": {},
   "outputs": [],
   "source": [
    "class Atm:\n",
    "    # Data\n",
    "    _pin=None # Intance Variable\n",
    "    bal=0     # Intance Variable\n",
    "    _counter=1001  # Class Variable\n",
    "    _accNo=None # Intance Variable\n",
    "    \n",
    "    # Function\n",
    "    def __init__(self):\n",
    "        print(\"Hi welcome to SBI bank\")\n",
    "        self._pin=input(\"Enter your 4 digit pin: \")  # access class variable use self.\n",
    "        self._accNo=Atm._counter # Logic of Add AccNum.\n",
    "        Atm._counter=Atm._counter+1 # This is a class variable that's the reason the value of the variable is same for all object.\n",
    "        \n",
    "        print(\"Your AccountNumber is \",self._accNo) \n",
    "        print(\"Congrsts Your pin is created\") \n",
    "        \n",
    "    def get_accNo(self):\n",
    "        print(\"The Accout Number is \" ,self._accNo)\n",
    "        \n",
    "    def set_accNo(self): #############################\n",
    "        temp_acc=int(input(\"Enter new account number: \"))\n",
    "        if type(temp_acc) == int:\n",
    "            self._accNo=temp_acc\n",
    "        else:\n",
    "            print(\"Type valid Account Number\")\n",
    "            \n",
    "            \n",
    "    def get_pinNo(self):\n",
    "        print(\"The Pin Number is \" ,self._pin) \n",
    "        \n",
    "    def set_pinNo(self): ###################--------------###############\n",
    "        temp_pin=int(input(\"Enter new pin number: \"))\n",
    "        if type(temp_pin) == int:\n",
    "            self._pin=temp_pin\n",
    "        else:\n",
    "            print(\"Type valid pin  Number\")\n",
    "     \n",
    "    # checkBalance Logic\n",
    "    def checkBalance(self):\n",
    "        temp = input(\"Enter Your 4 digit number\")\n",
    "        if temp==self._pin:\n",
    "            print(\"Your Current Balance Is: \",self.bal)\n",
    "        else:\n",
    "            print(\"Invalid Pin\")\n",
    "            \n",
    "    # deposite Logic\n",
    "    def _deposite(self): # If we write _ then deposite method will hide from the user \n",
    "        temp = input(\"Enter Your 4 digit number\")\n",
    "        if temp==self._pin:\n",
    "            ammout=int(input(\"Enter Your Ammount\"))\n",
    "            self.bal=self.bal+ammout\n",
    "            print(\"Deposite Sucessfully\")\n",
    "        else:\n",
    "            print(\"Invalid Pin\")\n",
    "    \n",
    "    # withdraw Logic        \n",
    "    def withdraw(self):\n",
    "        temp = input(\"Enter Your 4 digit number\")\n",
    "        if temp==self._pin:\n",
    "            ammout=int(input(\"Enter Your Ammount\"))\n",
    "            if ammout < self.bal:\n",
    "                self.bal=self.bal-ammout\n",
    "                # bal=Atm.bal-ammout -> class variable\n",
    "                print(\"Sucessfully Withdraw\",ammout)\n",
    "            else:\n",
    "                print(\"insufficient Balance\")\n",
    "        else:\n",
    "            print(\"Invalid Pin\")"
   ]
  },
  {
   "cell_type": "code",
   "execution_count": 101,
   "id": "45610d8b",
   "metadata": {},
   "outputs": [
    {
     "name": "stdout",
     "output_type": "stream",
     "text": [
      "Hi welcome to SBI bank\n",
      "Enter your 4 digit pin: 5665\n",
      "Your AccountNumber is  1001\n",
      "Congrsts Your pin is created\n"
     ]
    }
   ],
   "source": [
    "Shivam=Atm()"
   ]
  },
  {
   "cell_type": "code",
   "execution_count": 103,
   "id": "4e0a2313",
   "metadata": {},
   "outputs": [
    {
     "name": "stdout",
     "output_type": "stream",
     "text": [
      "The Accout Number is  1001\n"
     ]
    }
   ],
   "source": [
    "Shivam.get_accNo()"
   ]
  },
  {
   "cell_type": "code",
   "execution_count": 104,
   "id": "4382b227",
   "metadata": {},
   "outputs": [
    {
     "name": "stdout",
     "output_type": "stream",
     "text": [
      "Enter new account number: 1990\n"
     ]
    }
   ],
   "source": [
    "Shivam.set_accNo()"
   ]
  },
  {
   "cell_type": "code",
   "execution_count": 105,
   "id": "d2b46184",
   "metadata": {},
   "outputs": [
    {
     "name": "stdout",
     "output_type": "stream",
     "text": [
      "The Accout Number is  1990\n"
     ]
    }
   ],
   "source": [
    "Shivam.get_accNo()"
   ]
  },
  {
   "cell_type": "code",
   "execution_count": 110,
   "id": "62808687",
   "metadata": {},
   "outputs": [
    {
     "name": "stdout",
     "output_type": "stream",
     "text": [
      "The Pin Number is  5690\n"
     ]
    }
   ],
   "source": [
    "Shivam.get_pinNo()"
   ]
  },
  {
   "cell_type": "code",
   "execution_count": 111,
   "id": "386bc647",
   "metadata": {},
   "outputs": [
    {
     "name": "stdout",
     "output_type": "stream",
     "text": [
      "Enter new pin number: 9856\n"
     ]
    }
   ],
   "source": [
    "Shivam.set_pinNo()"
   ]
  },
  {
   "cell_type": "code",
   "execution_count": 112,
   "id": "a86ca78a",
   "metadata": {},
   "outputs": [
    {
     "name": "stdout",
     "output_type": "stream",
     "text": [
      "The Pin Number is  9856\n"
     ]
    }
   ],
   "source": [
    "Shivam.get_pinNo()"
   ]
  },
  {
   "cell_type": "markdown",
   "id": "a12a3889",
   "metadata": {},
   "source": [
    "❤️"
   ]
  },
  {
   "cell_type": "markdown",
   "id": "81ca55c7",
   "metadata": {},
   "source": [
    "### Pin ke data ko maine direct access na dene ka code likha tha means abstraction kiya tha. phir bhi hum us data ko _(underscore) lga kr access kr liye.<br> Other language like java me hum yahi kam jb private key ka use krke krte hain to usko dat ko kisi bhi trah se  access nahi kr skate. ❤️"
   ]
  },
  {
   "cell_type": "code",
   "execution_count": 113,
   "id": "672b3afe",
   "metadata": {},
   "outputs": [],
   "source": [
    "Shivam._pin=8998"
   ]
  },
  {
   "cell_type": "code",
   "execution_count": 127,
   "id": "0790393e",
   "metadata": {},
   "outputs": [
    {
     "name": "stdout",
     "output_type": "stream",
     "text": [
      "Enter Your 4 digit number9856\n",
      "Invalid Pin\n"
     ]
    }
   ],
   "source": [
    "Shivam.checkBalance() # code is down."
   ]
  },
  {
   "cell_type": "markdown",
   "id": "a360498d",
   "metadata": {},
   "source": [
    "# Question is python me kuch bhi truly private q nahi hota hain.<br> Ans is Python is the language made for adult"
   ]
  },
  {
   "cell_type": "markdown",
   "id": "496bf80e",
   "metadata": {},
   "source": [
    "<img src=\"data:image/jpeg;base64,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\" width=300/>"
   ]
  },
  {
   "cell_type": "markdown",
   "id": "3f27839d",
   "metadata": {},
   "source": [
    "## Inheritance ❤️ is an important aspect of the object-oriented paradigm. Inheritance provides code reusability to the program because we can use an existing class to create a new class instead of creating it from scratch.\n",
    "- In inheritance, the child class acquires the properties and can access all the data members and functions defined in the parent class. A child class can also provide its specific implementation to the functions of the parent class."
   ]
  },
  {
   "cell_type": "markdown",
   "id": "5f19428a",
   "metadata": {},
   "source": [
    "<img src=\"data:image/png;base64,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\" />"
   ]
  },
  {
   "cell_type": "code",
   "execution_count": 129,
   "id": "b2f7cef9",
   "metadata": {},
   "outputs": [],
   "source": [
    "class Pappu:\n",
    "    pocketmoney=50\n",
    "    toy=\"khatara cycle\"\n",
    "    def enjoy(self):\n",
    "        print(\"I love my\",self.toy,\"it makes a sound of khatar khatar khatar\")  "
   ]
  },
  {
   "cell_type": "code",
   "execution_count": 130,
   "id": "236e0149",
   "metadata": {},
   "outputs": [],
   "source": [
    "pappu = Pappu()"
   ]
  },
  {
   "cell_type": "code",
   "execution_count": 132,
   "id": "22b111b5",
   "metadata": {},
   "outputs": [
    {
     "name": "stdout",
     "output_type": "stream",
     "text": [
      "I love my khatara cycle it makes a sound of khatar khatar khatar\n"
     ]
    }
   ],
   "source": [
    "pappu.enjoy()"
   ]
  },
  {
   "cell_type": "code",
   "execution_count": 153,
   "id": "53a52840",
   "metadata": {},
   "outputs": [],
   "source": [
    "class Papa:\n",
    "    # data\n",
    "    networth=100000\n",
    "    swag=\"Audi\"\n",
    "    # function\n",
    "    def papakaenjoy(self):\n",
    "        print(\"I love my\",self.swag,\"vroom vroom vroom\")\n",
    "        \n",
    "class Pappu(Papa):\n",
    "    pocketmoney=50\n",
    "    #totalnetworth=networth+pocketmoney\n",
    "    toy=\"khatara cycle\"\n",
    "    def enjoy(self):\n",
    "        print(\"I love my\",self.toy,\"it makes a sound of khatar khatar khatar\")     "
   ]
  },
  {
   "cell_type": "code",
   "execution_count": 154,
   "id": "e502c0be",
   "metadata": {},
   "outputs": [],
   "source": [
    "papa=Papa()"
   ]
  },
  {
   "cell_type": "code",
   "execution_count": 155,
   "id": "09862af7",
   "metadata": {},
   "outputs": [
    {
     "name": "stdout",
     "output_type": "stream",
     "text": [
      "I love my Audi vroom vroom vroom\n"
     ]
    }
   ],
   "source": [
    "papa.papakaenjoy()"
   ]
  },
  {
   "cell_type": "code",
   "execution_count": 156,
   "id": "7a9bb865",
   "metadata": {},
   "outputs": [],
   "source": [
    "pappu = Pappu()"
   ]
  },
  {
   "cell_type": "code",
   "execution_count": 157,
   "id": "3e4429a3",
   "metadata": {},
   "outputs": [
    {
     "data": {
      "text/plain": [
       "100000"
      ]
     },
     "execution_count": 157,
     "metadata": {},
     "output_type": "execute_result"
    }
   ],
   "source": [
    "pappu.networth"
   ]
  },
  {
   "cell_type": "markdown",
   "id": "0cfcd921",
   "metadata": {},
   "source": [
    "- Multilevel Inheritance"
   ]
  },
  {
   "cell_type": "code",
   "execution_count": 162,
   "id": "d3870308",
   "metadata": {},
   "outputs": [],
   "source": [
    "class Dadu:\n",
    "    saving=\"Bitcoin\"\n",
    "    style=\"biri\"\n",
    "    \n",
    "    def dadukaenjoy(self):\n",
    "        print(\"Love my\",self.style,\"gud gud\")\n",
    "\n",
    "class Papa(Dadu):\n",
    "    # data\n",
    "    networth=100000\n",
    "    swag=\"Audi\"\n",
    "    # function\n",
    "    def papakaenjoy(self):\n",
    "        print(\"I love my\",self.swag,\"vroom vroom vroom\")\n",
    "        \n",
    "class Pappu(Papa):\n",
    "    pocketmoney=50\n",
    "    #totalnetworth=networth+pocketmoney\n",
    "    toy=\"khatara cycle\"\n",
    "    def enjoy(self):\n",
    "        print(\"I love my\",self.toy,\"it makes a sound of khatar khatar khatar\")"
   ]
  },
  {
   "cell_type": "code",
   "execution_count": 163,
   "id": "0d58e48f",
   "metadata": {},
   "outputs": [],
   "source": [
    "Rohit=Pappu()"
   ]
  },
  {
   "cell_type": "code",
   "execution_count": 165,
   "id": "703e0879",
   "metadata": {},
   "outputs": [
    {
     "name": "stdout",
     "output_type": "stream",
     "text": [
      "Love my biri gud gud\n"
     ]
    }
   ],
   "source": [
    "Rohit.dadukaenjoy()"
   ]
  },
  {
   "cell_type": "markdown",
   "id": "b2134725",
   "metadata": {},
   "source": [
    "# What is Polymorphism ❤️:- The word polymorphism means having many forms. In programming, polymorphism means the same function name (but different signatures) being used for different types.\n",
    "- A function signature defines input and output of functions or methods."
   ]
  },
  {
   "cell_type": "markdown",
   "id": "c6cc7e35",
   "metadata": {},
   "source": [
    "<img src=\"data:image/jpeg;base64,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\" />"
   ]
  },
  {
   "cell_type": "markdown",
   "id": "668f9a07",
   "metadata": {},
   "source": [
    "Polymorphism in addition operator.<br>\n",
    "We know that the + operator is used extensively in Python programs. But, it does not have a single usage.<br>\n",
    "For integer data types, + operator is used to perform arithmetic addition operation.<br>\n",
    "num1 = 1<br>\n",
    "num2 = 2<br>\n",
    "print(num1+num2)<br>\n",
    "Hence, the above program outputs 3.<br>\n",
    "Similarly, for string data types, + operator is used to perform concatenation.<br>\n",
    "str1 = \"Python\"<br>\n",
    "str2 = \"Programming\"<br>\n",
    "print(str1+\" \"+str2)<br>\n",
    "As a result, the above program outputs Python Programming.<br>\n",
    "\n",
    "- Here, we can see that a single operator + has been used to carry out different operations for distinct data types. This is one of the most simple occurrences of polymorphism in Python."
   ]
  },
  {
   "cell_type": "code",
   "execution_count": 169,
   "id": "6d42c103",
   "metadata": {},
   "outputs": [],
   "source": [
    "class Dadu:\n",
    "    saving=\"Bitcoin\"\n",
    "    style=\"biri\"\n",
    "    \n",
    "    def dadukaenjoy(self):\n",
    "        print(\"Love my\",self.style,\"gud gud\")\n",
    "\n",
    "class Papa(Dadu):\n",
    "    # data\n",
    "    \n",
    "    networth=100000\n",
    "    swag=\"Audi\"\n",
    "    \n",
    "    # function\n",
    "    def papakaenjoy(self):\n",
    "        print(\"I love my\",self.swag,\"vroom vroom vroom\")\n",
    "        \n",
    "        # Polymorphsm ❤️\n",
    "    def usool(self):  \n",
    "        print(\"Mehnat ka fal meetha hota hain\")\n",
    "        \n",
    "class Pappu(Papa):\n",
    "    pocketmoney=50\n",
    "    #totalnetworth=networth+pocketmoney\n",
    "    toy=\"khatara cycle\"\n",
    "    \n",
    "    def enjoy(self):\n",
    "        print(\"I love my\",self.toy,\"it makes a sound of khatar khatar khatar\")\n",
    "        \n",
    "        # Polymorphism ❤️\n",
    "        # Method Overriding ❤️\n",
    "        \n",
    "    def usool(self): \n",
    "        print(\"Pyar mt krna kisi se dil ❤️ tut jata hain\")"
   ]
  },
  {
   "cell_type": "code",
   "execution_count": 170,
   "id": "0d9b71a2",
   "metadata": {},
   "outputs": [],
   "source": [
    "pappu=Pappu()"
   ]
  },
  {
   "cell_type": "code",
   "execution_count": 172,
   "id": "96c88630",
   "metadata": {},
   "outputs": [
    {
     "name": "stdout",
     "output_type": "stream",
     "text": [
      "Pyar mt krna kisi se dil ❤️ tut jata hain\n"
     ]
    }
   ],
   "source": [
    "pappu.usool()"
   ]
  },
  {
   "cell_type": "markdown",
   "id": "31f38603",
   "metadata": {},
   "source": [
    "## Method overriding is a concept of object oriented programming that allows us to change the implementation of a function in the child class that is defined in the parent class. It is the ability of a child class to change the implementation of any method which is already provided by one of its parent class(ancestors)."
   ]
  },
  {
   "cell_type": "markdown",
   "id": "47755ace",
   "metadata": {},
   "source": [
    "- Hindi me shekho Agar aapke class me aur aapke parent class me same nam ka function hain aur aapke object ne us function ko call kiya to kon sa call hoga, Aapka wala kyuki wo override kr jayega parent wale function ke sath."
   ]
  },
  {
   "cell_type": "markdown",
   "id": "ee78fe08",
   "metadata": {},
   "source": [
    "# Java say you can't inherit more then one class but python say you can inherit more then one class.\n",
    "\n",
    "\n",
    "- Hindi me Sekho\n",
    "    - Ek class ek class se jada inherit nahi kr skta hain-> logic behind the scene Hr kisi ka ek hi bap hota hain, Python Bola Maa to hoti hain na.-> Ese logic python ne mana."
   ]
  },
  {
   "cell_type": "code",
   "execution_count": 180,
   "id": "36f67ca7",
   "metadata": {},
   "outputs": [],
   "source": [
    "class Dadu:\n",
    "    saving=\"Bitcoin\"\n",
    "    style=\"biri\"\n",
    "    \n",
    "    def dadukaenjoy(self):\n",
    "        print(\"Love my\",self.style,\"gud gud\")\n",
    "\n",
    "class Papa(Dadu):\n",
    "    # data\n",
    "    \n",
    "    networth=100000\n",
    "    swag=\"Audi\"\n",
    "    \n",
    "    # function\n",
    "    def papakaenjoy(self):\n",
    "        print(\"I love my\",self.swag,\"vroom vroom vroom\")\n",
    "        \n",
    "        # Polymorphsm ❤️\n",
    "    def usool(self):  \n",
    "        print(\"Mehnat ka fal meetha hota hain\")\n",
    "        \n",
    "        \n",
    "class Maa:\n",
    "    def usool(self):\n",
    "        print(\"Pappu ki Pitai\")\n",
    "        \n",
    "\n",
    "class Pappu(Maa,Papa):\n",
    "    pocketmoney=50\n",
    "    #totalnetworth=networth+pocketmoney\n",
    "    toy=\"khatara cycle\"\n",
    "    \n",
    "    def enjoy(self):\n",
    "        print(\"I love my\",self.toy,\"it makes a sound of khatar khatar khatar\")\n",
    "        \n",
    "        # Polymorphism ❤️\n",
    "        # Method Overriding ❤️\n",
    "        \n",
    "    def usool(self): \n",
    "        print(\"Pyar mt krna kisi se dil ❤️ tut jata hain\")"
   ]
  },
  {
   "cell_type": "code",
   "execution_count": 181,
   "id": "0862abb2",
   "metadata": {},
   "outputs": [],
   "source": [
    "pappu=Pappu()"
   ]
  },
  {
   "cell_type": "code",
   "execution_count": 182,
   "id": "5ff6d614",
   "metadata": {},
   "outputs": [
    {
     "name": "stdout",
     "output_type": "stream",
     "text": [
      "Pyar mt krna kisi se dil ❤️ tut jata hain\n"
     ]
    }
   ],
   "source": [
    "pappu.usool()"
   ]
  },
  {
   "cell_type": "markdown",
   "id": "247a526f",
   "metadata": {},
   "source": [
    "# Multiple inheritance:- When a class is derived from more than one base class it is called multiple Inheritance.\n",
    "\n",
    "<img src=\"data:image/png;base64,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\" />"
   ]
  },
  {
   "cell_type": "code",
   "execution_count": 191,
   "id": "6c80063c",
   "metadata": {},
   "outputs": [],
   "source": [
    "class Dadu:\n",
    "    saving=\"Bitcoin\"\n",
    "    style=\"biri\"\n",
    "    \n",
    "    def dadukaenjoy(self):\n",
    "        print(\"Love my\",self.style,\"gud gud\")\n",
    "\n",
    "class Papa(Dadu):\n",
    "    # data\n",
    "    \n",
    "    networth=100000\n",
    "    swag=\"Audi\"\n",
    "    \n",
    "    # function\n",
    "    def papakaenjoy(self):\n",
    "        print(\"I love my\",self.swag,\"vroom vroom vroom\")\n",
    "        \n",
    "        # Polymorphsm ❤️\n",
    "    def usool(self):  \n",
    "        print(\"Mehnat ka fal meetha hota hain\")\n",
    "        \n",
    "        \n",
    "class Maa:\n",
    "    def usool(self):\n",
    "        print(\"Pappu ki Pitai\")\n",
    "        \n",
    "# Multiple Inheritance\n",
    "class Pappu(Papa,Maa): # Jo phle likha(inherit) hoga uska usool print hoga\n",
    "     pocketmoney=50\n",
    "    #totalnetworth=networth+pocketmoney\n",
    "    toy=\"khatara cycle\"\n",
    "    \n",
    "    def enjoy(self):\n",
    "        print(\"I love my\",self.toy,\"it makes a sound of khatar khatar khatar\")\n",
    "        \n",
    "        # Polymorphism ❤️\n",
    "        # Method Overriding ❤️\n",
    "        \n",
    "    def pusool(self):  \n",
    "        print(\"Pyar mt krna kisi se dil ❤️ tut jata hain\")"
   ]
  },
  {
   "cell_type": "code",
   "execution_count": 192,
   "id": "f8f06577",
   "metadata": {},
   "outputs": [],
   "source": [
    "pa = Pappu()"
   ]
  },
  {
   "cell_type": "code",
   "execution_count": 193,
   "id": "9d9ecdd3",
   "metadata": {},
   "outputs": [
    {
     "name": "stdout",
     "output_type": "stream",
     "text": [
      "Mehnat ka fal meetha hota hain\n"
     ]
    }
   ],
   "source": [
    "pa.usool()"
   ]
  },
  {
   "cell_type": "markdown",
   "id": "5bc9db80",
   "metadata": {},
   "source": [
    "# Method Resolution Order:-MRO is a concept used in inheritance. It is the order in which a method is searched for in a classes hierarchy and is especially useful in Python because Python supports multiple inheritance."
   ]
  },
  {
   "cell_type": "markdown",
   "id": "4d6836c5",
   "metadata": {},
   "source": [
    "- Hindi me samjho \n",
    "    -  Agar ek class do classess se inherit kr raha hain to kiska function execute hoga conflict create hone pr ye decide hota hain using Method Resolution order."
   ]
  },
  {
   "cell_type": "markdown",
   "id": "3399c271",
   "metadata": {},
   "source": [
    "# What is Overloading?<br>Overloading is the ability of a function or an operator to behave in different ways based on the parameters that are passed to the function, or the operands that the operator acts on.<br>Method Overloading in Python ❤️<br> In Python, you can create a method that can be called in different ways. So, you can have a method that has zero, one or more number of parameters. Depending on the method definition, we can call it with zero, one or more arguments.\n",
    "\n"
   ]
  },
  {
   "cell_type": "code",
   "execution_count": 197,
   "id": "f06bec35",
   "metadata": {},
   "outputs": [],
   "source": [
    "class Calarea:\n",
    "    def area_cal(self,a,b=0):\n",
    "        if b==0:\n",
    "            print(\"Area of Circle : \",3.14*a*a)\n",
    "        else:\n",
    "            print(\"Area of rectangle:\",a*b)"
   ]
  },
  {
   "cell_type": "code",
   "execution_count": 198,
   "id": "91415586",
   "metadata": {},
   "outputs": [],
   "source": [
    "cal = Calarea()"
   ]
  },
  {
   "cell_type": "code",
   "execution_count": 201,
   "id": "c94ed035",
   "metadata": {},
   "outputs": [
    {
     "name": "stdout",
     "output_type": "stream",
     "text": [
      "Area of Circle :  30156.56\n"
     ]
    }
   ],
   "source": [
    "cal.area_cal(98)"
   ]
  },
  {
   "cell_type": "code",
   "execution_count": 202,
   "id": "0d27deb9",
   "metadata": {},
   "outputs": [
    {
     "name": "stdout",
     "output_type": "stream",
     "text": [
      "Area of rectangle: 5040\n"
     ]
    }
   ],
   "source": [
    "cal.area_cal(56,90)"
   ]
  },
  {
   "cell_type": "code",
   "execution_count": 203,
   "id": "ca030d7c",
   "metadata": {},
   "outputs": [
    {
     "name": "stdout",
     "output_type": "stream",
     "text": [
      "Area of Circle :  78.5\n"
     ]
    }
   ],
   "source": [
    "cal.area_cal(5,0)"
   ]
  },
  {
   "cell_type": "markdown",
   "id": "02df4e20",
   "metadata": {},
   "source": [
    "- Ek hi method alag alag dhang se behave kr raha hain agar aap input change kr do ese khte hainaasan bhasa me **Method verloading.**"
   ]
  },
  {
   "cell_type": "code",
   "execution_count": 209,
   "id": "53577c97",
   "metadata": {},
   "outputs": [],
   "source": [
    "class Person:\n",
    "    def Hello(self,name=None):\n",
    "        if name==None:\n",
    "            print(\"Hello\")\n",
    "        else:\n",
    "            print(\"Hello\",name,\"ji\")"
   ]
  },
  {
   "cell_type": "code",
   "execution_count": 210,
   "id": "ac5054d3",
   "metadata": {},
   "outputs": [],
   "source": [
    "obj=Person()"
   ]
  },
  {
   "cell_type": "code",
   "execution_count": 211,
   "id": "19069de2",
   "metadata": {},
   "outputs": [
    {
     "name": "stdout",
     "output_type": "stream",
     "text": [
      "Hello\n"
     ]
    }
   ],
   "source": [
    "obj.Hello()"
   ]
  },
  {
   "cell_type": "code",
   "execution_count": 212,
   "id": "b83300d6",
   "metadata": {},
   "outputs": [
    {
     "name": "stdout",
     "output_type": "stream",
     "text": [
      "Hello Shivam ji\n"
     ]
    }
   ],
   "source": [
    "obj.Hello(\"Shivam\")"
   ]
  },
  {
   "cell_type": "markdown",
   "id": "b772240c",
   "metadata": {},
   "source": [
    "# The secret of object oriented programming.\n",
    "<img src=\"https://c.tenor.com/5aE5T7edBz4AAAAM/the-simpsons-homer-simpson.gif\" />"
   ]
  },
  {
   "cell_type": "markdown",
   "id": "e443916c",
   "metadata": {},
   "source": [
    "<img src=\"https://c.tenor.com/2-GLn6a2GS8AAAAC/hera-pheri.gif\" />"
   ]
  },
  {
   "cell_type": "code",
   "execution_count": null,
   "id": "bfbf8af6",
   "metadata": {},
   "outputs": [],
   "source": []
  }
 ],
 "metadata": {
  "kernelspec": {
   "display_name": "Python 3.8.8 64-bit ('base': conda)",
   "language": "python",
   "name": "python388jvsc74a57bd02c7ffa9c538f0bfb5740c89a215bcbde02033924243f3d233f0c9916449df403"
  },
  "language_info": {
   "codemirror_mode": {
    "name": "ipython",
    "version": 3
   },
   "file_extension": ".py",
   "mimetype": "text/x-python",
   "name": "python",
   "nbconvert_exporter": "python",
   "pygments_lexer": "ipython3",
   "version": "3.8.8"
  }
 },
 "nbformat": 4,
 "nbformat_minor": 5
}
