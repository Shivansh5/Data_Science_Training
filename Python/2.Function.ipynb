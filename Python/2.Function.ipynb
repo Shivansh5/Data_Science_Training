{
 "cells": [
  {
   "cell_type": "markdown",
   "id": "5ee462b6",
   "metadata": {},
   "source": [
    "<img src=\"https://miro.medium.com/max/480/1*VUyIDho2BcT2OLsy-jPsGA.gif\" />"
   ]
  },
  {
   "cell_type": "markdown",
   "id": "8a26d1b3",
   "metadata": {},
   "source": [
    "# Functions:-A function is a block of code which only runs when it is called.<br>Parameter:-A Parameter is the function input specified in the function defination.<br>Arguments:- An Argument is the data being passed to the function call.<br> <img src=\"data:image/png;base64,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\"/>"
   ]
  },
  {
   "cell_type": "markdown",
   "id": "7b025860",
   "metadata": {},
   "source": [
    "# The function has two main philosophies (view)\n",
    "- Abstraction :-Abstraction in Python is the process of hiding the real implementation of an application from the user and emphasizing only on usage of it.<br><img src=\"https://i.pinimg.com/564x/ad/d9/7d/add97d8257fa036f00b012b444c0ab8d.jpg\" width=100/>\n",
    "- Decomposition <br><img src=\"https://digitaltouchsystems.com/wp-content/uploads/2014/02/DSC00201-600x400.jpg\" width=100/>"
   ]
  },
  {
   "cell_type": "markdown",
   "id": "537d5986",
   "metadata": {},
   "source": [
    "<img src=\"https://lh3.googleusercontent.com/NTt0M4Nexh-hXu2FDM9z152eEJfDVtPN5NoqvTgcg0S2gocVqmPs4TUCFJNIg2yVBPhaGQ=s136\" width=250 />"
   ]
  },
  {
   "cell_type": "markdown",
   "id": "80aa6392",
   "metadata": {},
   "source": [
    "- def is a keywork using which we can define a function."
   ]
  },
  {
   "cell_type": "markdown",
   "id": "307aed96",
   "metadata": {},
   "source": [
    "<img src=\"https://lucdn.letsupgrade.net/Million_Min_Watched_7c8d4849d0.webp\" width=200/>"
   ]
  },
  {
   "cell_type": "code",
   "execution_count": 1,
   "id": "d32b7833",
   "metadata": {},
   "outputs": [
    {
     "name": "stdout",
     "output_type": "stream",
     "text": [
      "Even: 6\n",
      "odd:  7\n"
     ]
    }
   ],
   "source": [
    "# Create a function using which we can check given number is even or odd.\n",
    "def even_odd(number):\n",
    "    \"\"\"This Function teels the given number is even or odd.\n",
    "        input:- Any valid Integer\n",
    "        output:- Even or Odd\n",
    "        Created by:-Shivansh\n",
    "        Last Edited:- 16 Jan 2022. \n",
    "    \"\"\"\n",
    "    if number%2==0:\n",
    "        print(\"Even:\",number)\n",
    "    else:\n",
    "        print(\"odd: \",number)\n",
    "        \n",
    "even_odd(6)\n",
    "even_odd(7)"
   ]
  },
  {
   "cell_type": "code",
   "execution_count": 13,
   "id": "5fef5e26",
   "metadata": {},
   "outputs": [
    {
     "name": "stdout",
     "output_type": "stream",
     "text": [
      "Even\n"
     ]
    }
   ],
   "source": [
    "def even_odd(number):\n",
    "    \n",
    "    if number%2==0:\n",
    "        return \"Even\"\n",
    "    else:\n",
    "        return \"Odd\"\n",
    "        \n",
    "x=even_odd(6)\n",
    "print(x)"
   ]
  },
  {
   "cell_type": "code",
   "execution_count": 2,
   "id": "4a548e41",
   "metadata": {},
   "outputs": [
    {
     "name": "stdout",
     "output_type": "stream",
     "text": [
      "Even: 6\n",
      "None\n",
      "Odd: 7\n",
      "None\n"
     ]
    }
   ],
   "source": [
    "def even_odd(number):\n",
    "    \"\"\"This Function teels the given number is even or odd.\n",
    "        input:- Any valid Integer\n",
    "        output:- Even or Odd\n",
    "        Created by:-Shivansh\n",
    "        Last Edited:- 16 Jan 2022. \n",
    "    \"\"\"\n",
    "    if number%2==0:\n",
    "        print(\"Even:\",number)\n",
    "    else:\n",
    "        print(\"Odd:\",number)\n",
    "        \n",
    "print(even_odd(6))\n",
    "print(even_odd(7))\n",
    "\n",
    "# If funtion doesn't return anything then it return bydefault NONE."
   ]
  },
  {
   "cell_type": "code",
   "execution_count": 3,
   "id": "eda523e0",
   "metadata": {},
   "outputs": [
    {
     "name": "stdout",
     "output_type": "stream",
     "text": [
      "Odd: 1\n",
      "Even: 2\n",
      "Odd: 3\n",
      "Even: 4\n",
      "Odd: 5\n",
      "Even: 6\n",
      "Odd: 7\n",
      "Even: 8\n",
      "Odd: 9\n",
      "Even: 10\n"
     ]
    }
   ],
   "source": [
    "for i in range(1,11):\n",
    "    even_odd(i,)"
   ]
  },
  {
   "cell_type": "code",
   "execution_count": 4,
   "id": "e7bb0bf2",
   "metadata": {},
   "outputs": [
    {
     "name": "stdout",
     "output_type": "stream",
     "text": [
      "This Function teels the given number is even or odd.\n",
      "        input:- Any valid Integer\n",
      "        output:- Even or Odd\n",
      "        Created by:-Shivansh\n",
      "        Last Edited:- 16 Jan 2022. \n",
      "    \n"
     ]
    }
   ],
   "source": [
    "print(even_odd.__doc__)"
   ]
  },
  {
   "cell_type": "code",
   "execution_count": 5,
   "id": "230965ea",
   "metadata": {},
   "outputs": [
    {
     "name": "stdout",
     "output_type": "stream",
     "text": [
      "print(value, ..., sep=' ', end='\\n', file=sys.stdout, flush=False)\n",
      "\n",
      "Prints the values to a stream, or to sys.stdout by default.\n",
      "Optional keyword arguments:\n",
      "file:  a file-like object (stream); defaults to the current sys.stdout.\n",
      "sep:   string inserted between values, default a space.\n",
      "end:   string appended after the last value, default a newline.\n",
      "flush: whether to forcibly flush the stream.\n"
     ]
    }
   ],
   "source": [
    "print(print.__doc__)"
   ]
  },
  {
   "cell_type": "markdown",
   "id": "dac2272c",
   "metadata": {},
   "source": [
    "- Visual Representation:-\n",
    "https://pythontutor.com/live.html#code=def%20even_odd%28number%29%3A%0A%20%20%20%20if%20number%252%3D%3D0%3A%0A%20%20%20%20%20%20%20%20print%28%22Even%22%29%0A%20%20%20%20else%3A%0A%20%20%20%20%20%20%20%20print%28%22odd%22%29%0A%20%20%20%20%20%20%20%20%0Aprint%28even_odd%286%29%29%0Aprint%28even_odd%287%29%29&cumulative=false&curInstr=0&heapPrimitives=nevernest&mode=display&origin=opt-live.js&py=3&rawInputLstJSON=%5B%5D&textReferences=false <br>\n",
    "- inside your Global Frame all variable is reside. if your ram like a city then your gloabl frame is your house.Whenever in your code any function is execute then it create own frame. "
   ]
  },
  {
   "cell_type": "markdown",
   "id": "3f8da259",
   "metadata": {},
   "source": [
    "# Created your own module and use it->\n",
    "- step1:-Just write function.\n",
    "- step2:- Go to the your python install location and go inside lib folder and save the file with .py extension.\n",
    "- step3:- Come in jupyter notebook and just type import file_name(That you saved with .py )"
   ]
  },
  {
   "cell_type": "code",
   "execution_count": 6,
   "id": "4611d1a3",
   "metadata": {},
   "outputs": [],
   "source": [
    "import evenodd as eo"
   ]
  },
  {
   "cell_type": "code",
   "execution_count": 7,
   "id": "5e7913ac",
   "metadata": {},
   "outputs": [
    {
     "name": "stdout",
     "output_type": "stream",
     "text": [
      "Only Support Interger\n"
     ]
    }
   ],
   "source": [
    "eo.even_odd(\"h\")"
   ]
  },
  {
   "cell_type": "code",
   "execution_count": 8,
   "id": "692b6f2f",
   "metadata": {},
   "outputs": [
    {
     "name": "stdout",
     "output_type": "stream",
     "text": [
      "odd:  5\n"
     ]
    }
   ],
   "source": [
    "eo.even_odd(5)"
   ]
  },
  {
   "cell_type": "markdown",
   "id": "9fadfe65",
   "metadata": {},
   "source": [
    "<img src=\"https://lh3.googleusercontent.com/KxWEdMKpOXx2Fh_dDIol5xl1-w4mevmVTck3wsH9IzUhYP1buC2kaupuTItN9qnlKe0QCw=s137\" width=200/>"
   ]
  },
  {
   "cell_type": "code",
   "execution_count": 20,
   "id": "48182a11",
   "metadata": {},
   "outputs": [],
   "source": [
    "def power(a,b):\n",
    "    return a**b"
   ]
  },
  {
   "cell_type": "code",
   "execution_count": 21,
   "id": "0021ea83",
   "metadata": {},
   "outputs": [
    {
     "data": {
      "text/plain": [
       "25"
      ]
     },
     "execution_count": 21,
     "metadata": {},
     "output_type": "execute_result"
    }
   ],
   "source": [
    "power(5,2)"
   ]
  },
  {
   "cell_type": "code",
   "execution_count": 22,
   "id": "34212981",
   "metadata": {},
   "outputs": [
    {
     "name": "stdout",
     "output_type": "stream",
     "text": [
      "1\n",
      "5\n",
      "25\n"
     ]
    }
   ],
   "source": [
    "# Default Parameter\n",
    "def power(a=1,b=1):\n",
    "    return a**b\n",
    "print(power())\n",
    "print(power(5))\n",
    "print(power(5,2))"
   ]
  },
  {
   "cell_type": "code",
   "execution_count": 28,
   "id": "7bc8a786",
   "metadata": {},
   "outputs": [
    {
     "name": "stdout",
     "output_type": "stream",
     "text": [
      "25\n"
     ]
    }
   ],
   "source": [
    "# Positional Argument\n",
    "def power(a,b):\n",
    "    return a**b\n",
    "\n",
    "print(power(5,2))"
   ]
  },
  {
   "cell_type": "markdown",
   "id": "e641e0df",
   "metadata": {},
   "source": [
    "Keyword Arguments:- \n",
    "- You can also send arguments with the key = value syntax.\n",
    "- This way the order of the arguments does not matter.\n",
    "\n"
   ]
  },
  {
   "cell_type": "code",
   "execution_count": 31,
   "id": "7fcb085a",
   "metadata": {},
   "outputs": [
    {
     "data": {
      "text/plain": [
       "25"
      ]
     },
     "execution_count": 31,
     "metadata": {},
     "output_type": "execute_result"
    }
   ],
   "source": [
    "# Keyword Argument\n",
    "\n",
    "def power(a,b):\n",
    "    return a**b\n",
    "\n",
    "power(b=2,a=5)"
   ]
  },
  {
   "cell_type": "code",
   "execution_count": 34,
   "id": "39ce4e62",
   "metadata": {},
   "outputs": [],
   "source": [
    "def my_function(name, age, weight):\n",
    "    print(\"This name is\",name)\n",
    "    print(\"This age is\",age)\n",
    "    print(\"This weight is\",weight)"
   ]
  },
  {
   "cell_type": "code",
   "execution_count": 35,
   "id": "ae9cd2fe",
   "metadata": {},
   "outputs": [
    {
     "name": "stdout",
     "output_type": "stream",
     "text": [
      "This name is Raju\n",
      "This age is 30\n",
      "This weight is 50\n"
     ]
    }
   ],
   "source": [
    "my_function(age=30,name=\"Raju\",weight=50)"
   ]
  },
  {
   "cell_type": "markdown",
   "id": "e1df8042",
   "metadata": {},
   "source": [
    "Arbitrary Arguments, *args\n",
    "- If you do not know how many arguments that will be passed into your function, add a * before the parameter name in the function definition.\n",
    "\n",
    "- This way the function will receive a tuple of arguments, and can access the items accordingly"
   ]
  },
  {
   "cell_type": "code",
   "execution_count": 51,
   "id": "18174939",
   "metadata": {},
   "outputs": [
    {
     "name": "stdout",
     "output_type": "stream",
     "text": [
      "My name is  Shivansh\n"
     ]
    }
   ],
   "source": [
    "# Normal Function\n",
    "# Take one Argument\n",
    "def fun(name):\n",
    "    print(\"My name is \", name)\n",
    "fun(\"Shivansh\")"
   ]
  },
  {
   "cell_type": "code",
   "execution_count": 49,
   "id": "adf364af",
   "metadata": {},
   "outputs": [],
   "source": [
    "# Take multiple Argument\n",
    "def fun(*name):\n",
    "    print(\"My name is\",name)"
   ]
  },
  {
   "cell_type": "code",
   "execution_count": 50,
   "id": "ab1c4154",
   "metadata": {},
   "outputs": [
    {
     "name": "stdout",
     "output_type": "stream",
     "text": [
      "My name is ('shivansh', 'shivam')\n"
     ]
    }
   ],
   "source": [
    "fun(\"shivansh\",\"shivam\")"
   ]
  },
  {
   "cell_type": "code",
   "execution_count": 55,
   "id": "d61cb66f",
   "metadata": {},
   "outputs": [],
   "source": [
    "def fun(*name):\n",
    "    print(type(name))\n",
    "    for i in name:\n",
    "        print(\"My name is\",i)"
   ]
  },
  {
   "cell_type": "code",
   "execution_count": 56,
   "id": "4e4d04d2",
   "metadata": {},
   "outputs": [
    {
     "name": "stdout",
     "output_type": "stream",
     "text": [
      "<class 'tuple'>\n",
      "My name is Shivansh\n",
      "My name is Shivam\n"
     ]
    }
   ],
   "source": [
    "fun(\"Shivansh\",\"Shivam\")"
   ]
  },
  {
   "cell_type": "code",
   "execution_count": 68,
   "id": "d14d3896",
   "metadata": {},
   "outputs": [],
   "source": [
    "def prod(*num):\n",
    "    product=1\n",
    "    for i in num:\n",
    "        product=product*i\n",
    "    return product"
   ]
  },
  {
   "cell_type": "code",
   "execution_count": 69,
   "id": "8e3676b3",
   "metadata": {},
   "outputs": [
    {
     "data": {
      "text/plain": [
       "6"
      ]
     },
     "execution_count": 69,
     "metadata": {},
     "output_type": "execute_result"
    }
   ],
   "source": [
    "prod(1,2,3)"
   ]
  },
  {
   "cell_type": "markdown",
   "id": "d3285a72",
   "metadata": {},
   "source": [
    "- VR\n",
    "https://pythontutor.com/live.html#code=def%20fun%28*name%29%3A%0A%20%20%20%20print%28type%28name%29%29%0A%20%20%20%20for%20i%20in%20name%3A%0A%20%20%20%20%20%20%20%20print%28%22My%20name%20is%22,i%29%0Afun%28%22Shivansh%22,%22Shivam%22%29&cumulative=false&curInstr=0&heapPrimitives=nevernest&mode=display&origin=opt-live.js&py=3&rawInputLstJSON=%5B%5D&textReferences=false"
   ]
  },
  {
   "cell_type": "markdown",
   "id": "5f82973a",
   "metadata": {},
   "source": [
    "<img src=\"data:image/jpeg;base64,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\"/>"
   ]
  },
  {
   "cell_type": "markdown",
   "id": "ad5aeed8",
   "metadata": {},
   "source": [
    "# Global Variable:- A variable, outside of all the function are called global variable.\n",
    "- Global variable are accessible in all the function of a program.\n",
    "- As long as the program is running Global variable in the memory.\n",
    "# Local Variable:- A variable that is inside the function is called local variable.\n",
    "- They are not accessible in other function,they belong to function in which they are declared.\n",
    "- They remain in the memory as long as function is running, once the function end they are terminated."
   ]
  },
  {
   "cell_type": "markdown",
   "id": "62995bf6",
   "metadata": {},
   "source": [
    "<img src=\"data:image/png;base64,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\" />"
   ]
  },
  {
   "cell_type": "code",
   "execution_count": 75,
   "id": "2713a770",
   "metadata": {},
   "outputs": [
    {
     "name": "stdout",
     "output_type": "stream",
     "text": [
      "Inside fun_a()\n",
      "None\n",
      "Inside fun_b()\n",
      "7\n"
     ]
    }
   ],
   "source": [
    "def fun_a():\n",
    "    print(\"Inside fun_a()\")\n",
    "def fun_b(y):\n",
    "    print(\"Inside fun_b()\")\n",
    "    return y\n",
    "\n",
    "print(fun_a())\n",
    "print(5+fun_b(2))"
   ]
  },
  {
   "cell_type": "markdown",
   "id": "1a1fb3de",
   "metadata": {},
   "source": [
    "- VR\n",
    "https://pythontutor.com/live.html#code=def%20fun_a%28%29%3A%0A%20%20%20%20print%28%22Inside%20fun_a%28%29%22%29%0Adef%20fun_b%28y%29%3A%0A%20%20%20%20print%28%22Inside%20fun_b%28%29%22%29%0A%20%20%20%20return%20y%0A%0Aprint%28fun_a%28%29%29%0Aprint%285%2Bfun_b%282%29%29&cumulative=false&curInstr=0&heapPrimitives=nevernest&mode=display&origin=opt-live.js&py=3&rawInputLstJSON=%5B%5D&textReferences=false"
   ]
  },
  {
   "cell_type": "code",
   "execution_count": 77,
   "id": "f5e66fa5",
   "metadata": {},
   "outputs": [
    {
     "name": "stdout",
     "output_type": "stream",
     "text": [
      "2\n",
      "5\n"
     ]
    }
   ],
   "source": [
    "def f(y):\n",
    "    x = 1 \n",
    "    x+=1\n",
    "    print(x)\n",
    "x=5\n",
    "f(x)\n",
    "print(x)"
   ]
  },
  {
   "cell_type": "markdown",
   "id": "86b3a4db",
   "metadata": {},
   "source": [
    "- VR\n",
    "https://pythontutor.com/live.html#code=def%20f%28y%29%3A%0A%20%20%20%20x%20%3D%201%20%0A%20%20%20%20x%2B%3D1%0A%20%20%20%20print%28x%29%0Ax%3D5%0Af%28x%29%0Aprint%28x%29&cumulative=false&curInstr=0&heapPrimitives=nevernest&mode=display&origin=opt-live.js&py=3&rawInputLstJSON=%5B%5D&textReferences=false"
   ]
  },
  {
   "cell_type": "code",
   "execution_count": 79,
   "id": "7525b007",
   "metadata": {},
   "outputs": [
    {
     "name": "stdout",
     "output_type": "stream",
     "text": [
      "5\n",
      "6\n",
      "5\n"
     ]
    }
   ],
   "source": [
    "def g(y):\n",
    "    # if function has not any local variable then they use global variable value\n",
    "    print(x)\n",
    "    print(x+1) # It doesn't mean you change into x, u just form an new integer.\n",
    "    \n",
    "x=5 # Global Variable\n",
    "g(x)\n",
    "print(x)"
   ]
  },
  {
   "cell_type": "markdown",
   "id": "fe134583",
   "metadata": {},
   "source": [
    "- VR\n",
    "https://pythontutor.com/live.html#code=def%20g%28y%29%3A%0A%20%20%20%20%23%20if%20function%20has%20not%20any%20local%20variable%20then%20they%20use%20global%20variable%20value%0A%20%20%20%20print%28x%29%0A%20%20%20%20print%28x%2B1%29%20%23%20It%20doesn't%20mean%20you%20change%20into%20x,%20u%20just%20form%20an%20new%20integer.%0A%20%20%20%20%0Ax%3D5%20%23%20Global%20Variable%0Ag%28x%29%0Aprint%28x%29&cumulative=false&curInstr=0&heapPrimitives=nevernest&mode=display&origin=opt-live.js&py=3&rawInputLstJSON=%5B%5D&textReferences=false"
   ]
  },
  {
   "cell_type": "code",
   "execution_count": 81,
   "id": "2846ea87",
   "metadata": {},
   "outputs": [
    {
     "ename": "UnboundLocalError",
     "evalue": "local variable 'x' referenced before assignment",
     "output_type": "error",
     "traceback": [
      "\u001b[0;31m---------------------------------------------------------------------------\u001b[0m",
      "\u001b[0;31mUnboundLocalError\u001b[0m                         Traceback (most recent call last)",
      "\u001b[0;32m/tmp/ipykernel_165602/690453697.py\u001b[0m in \u001b[0;36m<module>\u001b[0;34m\u001b[0m\n\u001b[1;32m      3\u001b[0m \u001b[0;34m\u001b[0m\u001b[0m\n\u001b[1;32m      4\u001b[0m \u001b[0mx\u001b[0m\u001b[0;34m=\u001b[0m\u001b[0;36m5\u001b[0m \u001b[0;31m# Global Variable\u001b[0m\u001b[0;34m\u001b[0m\u001b[0;34m\u001b[0m\u001b[0m\n\u001b[0;32m----> 5\u001b[0;31m \u001b[0mh\u001b[0m\u001b[0;34m(\u001b[0m\u001b[0mx\u001b[0m\u001b[0;34m)\u001b[0m\u001b[0;34m\u001b[0m\u001b[0;34m\u001b[0m\u001b[0m\n\u001b[0m\u001b[1;32m      6\u001b[0m \u001b[0mprint\u001b[0m\u001b[0;34m(\u001b[0m\u001b[0mx\u001b[0m\u001b[0;34m)\u001b[0m\u001b[0;34m\u001b[0m\u001b[0;34m\u001b[0m\u001b[0m\n\u001b[1;32m      7\u001b[0m \u001b[0;34m\u001b[0m\u001b[0m\n",
      "\u001b[0;32m/tmp/ipykernel_165602/690453697.py\u001b[0m in \u001b[0;36mh\u001b[0;34m(y)\u001b[0m\n\u001b[1;32m      1\u001b[0m \u001b[0;32mdef\u001b[0m \u001b[0mh\u001b[0m\u001b[0;34m(\u001b[0m\u001b[0my\u001b[0m\u001b[0;34m)\u001b[0m\u001b[0;34m:\u001b[0m\u001b[0;34m\u001b[0m\u001b[0;34m\u001b[0m\u001b[0m\n\u001b[0;32m----> 2\u001b[0;31m     \u001b[0mx\u001b[0m \u001b[0;34m+=\u001b[0m \u001b[0;36m1\u001b[0m \u001b[0;31m# Global Variable\u001b[0m\u001b[0;34m\u001b[0m\u001b[0;34m\u001b[0m\u001b[0m\n\u001b[0m\u001b[1;32m      3\u001b[0m \u001b[0;34m\u001b[0m\u001b[0m\n\u001b[1;32m      4\u001b[0m \u001b[0mx\u001b[0m\u001b[0;34m=\u001b[0m\u001b[0;36m5\u001b[0m \u001b[0;31m# Global Variable\u001b[0m\u001b[0;34m\u001b[0m\u001b[0;34m\u001b[0m\u001b[0m\n\u001b[1;32m      5\u001b[0m \u001b[0mh\u001b[0m\u001b[0;34m(\u001b[0m\u001b[0mx\u001b[0m\u001b[0;34m)\u001b[0m\u001b[0;34m\u001b[0m\u001b[0;34m\u001b[0m\u001b[0m\n",
      "\u001b[0;31mUnboundLocalError\u001b[0m: local variable 'x' referenced before assignment"
     ]
    }
   ],
   "source": [
    "def h(y):\n",
    "    x += 1 # Global Variable\n",
    "    \n",
    "x=5 # Global Variable \n",
    "h(x)\n",
    "print(x)\n",
    "\n",
    "# We can't change the value of Global Variable inside function directly.\n",
    "# if you have a requirement then use **global** keyword inside function."
   ]
  },
  {
   "cell_type": "code",
   "execution_count": 84,
   "id": "ceb72da7",
   "metadata": {},
   "outputs": [
    {
     "name": "stdout",
     "output_type": "stream",
     "text": [
      "6\n"
     ]
    }
   ],
   "source": [
    "def h(y):\n",
    "    global x\n",
    "    x += 1 # Global Variable\n",
    "    \n",
    "x=5 # Global Variable \n",
    "h(x)\n",
    "print(x)\n",
    "# We can't change the value of Global Variable inside function directly.\n",
    "# if you have a requirement then use **global** keyword inside function."
   ]
  },
  {
   "cell_type": "markdown",
   "id": "2e4fe2ac",
   "metadata": {},
   "source": [
    "- Nested Loop"
   ]
  },
  {
   "cell_type": "code",
   "execution_count": 85,
   "id": "3534c582",
   "metadata": {},
   "outputs": [],
   "source": [
    "def f():\n",
    "    print(\"Inside f()\")\n",
    "    def g():\n",
    "        print(\"Inside g()\")\n",
    "    g()"
   ]
  },
  {
   "cell_type": "code",
   "execution_count": 86,
   "id": "c58006f7",
   "metadata": {},
   "outputs": [
    {
     "name": "stdout",
     "output_type": "stream",
     "text": [
      "Inside f()\n",
      "Inside g()\n"
     ]
    }
   ],
   "source": [
    "f()"
   ]
  },
  {
   "cell_type": "markdown",
   "id": "88932e07",
   "metadata": {},
   "source": [
    "- VR\n",
    "https://pythontutor.com/live.html#code=def%20f%28%29%3A%0A%20%20%20%20print%28%22Inside%20f%28%29%22%29%0A%20%20%20%20def%20g%28%29%3A%0A%20%20%20%20%20%20%20%20print%28%22Inside%20g%28%29%22%29%0A%20%20%20%20g%28%29%0Af%28%29&cumulative=false&curInstr=0&heapPrimitives=nevernest&mode=display&origin=opt-live.js&py=3&rawInputLstJSON=%5B%5D&textReferences=false"
   ]
  },
  {
   "cell_type": "markdown",
   "id": "7a31be4b",
   "metadata": {},
   "source": [
    "<img src=\"https://c.tenor.com/2-GLn6a2GS8AAAAC/hera-pheri.gif\" />"
   ]
  },
  {
   "cell_type": "code",
   "execution_count": null,
   "id": "8c536d56",
   "metadata": {},
   "outputs": [],
   "source": []
  }
 ],
 "metadata": {
  "kernelspec": {
   "display_name": "Python 3.8.8 64-bit ('base': conda)",
   "language": "python",
   "name": "python388jvsc74a57bd02c7ffa9c538f0bfb5740c89a215bcbde02033924243f3d233f0c9916449df403"
  },
  "language_info": {
   "codemirror_mode": {
    "name": "ipython",
    "version": 3
   },
   "file_extension": ".py",
   "mimetype": "text/x-python",
   "name": "python",
   "nbconvert_exporter": "python",
   "pygments_lexer": "ipython3",
   "version": "3.8.8"
  }
 },
 "nbformat": 4,
 "nbformat_minor": 5
}
