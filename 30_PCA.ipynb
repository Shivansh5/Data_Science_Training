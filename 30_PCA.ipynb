{
 "cells": [
  {
   "cell_type": "code",
   "execution_count": 52,
   "metadata": {
    "_cell_guid": "b1076dfc-b9ad-4769-8c92-a6c4dae69d19",
    "_uuid": "8f2839f25d086af736a60e9eeb907d3b93b6e0e5",
    "execution": {
     "iopub.execute_input": "2021-12-30T19:31:09.708948Z",
     "iopub.status.busy": "2021-12-30T19:31:09.708169Z",
     "iopub.status.idle": "2021-12-30T19:31:09.719973Z",
     "shell.execute_reply": "2021-12-30T19:31:09.718980Z",
     "shell.execute_reply.started": "2021-12-30T19:31:09.708899Z"
    }
   },
   "outputs": [],
   "source": [
    "# This Python 3 environment comes with many helpful analytics libraries installed\n",
    "# It is defined by the kaggle/python Docker image: https://github.com/kaggle/docker-python\n",
    "# For example, here's several helpful packages to load\n",
    "\n",
    "import numpy as np # linear algebra\n",
    "import pandas as pd # data processing, CSV file I/O (e.g. pd.read_csv)\n",
    "\n",
    "# Input data files are available in the read-only \"../input/\" directory\n",
    "# For example, running this (by clicking run or pressing Shift+Enter) will list all files under the input directory\n",
    "\n",
    "import os\n",
    "for dirname, _, filenames in os.walk('/kaggle/input'):\n",
    "    for filename in filenames:\n",
    "        print(os.path.join(dirname, filename))\n",
    "\n",
    "# You can write up to 20GB to the current directory (/kaggle/working/) that gets preserved as output when you create a version using \"Save & Run All\" \n",
    "# You can also write temporary files to /kaggle/temp/, but they won't be saved outside of the current session"
   ]
  },
  {
   "cell_type": "code",
   "execution_count": 2,
   "metadata": {
    "execution": {
     "iopub.execute_input": "2021-12-30T18:42:31.315349Z",
     "iopub.status.busy": "2021-12-30T18:42:31.314865Z",
     "iopub.status.idle": "2021-12-30T18:42:31.329434Z",
     "shell.execute_reply": "2021-12-30T18:42:31.328269Z",
     "shell.execute_reply.started": "2021-12-30T18:42:31.315316Z"
    }
   },
   "outputs": [],
   "source": [
    "%config Completer.use_jedi = False"
   ]
  },
  {
   "cell_type": "code",
   "execution_count": 53,
   "metadata": {
    "execution": {
     "iopub.execute_input": "2021-12-30T19:31:13.267830Z",
     "iopub.status.busy": "2021-12-30T19:31:13.267318Z",
     "iopub.status.idle": "2021-12-30T19:31:16.054153Z",
     "shell.execute_reply": "2021-12-30T19:31:16.053067Z",
     "shell.execute_reply.started": "2021-12-30T19:31:13.267784Z"
    }
   },
   "outputs": [],
   "source": [
    "df = pd.read_csv(\"/kaggle/input/digit-recognizer/train.csv\")"
   ]
  },
  {
   "cell_type": "code",
   "execution_count": 54,
   "metadata": {
    "execution": {
     "iopub.execute_input": "2021-12-30T19:31:17.367374Z",
     "iopub.status.busy": "2021-12-30T19:31:17.367098Z",
     "iopub.status.idle": "2021-12-30T19:31:17.373947Z",
     "shell.execute_reply": "2021-12-30T19:31:17.373043Z",
     "shell.execute_reply.started": "2021-12-30T19:31:17.367341Z"
    }
   },
   "outputs": [],
   "source": [
    "df.shape"
   ]
  },
  {
   "cell_type": "code",
   "execution_count": 5,
   "metadata": {
    "execution": {
     "iopub.execute_input": "2021-12-30T18:42:35.156570Z",
     "iopub.status.busy": "2021-12-30T18:42:35.156297Z",
     "iopub.status.idle": "2021-12-30T18:42:35.190284Z",
     "shell.execute_reply": "2021-12-30T18:42:35.189456Z",
     "shell.execute_reply.started": "2021-12-30T18:42:35.156536Z"
    }
   },
   "outputs": [],
   "source": [
    "df.head()"
   ]
  },
  {
   "cell_type": "code",
   "execution_count": 6,
   "metadata": {
    "execution": {
     "iopub.execute_input": "2021-12-30T18:42:35.192358Z",
     "iopub.status.busy": "2021-12-30T18:42:35.191557Z",
     "iopub.status.idle": "2021-12-30T18:42:35.214084Z",
     "shell.execute_reply": "2021-12-30T18:42:35.213039Z",
     "shell.execute_reply.started": "2021-12-30T18:42:35.192304Z"
    }
   },
   "outputs": [],
   "source": [
    "df.sample()"
   ]
  },
  {
   "cell_type": "code",
   "execution_count": 7,
   "metadata": {
    "execution": {
     "iopub.execute_input": "2021-12-30T18:42:35.216100Z",
     "iopub.status.busy": "2021-12-30T18:42:35.215791Z",
     "iopub.status.idle": "2021-12-30T18:42:35.226398Z",
     "shell.execute_reply": "2021-12-30T18:42:35.225370Z",
     "shell.execute_reply.started": "2021-12-30T18:42:35.216059Z"
    }
   },
   "outputs": [],
   "source": [
    "import matplotlib.pyplot as plt"
   ]
  },
  {
   "cell_type": "code",
   "execution_count": 8,
   "metadata": {
    "execution": {
     "iopub.execute_input": "2021-12-30T18:42:35.227929Z",
     "iopub.status.busy": "2021-12-30T18:42:35.227652Z",
     "iopub.status.idle": "2021-12-30T18:42:35.488546Z",
     "shell.execute_reply": "2021-12-30T18:42:35.487514Z",
     "shell.execute_reply.started": "2021-12-30T18:42:35.227896Z"
    }
   },
   "outputs": [],
   "source": [
    "plt.imshow(df.iloc[26175,1:].values.reshape(28,28))"
   ]
  },
  {
   "cell_type": "code",
   "execution_count": 9,
   "metadata": {
    "execution": {
     "iopub.execute_input": "2021-12-30T18:42:35.490268Z",
     "iopub.status.busy": "2021-12-30T18:42:35.489921Z",
     "iopub.status.idle": "2021-12-30T18:42:35.810674Z",
     "shell.execute_reply": "2021-12-30T18:42:35.810007Z",
     "shell.execute_reply.started": "2021-12-30T18:42:35.490226Z"
    }
   },
   "outputs": [],
   "source": [
    "plt.imshow(df.iloc[3882,1:].values.reshape(28,28))"
   ]
  },
  {
   "cell_type": "code",
   "execution_count": 10,
   "metadata": {
    "execution": {
     "iopub.execute_input": "2021-12-30T18:42:35.812860Z",
     "iopub.status.busy": "2021-12-30T18:42:35.812023Z",
     "iopub.status.idle": "2021-12-30T18:42:35.817515Z",
     "shell.execute_reply": "2021-12-30T18:42:35.816854Z",
     "shell.execute_reply.started": "2021-12-30T18:42:35.812812Z"
    }
   },
   "outputs": [],
   "source": [
    "X = df.iloc[:,1:]"
   ]
  },
  {
   "cell_type": "code",
   "execution_count": 11,
   "metadata": {
    "execution": {
     "iopub.execute_input": "2021-12-30T18:42:35.819038Z",
     "iopub.status.busy": "2021-12-30T18:42:35.818593Z",
     "iopub.status.idle": "2021-12-30T18:42:35.833523Z",
     "shell.execute_reply": "2021-12-30T18:42:35.832818Z",
     "shell.execute_reply.started": "2021-12-30T18:42:35.818991Z"
    }
   },
   "outputs": [],
   "source": [
    "y = df.iloc[:,0]"
   ]
  },
  {
   "cell_type": "code",
   "execution_count": 12,
   "metadata": {
    "execution": {
     "iopub.execute_input": "2021-12-30T18:42:35.835684Z",
     "iopub.status.busy": "2021-12-30T18:42:35.834763Z",
     "iopub.status.idle": "2021-12-30T18:42:35.853850Z",
     "shell.execute_reply": "2021-12-30T18:42:35.852721Z",
     "shell.execute_reply.started": "2021-12-30T18:42:35.835633Z"
    }
   },
   "outputs": [],
   "source": [
    "y.sample(10)"
   ]
  },
  {
   "cell_type": "code",
   "execution_count": 57,
   "metadata": {
    "execution": {
     "iopub.execute_input": "2021-12-30T19:31:38.378256Z",
     "iopub.status.busy": "2021-12-30T19:31:38.377941Z",
     "iopub.status.idle": "2021-12-30T19:31:38.660138Z",
     "shell.execute_reply": "2021-12-30T19:31:38.659223Z",
     "shell.execute_reply.started": "2021-12-30T19:31:38.378225Z"
    }
   },
   "outputs": [],
   "source": [
    "from sklearn.model_selection import  train_test_split\n",
    "X_train, X_test, y_train, y_test = train_test_split(X,y,test_size=0.2,random_state=42)"
   ]
  },
  {
   "cell_type": "code",
   "execution_count": 58,
   "metadata": {
    "execution": {
     "iopub.execute_input": "2021-12-30T19:31:42.027528Z",
     "iopub.status.busy": "2021-12-30T19:31:42.026994Z",
     "iopub.status.idle": "2021-12-30T19:31:42.033479Z",
     "shell.execute_reply": "2021-12-30T19:31:42.032851Z",
     "shell.execute_reply.started": "2021-12-30T19:31:42.027491Z"
    }
   },
   "outputs": [],
   "source": [
    "X_train.shape"
   ]
  },
  {
   "cell_type": "markdown",
   "metadata": {
    "execution": {
     "iopub.execute_input": "2021-12-30T18:35:35.443178Z",
     "iopub.status.busy": "2021-12-30T18:35:35.442883Z",
     "iopub.status.idle": "2021-12-30T18:35:35.448242Z",
     "shell.execute_reply": "2021-12-30T18:35:35.447461Z",
     "shell.execute_reply.started": "2021-12-30T18:35:35.443146Z"
    }
   },
   "source": [
    "# Train model without PCA"
   ]
  },
  {
   "cell_type": "code",
   "execution_count": 15,
   "metadata": {
    "execution": {
     "iopub.execute_input": "2021-12-30T18:42:37.241865Z",
     "iopub.status.busy": "2021-12-30T18:42:37.241370Z",
     "iopub.status.idle": "2021-12-30T18:42:37.440233Z",
     "shell.execute_reply": "2021-12-30T18:42:37.439261Z",
     "shell.execute_reply.started": "2021-12-30T18:42:37.241823Z"
    }
   },
   "outputs": [],
   "source": [
    "from sklearn.neighbors import  KNeighborsClassifier"
   ]
  },
  {
   "cell_type": "code",
   "execution_count": 16,
   "metadata": {
    "execution": {
     "iopub.execute_input": "2021-12-30T18:42:37.442000Z",
     "iopub.status.busy": "2021-12-30T18:42:37.441736Z",
     "iopub.status.idle": "2021-12-30T18:42:37.445977Z",
     "shell.execute_reply": "2021-12-30T18:42:37.445139Z",
     "shell.execute_reply.started": "2021-12-30T18:42:37.441967Z"
    }
   },
   "outputs": [],
   "source": [
    "knn  = KNeighborsClassifier()"
   ]
  },
  {
   "cell_type": "code",
   "execution_count": 17,
   "metadata": {
    "execution": {
     "iopub.execute_input": "2021-12-30T18:42:37.447826Z",
     "iopub.status.busy": "2021-12-30T18:42:37.447527Z",
     "iopub.status.idle": "2021-12-30T18:42:43.972465Z",
     "shell.execute_reply": "2021-12-30T18:42:43.971568Z",
     "shell.execute_reply.started": "2021-12-30T18:42:37.447781Z"
    }
   },
   "outputs": [],
   "source": [
    "knn.fit(X_train,y_train)"
   ]
  },
  {
   "cell_type": "code",
   "execution_count": 18,
   "metadata": {
    "execution": {
     "iopub.execute_input": "2021-12-30T18:42:43.973951Z",
     "iopub.status.busy": "2021-12-30T18:42:43.973711Z",
     "iopub.status.idle": "2021-12-30T18:51:29.776291Z",
     "shell.execute_reply": "2021-12-30T18:51:29.775660Z",
     "shell.execute_reply.started": "2021-12-30T18:42:43.973921Z"
    }
   },
   "outputs": [],
   "source": [
    "y_pred = knn.predict(X_test)"
   ]
  },
  {
   "cell_type": "code",
   "execution_count": 39,
   "metadata": {
    "execution": {
     "iopub.execute_input": "2021-12-30T19:24:07.832742Z",
     "iopub.status.busy": "2021-12-30T19:24:07.831973Z",
     "iopub.status.idle": "2021-12-30T19:24:07.840903Z",
     "shell.execute_reply": "2021-12-30T19:24:07.839995Z",
     "shell.execute_reply.started": "2021-12-30T19:24:07.832692Z"
    }
   },
   "outputs": [],
   "source": [
    "from sklearn.metrics import  accuracy_score\n",
    "accuracy_score(y_test,y_pred)"
   ]
  },
  {
   "cell_type": "code",
   "execution_count": null,
   "metadata": {},
   "outputs": [],
   "source": [
    "knn.score(X_test,y_test)"
   ]
  },
  {
   "cell_type": "markdown",
   "metadata": {},
   "source": [
    "# Train model with PCA.\n",
    "# First we need to mean centerized the all values."
   ]
  },
  {
   "cell_type": "code",
   "execution_count": 55,
   "metadata": {
    "execution": {
     "iopub.execute_input": "2021-12-30T19:31:26.658092Z",
     "iopub.status.busy": "2021-12-30T19:31:26.657787Z",
     "iopub.status.idle": "2021-12-30T19:31:26.662487Z",
     "shell.execute_reply": "2021-12-30T19:31:26.661640Z",
     "shell.execute_reply.started": "2021-12-30T19:31:26.658053Z"
    }
   },
   "outputs": [],
   "source": [
    "from sklearn.preprocessing import StandardScaler"
   ]
  },
  {
   "cell_type": "code",
   "execution_count": 56,
   "metadata": {
    "execution": {
     "iopub.execute_input": "2021-12-30T19:31:28.797329Z",
     "iopub.status.busy": "2021-12-30T19:31:28.797056Z",
     "iopub.status.idle": "2021-12-30T19:31:28.801989Z",
     "shell.execute_reply": "2021-12-30T19:31:28.801048Z",
     "shell.execute_reply.started": "2021-12-30T19:31:28.797299Z"
    }
   },
   "outputs": [],
   "source": [
    "sc = StandardScaler()"
   ]
  },
  {
   "cell_type": "code",
   "execution_count": 59,
   "metadata": {
    "execution": {
     "iopub.execute_input": "2021-12-30T19:32:04.648098Z",
     "iopub.status.busy": "2021-12-30T19:32:04.647812Z",
     "iopub.status.idle": "2021-12-30T19:32:05.410412Z",
     "shell.execute_reply": "2021-12-30T19:32:05.409433Z",
     "shell.execute_reply.started": "2021-12-30T19:32:04.648067Z"
    }
   },
   "outputs": [],
   "source": [
    "X_train = sc.fit_transform(X_train)\n",
    "X_test = sc.transform(X_test)"
   ]
  },
  {
   "cell_type": "code",
   "execution_count": 60,
   "metadata": {
    "execution": {
     "iopub.execute_input": "2021-12-30T19:32:15.279095Z",
     "iopub.status.busy": "2021-12-30T19:32:15.278229Z",
     "iopub.status.idle": "2021-12-30T19:32:15.284673Z",
     "shell.execute_reply": "2021-12-30T19:32:15.283896Z",
     "shell.execute_reply.started": "2021-12-30T19:32:15.279040Z"
    }
   },
   "outputs": [],
   "source": [
    "X_train.shape"
   ]
  },
  {
   "cell_type": "code",
   "execution_count": 61,
   "metadata": {
    "execution": {
     "iopub.execute_input": "2021-12-30T19:32:18.577683Z",
     "iopub.status.busy": "2021-12-30T19:32:18.576949Z",
     "iopub.status.idle": "2021-12-30T19:32:18.581586Z",
     "shell.execute_reply": "2021-12-30T19:32:18.580648Z",
     "shell.execute_reply.started": "2021-12-30T19:32:18.577646Z"
    }
   },
   "outputs": [],
   "source": [
    "from sklearn.decomposition import  PCA"
   ]
  },
  {
   "cell_type": "code",
   "execution_count": 62,
   "metadata": {
    "execution": {
     "iopub.execute_input": "2021-12-30T19:32:25.047681Z",
     "iopub.status.busy": "2021-12-30T19:32:25.047345Z",
     "iopub.status.idle": "2021-12-30T19:32:25.052313Z",
     "shell.execute_reply": "2021-12-30T19:32:25.051263Z",
     "shell.execute_reply.started": "2021-12-30T19:32:25.047646Z"
    }
   },
   "outputs": [],
   "source": [
    "pc= PCA(n_components=None)"
   ]
  },
  {
   "cell_type": "code",
   "execution_count": 33,
   "metadata": {
    "execution": {
     "iopub.execute_input": "2021-12-30T19:04:56.716471Z",
     "iopub.status.busy": "2021-12-30T19:04:56.715854Z",
     "iopub.status.idle": "2021-12-30T19:05:01.390276Z",
     "shell.execute_reply": "2021-12-30T19:05:01.389280Z",
     "shell.execute_reply.started": "2021-12-30T19:04:56.716418Z"
    }
   },
   "outputs": [],
   "source": [
    "X_train = pc.fit_transform(X_train)\n",
    "X_test = pc.transform(X_test)"
   ]
  },
  {
   "cell_type": "code",
   "execution_count": 35,
   "metadata": {
    "execution": {
     "iopub.execute_input": "2021-12-30T19:07:00.542268Z",
     "iopub.status.busy": "2021-12-30T19:07:00.541810Z",
     "iopub.status.idle": "2021-12-30T19:07:00.547105Z",
     "shell.execute_reply": "2021-12-30T19:07:00.546197Z",
     "shell.execute_reply.started": "2021-12-30T19:07:00.542218Z"
    }
   },
   "outputs": [],
   "source": [
    "model  =  KNeighborsClassifier()"
   ]
  },
  {
   "cell_type": "code",
   "execution_count": null,
   "metadata": {
    "execution": {
     "iopub.status.busy": "2021-12-30T19:21:03.765997Z",
     "iopub.status.idle": "2021-12-30T19:21:03.766350Z",
     "shell.execute_reply": "2021-12-30T19:21:03.766197Z",
     "shell.execute_reply.started": "2021-12-30T19:21:03.766170Z"
    }
   },
   "outputs": [],
   "source": [
    "model.fit(X_train,y_train)"
   ]
  },
  {
   "cell_type": "code",
   "execution_count": null,
   "metadata": {
    "execution": {
     "iopub.status.busy": "2021-12-30T19:21:03.767540Z",
     "iopub.status.idle": "2021-12-30T19:21:03.767886Z",
     "shell.execute_reply": "2021-12-30T19:21:03.767739Z",
     "shell.execute_reply.started": "2021-12-30T19:21:03.767715Z"
    }
   },
   "outputs": [],
   "source": [
    "y_pred = model.predict(X_test)"
   ]
  },
  {
   "cell_type": "code",
   "execution_count": 40,
   "metadata": {
    "execution": {
     "iopub.execute_input": "2021-12-30T19:24:46.233023Z",
     "iopub.status.busy": "2021-12-30T19:24:46.231995Z",
     "iopub.status.idle": "2021-12-30T19:24:46.240565Z",
     "shell.execute_reply": "2021-12-30T19:24:46.239696Z",
     "shell.execute_reply.started": "2021-12-30T19:24:46.232955Z"
    }
   },
   "outputs": [],
   "source": [
    "y_pred"
   ]
  },
  {
   "cell_type": "code",
   "execution_count": 51,
   "metadata": {
    "execution": {
     "iopub.execute_input": "2021-12-30T19:30:54.147704Z",
     "iopub.status.busy": "2021-12-30T19:30:54.147298Z",
     "iopub.status.idle": "2021-12-30T19:30:54.155630Z",
     "shell.execute_reply": "2021-12-30T19:30:54.154509Z",
     "shell.execute_reply.started": "2021-12-30T19:30:54.147668Z"
    }
   },
   "outputs": [],
   "source": [
    "accuracy_score(y_test,y_pred)"
   ]
  },
  {
   "cell_type": "code",
   "execution_count": null,
   "metadata": {
    "execution": {
     "iopub.execute_input": "2021-12-30T19:32:36.323680Z",
     "iopub.status.busy": "2021-12-30T19:32:36.323226Z"
    }
   },
   "outputs": [],
   "source": [
    "for i in range(1,784):\n",
    "    pc= PCA(n_components=i)\n",
    "    X_train_trf = pc.fit_transform(X_train)\n",
    "    X_test_trf = pc.transform(X_test)\n",
    "    \n",
    "    model  =  KNeighborsClassifier()\n",
    "    model.fit(X_train_trf,y_train)\n",
    "    y_pred = model.predict(X_test_trf)\n",
    "    print(i,accuracy_score(y_test,y_pred))"
   ]
  },
  {
   "cell_type": "code",
   "execution_count": null,
   "metadata": {},
   "outputs": [],
   "source": []
  }
 ],
 "metadata": {
  "kernelspec": {
   "display_name": "Python 3 (ipykernel)",
   "language": "python",
   "name": "python3"
  },
  "language_info": {
   "codemirror_mode": {
    "name": "ipython",
    "version": 3
   },
   "file_extension": ".py",
   "mimetype": "text/x-python",
   "name": "python",
   "nbconvert_exporter": "python",
   "pygments_lexer": "ipython3",
   "version": "3.8.8"
  },
  "notify_time": "5"
 },
 "nbformat": 4,
 "nbformat_minor": 4
}
