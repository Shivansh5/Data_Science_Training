{
 "cells": [
  {
   "cell_type": "code",
   "execution_count": 1,
   "id": "db725251",
   "metadata": {},
   "outputs": [],
   "source": [
    "import pandas as pd "
   ]
  },
  {
   "cell_type": "code",
   "execution_count": 2,
   "id": "f34729c2",
   "metadata": {},
   "outputs": [],
   "source": [
    "df = pd.read_csv(\"placement.csv\")"
   ]
  },
  {
   "cell_type": "code",
   "execution_count": 3,
   "id": "170a492c",
   "metadata": {},
   "outputs": [
    {
     "data": {
      "text/html": [
       "<div>\n",
       "<style scoped>\n",
       "    .dataframe tbody tr th:only-of-type {\n",
       "        vertical-align: middle;\n",
       "    }\n",
       "\n",
       "    .dataframe tbody tr th {\n",
       "        vertical-align: top;\n",
       "    }\n",
       "\n",
       "    .dataframe thead th {\n",
       "        text-align: right;\n",
       "    }\n",
       "</style>\n",
       "<table border=\"1\" class=\"dataframe\">\n",
       "  <thead>\n",
       "    <tr style=\"text-align: right;\">\n",
       "      <th></th>\n",
       "      <th>Unnamed: 0</th>\n",
       "      <th>cgpa</th>\n",
       "      <th>iq</th>\n",
       "      <th>placement</th>\n",
       "    </tr>\n",
       "  </thead>\n",
       "  <tbody>\n",
       "    <tr>\n",
       "      <th>0</th>\n",
       "      <td>0</td>\n",
       "      <td>6.8</td>\n",
       "      <td>123.0</td>\n",
       "      <td>1</td>\n",
       "    </tr>\n",
       "    <tr>\n",
       "      <th>1</th>\n",
       "      <td>1</td>\n",
       "      <td>5.9</td>\n",
       "      <td>106.0</td>\n",
       "      <td>0</td>\n",
       "    </tr>\n",
       "    <tr>\n",
       "      <th>2</th>\n",
       "      <td>2</td>\n",
       "      <td>5.3</td>\n",
       "      <td>121.0</td>\n",
       "      <td>0</td>\n",
       "    </tr>\n",
       "    <tr>\n",
       "      <th>3</th>\n",
       "      <td>3</td>\n",
       "      <td>7.4</td>\n",
       "      <td>132.0</td>\n",
       "      <td>1</td>\n",
       "    </tr>\n",
       "    <tr>\n",
       "      <th>4</th>\n",
       "      <td>4</td>\n",
       "      <td>5.8</td>\n",
       "      <td>142.0</td>\n",
       "      <td>0</td>\n",
       "    </tr>\n",
       "  </tbody>\n",
       "</table>\n",
       "</div>"
      ],
      "text/plain": [
       "   Unnamed: 0  cgpa     iq  placement\n",
       "0           0   6.8  123.0          1\n",
       "1           1   5.9  106.0          0\n",
       "2           2   5.3  121.0          0\n",
       "3           3   7.4  132.0          1\n",
       "4           4   5.8  142.0          0"
      ]
     },
     "execution_count": 3,
     "metadata": {},
     "output_type": "execute_result"
    }
   ],
   "source": [
    "df.head()"
   ]
  },
  {
   "cell_type": "code",
   "execution_count": 4,
   "id": "19368718",
   "metadata": {},
   "outputs": [
    {
     "data": {
      "text/plain": [
       "(100, 4)"
      ]
     },
     "execution_count": 4,
     "metadata": {},
     "output_type": "execute_result"
    }
   ],
   "source": [
    "df.shape"
   ]
  },
  {
   "cell_type": "code",
   "execution_count": 5,
   "id": "96bf9190",
   "metadata": {},
   "outputs": [
    {
     "name": "stdout",
     "output_type": "stream",
     "text": [
      "<class 'pandas.core.frame.DataFrame'>\n",
      "RangeIndex: 100 entries, 0 to 99\n",
      "Data columns (total 4 columns):\n",
      " #   Column      Non-Null Count  Dtype  \n",
      "---  ------      --------------  -----  \n",
      " 0   Unnamed: 0  100 non-null    int64  \n",
      " 1   cgpa        100 non-null    float64\n",
      " 2   iq          100 non-null    float64\n",
      " 3   placement   100 non-null    int64  \n",
      "dtypes: float64(2), int64(2)\n",
      "memory usage: 3.2 KB\n"
     ]
    }
   ],
   "source": [
    "df.info()"
   ]
  },
  {
   "cell_type": "code",
   "execution_count": 6,
   "id": "5bec9487",
   "metadata": {},
   "outputs": [
    {
     "data": {
      "text/html": [
       "<div>\n",
       "<style scoped>\n",
       "    .dataframe tbody tr th:only-of-type {\n",
       "        vertical-align: middle;\n",
       "    }\n",
       "\n",
       "    .dataframe tbody tr th {\n",
       "        vertical-align: top;\n",
       "    }\n",
       "\n",
       "    .dataframe thead th {\n",
       "        text-align: right;\n",
       "    }\n",
       "</style>\n",
       "<table border=\"1\" class=\"dataframe\">\n",
       "  <thead>\n",
       "    <tr style=\"text-align: right;\">\n",
       "      <th></th>\n",
       "      <th>Unnamed: 0</th>\n",
       "      <th>cgpa</th>\n",
       "      <th>iq</th>\n",
       "      <th>placement</th>\n",
       "    </tr>\n",
       "  </thead>\n",
       "  <tbody>\n",
       "    <tr>\n",
       "      <th>count</th>\n",
       "      <td>100.000000</td>\n",
       "      <td>100.000000</td>\n",
       "      <td>100.000000</td>\n",
       "      <td>100.000000</td>\n",
       "    </tr>\n",
       "    <tr>\n",
       "      <th>mean</th>\n",
       "      <td>49.500000</td>\n",
       "      <td>5.991000</td>\n",
       "      <td>123.580000</td>\n",
       "      <td>0.500000</td>\n",
       "    </tr>\n",
       "    <tr>\n",
       "      <th>std</th>\n",
       "      <td>29.011492</td>\n",
       "      <td>1.143634</td>\n",
       "      <td>39.944198</td>\n",
       "      <td>0.502519</td>\n",
       "    </tr>\n",
       "    <tr>\n",
       "      <th>min</th>\n",
       "      <td>0.000000</td>\n",
       "      <td>3.300000</td>\n",
       "      <td>37.000000</td>\n",
       "      <td>0.000000</td>\n",
       "    </tr>\n",
       "    <tr>\n",
       "      <th>25%</th>\n",
       "      <td>24.750000</td>\n",
       "      <td>5.075000</td>\n",
       "      <td>101.500000</td>\n",
       "      <td>0.000000</td>\n",
       "    </tr>\n",
       "    <tr>\n",
       "      <th>50%</th>\n",
       "      <td>49.500000</td>\n",
       "      <td>6.000000</td>\n",
       "      <td>127.500000</td>\n",
       "      <td>0.500000</td>\n",
       "    </tr>\n",
       "    <tr>\n",
       "      <th>75%</th>\n",
       "      <td>74.250000</td>\n",
       "      <td>6.900000</td>\n",
       "      <td>149.000000</td>\n",
       "      <td>1.000000</td>\n",
       "    </tr>\n",
       "    <tr>\n",
       "      <th>max</th>\n",
       "      <td>99.000000</td>\n",
       "      <td>8.500000</td>\n",
       "      <td>233.000000</td>\n",
       "      <td>1.000000</td>\n",
       "    </tr>\n",
       "  </tbody>\n",
       "</table>\n",
       "</div>"
      ],
      "text/plain": [
       "       Unnamed: 0        cgpa          iq   placement\n",
       "count  100.000000  100.000000  100.000000  100.000000\n",
       "mean    49.500000    5.991000  123.580000    0.500000\n",
       "std     29.011492    1.143634   39.944198    0.502519\n",
       "min      0.000000    3.300000   37.000000    0.000000\n",
       "25%     24.750000    5.075000  101.500000    0.000000\n",
       "50%     49.500000    6.000000  127.500000    0.500000\n",
       "75%     74.250000    6.900000  149.000000    1.000000\n",
       "max     99.000000    8.500000  233.000000    1.000000"
      ]
     },
     "execution_count": 6,
     "metadata": {},
     "output_type": "execute_result"
    }
   ],
   "source": [
    "df.describe()"
   ]
  },
  {
   "cell_type": "code",
   "execution_count": 7,
   "id": "e326dd78",
   "metadata": {},
   "outputs": [
    {
     "data": {
      "text/plain": [
       "Unnamed: 0    0\n",
       "cgpa          0\n",
       "iq            0\n",
       "placement     0\n",
       "dtype: int64"
      ]
     },
     "execution_count": 7,
     "metadata": {},
     "output_type": "execute_result"
    }
   ],
   "source": [
    "df.isnull().sum()"
   ]
  },
  {
   "cell_type": "code",
   "execution_count": 8,
   "id": "000e2efe",
   "metadata": {},
   "outputs": [
    {
     "data": {
      "text/plain": [
       "placement\n",
       "0    50\n",
       "1    50\n",
       "dtype: int64"
      ]
     },
     "execution_count": 8,
     "metadata": {},
     "output_type": "execute_result"
    }
   ],
   "source": [
    "df.value_counts(\"placement\")"
   ]
  },
  {
   "cell_type": "markdown",
   "id": "bae9b762",
   "metadata": {},
   "source": [
    "<img src=\"output-onlinetexttools.png\" width=\"500\"/>"
   ]
  },
  {
   "cell_type": "code",
   "execution_count": 9,
   "id": "aef554c7",
   "metadata": {},
   "outputs": [
    {
     "data": {
      "text/html": [
       "<div>\n",
       "<style scoped>\n",
       "    .dataframe tbody tr th:only-of-type {\n",
       "        vertical-align: middle;\n",
       "    }\n",
       "\n",
       "    .dataframe tbody tr th {\n",
       "        vertical-align: top;\n",
       "    }\n",
       "\n",
       "    .dataframe thead th {\n",
       "        text-align: right;\n",
       "    }\n",
       "</style>\n",
       "<table border=\"1\" class=\"dataframe\">\n",
       "  <thead>\n",
       "    <tr style=\"text-align: right;\">\n",
       "      <th></th>\n",
       "      <th>Unnamed: 0</th>\n",
       "      <th>cgpa</th>\n",
       "      <th>iq</th>\n",
       "      <th>placement</th>\n",
       "    </tr>\n",
       "  </thead>\n",
       "  <tbody>\n",
       "    <tr>\n",
       "      <th>0</th>\n",
       "      <td>0</td>\n",
       "      <td>6.8</td>\n",
       "      <td>123.0</td>\n",
       "      <td>1</td>\n",
       "    </tr>\n",
       "  </tbody>\n",
       "</table>\n",
       "</div>"
      ],
      "text/plain": [
       "   Unnamed: 0  cgpa     iq  placement\n",
       "0           0   6.8  123.0          1"
      ]
     },
     "execution_count": 9,
     "metadata": {},
     "output_type": "execute_result"
    }
   ],
   "source": [
    "df.head(1)"
   ]
  },
  {
   "cell_type": "code",
   "execution_count": 10,
   "id": "f7e5ff05",
   "metadata": {},
   "outputs": [],
   "source": [
    "x = df.iloc[:,1:]"
   ]
  },
  {
   "cell_type": "code",
   "execution_count": 11,
   "id": "0e5751ba",
   "metadata": {},
   "outputs": [],
   "source": [
    "# df.drop(columns=\"Unnamed: 0\")"
   ]
  },
  {
   "cell_type": "code",
   "execution_count": 12,
   "id": "dc3e9d3d",
   "metadata": {},
   "outputs": [],
   "source": [
    "y = df.iloc[:,-1]"
   ]
  },
  {
   "cell_type": "code",
   "execution_count": 13,
   "id": "60674ce2",
   "metadata": {},
   "outputs": [
    {
     "data": {
      "text/html": [
       "<div>\n",
       "<style scoped>\n",
       "    .dataframe tbody tr th:only-of-type {\n",
       "        vertical-align: middle;\n",
       "    }\n",
       "\n",
       "    .dataframe tbody tr th {\n",
       "        vertical-align: top;\n",
       "    }\n",
       "\n",
       "    .dataframe thead th {\n",
       "        text-align: right;\n",
       "    }\n",
       "</style>\n",
       "<table border=\"1\" class=\"dataframe\">\n",
       "  <thead>\n",
       "    <tr style=\"text-align: right;\">\n",
       "      <th></th>\n",
       "      <th>cgpa</th>\n",
       "      <th>iq</th>\n",
       "      <th>placement</th>\n",
       "    </tr>\n",
       "  </thead>\n",
       "  <tbody>\n",
       "    <tr>\n",
       "      <th>0</th>\n",
       "      <td>6.8</td>\n",
       "      <td>123.0</td>\n",
       "      <td>1</td>\n",
       "    </tr>\n",
       "  </tbody>\n",
       "</table>\n",
       "</div>"
      ],
      "text/plain": [
       "   cgpa     iq  placement\n",
       "0   6.8  123.0          1"
      ]
     },
     "execution_count": 13,
     "metadata": {},
     "output_type": "execute_result"
    }
   ],
   "source": [
    "x.head(1)"
   ]
  },
  {
   "cell_type": "code",
   "execution_count": 14,
   "id": "68a6c2c1",
   "metadata": {},
   "outputs": [
    {
     "data": {
      "text/plain": [
       "0    1\n",
       "Name: placement, dtype: int64"
      ]
     },
     "execution_count": 14,
     "metadata": {},
     "output_type": "execute_result"
    }
   ],
   "source": [
    "y.head(1)"
   ]
  },
  {
   "cell_type": "code",
   "execution_count": 15,
   "id": "ca8db0cd",
   "metadata": {},
   "outputs": [],
   "source": [
    "import matplotlib.pyplot as plt"
   ]
  },
  {
   "cell_type": "code",
   "execution_count": 16,
   "id": "d494a7ea",
   "metadata": {},
   "outputs": [
    {
     "name": "stdout",
     "output_type": "stream",
     "text": [
      "(100, 3)\n",
      "(100,)\n"
     ]
    }
   ],
   "source": [
    "print(x.shape)\n",
    "print(y.shape)"
   ]
  },
  {
   "cell_type": "code",
   "execution_count": 17,
   "id": "a019e403",
   "metadata": {},
   "outputs": [
    {
     "data": {
      "text/plain": [
       "<matplotlib.collections.PathCollection at 0x7fc7e88b2d60>"
      ]
     },
     "execution_count": 17,
     "metadata": {},
     "output_type": "execute_result"
    },
    {
     "data": {
      "image/png": "[encoded data removed]",
      "text/plain": [
       "<Figure size 432x288 with 1 Axes>"
      ]
     },
     "metadata": {
      "needs_background": "light"
     },
     "output_type": "display_data"
    }
   ],
   "source": [
    "plt.scatter(df[\"iq\"],df[\"cgpa\"],c=df[\"placement\"])"
   ]
  },
  {
   "cell_type": "code",
   "execution_count": 18,
   "id": "5b3a71fd",
   "metadata": {},
   "outputs": [],
   "source": [
    "from sklearn.model_selection import train_test_split"
   ]
  },
  {
   "cell_type": "code",
   "execution_count": 19,
   "id": "a30194aa",
   "metadata": {},
   "outputs": [],
   "source": [
    "X_train,X_test,y_train,y_test = train_test_split(x,y,test_size=0.1)"
   ]
  },
  {
   "cell_type": "code",
   "execution_count": 20,
   "id": "54c7f8a0",
   "metadata": {},
   "outputs": [
    {
     "data": {
      "text/html": [
       "<div>\n",
       "<style scoped>\n",
       "    .dataframe tbody tr th:only-of-type {\n",
       "        vertical-align: middle;\n",
       "    }\n",
       "\n",
       "    .dataframe tbody tr th {\n",
       "        vertical-align: top;\n",
       "    }\n",
       "\n",
       "    .dataframe thead th {\n",
       "        text-align: right;\n",
       "    }\n",
       "</style>\n",
       "<table border=\"1\" class=\"dataframe\">\n",
       "  <thead>\n",
       "    <tr style=\"text-align: right;\">\n",
       "      <th></th>\n",
       "      <th>cgpa</th>\n",
       "      <th>iq</th>\n",
       "      <th>placement</th>\n",
       "    </tr>\n",
       "  </thead>\n",
       "  <tbody>\n",
       "    <tr>\n",
       "      <th>40</th>\n",
       "      <td>4.9</td>\n",
       "      <td>134.0</td>\n",
       "      <td>0</td>\n",
       "    </tr>\n",
       "    <tr>\n",
       "      <th>91</th>\n",
       "      <td>7.5</td>\n",
       "      <td>158.0</td>\n",
       "      <td>1</td>\n",
       "    </tr>\n",
       "    <tr>\n",
       "      <th>30</th>\n",
       "      <td>7.6</td>\n",
       "      <td>128.0</td>\n",
       "      <td>1</td>\n",
       "    </tr>\n",
       "    <tr>\n",
       "      <th>31</th>\n",
       "      <td>3.9</td>\n",
       "      <td>109.0</td>\n",
       "      <td>0</td>\n",
       "    </tr>\n",
       "    <tr>\n",
       "      <th>84</th>\n",
       "      <td>5.7</td>\n",
       "      <td>169.0</td>\n",
       "      <td>0</td>\n",
       "    </tr>\n",
       "  </tbody>\n",
       "</table>\n",
       "</div>"
      ],
      "text/plain": [
       "    cgpa     iq  placement\n",
       "40   4.9  134.0          0\n",
       "91   7.5  158.0          1\n",
       "30   7.6  128.0          1\n",
       "31   3.9  109.0          0\n",
       "84   5.7  169.0          0"
      ]
     },
     "execution_count": 20,
     "metadata": {},
     "output_type": "execute_result"
    }
   ],
   "source": [
    "X_train.head()"
   ]
  },
  {
   "cell_type": "code",
   "execution_count": 21,
   "id": "7346a502",
   "metadata": {
    "scrolled": true
   },
   "outputs": [
    {
     "data": {
      "text/plain": [
       "40    0\n",
       "91    1\n",
       "30    1\n",
       "31    0\n",
       "84    0\n",
       "Name: placement, dtype: int64"
      ]
     },
     "execution_count": 21,
     "metadata": {},
     "output_type": "execute_result"
    }
   ],
   "source": [
    "y_train.head()"
   ]
  },
  {
   "cell_type": "markdown",
   "id": "c6b3cfdf",
   "metadata": {},
   "source": [
    "# Scale the values "
   ]
  },
  {
   "cell_type": "code",
   "execution_count": 22,
   "id": "f1cf17f2",
   "metadata": {},
   "outputs": [],
   "source": [
    "from sklearn.preprocessing import StandardScaler"
   ]
  },
  {
   "cell_type": "code",
   "execution_count": 23,
   "id": "cdc7e834",
   "metadata": {},
   "outputs": [],
   "source": [
    "sc = StandardScaler()"
   ]
  },
  {
   "cell_type": "code",
   "execution_count": 24,
   "id": "e6dfd960",
   "metadata": {},
   "outputs": [],
   "source": [
    "X_train = sc.fit_transform(X_train)"
   ]
  },
  {
   "cell_type": "markdown",
   "id": "12d5c1d1",
   "metadata": {},
   "source": [
    "# We tarined our model in small values so we only scale the values of X_train and X_test, no need to scale the values of output"
   ]
  },
  {
   "cell_type": "code",
   "execution_count": 25,
   "id": "63e07943",
   "metadata": {},
   "outputs": [
    {
     "data": {
      "text/plain": [
       "array([[-0.92973029,  0.29662105, -0.97801929],\n",
       "       [ 1.30850929,  0.88821981,  1.02247472],\n",
       "       [ 1.39459543,  0.14872136,  1.02247472],\n",
       "       [-1.79059166, -0.31962767, -0.97801929],\n",
       "       [-0.24104119,  1.15936924, -0.97801929],\n",
       "       [ 2.16937067, -0.04847823,  1.02247472],\n",
       "       [-0.84364415, -0.76332674, -0.97801929],\n",
       "       [ 0.79199247, -0.640077  ,  1.02247472],\n",
       "       [-0.84364415, -0.09777813, -0.97801929],\n",
       "       [-1.70450553, -0.5414772 , -0.97801929],\n",
       "       [ 1.73893998, -1.05912612,  1.02247472],\n",
       "       [-0.67147187, -0.29497772, -0.97801929],\n",
       "       [-1.36016097, -1.97117421, -0.97801929],\n",
       "       [-0.75755801,  0.14872136, -0.97801929],\n",
       "       [ 0.10330337,  0.24732115,  1.02247472],\n",
       "       [ 0.44764792,  0.93751971,  1.02247472],\n",
       "       [ 0.79199247,  0.39522084,  1.02247472],\n",
       "       [-0.92973029, -0.04847823, -0.97801929],\n",
       "       [ 0.10330337, -0.46752736, -0.97801929],\n",
       "       [ 0.27547564,  0.14872136,  1.02247472],\n",
       "       [-0.15495505,  0.49382063, -0.97801929],\n",
       "       [-0.75755801, -1.37957545, -0.97801929],\n",
       "       [-0.24104119,  0.51847058, -0.97801929],\n",
       "       [ 0.8780786 , -1.42887535,  1.02247472],\n",
       "       [-0.67147187,  0.24732115, -0.97801929],\n",
       "       [-1.01581642, -0.24567782, -0.97801929],\n",
       "       [ 1.30850929, -1.50282519,  1.02247472],\n",
       "       [ 0.36156178,  0.46917069,  1.02247472],\n",
       "       [-1.10190256, -0.86192653, -0.97801929],\n",
       "       [-1.44624711,  1.92351765, -0.97801929],\n",
       "       [ 1.82502612,  1.0854194 ,  1.02247472],\n",
       "       [-0.75755801,  1.33191888, -0.97801929],\n",
       "       [ 1.13633702,  0.37057089,  1.02247472],\n",
       "       [-0.58538574, -0.19637792, -0.97801929],\n",
       "       [-0.92973029, -1.50282519, -0.97801929],\n",
       "       [ 0.70590633,  0.46917069,  1.02247472],\n",
       "       [ 1.99719839,  1.13471929,  1.02247472],\n",
       "       [ 0.10330337,  0.83891991, -0.97801929],\n",
       "       [-1.70450553, -1.15772591, -0.97801929],\n",
       "       [-1.10190256, -1.72467473, -0.97801929],\n",
       "       [ 0.10330337, -1.00982622, -0.97801929],\n",
       "       [-0.4992996 , -0.36892756, -0.97801929],\n",
       "       [-1.01581642,  1.15936924, -0.97801929],\n",
       "       [ 0.44764792, -2.09442395,  1.02247472],\n",
       "       [ 1.82502612,  0.66637027,  1.02247472],\n",
       "       [-0.15495505,  1.0854194 ,  1.02247472],\n",
       "       [-1.01581642,  0.46917069, -0.97801929],\n",
       "       [-0.92973029,  0.71567017, -0.97801929],\n",
       "       [-1.01581642,  1.01146955, -0.97801929],\n",
       "       [-0.06886891, -0.39357751, -0.97801929],\n",
       "       [ 0.01721723, -1.89722437,  1.02247472],\n",
       "       [-0.92973029,  0.81426996, -0.97801929],\n",
       "       [ 0.01721723,  0.66637027, -0.97801929],\n",
       "       [ 0.53373405, -0.04847823,  1.02247472],\n",
       "       [ 0.96416474, -1.82327452,  1.02247472],\n",
       "       [ 0.8780786 ,  1.30726893,  1.02247472],\n",
       "       [ 1.22242315,  0.24732115,  1.02247472],\n",
       "       [ 0.01721723, -0.4921773 , -0.97801929],\n",
       "       [ 0.44764792,  0.19802125,  1.02247472],\n",
       "       [-1.1879887 ,  0.59242043, -0.97801929],\n",
       "       [-0.67147187, -0.78797669, -0.97801929],\n",
       "       [ 0.27547564, -0.46752736,  1.02247472],\n",
       "       [ 0.70590633, -0.24567782,  1.02247472],\n",
       "       [ 1.13633702, -0.14707803,  1.02247472],\n",
       "       [ 0.36156178, -0.14707803,  1.02247472],\n",
       "       [ 1.13633702, -0.88657648,  1.02247472],\n",
       "       [ 1.39459543, -0.81262663,  1.02247472],\n",
       "       [ 0.96416474,  0.71567017,  1.02247472],\n",
       "       [-0.92973029,  1.82491785, -0.97801929],\n",
       "       [-0.4992996 , -0.19637792, -0.97801929],\n",
       "       [ 0.44764792, -0.78797669,  1.02247472],\n",
       "       [-0.4992996 ,  0.41987079, -0.97801929],\n",
       "       [ 1.56676771, -0.19637792,  1.02247472],\n",
       "       [ 0.27547564,  0.12407141,  1.02247472],\n",
       "       [ 0.01721723, -1.37957545,  1.02247472],\n",
       "       [ 0.79199247,  0.41987079,  1.02247472],\n",
       "       [-1.36016097,  0.66637027, -0.97801929],\n",
       "       [-0.84364415, -1.45352529, -0.97801929],\n",
       "       [-0.67147187,  2.51511641, -0.97801929],\n",
       "       [ 0.8780786 , -0.24567782,  1.02247472],\n",
       "       [-2.30710849,  1.50446852, -0.97801929],\n",
       "       [ 0.8780786 ,  0.41987079,  1.02247472],\n",
       "       [-2.13493621,  2.73696594, -0.97801929],\n",
       "       [ 0.61982019,  1.47981857,  1.02247472],\n",
       "       [ 0.01721723,  0.05012156,  1.02247472],\n",
       "       [ 1.13633702, -1.77397462,  1.02247472],\n",
       "       [ 0.10330337, -1.4042254 , -0.97801929],\n",
       "       [ 0.70590633,  0.02547161,  1.02247472],\n",
       "       [ 0.1893895 , -0.22102787,  1.02247472],\n",
       "       [-0.24104119,  0.44452074, -0.97801929]])"
      ]
     },
     "execution_count": 25,
     "metadata": {},
     "output_type": "execute_result"
    }
   ],
   "source": [
    "X_train"
   ]
  },
  {
   "cell_type": "code",
   "execution_count": 26,
   "id": "6d7f6aeb",
   "metadata": {},
   "outputs": [
    {
     "data": {
      "text/plain": [
       "(90, 3)"
      ]
     },
     "execution_count": 26,
     "metadata": {},
     "output_type": "execute_result"
    }
   ],
   "source": [
    "X_train.shape"
   ]
  },
  {
   "cell_type": "code",
   "execution_count": 27,
   "id": "2fc41c3b",
   "metadata": {},
   "outputs": [],
   "source": [
    "# Only transfrom because pattern is already fit\n",
    "X_test= sc.transform(X_test)"
   ]
  },
  {
   "cell_type": "code",
   "execution_count": 28,
   "id": "c3048bae",
   "metadata": {},
   "outputs": [
    {
     "data": {
      "text/plain": [
       "array([[-0.67147187,  0.96216966, -0.97801929],\n",
       "       [-1.10190256, -0.02382828, -0.97801929],\n",
       "       [ 1.30850929,  0.19802125,  1.02247472],\n",
       "       [ 0.8780786 ,  1.8988677 ,  1.02247472],\n",
       "       [ 0.61982019,  0.78962002,  1.02247472],\n",
       "       [-0.58538574, -0.02382828, -0.97801929],\n",
       "       [ 0.70590633, -0.78797669,  1.02247472],\n",
       "       [ 0.53373405,  0.39522084,  1.02247472],\n",
       "       [-0.24104119,  0.24732115,  1.02247472],\n",
       "       [-0.4992996 ,  0.321271  , -0.97801929]])"
      ]
     },
     "execution_count": 28,
     "metadata": {},
     "output_type": "execute_result"
    }
   ],
   "source": [
    "X_test"
   ]
  },
  {
   "cell_type": "code",
   "execution_count": 29,
   "id": "bd5c64fe",
   "metadata": {},
   "outputs": [
    {
     "data": {
      "text/plain": [
       "(10, 3)"
      ]
     },
     "execution_count": 29,
     "metadata": {},
     "output_type": "execute_result"
    }
   ],
   "source": [
    "X_test.shape"
   ]
  },
  {
   "cell_type": "code",
   "execution_count": 30,
   "id": "25e1d09c",
   "metadata": {},
   "outputs": [],
   "source": [
    "from sklearn.linear_model import LogisticRegression"
   ]
  },
  {
   "cell_type": "code",
   "execution_count": 31,
   "id": "1690bf92",
   "metadata": {},
   "outputs": [],
   "source": [
    "model  = LogisticRegression()"
   ]
  },
  {
   "cell_type": "code",
   "execution_count": 32,
   "id": "469315ea",
   "metadata": {},
   "outputs": [
    {
     "data": {
      "text/plain": [
       "LogisticRegression()"
      ]
     },
     "execution_count": 32,
     "metadata": {},
     "output_type": "execute_result"
    }
   ],
   "source": [
    "model.fit(X_train,y_train)"
   ]
  },
  {
   "cell_type": "code",
   "execution_count": 33,
   "id": "d6dfbfc7",
   "metadata": {},
   "outputs": [],
   "source": [
    "y_pred = model.predict(X_test)"
   ]
  },
  {
   "cell_type": "code",
   "execution_count": 34,
   "id": "771835c0",
   "metadata": {},
   "outputs": [
    {
     "data": {
      "text/plain": [
       "array([0, 0, 1, 1, 1, 0, 1, 1, 1, 0])"
      ]
     },
     "execution_count": 34,
     "metadata": {},
     "output_type": "execute_result"
    }
   ],
   "source": [
    "y_pred"
   ]
  },
  {
   "cell_type": "code",
   "execution_count": 35,
   "id": "6ef583c5",
   "metadata": {},
   "outputs": [
    {
     "data": {
      "text/plain": [
       "47    0\n",
       "24    0\n",
       "83    1\n",
       "26    1\n",
       "74    1\n",
       "2     0\n",
       "35    1\n",
       "48    1\n",
       "87    1\n",
       "49    0\n",
       "Name: placement, dtype: int64"
      ]
     },
     "execution_count": 35,
     "metadata": {},
     "output_type": "execute_result"
    }
   ],
   "source": [
    "y_test"
   ]
  },
  {
   "cell_type": "code",
   "execution_count": 36,
   "id": "ac0dfde5",
   "metadata": {},
   "outputs": [],
   "source": [
    "# Evaluate the model"
   ]
  },
  {
   "cell_type": "code",
   "execution_count": 37,
   "id": "d879a4bb",
   "metadata": {},
   "outputs": [],
   "source": [
    "from sklearn.metrics import accuracy_score"
   ]
  },
  {
   "cell_type": "code",
   "execution_count": 40,
   "id": "ce8c10ee",
   "metadata": {},
   "outputs": [
    {
     "data": {
      "text/plain": [
       "1.0"
      ]
     },
     "execution_count": 40,
     "metadata": {},
     "output_type": "execute_result"
    }
   ],
   "source": [
    "accuracy_score(y_test,y_pred)"
   ]
  },
  {
   "cell_type": "markdown",
   "id": "2c031783",
   "metadata": {},
   "source": [
    "# This is the greate example of model overfitting accuracy is 100 so something in data collecting problem may be data is not proper way "
   ]
  },
  {
   "cell_type": "markdown",
   "id": "5eed22cc",
   "metadata": {},
   "source": [
    "# Create a decision tree"
   ]
  },
  {
   "cell_type": "code",
   "execution_count": 41,
   "id": "fc4fb14c",
   "metadata": {},
   "outputs": [],
   "source": [
    "from mlxtend.plotting import plot_decision_regions"
   ]
  },
  {
   "cell_type": "code",
   "execution_count": 72,
   "id": "ddf709c7",
   "metadata": {},
   "outputs": [
    {
     "ename": "ValueError",
     "evalue": "Filler values must be provided when X has more than 2 training features.",
     "output_type": "error",
     "traceback": [
      "\u001b[0;31m---------------------------------------------------------------------------\u001b[0m",
      "\u001b[0;31mValueError\u001b[0m                                Traceback (most recent call last)",
      "\u001b[0;32m/tmp/ipykernel_78848/2179695925.py\u001b[0m in \u001b[0;36m<module>\u001b[0;34m\u001b[0m\n\u001b[0;32m----> 1\u001b[0;31m \u001b[0mplot_decision_regions\u001b[0m\u001b[0;34m(\u001b[0m\u001b[0mX_train\u001b[0m\u001b[0;34m,\u001b[0m\u001b[0my_train\u001b[0m\u001b[0;34m.\u001b[0m\u001b[0mvalues\u001b[0m\u001b[0;34m,\u001b[0m\u001b[0mclf\u001b[0m\u001b[0;34m=\u001b[0m\u001b[0mmodel\u001b[0m\u001b[0;34m,\u001b[0m\u001b[0;34m)\u001b[0m\u001b[0;34m\u001b[0m\u001b[0;34m\u001b[0m\u001b[0m\n\u001b[0m",
      "\u001b[0;32m~/anaconda3/lib/python3.8/site-packages/mlxtend/plotting/decision_regions.py\u001b[0m in \u001b[0;36mplot_decision_regions\u001b[0;34m(X, y, clf, feature_index, filler_feature_values, filler_feature_ranges, ax, X_highlight, zoom_factor, legend, hide_spines, markers, colors, scatter_kwargs, contourf_kwargs, scatter_highlight_kwargs)\u001b[0m\n\u001b[1;32m    175\u001b[0m     \u001b[0;32mif\u001b[0m \u001b[0mdim\u001b[0m \u001b[0;34m>\u001b[0m \u001b[0;36m2\u001b[0m\u001b[0;34m:\u001b[0m\u001b[0;34m\u001b[0m\u001b[0;34m\u001b[0m\u001b[0m\n\u001b[1;32m    176\u001b[0m         \u001b[0;32mif\u001b[0m \u001b[0mfiller_feature_values\u001b[0m \u001b[0;32mis\u001b[0m \u001b[0;32mNone\u001b[0m\u001b[0;34m:\u001b[0m\u001b[0;34m\u001b[0m\u001b[0;34m\u001b[0m\u001b[0m\n\u001b[0;32m--> 177\u001b[0;31m             raise ValueError('Filler values must be provided when '\n\u001b[0m\u001b[1;32m    178\u001b[0m                              'X has more than 2 training features.')\n\u001b[1;32m    179\u001b[0m \u001b[0;34m\u001b[0m\u001b[0m\n",
      "\u001b[0;31mValueError\u001b[0m: Filler values must be provided when X has more than 2 training features."
     ]
    },
    {
     "data": {
      "image/png": "[encoded data removed]",
      "text/plain": [
       "<Figure size 432x288 with 1 Axes>"
      ]
     },
     "metadata": {
      "needs_background": "light"
     },
     "output_type": "display_data"
    }
   ],
   "source": [
    "plot_decision_regions(X_train,y_train.values,clf=model,)"
   ]
  },
  {
   "cell_type": "code",
   "execution_count": 70,
   "id": "6b358ff9",
   "metadata": {},
   "outputs": [],
   "source": [
    "import pickle"
   ]
  },
  {
   "cell_type": "code",
   "execution_count": 71,
   "id": "d4ece02a",
   "metadata": {},
   "outputs": [],
   "source": [
    "pickle.dump(model,open(\"model.pkl\",\"wb\"))"
   ]
  },
  {
   "cell_type": "code",
   "execution_count": null,
   "id": "709e35f0",
   "metadata": {},
   "outputs": [],
   "source": []
  }
 ],
 "metadata": {
  "kernelspec": {
   "display_name": "Python 3.8.8 64-bit ('base': conda)",
   "language": "python",
   "name": "python388jvsc74a57bd02c7ffa9c538f0bfb5740c89a215bcbde02033924243f3d233f0c9916449df403"
  },
  "language_info": {
   "codemirror_mode": {
    "name": "ipython",
    "version": 3
   },
   "file_extension": ".py",
   "mimetype": "text/x-python",
   "name": "python",
   "nbconvert_exporter": "python",
   "pygments_lexer": "ipython3",
   "version": "3.8.8"
  }
 },
 "nbformat": 4,
 "nbformat_minor": 5
}
